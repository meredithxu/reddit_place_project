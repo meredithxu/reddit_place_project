{
 "cells": [
  {
   "cell_type": "markdown",
   "metadata": {},
   "source": [
    "## Canvas Data:\n",
    "\n",
    "CSV with tuples <time, user, x_coordinate, y_coordinate, color>\n",
    "\n",
    "More info: https://www.reddit.com/r/redditdata/comments/6640ru/place_datasets_april_fools_2017/\n",
    "\n",
    "Download: https://www.kaggle.com/residentmario/reddit-rplace-history/version/1\n",
    "\n",
    "Save the data: \"../data/tile_placemnets.csv\""
   ]
  },
  {
   "cell_type": "code",
   "execution_count": 1,
   "metadata": {},
   "outputs": [],
   "source": [
    "#import basic libraries\n",
    "\n",
    "import csv\n",
    "import sys\n",
    "import os\n",
    "import math\n",
    "import numpy as np\n",
    "import numpy.linalg as npla\n",
    "import scipy\n",
    "from scipy import sparse\n",
    "from scipy import linalg\n",
    "import scipy.sparse.linalg as spla\n",
    "import matplotlib.pyplot as plt\n",
    "from matplotlib import cm\n",
    "import matplotlib.mlab as mlab\n",
    "from mpl_toolkits.mplot3d import axes3d\n",
    "%matplotlib tk\n",
    "import operator"
   ]
  },
  {
   "cell_type": "code",
   "execution_count": 3,
   "metadata": {},
   "outputs": [],
   "source": [
    "# One needs to sort the data according to the time\n",
    "# Please keep the header as it is; the following command will help to sort.\n",
    "# We will use the sorted_tile_placements.csv\n",
    "\n",
    "!awk 'NR == 1; NR > 1 {print $0 | \"sort -t, -nk1,1\"}' ../data/tile_placements.csv > ../data/sorted_tile_placements.csv"
   ]
  },
  {
   "cell_type": "code",
   "execution_count": 7,
   "metadata": {},
   "outputs": [
    {
     "ename": "ModuleNotFoundError",
     "evalue": "No module named 'cv2'",
     "output_type": "error",
     "traceback": [
      "\u001b[0;31m---------------------------------------------------------------------------\u001b[0m",
      "\u001b[0;31mModuleNotFoundError\u001b[0m                       Traceback (most recent call last)",
      "\u001b[0;32m<ipython-input-7-185a3b51834f>\u001b[0m in \u001b[0;36m<module>\u001b[0;34m\u001b[0m\n\u001b[1;32m      1\u001b[0m \u001b[0;31m# opencv needs to be installed\u001b[0m\u001b[0;34m\u001b[0m\u001b[0;34m\u001b[0m\u001b[0m\n\u001b[1;32m      2\u001b[0m \u001b[0msys\u001b[0m\u001b[0;34m.\u001b[0m\u001b[0mpath\u001b[0m\u001b[0;34m.\u001b[0m\u001b[0mappend\u001b[0m\u001b[0;34m(\u001b[0m\u001b[0;34m\"../Python_code\"\u001b[0m\u001b[0;34m)\u001b[0m \u001b[0;31m# go to parent dir\u001b[0m\u001b[0;34m\u001b[0m\u001b[0m\n\u001b[0;32m----> 3\u001b[0;31m \u001b[0;32mfrom\u001b[0m \u001b[0mdenoise_canvas\u001b[0m \u001b[0;32mimport\u001b[0m \u001b[0;34m*\u001b[0m\u001b[0;34m\u001b[0m\u001b[0m\n\u001b[0m\u001b[1;32m      4\u001b[0m \u001b[0;32mfrom\u001b[0m \u001b[0mcanvas_vis\u001b[0m \u001b[0;32mimport\u001b[0m \u001b[0;34m*\u001b[0m\u001b[0;34m\u001b[0m\u001b[0m\n",
      "\u001b[0;32m~/reddit_place/reddit_place_project/Python_code/denoise_canvas.py\u001b[0m in \u001b[0;36m<module>\u001b[0;34m\u001b[0m\n\u001b[0;32m----> 1\u001b[0;31m \u001b[0;32mimport\u001b[0m \u001b[0mcv2\u001b[0m\u001b[0;34m\u001b[0m\u001b[0m\n\u001b[0m\u001b[1;32m      2\u001b[0m \u001b[0;32mimport\u001b[0m \u001b[0mnumpy\u001b[0m \u001b[0;32mas\u001b[0m \u001b[0mnp\u001b[0m\u001b[0;34m\u001b[0m\u001b[0m\n\u001b[1;32m      3\u001b[0m \u001b[0;32mimport\u001b[0m \u001b[0moperator\u001b[0m\u001b[0;34m\u001b[0m\u001b[0m\n\u001b[1;32m      4\u001b[0m \u001b[0;32mimport\u001b[0m \u001b[0mcsv\u001b[0m\u001b[0;34m\u001b[0m\u001b[0m\n\u001b[1;32m      5\u001b[0m \u001b[0;34m\u001b[0m\u001b[0m\n",
      "\u001b[0;31mModuleNotFoundError\u001b[0m: No module named 'cv2'"
     ]
    }
   ],
   "source": [
    "# opencv needs to be installed\n",
    "sys.path.append(\"../Python_code\") # go to parent dir\n",
    "from denoise_canvas import *\n",
    "from canvas_vis import *\n"
   ]
  },
  {
   "cell_type": "code",
   "execution_count": null,
   "metadata": {},
   "outputs": [],
   "source": [
    "#Version of the canvas denoised by users (A supervised method to denoise the data)\n",
    "den_data = cv2.imread('../data/2 - DiaqKoA.png')\n",
    "\n",
    "#Converting bgr to rgb\n",
    "b,g,r = cv2.split(den_data) \n",
    "rgb_data = cv2.merge([r,g,b])\n",
    "\n",
    "#Drawing de-noised canvas\n",
    "draw_canvas(rgb_data, \"../plots/den_canvas_users.svg\")\n",
    "\n",
    "#Converting denoised canvas to canvas code\n",
    "den_data_color_code = canvas_rgb_color_code(rgb_data)\n",
    "\n",
    "#Adding denoised version of the canvas as updates to the file\n",
    "write_denoised_data(\"../data/sorted_tile_placements.csv\", den_data_color_code,\n",
    "                    \"../data/sorted_tile_placements_denoised_users.csv\")"
   ]
  },
  {
   "cell_type": "code",
   "execution_count": null,
   "metadata": {},
   "outputs": [],
   "source": [
    "#Version of the canvas denoised by taking aggregation of neighbouring windows (An unsupervised method to denoise the data)\n",
    "\n",
    "\n",
    "#Reading original canvas\n",
    "data = extract_canvas_color('../data/sorted_tile_placements.csv')\n",
    "rgb_data = canvas_color_code_rgb(data)\n",
    "\n",
    "#Denoise canvas by replacing pixel to the most frequent in a sliding \n",
    "#window whenever that color happens only once in the window (size 3)\n",
    "den_data = denoise_freq(rgb_data)\n",
    "\n",
    "#Drawing de-noised canvas\n",
    "draw_canvas(den_data, \"../plots/den_canvas_freq.svg\")\n",
    "\n",
    "#Converting denoised canvas to canvas code\n",
    "den_data_color_code = canvas_rgb_color_code(den_data)\n",
    "\n",
    "#Adding denoised version of the canvas as updates to the file\n",
    "write_denoised_data(\"../data/sorted_tile_placements.csv\", den_data_color_code,\n",
    "                    \"../data/sorted_tile_placements_denoised_freq.csv\")"
   ]
  },
  {
   "cell_type": "code",
   "execution_count": null,
   "metadata": {},
   "outputs": [],
   "source": [
    "\n",
    "# Parse the json file, store the Path objects of every image within the canvas, and return as a dictionary indexed by the picture id.\n",
    "locations = store_locations(\"../data/atlas.json\")\n",
    "\n",
    "# Takes the tile_placements and atlas data and creates a csv where each line is a tuple of the following elements:\n",
    "# time, user, x, y, color, project_id, pixel (binary), pixel_color (binary)\n",
    "# pixel denotes whether it is in the final project\n",
    "# pixel_color denotes whether the update has the same color as the final one or not\n",
    "add_atlas_data_to_tile_placements(locations, \"../data/sorted_tile_placements.csv\", \"../data/sorted_tile_placements_proj.csv\")\n",
    "\n",
    "\n",
    "# Denoised version of the previous file using Frequent Pixel heuristic\n",
    "add_atlas_data_to_tile_placements(locations, \"../data/sorted_tile_placements_denoised_freq.csv\",\"../data/sorted_tile_placements_proj_den_freq.csv\")\n",
    "\n",
    "#Denoised version of same file based on figure created by users\n",
    "add_atlas_data_to_tile_placements(locations, \"../data/sorted_tile_placements_denoised_users.csv\",\"../data/sorted_tile_placements_proj_den_users.csv\")\n"
   ]
  },
  {
   "cell_type": "code",
   "execution_count": null,
   "metadata": {},
   "outputs": [],
   "source": []
  }
 ],
 "metadata": {
  "kernelspec": {
   "display_name": "Python 3",
   "language": "python",
   "name": "python3"
  },
  "language_info": {
   "codemirror_mode": {
    "name": "ipython",
    "version": 3
   },
   "file_extension": ".py",
   "mimetype": "text/x-python",
   "name": "python",
   "nbconvert_exporter": "python",
   "pygments_lexer": "ipython3",
   "version": "3.6.3"
  }
 },
 "nbformat": 4,
 "nbformat_minor": 2
}
