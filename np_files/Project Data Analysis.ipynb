{
 "cells": [
  {
   "cell_type": "code",
   "execution_count": 1,
   "metadata": {},
   "outputs": [],
   "source": [
    "import csv\n",
    "import sys\n",
    "import os\n",
    "import math\n",
    "import numpy as np\n",
    "import numpy.linalg as npla\n",
    "import scipy\n",
    "from scipy import sparse\n",
    "from scipy import linalg\n",
    "import scipy.sparse.linalg as spla\n",
    "import matplotlib.pyplot as plt\n",
    "from matplotlib import cm\n",
    "import matplotlib.mlab as mlab\n",
    "from mpl_toolkits.mplot3d import axes3d\n",
    "%matplotlib tk\n",
    "import operator"
   ]
  },
  {
   "cell_type": "code",
   "execution_count": 2,
   "metadata": {},
   "outputs": [],
   "source": [
    "import sys\n",
    "sys.path.append(\"../Python_code\") # go to parent dir\n",
    "from reddit import *"
   ]
  },
  {
   "cell_type": "code",
   "execution_count": 3,
   "metadata": {},
   "outputs": [],
   "source": [
    "js_filename = \"../data/atlas_filtered.json\"\n",
    "\n",
    "names, descriptions = read_picture_names_and_descriptions(js_filename)"
   ]
  },
  {
   "cell_type": "code",
   "execution_count": 249,
   "metadata": {},
   "outputs": [],
   "source": [
    "#FIXME: Here, I believe we should distinguish between updates that aggree with the project and updates\n",
    "#that disagree with it. Notice that updates that agree are different from pixels, as they might not have \n",
    "#survived to the end of the experiment. Maybe these should be named updates_for_project and\n",
    "#updates_against_project. The current updates_per_project is the sum of the two. This will \n",
    "#require updating a lot of these results, as each type of update will be analyzed in separate.\n",
    "\n",
    "updates_per_project = dict()\n",
    "\n",
    "#Projects to remove 777, 1921 (whole canvas), 1240, 1516 (1 pixel), 1319 (very incomplete)\n",
    "projects_to_remove = {'777', '1921', '1240', '1516', '1319'}\n",
    "\n",
    "with open(\"../data/updates_per_project.csv\",'r') as file:\n",
    "    # Skip first line (header row)\n",
    "    next(file, None)\n",
    "    reader = csv.reader(file)\n",
    "    for r in reader:\n",
    "        if r[0] not in projects_to_remove:\n",
    "            updates_per_project[r[0]] = int(r[-1])"
   ]
  },
  {
   "cell_type": "code",
   "execution_count": 250,
   "metadata": {},
   "outputs": [],
   "source": [
    "count = np.zeros(max(updates_per_project.values())+1)\n",
    "\n",
    "for k in updates_per_project:\n",
    "    count[updates_per_project[k]] = count[updates_per_project[k]] + 1\n",
    "    \n",
    "for i in reversed(range(len(count)-1)):\n",
    "    count[i] = count[i] + count[i+1]\n",
    "    \n",
    "count = count / count[0]"
   ]
  },
  {
   "cell_type": "code",
   "execution_count": 251,
   "metadata": {},
   "outputs": [],
   "source": [
    "sorted_up_proj = sorted(updates_per_project.items(), key=operator.itemgetter(1), reverse=True)"
   ]
  },
  {
   "cell_type": "code",
   "execution_count": 20,
   "metadata": {},
   "outputs": [
    {
     "name": "stdout",
     "output_type": "stream",
     "text": [
      "# 0 Project:  Rainbow Road , updates:  1078220 , \n",
      "description:  One of the first projects on r/place, and also one of the largest. It integrates itself with many other artworks. \n",
      "\n",
      "# 1 Project:  USA / Canvas Center , updates:  684179 , \n",
      "description:  The center of the canvas was a controversial and disputed part of r/place. It began to be filled with numerous randomly placed pixels. As organized groups began creating masterpieces, the center began a white void, part of r/erase. As the original (dark) Void began to eat the center of the canvas, the USA Flag began to take shape covering a branch from the void. The flag took over the white void and a few projects including a smiley and a tree. Then the void reappeared in place and with other people erased most of the flag as RainbowRoad expanded where the flag was. Ireland saw an opportunity  and decided to expand as well. A net of yellow lines appeared and took over the void and r/AmericanFlaginPlace with help of r/TheDonald and other redditors, helped fight for their territory and reconstruct the USA Flag. \"E Pluribus Unum\" on the side \n",
      "\n",
      "# 2 Project:  Flag of the USA , updates:  612816 , \n",
      "description:   \n",
      "\n",
      "# 3 Project:  Flag of the United States of America , updates:  587958 , \n",
      "description:   \n",
      "\n",
      "# 4 Project:  osu! Logo , updates:  540508 , \n",
      "description:  The logo for the rhythm game osu. This was one of the more ambitious projects of /r/place and was intended to be more detailed. Unfortunately, a LoL player by the name of loltyler1, told his fans to attack the logo by filling it with the void, resulting in its current vandalized state. \n",
      "\n",
      "# 5 Project:  Entire Dutch Area , updates:  438387 , \n",
      "description:  Complete area built by Dutch subreddits \n",
      "\n",
      "# 6 Project:  The Far Left Side , updates:  402175 , \n",
      "description:  The section of the canvas mostly filled with Leftist symbols, but also including pixel art and flags. <br>This area was under near-constant siege, especially the Hammer and Sickle. \n",
      "\n",
      "# 7 Project:  The Blue Empire , updates:  362651 , \n",
      "description:  A simple project started to make the bottom right corner completely blue, quickly grew to be the largest piece of art in r/place history. Within 12 hours it had covered more than half of the bottom canvas, completely in blue, with thousand of dedicated supporters. The blue corner was pushed back gradually as more organised projects superseded the early pattern-based structures. The current blue corner is a mere reminder of what the empire was in it's former glory. \n",
      "\n",
      "# 8 Project:  The Blue Corner , updates:  358566 , \n",
      "description:  The Blue Corner was one of the earliest projects on /r/place.<br>It quickly grew to cover a significant part of the map, but later was pushed back to its current size. \n",
      "\n",
      "# 9 Project:  French flag , updates:  353109 , \n",
      "description:   \n",
      "\n"
     ]
    }
   ],
   "source": [
    "#Top-10\n",
    "\n",
    "for i in range(10):\n",
    "    proj = sorted_up_proj[i][0]\n",
    "    up = sorted_up_proj[i][1]\n",
    "    name = names[int(proj)]\n",
    "    desc = descriptions[int(proj)]\n",
    "    \n",
    "    print(\"#\", i, \", project: \", name, \", updates: \", up, \", \\ndescription: \", desc, \"\\n\")"
   ]
  },
  {
   "cell_type": "code",
   "execution_count": 22,
   "metadata": {},
   "outputs": [
    {
     "name": "stdout",
     "output_type": "stream",
     "text": [
      "# 1 Project:  Climber's Head (TowerClimb) , updates:  3 , \n",
      "description:  These inconspicuous 4 pixels are actually the head of the protagonist from the roguelike platformer game \"TowerClimb\". \n",
      "\n",
      "# 2 Project:  Eightfold , updates:  55 , \n",
      "description:  What remains of Eightfold, a paper spider character from a webcomic called Paranatural. \n",
      "\n",
      "# 3 Project:  Tiny danish flag , updates:  61 , \n",
      "description:  denmark is a samll nation in the nothern part of europe \n",
      "\n",
      "# 4 Project:  Smiley Face , updates:  66 , \n",
      "description:  A universal symbol of happiness rendered on a small scale for bite sized fun. \n",
      "\n",
      "# 5 Project:  Italy heart , updates:  75 , \n",
      "description:  A random heart or a symbol of cooperation between Scott Pilgrim and Italy? \n",
      "\n",
      "# 6 Project:  The R , updates:  82 , \n",
      "description:  The R of the sub r/The_R \n",
      "\n",
      "# 7 Project:  Stealth Pepe , updates:  82 , \n",
      "description:  Pepe the frog was placed and overwritten with prejudice many times, but this one survived by being tiny, the rarest of them all \n",
      "\n",
      "# 8 Project:  Imgur logo , updates:  82 , \n",
      "description:  It is very small \n",
      "\n",
      "# 9 Project:  Red P , updates:  86 , \n",
      "description:  Seeing the whole work was an amazing piece of modern art, I really wanted to be a part of it. I decided to find a small unused spot and put my initial there. The void and erase factions were savage and had wiped two previous efforts and a larger piece of art I was helping maintain, so I found a spot and used a script running on 2 PC's to maintain my small part of the artwork until place ended, which happened while I was sleeping. \n",
      "\n",
      "# 10 Project:  Amaura , updates:  93 , \n",
      "description:  The head of the Generation 6 Fossil Pokémon Amaura. The body was covered up by surrounding art. \n",
      "\n"
     ]
    }
   ],
   "source": [
    "#Bottom-10\n",
    "\n",
    "for i in range(1,11):\n",
    "    proj = sorted_up_proj[-i][0]\n",
    "    up = sorted_up_proj[-i][1]\n",
    "    name = names[int(proj)]\n",
    "    desc = descriptions[int(proj)]\n",
    "    \n",
    "    print(\"#\", i, \", project: \", name, \", updates: \", up, \", \\ndescription: \", desc, \"\\n\")"
   ]
  },
  {
   "cell_type": "code",
   "execution_count": 23,
   "metadata": {},
   "outputs": [
    {
     "name": "stdout",
     "output_type": "stream",
     "text": [
      "AVG =  15923.549868073878\n"
     ]
    }
   ],
   "source": [
    "#AVG\n",
    "\n",
    "print(\"AVG = \", np.mean(np.array(list(updates_per_project.values()))))"
   ]
  },
  {
   "cell_type": "code",
   "execution_count": 24,
   "metadata": {},
   "outputs": [
    {
     "name": "stdout",
     "output_type": "stream",
     "text": [
      "STD =  52332.93157519816\n"
     ]
    }
   ],
   "source": [
    "#STD\n",
    "\n",
    "print(\"STD = \", np.std(np.array(list(updates_per_project.values()))))"
   ]
  },
  {
   "cell_type": "code",
   "execution_count": 230,
   "metadata": {},
   "outputs": [],
   "source": [
    "sorted_up_proj_vals = []\n",
    "\n",
    "for p in sorted_up_proj:\n",
    "    sorted_up_proj_vals.append(p[1])"
   ]
  },
  {
   "cell_type": "code",
   "execution_count": 219,
   "metadata": {},
   "outputs": [
    {
     "data": {
      "image/png": "[encoded data removed]",
      "text/plain": [
       "<Figure size 432x288 with 1 Axes>"
      ]
     },
     "metadata": {
      "needs_background": "light"
     },
     "output_type": "display_data"
    }
   ],
   "source": [
    "def plot_updates_per_project_icdf(count, output_file_name):\n",
    "    plt.clf()\n",
    "    ax = plt.subplot(111)\n",
    "    ax.semilogx(range(len(count)), count, color=\"red\", linewidth=4)\n",
    "    ax.set_ylabel('ICDF', fontsize=30)\n",
    "    ax.set_xlabel('#updates', fontsize=30)\n",
    "    ax.tick_params(labelsize=23)\n",
    "    ax.set_yticks(np.arange(0, 1.1, .25))\n",
    "    ax.set_xlim(1,10000000)\n",
    "    plt.savefig(output_file_name, dpi=300, bbox_inches='tight')\n",
    "\n",
    "plot_updates_per_project_icdf(count, \"../plots/plot_updates_per_project_icdf.svg\")"
   ]
  },
  {
   "cell_type": "code",
   "execution_count": 252,
   "metadata": {},
   "outputs": [
    {
     "data": {
      "image/png": "[encoded data removed]",
      "text/plain": [
       "<Figure size 432x288 with 1 Axes>"
      ]
     },
     "metadata": {
      "needs_background": "light"
     },
     "output_type": "display_data"
    }
   ],
   "source": [
    "def plot_updates_per_project_rank(sorted_up_proj, output_file_name):\n",
    "    plt.clf()\n",
    "    ax = plt.subplot(111)\n",
    "    ax.semilogy(np.arange(len(sorted_up_proj)), sorted_up_proj, color=\"blue\", linewidth=4)\n",
    "    ax.set_ylabel('#updates', fontsize=30)\n",
    "    ax.set_xlabel('rank', fontsize=30)\n",
    "    ax.tick_params(labelsize=23)\n",
    "    ax.set_xlim(None,2000)\n",
    "    ax.set_xticks(np.arange(0,2001,400))\n",
    "    ax.set_ylim(1,None)\n",
    "    plt.savefig(output_file_name, dpi=300, bbox_inches='tight')\n",
    "\n",
    "plot_updates_per_project_rank(sorted_up_proj_vals, \"../plots/plot_updates_per_project_rank.svg\")"
   ]
  },
  {
   "cell_type": "code",
   "execution_count": 239,
   "metadata": {},
   "outputs": [],
   "source": [
    "#FIXME: It seems like there is something wrong with the computation of entropy. \n",
    "#I have seen some projects with one pixel for which the entropy is not zero. \n",
    "#Please, check.\n",
    "\n",
    "# Color Entropy\n",
    "# This is a discrete distribution but should probably be continuous (?)\n",
    "entropy_per_project = {}\n",
    "\n",
    "#Projects to remove 777, 1921 (whole canvas), 1240, 1516 (1 pixel), 1319 (very incomplete)\n",
    "projects_to_remove = {'777', '1921', '1240', '1516', '1319'}\n",
    "\n",
    "with open(\"../data/color_per_picture_entropy.csv\", 'r') as file:\n",
    "    # Skip first line (header row)\n",
    "    next(file, None)\n",
    "    reader = csv.reader(file)\n",
    "    for r in reader:\n",
    "        if r[1] != 'NA' and r[0] not in projects_to_remove:\n",
    "            entropy_per_project[r[0]] = float(r[1])"
   ]
  },
  {
   "cell_type": "code",
   "execution_count": 240,
   "metadata": {},
   "outputs": [],
   "source": [
    "entropy = sorted(list(entropy_per_project.values()))\n",
    "\n",
    "count = np.arange(len(entropy)+1)[len(entropy)+1:0:-1]\n",
    "count = count / count[0]"
   ]
  },
  {
   "cell_type": "code",
   "execution_count": 241,
   "metadata": {},
   "outputs": [],
   "source": [
    "sorted_ent_proj = sorted(entropy_per_project.items(), key=operator.itemgetter(1), reverse=True)"
   ]
  },
  {
   "cell_type": "code",
   "execution_count": 242,
   "metadata": {},
   "outputs": [],
   "source": [
    "sorted_ent_proj_vals = []\n",
    "\n",
    "for p in sorted_ent_proj:\n",
    "    sorted_ent_proj_vals.append(p[1])"
   ]
  },
  {
   "cell_type": "code",
   "execution_count": 33,
   "metadata": {},
   "outputs": [
    {
     "name": "stdout",
     "output_type": "stream",
     "text": [
      "# 0 Project:  Star Citizen Ship , entropy:  2.62879857641316 , \n",
      "description:  A last-minute addition to /r/ainbowroad, the beginning of a StarCitzen Spaceship. The place finished before it could be completed. \n",
      "\n",
      "# 1 Project:  Miss Fortune , entropy:  2.626443010876863 , \n",
      "description:  Pixel art of a Champion from the game League of Legends called Miss Fortune, the Bounty Hunter.<br>Created by a small group of about 7 redditors. \n",
      "\n",
      "# 2 Project:  Rainbow Road Core , entropy:  2.6200140250781163 , \n",
      "description:  One of the earliest major faction on Place. They spread from here originally. After a while they began allowing others to build art in their space, making peace treaties and agreements with other factions \n",
      "\n",
      "# 3 Project:  Slushii , entropy:  2.579472788144371 , \n",
      "description:  Slush it up \n",
      "\n",
      "# 4 Project:  Yoshi , entropy:  2.562170079369621 , \n",
      "description:  Yoshi from Mario Kart about to hit the Banana Peel item. \n",
      "\n",
      "# 5 Project:  CUL , entropy:  2.5608575975838828 , \n",
      "description:  CUL means \"ass\" in french.\n",
      "We are very proud to have written this word a few hours before the end of /r/place.\n",
      "This masterpiece is the work of Marvolo and Nicho. This is our gift to the internet. \n",
      "\n",
      "# 6 Project:  Yellow Submarine , entropy:  2.549149847713903 , \n",
      "description:  A reference to the 1966 song of the same name by the English rock band, the Beatles. \n",
      "\n",
      "# 7 Project:  Snorlax , entropy:  2.5323233365881452 , \n",
      "description:  The Pokemon Snorlax \n",
      "\n",
      "# 8 Project:  AIE (Academy of Interactive Entertainment , entropy:  2.5283521870713326 , \n",
      "description:  AIE is a specialist games and film educator established by industry with alumni in studios around the world. \n",
      "\n",
      "# 9 Project:  Australian Drop Bear , entropy:  2.5211085651116036 , \n",
      "description:  One of the fiercest creatures found in the Australian Bush, drop bears are known to be excellent at hiding in treetops awaiting the ideal moment to drop down in their unsuspecting prey.\n",
      "Look up, stay alive. \n",
      "\n"
     ]
    }
   ],
   "source": [
    "#Top-10\n",
    "\n",
    "for i in range(10):\n",
    "    proj = sorted_ent_proj[i][0]\n",
    "    ent = sorted_ent_proj[i][1]\n",
    "    name = names[int(proj)]\n",
    "    desc = descriptions[int(proj)]\n",
    "    \n",
    "    print(\"#\", i, \", project: \", name, \", entropy: \", ent, \", \\ndescription: \", desc, \"\\n\")"
   ]
  },
  {
   "cell_type": "code",
   "execution_count": 35,
   "metadata": {},
   "outputs": [
    {
     "name": "stdout",
     "output_type": "stream",
     "text": [
      "# 1 Project:  PINLAND , entropy:  0.6928361704898555 , \n",
      "description:  It was very common for users to change these few pixels so the F turned into a P \n",
      "\n",
      "# 2 Project:  (covered) 7-1 , entropy:  0.7545123567706904 , \n",
      "description:  The corner of the Brazil Flag that was vandalized over in over again in an attempt to shame Brazil for their 7-1 defeat against Germany in the 2014 world cup. Now all that remains is a single pixel of where the 7 starts \n",
      "\n",
      "# 3 Project:  Hanzo Switch Pls , entropy:  0.962231222075264 , \n",
      "description:  After initially writing \"Switch\" here, the words \"Hanzo\" and \"pls\" were added before and after it respectively to say \"Hanzo Switch pls\". Hanzo is a hero from the Blizzard game Overwatch who is considered bad and often when someone picks him people ask him to switch to a different hero. \n",
      "\n",
      "# 4 Project:  Anarchocapitalist flag , entropy:  0.9898549174012896 , \n",
      "description:  The yellow/black anarchocapitalist flag, showing signs of vandalism, apparently from left-wing anarchists \n",
      "\n",
      "# 5 Project:  Finland 100 years independent , entropy:  1.010740482668805 , \n",
      "description:  This year, Finland celebrates its 100th year of independence. \n",
      "\n",
      "# 6 Project:  Letter battle , entropy:  1.0174379097233763 , \n",
      "description:  During the making of this, there was a lot of sabotage to the logo from peasants who can't stand the master race, and the FPS was changed a lot and started at 60FPS but exploded to a enormous number towards the end of R/place to show that PCMasterRace have no limitations.  \n",
      "\n",
      "# 7 Project:  Place Farts , entropy:  1.018259757368317 , \n",
      "description:  The sign of r/placehearts was constantly under attack from a group of individuals who changed the E to an F. This made the sign read r/placehfarts.<br>It has become an inside joke to the r/placehearts community, and when r/place ended, the sign ended in a \"fart\".<br>The sign also read r/place4farts and r/spacefarts at some point. \n",
      "\n",
      "# 8 Project:  RMTK , entropy:  1.032907216173823 , \n",
      "description:  RMTK (Reddit Model Tweede Kamer) is a community devoted to political simulation of the Dutch House of Representatives. \n",
      "\n",
      "# 9 Project:  Eder , entropy:  1.0363826208388036 , \n",
      "description:  Portuguese football player who scored the winning goal in the Euro 2016 championship. Before this he was more known for his lack of ability as a football player, giving rise to the somewhat mocking meme/epithet \"Lord Eder\". \n",
      "\n",
      "# 10 Project:  Portugal Caralho , entropy:  1.0765558106170405 , \n",
      "description:  A sentence seen throughout the internet when someone mentions Portugal. Although it has a different literal translation, it basically means \"Portugal FUCK YEAH\" \n",
      "\n"
     ]
    }
   ],
   "source": [
    "#Bottom-10\n",
    "\n",
    "for i in range(1,11):\n",
    "    proj = sorted_ent_proj[-i][0]\n",
    "    ent = sorted_ent_proj[-i][1]\n",
    "    name = names[int(proj)]\n",
    "    desc = descriptions[int(proj)]\n",
    "    \n",
    "    print(\"#\", i, \", project: \", name, \", entropy: \", ent, \", \\ndescription: \", desc, \"\\n\")"
   ]
  },
  {
   "cell_type": "code",
   "execution_count": 36,
   "metadata": {},
   "outputs": [
    {
     "name": "stdout",
     "output_type": "stream",
     "text": [
      "AVG =  1.9625622892120833\n"
     ]
    }
   ],
   "source": [
    "#AVG\n",
    "\n",
    "print(\"AVG = \", np.mean(np.array(list(entropy_per_project.values()))))"
   ]
  },
  {
   "cell_type": "code",
   "execution_count": 37,
   "metadata": {},
   "outputs": [
    {
     "name": "stdout",
     "output_type": "stream",
     "text": [
      "STD =  0.2776220208605374\n"
     ]
    }
   ],
   "source": [
    "#STD\n",
    "\n",
    "print(\"STD = \", np.std(np.array(list(entropy_per_project.values()))))"
   ]
  },
  {
   "cell_type": "code",
   "execution_count": 225,
   "metadata": {},
   "outputs": [
    {
     "data": {
      "image/png": "[encoded data removed]",
      "text/plain": [
       "<Figure size 432x288 with 1 Axes>"
      ]
     },
     "metadata": {
      "needs_background": "light"
     },
     "output_type": "display_data"
    }
   ],
   "source": [
    "%matplotlib inline\n",
    "def plot_color_entropies_per_project_icdf(entropy, count, output_file_name):\n",
    "    plt.clf()\n",
    "\n",
    "    ax = plt.subplot(111)\n",
    "    ax.plot(entropy, count, color=\"red\", linewidth=4)\n",
    "    ax.set_ylabel('ICDF', fontsize=30)\n",
    "    ax.set_xlabel('entropy', fontsize=30)\n",
    "    ax.tick_params(labelsize=23)\n",
    "    ax.set_xticks(np.arange(0.69,math.exp(1)+.1, .69))\n",
    "    ax.set_yticks(np.arange(0, 1.1, .25))\n",
    "    plt.savefig(output_file_name, dpi=300, bbox_inches='tight')\n",
    "\n",
    "plot_color_entropies_per_project_icdf(entropy, count, \"../plots/plot_color_entropies_icdf.svg\")"
   ]
  },
  {
   "cell_type": "code",
   "execution_count": 243,
   "metadata": {},
   "outputs": [
    {
     "data": {
      "image/png": "[encoded data removed]",
      "text/plain": [
       "<Figure size 432x288 with 1 Axes>"
      ]
     },
     "metadata": {
      "needs_background": "light"
     },
     "output_type": "display_data"
    }
   ],
   "source": [
    "%matplotlib inline\n",
    "def plot_color_entropies_per_project_rank(sorted_ent_proj, output_file_name):\n",
    "    plt.clf()\n",
    "\n",
    "    ax = plt.subplot(111)\n",
    "    ax.plot(sorted_ent_proj, color=\"blue\", linewidth=4)\n",
    "    ax.set_ylabel('entropy', fontsize=30)\n",
    "    ax.set_xlabel('rank', fontsize=30)\n",
    "    ax.tick_params(labelsize=23)\n",
    "    ax.set_yticks(np.arange(.69,math.exp(1)+.1, .69))\n",
    "    ax.set_xlim(None,2000)\n",
    "    ax.set_xticks(np.arange(0,2001,400))\n",
    "    plt.savefig(output_file_name, dpi=300, bbox_inches='tight')\n",
    "\n",
    "plot_color_entropies_per_project_rank(sorted_ent_proj_vals, \"../plots/plot_color_entropies_rank.svg\")"
   ]
  },
  {
   "cell_type": "code",
   "execution_count": 253,
   "metadata": {},
   "outputs": [],
   "source": [
    "# Pixels per Project\n",
    "pixels_per_project = {}\n",
    "\n",
    "#Projects to remove 777, 1921 (whole canvas), 1240, 1516 (1 pixel), 1319 (very incomplete)\n",
    "projects_to_remove = {'777', '1921', '1240', '1516', '1319'}\n",
    "\n",
    "with open(\"../data/pixels_per_project.csv\", 'r') as file:\n",
    "     # Skip first line (header row)\n",
    "    next(file, None)\n",
    "    reader = csv.reader(file)\n",
    "    for r in reader:\n",
    "        if r[0] not in projects_to_remove:\n",
    "            pixels_per_project[r[0]] = int(r[1])"
   ]
  },
  {
   "cell_type": "code",
   "execution_count": 254,
   "metadata": {},
   "outputs": [],
   "source": [
    "pixels = sorted(list(pixels_per_project.values()))\n",
    "\n",
    "count = np.arange(len(pixels)+1)[len(pixels)+1:0:-1]\n",
    "count = count / count[0]"
   ]
  },
  {
   "cell_type": "code",
   "execution_count": 255,
   "metadata": {},
   "outputs": [],
   "source": [
    "sorted_pixels_proj = sorted(pixels_per_project.items(), key=operator.itemgetter(1), reverse=True)"
   ]
  },
  {
   "cell_type": "code",
   "execution_count": 256,
   "metadata": {},
   "outputs": [],
   "source": [
    "sorted_pixels_proj_vals = []\n",
    "\n",
    "for p in sorted_pixels_proj:\n",
    "    sorted_pixels_proj_vals.append(p[1])"
   ]
  },
  {
   "cell_type": "code",
   "execution_count": 47,
   "metadata": {},
   "outputs": [
    {
     "name": "stdout",
     "output_type": "stream",
     "text": [
      "# 0 Project:  Rainbow Road , pixels:  87255 , \n",
      "description:  One of the first projects on r/place, and also one of the largest. It integrates itself with many other artworks. \n",
      "\n",
      "# 1 Project:  Entire Dutch Area , pixels:  32920 , \n",
      "description:  Complete area built by Dutch subreddits \n",
      "\n",
      "# 2 Project:  The untold history , pixels:  22926 , \n",
      "description:  The tale of Darth Plagueis the wise \n",
      "\n",
      "# 3 Project:  Darth Plagueis The Wise , pixels:  21406 , \n",
      "description:  One of the first additions to the map, this text of a meme from the prequel Star Wars movies started out as an uncoordinated attempt to write something everyone knew, and was refined to the masterpiece you see today. \n",
      "\n",
      "# 4 Project:  Did you ever hear the Tragedy of Darth Plagueis the Wise? , pixels:  21401 , \n",
      "description:  It's a Sith legend. Darth Plagueis was a Dark Lord of the Sith so powerful and so wise, he could use the Force to influence the midi-chlorians to create...life. He had such a knowledge of the Dark Side, he could even keep the ones he cared about...from dying. He became so powerful, the only thing he was afraid of was losing his power...which, eventually of course, he did. Unfortunately, he taught his apprentice everything he knew. Then his apprentice killed him in his sleep. Ironic. He could save others from death...but not himself.\n",
      " \n",
      "\n",
      "# 5 Project:  Hearts , pixels:  18669 , \n",
      "description:  What started with a few red hearts quickly became over one hundred hearts bearing the colors of flags and other things. \n",
      "\n",
      "# 6 Project:  Flag of Sweden , pixels:  18075 , \n",
      "description:   \n",
      "\n",
      "# 7 Project:  Rainbow Road Core , pixels:  17707 , \n",
      "description:  One of the earliest major faction on Place. They spread from here originally. After a while they began allowing others to build art in their space, making peace treaties and agreements with other factions \n",
      "\n",
      "# 8 Project:  Mona Lisa , pixels:  15072 , \n",
      "description:  In order to prove the point that reddit users are a cultured bunch, a group of them set out to recreate Leonardo da Vinci's Mona Lisa. \n",
      "\n",
      "# 9 Project:  French flag , pixels:  14281 , \n",
      "description:   \n",
      "\n"
     ]
    }
   ],
   "source": [
    "#Top-10\n",
    "\n",
    "for i in range(10):\n",
    "    proj = sorted_pixels_proj[i][0]\n",
    "    pix = sorted_pixels_proj[i][1]\n",
    "    name = names[int(proj)]\n",
    "    desc = descriptions[int(proj)]\n",
    "    \n",
    "    print(\"#\", i, \", project: \", name, \", pixels: \", pix, \", \\ndescription: \", desc, \"\\n\")"
   ]
  },
  {
   "cell_type": "code",
   "execution_count": 48,
   "metadata": {},
   "outputs": [
    {
     "name": "stdout",
     "output_type": "stream",
     "text": [
      "# 1 Project:  Climber's Head (TowerClimb) , pixels:  1 , \n",
      "description:  These inconspicuous 4 pixels are actually the head of the protagonist from the roguelike platformer game \"TowerClimb\". \n",
      "\n",
      "# 2 Project:  PINLAND , pixels:  2 , \n",
      "description:  It was very common for users to change these few pixels so the F turned into a P \n",
      "\n",
      "# 3 Project:  The purple corner , pixels:  4 , \n",
      "description:  Originally a \"colony\" of the blue corner, a loss of interest among blue corner pixel-placers lead to the upper-left corner of the canvas being taken over by the faction that would eventually become /r/purplepixels. However, like all of the colour factions that dominated the early Place, the purple corner was eventually crowded out by pixel art. \n",
      "\n",
      "# 4 Project:  Eightfold , pixels:  5 , \n",
      "description:  What remains of Eightfold, a paper spider character from a webcomic called Paranatural. \n",
      "\n",
      "# 5 Project:  Stealth Pepe , pixels:  8 , \n",
      "description:  Pepe the frog was placed and overwritten with prejudice many times, but this one survived by being tiny, the rarest of them all \n",
      "\n",
      "# 6 Project:  Tiny danish flag , pixels:  9 , \n",
      "description:  denmark is a samll nation in the nothern part of europe \n",
      "\n",
      "# 7 Project:  Remains of r/ockytop , pixels:  9 , \n",
      "description:  After the r/ockytop and El Bandito alliance was botted over, this is what the Tennessee Volunteers fan were able to claim with the time left. \n",
      "\n",
      "# 8 Project:  Make Trade Fair , pixels:  10 , \n",
      "description:  An organization supported by frontman Chris Martin of Coldplay drawn by the nearby Coldplay redditors. \n",
      "\n",
      "# 9 Project:  A grey line by loomynartylenny , pixels:  10 , \n",
      "description:  Reddit user loomynartylenny was attempting to write 'Braveryjerk' on the SpaceX rocket (due to r/Braveryjerk having an Elon Musk theme at the time, which has been backed up on r/elonjerk). They got bored, so they didn't even finish the B. However, this line was still here. Bravery intensifies. \n",
      "\n",
      "# 10 Project:  The Lovers' Heart , pixels:  10 , \n",
      "description:  Made by two lovers, this heart was originally placed left of the USA flag, after some deliberation with the American community, it was moved here. Consisting of the lovers' two favourite colours, it represents their strong bond. \n",
      "\n"
     ]
    }
   ],
   "source": [
    "#Bottom-10\n",
    "\n",
    "for i in range(1,11):\n",
    "    proj = sorted_pixels_proj[-i][0]\n",
    "    pix = sorted_pixels_proj[-i][1]\n",
    "    name = names[int(proj)]\n",
    "    desc = descriptions[int(proj)]\n",
    "    \n",
    "    print(\"#\", i, \", project: \", name, \", pixels: \", pix, \", \\ndescription: \", desc, \"\\n\")"
   ]
  },
  {
   "cell_type": "code",
   "execution_count": 49,
   "metadata": {},
   "outputs": [
    {
     "name": "stdout",
     "output_type": "stream",
     "text": [
      "AVG =  890.8981530343008\n"
     ]
    }
   ],
   "source": [
    "#AVG\n",
    "\n",
    "print(\"AVG = \", np.mean(np.array(list(pixels_per_project.values()))))"
   ]
  },
  {
   "cell_type": "code",
   "execution_count": 50,
   "metadata": {},
   "outputs": [
    {
     "name": "stdout",
     "output_type": "stream",
     "text": [
      "STD =  2842.5359929860856\n"
     ]
    }
   ],
   "source": [
    "#STD\n",
    "\n",
    "print(\"STD = \", np.std(np.array(list(pixels_per_project.values()))))"
   ]
  },
  {
   "cell_type": "code",
   "execution_count": 248,
   "metadata": {},
   "outputs": [
    {
     "data": {
      "image/png": "[encoded data removed]",
      "text/plain": [
       "<Figure size 432x288 with 1 Axes>"
      ]
     },
     "metadata": {
      "needs_background": "light"
     },
     "output_type": "display_data"
    }
   ],
   "source": [
    "%matplotlib inline\n",
    "def plot_pixels_per_project_icdf(pixels, count, output_file_name):\n",
    "    plt.clf()\n",
    "\n",
    "    ax = plt.subplot(111)\n",
    "    ax.loglog(pixels, count, color=\"red\", linewidth=4)\n",
    "    ax.set_ylabel('ICDF', fontsize=30)\n",
    "    ax.set_xlabel('#pixels', fontsize=30)\n",
    "    ax.tick_params(labelsize=23)\n",
    "    ax.set_xlim(1,100000)\n",
    "    plt.savefig(output_file_name, dpi=300, bbox_inches='tight')\n",
    "\n",
    "plot_pixels_per_project_icdf(pixels, count, \"../plots/plot_pixels_icdf.svg\")"
   ]
  },
  {
   "cell_type": "code",
   "execution_count": 257,
   "metadata": {},
   "outputs": [
    {
     "data": {
      "image/png": "[encoded data removed]",
      "text/plain": [
       "<Figure size 432x288 with 1 Axes>"
      ]
     },
     "metadata": {
      "needs_background": "light"
     },
     "output_type": "display_data"
    }
   ],
   "source": [
    "%matplotlib inline\n",
    "def plot_pixels_per_project_rank(sorted_pixels_proj, output_file_name):\n",
    "    plt.clf()\n",
    "\n",
    "    ax = plt.subplot(111)\n",
    "    ax.semilogy(sorted_pixels_proj, color=\"blue\", linewidth=4)\n",
    "    ax.set_ylabel('#pixels', fontsize=30)\n",
    "    ax.set_xlabel('rank', fontsize=30)\n",
    "    ax.tick_params(labelsize=23)\n",
    "    ax.set_xlim(None,2000)\n",
    "    ax.set_xticks(np.arange(0,2001,400))\n",
    "    ax.set_ylim(1,None)\n",
    "    plt.savefig(output_file_name, dpi=300, bbox_inches='tight')\n",
    "\n",
    "plot_pixels_per_project_rank(sorted_pixels_proj_vals, \"../plots/plot_pixels_rank.svg\")"
   ]
  },
  {
   "cell_type": "code",
   "execution_count": 258,
   "metadata": {},
   "outputs": [],
   "source": [
    "projects_per_user = {}\n",
    "\n",
    "#Projects to remove 777, 1921 (whole canvas), 1240, 1516 (1 pixel), 1319 (very incomplete)\n",
    "projects_to_remove = {'777', '1921', '1240', '1516', '1319'}\n",
    "\n",
    "with open(\"../data/projects_per_user.csv\", 'r') as file:\n",
    "     # Skip first line (header row)\n",
    "    next(file, None)\n",
    "    reader = csv.reader(file)\n",
    "    for r in reader:\n",
    "        str_proj = r[1][2:-2]\n",
    "        lst_proj = str_proj.split(',')\n",
    "        \n",
    "        projects_per_user[r[0]] = 0\n",
    "        \n",
    "        for p in lst_proj:\n",
    "            if p not in projects_to_remove:\n",
    "                projects_per_user[r[0]] = projects_per_user[r[0]] + 1"
   ]
  },
  {
   "cell_type": "code",
   "execution_count": 259,
   "metadata": {},
   "outputs": [],
   "source": [
    "proj_user = sorted(list(projects_per_user.values()))\n",
    "\n",
    "count = np.arange(len(proj_user)+1)[len(proj_user)+1:0:-1]\n",
    "count = count / count[0]"
   ]
  },
  {
   "cell_type": "code",
   "execution_count": 260,
   "metadata": {},
   "outputs": [],
   "source": [
    "sorted_proj_user = sorted(projects_per_user.items(), key=operator.itemgetter(1), reverse=True)"
   ]
  },
  {
   "cell_type": "code",
   "execution_count": 261,
   "metadata": {},
   "outputs": [],
   "source": [
    "sorted_proj_user_vals = []\n",
    "\n",
    "for p in sorted_proj_user:\n",
    "    sorted_proj_user_vals.append(p[1])"
   ]
  },
  {
   "cell_type": "code",
   "execution_count": 57,
   "metadata": {},
   "outputs": [
    {
     "data": {
      "text/plain": [
       "[('oV/QBQVpRBPm5K4UoK73KXfcG0o=', 352),\n",
       " ('yluQzhGix6Kb3RuJ1OyUUTxskhQ=', 330),\n",
       " ('OsnDa+2E+woJy7TN3U87yLQrbu8=', 325),\n",
       " ('8xow27kDaned3b13ENiuQT9fmRE=', 307),\n",
       " ('ZSPEY69+JkkBBY/a3gb/jUvXIgA=', 298),\n",
       " ('6AV6Kp/ChSlyKzHwgDGkWEScUJM=', 246),\n",
       " ('gIIoT+oPbML64+byH2Ms6FIj1sM=', 237),\n",
       " ('lnmjEGEWgq+s9joisWlkVYoEaUA=', 226),\n",
       " ('CeS6AznWDvF1LY9EIwB6ejhUCHM=', 192),\n",
       " ('lkQQqlMgmDd++vZn92bq65h8Teo=', 188)]"
      ]
     },
     "execution_count": 57,
     "metadata": {},
     "output_type": "execute_result"
    }
   ],
   "source": [
    "#Top-10\n",
    "\n",
    "sorted_proj_user[0:10]"
   ]
  },
  {
   "cell_type": "code",
   "execution_count": 58,
   "metadata": {},
   "outputs": [
    {
     "data": {
      "text/plain": [
       "[('1z6NesrdQL+4m0rSQ2lS819GuxQ=', 1),\n",
       " ('juJM6hFOzY8R+DlNbtcrHh7KhJw=', 1),\n",
       " ('goLKZy/GA7PHVNNKT73JsTqxHp0=', 1),\n",
       " ('vyf5Xy7+nkf4ufzQ9wmu+2cxkaM=', 1),\n",
       " ('fuifxwogs4tD3vflBPq458V6SNQ=', 1),\n",
       " ('gcZZ6P2eEo1QJ5pqTZJoNjAW81A=', 1),\n",
       " ('Q4k7cdcbFf2xOrLyun0nqjFg5/U=', 1),\n",
       " ('aiq2IR1mg9cyogrEwv6m7DG9Wl4=', 1),\n",
       " ('ewkwRrQUfFwNj4k3UowcLZiG5LQ=', 1),\n",
       " ('65klnVPpsifHGq9Sxv9j/VagWK4=', 1)]"
      ]
     },
     "execution_count": 58,
     "metadata": {},
     "output_type": "execute_result"
    }
   ],
   "source": [
    "#Bottom-10\n",
    "\n",
    "sorted_proj_user[-10:]"
   ]
  },
  {
   "cell_type": "code",
   "execution_count": 59,
   "metadata": {},
   "outputs": [
    {
     "name": "stdout",
     "output_type": "stream",
     "text": [
      "AVG =  9.229389403251625\n"
     ]
    }
   ],
   "source": [
    "#AVG\n",
    "\n",
    "print(\"AVG = \", np.mean(np.array(list(projects_per_user.values()))))"
   ]
  },
  {
   "cell_type": "code",
   "execution_count": 60,
   "metadata": {},
   "outputs": [
    {
     "name": "stdout",
     "output_type": "stream",
     "text": [
      "STD =  8.541646649948019\n"
     ]
    }
   ],
   "source": [
    "#STD\n",
    "\n",
    "print(\"STD = \", np.std(np.array(list(projects_per_user.values()))))"
   ]
  },
  {
   "cell_type": "code",
   "execution_count": 264,
   "metadata": {},
   "outputs": [
    {
     "data": {
      "image/png": "[encoded data removed]",
      "text/plain": [
       "<Figure size 432x288 with 1 Axes>"
      ]
     },
     "metadata": {
      "needs_background": "light"
     },
     "output_type": "display_data"
    }
   ],
   "source": [
    "%matplotlib inline\n",
    "def plot_projects_per_user_icdf(proj_user, count, output_file_name):\n",
    "    plt.clf()\n",
    "\n",
    "    ax = plt.subplot(111)\n",
    "    ax.semilogx(proj_user, count, color=\"red\", linewidth=4)\n",
    "    ax.set_ylabel('ICDF', fontsize=30)\n",
    "    ax.set_xlabel('#projects', fontsize=30)\n",
    "    ax.tick_params(labelsize=23)\n",
    "    ax.set_yticks(np.arange(0,1.1,0.25))\n",
    "    plt.savefig(output_file_name, dpi=300, bbox_inches='tight')\n",
    "\n",
    "plot_projects_per_user_icdf(proj_user, count, \"../plots/plot_proj_user_icdf.svg\")"
   ]
  },
  {
   "cell_type": "code",
   "execution_count": 265,
   "metadata": {},
   "outputs": [
    {
     "data": {
      "image/png": "[encoded data removed]",
      "text/plain": [
       "<Figure size 432x288 with 1 Axes>"
      ]
     },
     "metadata": {
      "needs_background": "light"
     },
     "output_type": "display_data"
    }
   ],
   "source": [
    "%matplotlib inline\n",
    "\n",
    "def plot_projects_per_user_rank(sorted_proj_user, output_file_name):\n",
    "    plt.clf()\n",
    "\n",
    "    ax = plt.subplot(111)\n",
    "    ax.semilogy(sorted_proj_user, color=\"blue\", linewidth=4)\n",
    "    ax.set_ylabel('#projects', fontsize=30)\n",
    "    ax.tick_params(labelsize=23)\n",
    "    ax.set_xlabel('rank', fontsize=30)\n",
    "    plt.savefig(output_file_name, dpi=300, bbox_inches='tight')\n",
    "\n",
    "plot_projects_per_user_rank(sorted_proj_user_vals, \"../plots/plot_proj_user_rank.svg\")"
   ]
  },
  {
   "cell_type": "code",
   "execution_count": 64,
   "metadata": {},
   "outputs": [],
   "source": [
    "# Users per Project\n",
    "users_per_project = {}\n",
    "\n",
    "#Projects to remove 777, 1921 (whole canvas), 1240, 1516 (1 pixel), 1319 (very incomplete)\n",
    "projects_to_remove = {'777', '1921', '1240', '1516', '1319'}\n",
    "\n",
    "with open(\"../data/users_per_project.csv\", 'r') as file:\n",
    "     # Skip first line (header row)\n",
    "    next(file, None)\n",
    "    reader = csv.reader(file)\n",
    "    for r in reader:\n",
    "        if r[0] not in projects_to_remove:\n",
    "            users_per_project[r[0]] = int(r[1])"
   ]
  },
  {
   "cell_type": "code",
   "execution_count": 65,
   "metadata": {},
   "outputs": [],
   "source": [
    "user_proj = sorted(list(users_per_project.values()))\n",
    "\n",
    "count = np.arange(len(user_proj)+1)[len(user_proj)+1:0:-1]\n",
    "count = count / count[0]"
   ]
  },
  {
   "cell_type": "code",
   "execution_count": 66,
   "metadata": {},
   "outputs": [],
   "source": [
    "sorted_user_proj = sorted(users_per_project.items(), key=operator.itemgetter(1), reverse=True)"
   ]
  },
  {
   "cell_type": "code",
   "execution_count": 67,
   "metadata": {},
   "outputs": [],
   "source": [
    "sorted_user_proj_vals = []\n",
    "\n",
    "for p in sorted_user_proj:\n",
    "    sorted_user_proj_vals.append(p[1])"
   ]
  },
  {
   "cell_type": "code",
   "execution_count": 68,
   "metadata": {},
   "outputs": [
    {
     "name": "stdout",
     "output_type": "stream",
     "text": [
      "# 0 Project:  Rainbow Road , users:  266766 , \n",
      "description:  One of the first projects on r/place, and also one of the largest. It integrates itself with many other artworks. \n",
      "\n",
      "# 1 Project:  USA / Canvas Center , users:  158121 , \n",
      "description:  The center of the canvas was a controversial and disputed part of r/place. It began to be filled with numerous randomly placed pixels. As organized groups began creating masterpieces, the center began a white void, part of r/erase. As the original (dark) Void began to eat the center of the canvas, the USA Flag began to take shape covering a branch from the void. The flag took over the white void and a few projects including a smiley and a tree. Then the void reappeared in place and with other people erased most of the flag as RainbowRoad expanded where the flag was. Ireland saw an opportunity  and decided to expand as well. A net of yellow lines appeared and took over the void and r/AmericanFlaginPlace with help of r/TheDonald and other redditors, helped fight for their territory and reconstruct the USA Flag. \"E Pluribus Unum\" on the side \n",
      "\n",
      "# 2 Project:  Flag of the USA , users:  151978 , \n",
      "description:   \n",
      "\n",
      "# 3 Project:  Flag of the United States of America , users:  150274 , \n",
      "description:   \n",
      "\n",
      "# 4 Project:  osu! Logo , users:  107561 , \n",
      "description:  The logo for the rhythm game osu. This was one of the more ambitious projects of /r/place and was intended to be more detailed. Unfortunately, a LoL player by the name of loltyler1, told his fans to attack the logo by filling it with the void, resulting in its current vandalized state. \n",
      "\n",
      "# 5 Project:  The Blue Empire , users:  106865 , \n",
      "description:  A simple project started to make the bottom right corner completely blue, quickly grew to be the largest piece of art in r/place history. Within 12 hours it had covered more than half of the bottom canvas, completely in blue, with thousand of dedicated supporters. The blue corner was pushed back gradually as more organised projects superseded the early pattern-based structures. The current blue corner is a mere reminder of what the empire was in it's former glory. \n",
      "\n",
      "# 6 Project:  The Blue Corner , users:  105913 , \n",
      "description:  The Blue Corner was one of the earliest projects on /r/place.<br>It quickly grew to cover a significant part of the map, but later was pushed back to its current size. \n",
      "\n",
      "# 7 Project:  The untold history , users:  93146 , \n",
      "description:  The tale of Darth Plagueis the wise \n",
      "\n",
      "# 8 Project:  Did you ever hear the Tragedy of Darth Plagueis the Wise? , users:  89266 , \n",
      "description:  It's a Sith legend. Darth Plagueis was a Dark Lord of the Sith so powerful and so wise, he could use the Force to influence the midi-chlorians to create...life. He had such a knowledge of the Dark Side, he could even keep the ones he cared about...from dying. He became so powerful, the only thing he was afraid of was losing his power...which, eventually of course, he did. Unfortunately, he taught his apprentice everything he knew. Then his apprentice killed him in his sleep. Ironic. He could save others from death...but not himself.\n",
      " \n",
      "\n",
      "# 9 Project:  Windows 95 , users:  88997 , \n",
      "description:  The task bar of the Windows 95 operating system with the iconic Start button and various open tasks referencing other people's work on /r/place. \n",
      "\n"
     ]
    }
   ],
   "source": [
    "#Top-10\n",
    "\n",
    "for i in range(10):\n",
    "    proj = sorted_user_proj[i][0]\n",
    "    usr = sorted_user_proj[i][1]\n",
    "    name = names[int(proj)]\n",
    "    desc = descriptions[int(proj)]\n",
    "    \n",
    "    print(\"#\", i, \", project: \", name, \", users: \", usr, \", \\ndescription: \", desc, \"\\n\")"
   ]
  },
  {
   "cell_type": "code",
   "execution_count": 69,
   "metadata": {},
   "outputs": [
    {
     "name": "stdout",
     "output_type": "stream",
     "text": [
      "# 1 Project:  Climber's Head (TowerClimb) , users:  3 , \n",
      "description:  These inconspicuous 4 pixels are actually the head of the protagonist from the roguelike platformer game \"TowerClimb\". \n",
      "\n",
      "# 2 Project:  The R , users:  25 , \n",
      "description:  The R of the sub r/The_R \n",
      "\n",
      "# 3 Project:  Smiley Face , users:  26 , \n",
      "description:  A universal symbol of happiness rendered on a small scale for bite sized fun. \n",
      "\n",
      "# 4 Project:  Italy heart , users:  32 , \n",
      "description:  A random heart or a symbol of cooperation between Scott Pilgrim and Italy? \n",
      "\n",
      "# 5 Project:  Make Trade Fair , users:  35 , \n",
      "description:  An organization supported by frontman Chris Martin of Coldplay drawn by the nearby Coldplay redditors. \n",
      "\n",
      "# 6 Project:  Eightfold , users:  38 , \n",
      "description:  What remains of Eightfold, a paper spider character from a webcomic called Paranatural. \n",
      "\n",
      "# 7 Project:  Green Carrot , users:  41 , \n",
      "description:  One of the few surviving carrots from /r/farmcarrots. Its colors have been swapped making it a green carrot with orange leaves. You can find what it originally looked like here:<br>http://imgur.com/xUWgFoJ \n",
      "\n",
      "# 8 Project:  Bread , users:  43 , \n",
      "description:  A loaf of Bread constructed by a few users of Anarchist subreddits to represent the ideas of Pyotr Kropotkin, Russian anarchist and author of the influential anarchist book, 'The Conquest of Bread'. Since this was a relatively late addition to the place, and is not a particularly obviously Leftist symbol, the Bread saw little vandalism and required no bots to maintain. \n",
      "\n",
      "# 9 Project:  Polyamory Flag , users:  44 , \n",
      "description:  Polyamory is loving kind of relationship between more than two people \n",
      "\n",
      "# 10 Project:  Amaura , users:  45 , \n",
      "description:  The head of the Generation 6 Fossil Pokémon Amaura. The body was covered up by surrounding art. \n",
      "\n"
     ]
    }
   ],
   "source": [
    "#Bottom-10\n",
    "\n",
    "for i in range(1,11):\n",
    "    proj = sorted_user_proj[-i][0]\n",
    "    usr = sorted_user_proj[-i][1]\n",
    "    name = names[int(proj)]\n",
    "    desc = descriptions[int(proj)]\n",
    "    \n",
    "    print(\"#\", i, \", project: \", name, \", users: \", usr, \", \\ndescription: \", desc, \"\\n\")"
   ]
  },
  {
   "cell_type": "code",
   "execution_count": 70,
   "metadata": {},
   "outputs": [
    {
     "name": "stdout",
     "output_type": "stream",
     "text": [
      "AVG =  4452.32401055409\n"
     ]
    }
   ],
   "source": [
    "#AVG\n",
    "\n",
    "print(\"AVG = \", np.mean(np.array(list(users_per_project.values()))))"
   ]
  },
  {
   "cell_type": "code",
   "execution_count": 71,
   "metadata": {},
   "outputs": [
    {
     "name": "stdout",
     "output_type": "stream",
     "text": [
      "STD =  12926.262884446302\n"
     ]
    }
   ],
   "source": [
    "#STD\n",
    "\n",
    "print(\"STD = \", np.std(np.array(list(users_per_project.values()))))"
   ]
  },
  {
   "cell_type": "code",
   "execution_count": 72,
   "metadata": {},
   "outputs": [
    {
     "data": {
      "image/png": "[encoded data removed]",
      "text/plain": [
       "<Figure size 432x288 with 1 Axes>"
      ]
     },
     "metadata": {
      "needs_background": "light"
     },
     "output_type": "display_data"
    }
   ],
   "source": [
    "%matplotlib inline\n",
    "def plot_users_per_project_icdf(user_proj, count, output_file_name):\n",
    "    plt.clf()\n",
    "\n",
    "    ax = plt.subplot(111)\n",
    "    ax.loglog(user_proj, count, color=\"red\", linewidth=4)\n",
    "    ax.set_ylabel('ICDF', fontsize=30)\n",
    "    ax.set_xlabel('#users', fontsize=30)\n",
    "    ax.tick_params(labelsize=23)\n",
    "    ax.set_xlim(1, 1000000)\n",
    "    plt.savefig(output_file_name, dpi=300, bbox_inches='tight')\n",
    "\n",
    "plot_users_per_project_icdf(user_proj, count, \"../plots/plot_user_proj_icdf.svg\")"
   ]
  },
  {
   "cell_type": "code",
   "execution_count": 73,
   "metadata": {},
   "outputs": [
    {
     "data": {
      "image/png": "[encoded data removed]",
      "text/plain": [
       "<Figure size 432x288 with 1 Axes>"
      ]
     },
     "metadata": {
      "needs_background": "light"
     },
     "output_type": "display_data"
    }
   ],
   "source": [
    "def plot_users_per_project_rank(sorted_user_proj, output_file_name):\n",
    "    plt.clf()\n",
    "\n",
    "    ax = plt.subplot(111)\n",
    "    ax.semilogy(sorted_user_proj, color=\"blue\", linewidth=4)\n",
    "    ax.set_ylabel('#users', fontsize=30)\n",
    "    ax.tick_params(labelsize=23)\n",
    "    ax.set_xlabel('rank', fontsize=30)\n",
    "    ax.set_xticks(np.arange(0, 2001, 500))\n",
    "    ax.set_ylim(1,1000000)\n",
    "    plt.savefig(output_file_name, dpi=300, bbox_inches='tight')\n",
    "\n",
    "plot_users_per_project_rank(sorted_user_proj_vals, \"../plots/plot_user_proj_rank.svg\")"
   ]
  },
  {
   "cell_type": "code",
   "execution_count": 266,
   "metadata": {},
   "outputs": [],
   "source": [
    "# Time\n",
    "times_per_project = {}\n",
    "\n",
    "#Projects to remove 777, 1921 (whole canvas), 1240, 1516 (1 pixel), 1319 (very incomplete)\n",
    "projects_to_remove = {'777', '1921', '1240', '1516', '1319'}\n",
    "\n",
    "with open(\"../data/times_per_project.csv\", 'r') as file:\n",
    "     # Skip first line (header row)\n",
    "    next(file, None)\n",
    "    reader = csv.reader(file)\n",
    "    for r in reader:\n",
    "        if r[3] != 'NA' and r[0] not in projects_to_remove:\n",
    "            times_per_project[r[0]] = int(r[3])"
   ]
  },
  {
   "cell_type": "code",
   "execution_count": 267,
   "metadata": {},
   "outputs": [],
   "source": [
    "time_proj = sorted(list(times_per_project.values()))\n",
    "\n",
    "count = np.arange(len(time_proj)+1)[len(time_proj)+1:0:-1]\n",
    "count = count / count[0]"
   ]
  },
  {
   "cell_type": "code",
   "execution_count": 268,
   "metadata": {},
   "outputs": [],
   "source": [
    "sorted_time_proj = sorted(times_per_project.items(), key=operator.itemgetter(1), reverse=True)"
   ]
  },
  {
   "cell_type": "code",
   "execution_count": 269,
   "metadata": {},
   "outputs": [],
   "source": [
    "sorted_time_proj_vals = []\n",
    "\n",
    "for p in sorted_time_proj:\n",
    "    sorted_time_proj_vals.append(p[1])"
   ]
  },
  {
   "cell_type": "code",
   "execution_count": 79,
   "metadata": {},
   "outputs": [
    {
     "name": "stdout",
     "output_type": "stream",
     "text": [
      "# 0 Project:  Nine Inch Nails , time:  304153000 , \n",
      "description:  The logo of the industrial rock band Nine Inch Nails, appropriately glitched out by random pixels. \n",
      "\n",
      "# 1 Project:  Mona Lisa , time:  259159000 , \n",
      "description:  In order to prove the point that reddit users are a cultured bunch, a group of them set out to recreate Leonardo da Vinci's Mona Lisa. \n",
      "\n",
      "# 2 Project:  University of Colorado Boulder , time:  259111000 , \n",
      "description:  The CU buffalo is the mascot of the University of Colorado Boulder, USA. The university sponsors 17 varsity sports teams. Both the men's and women's teams are called the Buffaloes or, rarely, the Golden Buffaloes.  \n",
      "\n",
      "# 3 Project:  University of Colorado Boulder , time:  259111000 , \n",
      "description:  The CU buffalo, mascot of University of Colorado  Boulder \n",
      "\n",
      "# 4 Project:  Album covers , time:  258812000 , \n",
      "description:  Two album covers mainly constructed by /r/indieheads. The first, on the right, is Neutral Milk Hotel's 'In the Aeroplane Over the Sea', an incredibly revered 90s indie-folk album. It was originally constructed further to the left but was moved with help from /r/AFIP to accommodate the new US flag. To the left is the album cover for The Velvet Underground's 'The Velvet Underground & Nico', featuring art from Andy Warhol, and sometimes considered the first ever indie album. /r/indieheads intended to use this canvas (which was frequently vandalised) to feature a rotating number of albums that would change daily, with the designs for Bjork's Homogenic already having been drawn up. Of course, Place ended before this plan could be brought into action. \n",
      "\n",
      "# 5 Project:  In the Aeroplane Over the Sea , time:  258812000 , \n",
      "description:  The cover of \"In the Aeroplane Over the Sea\", a 1998 album by Neutral Milk Hotel, which has become a meme for the indie music community. After relocating from conflict with r/zootopia, our artwork was built on planned space for the USA flag, but was relocated to the right with the help of the Americans. \n",
      "\n",
      "# 6 Project:  Rainbow Road , time:  258572000 , \n",
      "description:  One of the first projects on r/place, and also one of the largest. It integrates itself with many other artworks. \n",
      "\n",
      "# 7 Project:  Australian Self Image  , time:  258564000 , \n",
      "description:  The best self image of any country in the world. Contains the man himself, Steve Irwin, Vegemite, a Koala, Spider, Snake, and naturally, a boxing Kangaroo. With the country's national collective greeting: \"G'Day Cunts\" \n",
      "\n",
      "# 8 Project:  R.I.P. Steve Irwin , time:  258517000 , \n",
      "description:  A tribute to the late Crocodile Hunter Steve Irwin, courtesy of /r/Straya. Unfortunately, Steve was vandalized a bit before the final frame of /r/place - as a result, he's got an odd smiley line where his face should be and his date of death is wrong. It should be 4/9/06. \n",
      "\n",
      "# 9 Project:  Rainbow Grid , time:  258499000 , \n",
      "description:  Started and initially maintained by a single individual, this eventually became \"hiveminded\" - maintained entirely by an unorganized group of random individuals. It was abandoned by its creator and given to r/EraseThePlace, being long time allies. ETP gladly began their work, though resistance was met with the arrival of The Gray Thing... \n",
      "\n"
     ]
    }
   ],
   "source": [
    "#Top-10\n",
    "\n",
    "for i in range(10):\n",
    "    proj = sorted_time_proj[i][0]\n",
    "    tm = sorted_time_proj[i][1]\n",
    "    name = names[int(proj)]\n",
    "    desc = descriptions[int(proj)]\n",
    "    \n",
    "    print(\"#\", i, \", project: \", name, \", time: \", tm, \", \\ndescription: \", desc, \"\\n\")"
   ]
  },
  {
   "cell_type": "code",
   "execution_count": 80,
   "metadata": {},
   "outputs": [
    {
     "name": "stdout",
     "output_type": "stream",
     "text": [
      "# 1 Project:  Climber's Head (TowerClimb) , time:  0 , \n",
      "description:  These inconspicuous 4 pixels are actually the head of the protagonist from the roguelike platformer game \"TowerClimb\". \n",
      "\n",
      "# 2 Project:  The R , time:  1105000 , \n",
      "description:  The R of the sub r/The_R \n",
      "\n",
      "# 3 Project:  Smiley Face , time:  1835000 , \n",
      "description:  A universal symbol of happiness rendered on a small scale for bite sized fun. \n",
      "\n",
      "# 4 Project:  Italy heart , time:  2390000 , \n",
      "description:  A random heart or a symbol of cooperation between Scott Pilgrim and Italy? \n",
      "\n",
      "# 5 Project:  Make Trade Fair , time:  3008000 , \n",
      "description:  An organization supported by frontman Chris Martin of Coldplay drawn by the nearby Coldplay redditors. \n",
      "\n",
      "# 6 Project:  Eightfold , time:  4596000 , \n",
      "description:  What remains of Eightfold, a paper spider character from a webcomic called Paranatural. \n",
      "\n",
      "# 7 Project:  Green Carrot , time:  5142000 , \n",
      "description:  One of the few surviving carrots from /r/farmcarrots. Its colors have been swapped making it a green carrot with orange leaves. You can find what it originally looked like here:<br>http://imgur.com/xUWgFoJ \n",
      "\n",
      "# 8 Project:  Bread , time:  5374000 , \n",
      "description:  A loaf of Bread constructed by a few users of Anarchist subreddits to represent the ideas of Pyotr Kropotkin, Russian anarchist and author of the influential anarchist book, 'The Conquest of Bread'. Since this was a relatively late addition to the place, and is not a particularly obviously Leftist symbol, the Bread saw little vandalism and required no bots to maintain. \n",
      "\n",
      "# 9 Project:  Polyamory Flag , time:  6835000 , \n",
      "description:  Polyamory is loving kind of relationship between more than two people \n",
      "\n",
      "# 10 Project:  Amaura , time:  7676000 , \n",
      "description:  The head of the Generation 6 Fossil Pokémon Amaura. The body was covered up by surrounding art. \n",
      "\n"
     ]
    }
   ],
   "source": [
    "#Bottom-10\n",
    "\n",
    "for i in range(1,11):\n",
    "    proj = sorted_user_proj[-i][0]\n",
    "    tm = sorted_time_proj[-i][1]\n",
    "    name = names[int(proj)]\n",
    "    desc = descriptions[int(proj)]\n",
    "    \n",
    "    print(\"#\", i, \", project: \", name, \", time: \", tm, \", \\ndescription: \", desc, \"\\n\")"
   ]
  },
  {
   "cell_type": "code",
   "execution_count": 81,
   "metadata": {},
   "outputs": [
    {
     "name": "stdout",
     "output_type": "stream",
     "text": [
      "AVG =  53.34995411902668\n"
     ]
    }
   ],
   "source": [
    "#AVG\n",
    "\n",
    "print(\"AVG = \", np.mean(np.array(list(times_per_project.values())))/(1000 * 60 * 60))"
   ]
  },
  {
   "cell_type": "code",
   "execution_count": 82,
   "metadata": {},
   "outputs": [
    {
     "name": "stdout",
     "output_type": "stream",
     "text": [
      "STD =  18.76175419445967\n"
     ]
    }
   ],
   "source": [
    "#STD\n",
    "\n",
    "print(\"STD = \", np.std(np.array(list(times_per_project.values())))/(1000 * 60 * 60))"
   ]
  },
  {
   "cell_type": "code",
   "execution_count": 274,
   "metadata": {},
   "outputs": [
    {
     "data": {
      "image/png": "[encoded data removed]",
      "text/plain": [
       "<Figure size 432x288 with 1 Axes>"
      ]
     },
     "metadata": {
      "needs_background": "light"
     },
     "output_type": "display_data"
    }
   ],
   "source": [
    "%matplotlib inline\n",
    "def plot_times_per_project_icdf(time_proj, count, output_file_name):\n",
    "    plt.clf()\n",
    "\n",
    "    ax = plt.subplot(111)\n",
    "    ax.plot(np.array(time_proj)/(1000*60*60), count, color=\"red\", linewidth=4) #millisecons to hours\n",
    "    ax.set_ylabel('ICDF', fontsize=30)\n",
    "    ax.set_xlabel('time (hours)', fontsize=30)\n",
    "    ax.tick_params(labelsize=23)\n",
    "    ax.set_xticks(np.arange(0,101,25))\n",
    "    ax.set_xlim(None, 100)\n",
    "    ax.set_yticks(np.arange(0,1.1,0.25))\n",
    "    plt.savefig(output_file_name, dpi=300, bbox_inches='tight')\n",
    "\n",
    "plot_times_per_project_icdf(time_proj, count, \"../plots/plot_time_proj_icdf.svg\")"
   ]
  },
  {
   "cell_type": "code",
   "execution_count": 275,
   "metadata": {},
   "outputs": [
    {
     "data": {
      "image/png": "[encoded data removed]",
      "text/plain": [
       "<Figure size 432x288 with 1 Axes>"
      ]
     },
     "metadata": {
      "needs_background": "light"
     },
     "output_type": "display_data"
    }
   ],
   "source": [
    "def plot_times_per_project_rank(sorted_time_proj, output_file_name):\n",
    "    plt.clf()\n",
    "\n",
    "    ax = plt.subplot(111)\n",
    "    ax.plot(np.array(sorted_time_proj)/(1000*60*60), color=\"blue\", linewidth=4)\n",
    "    ax.set_ylabel('#hours', fontsize=30)\n",
    "    ax.tick_params(labelsize=23)\n",
    "    ax.set_xlabel('rank', fontsize=30)\n",
    "    ax.set_xticks(np.arange(0, 2001, 500))\n",
    "    ax.set_ylim(0,100)\n",
    "    plt.savefig(output_file_name, dpi=300, bbox_inches='tight')\n",
    "\n",
    "plot_times_per_project_rank(sorted_time_proj_vals, \"../plots/plot_time_proj_rank.svg\")"
   ]
  },
  {
   "cell_type": "code",
   "execution_count": 357,
   "metadata": {},
   "outputs": [],
   "source": [
    "#Updates vs. entropy per project\n",
    "\n",
    "X = np.zeros(len(updates_per_project))\n",
    "Y = np.zeros(len(updates_per_project))\n",
    "ratios = {}\n",
    "IDs = []\n",
    "\n",
    "i = 0\n",
    "for p in updates_per_project.keys():\n",
    "    up = updates_per_project[p]\n",
    "    ent = entropy_per_project[p]\n",
    "    \n",
    "    X[i] = up\n",
    "    Y[i] = ent\n",
    "    \n",
    "    ratios[p] = ent / up\n",
    "    IDs.append(names[int(p)])\n",
    "    \n",
    "    i = i + 1\n",
    "    \n",
    "IDs = np.array(list(IDs), dtype=object)"
   ]
  },
  {
   "cell_type": "code",
   "execution_count": 359,
   "metadata": {},
   "outputs": [
    {
     "data": {
      "text/plain": [
       "5"
      ]
     },
     "execution_count": 359,
     "metadata": {},
     "output_type": "execute_result"
    }
   ],
   "source": [
    "#Showing project IDs on mouse hovering. Based on:\n",
    "#https://stackoverflow.com/questions/7908636/possible-to-make-labels-appear-when-hovering-over-a-point-in-matplotlib\n",
    "\n",
    "%matplotlib tk\n",
    "\n",
    "cmap = plt.cm.RdYlGn\n",
    "norm = plt.Normalize(1,4)\n",
    "\n",
    "fig, ax = plt.subplots()\n",
    "sc = ax.scatter(X, Y, color=\"green\", marker='x', s=5)\n",
    "ax.set_ylabel('entropy', fontsize=30)\n",
    "ax.tick_params(labelsize=23)\n",
    "ax.set_xlabel('#updates', fontsize=30)\n",
    "ax.set_xscale('log')\n",
    "ax.set_yticks(np.arange(np.min(Y),math.exp(1)+.1, .69))\n",
    "    \n",
    "annot = ax.annotate(\"\", xy=(0,0), xytext=(5,5),textcoords=\"offset points\", size=14)\n",
    "annot.set_visible(False)   \n",
    "\n",
    "def update_annot(ind):\n",
    "    pos = sc.get_offsets()[ind[\"ind\"][0]]\n",
    "    annot.xy = pos\n",
    "    text = \"{}\".format(\"\".join(IDs[ind[\"ind\"]]))\n",
    "    annot.set_text(text)\n",
    "    \n",
    "def hover(event):\n",
    "    vis = annot.get_visible()\n",
    "    if event.inaxes == ax:\n",
    "        cont, ind = sc.contains(event)\n",
    "        if cont:\n",
    "            update_annot(ind)\n",
    "            annot.set_visible(True)\n",
    "            fig.canvas.draw_idle()\n",
    "        else:\n",
    "            if vis:\n",
    "                annot.set_visible(False)\n",
    "                fig.canvas.draw_idle()\n",
    "    \n",
    "fig.canvas.mpl_connect(\"motion_notify_event\", hover)"
   ]
  },
  {
   "cell_type": "code",
   "execution_count": 160,
   "metadata": {},
   "outputs": [
    {
     "data": {
      "text/plain": [
       "<Figure size 432x288 with 0 Axes>"
      ]
     },
     "metadata": {},
     "output_type": "display_data"
    },
    {
     "data": {
      "image/png": "[encoded data removed]",
      "text/plain": [
       "<Figure size 432x288 with 1 Axes>"
      ]
     },
     "metadata": {
      "needs_background": "light"
     },
     "output_type": "display_data"
    }
   ],
   "source": [
    "def plot_updates_vs_entropy(X, Y, output_file_name):\n",
    "    plt.clf()\n",
    "\n",
    "    fig, ax = plt.subplots()\n",
    "    ax.scatter(X, Y, color=\"green\", marker='x', s=5)\n",
    "    ax.set_ylabel('entropy', fontsize=30)\n",
    "    ax.tick_params(labelsize=23)\n",
    "    ax.set_xlabel('#updates', fontsize=30)\n",
    "    ax.set_xscale('log')\n",
    "    ax.set_yticks(np.arange(0.69,math.exp(1)+.1, .69))\n",
    "    ax.set_xlim(1,None)\n",
    "    \n",
    "    plt.savefig(output_file_name, dpi=300, bbox_inches='tight')\n",
    "\n",
    "plot_updates_vs_entropy(X, Y, \"../plots/plot_updates_vs_entropy.svg\")"
   ]
  },
  {
   "cell_type": "code",
   "execution_count": 88,
   "metadata": {},
   "outputs": [
    {
     "data": {
      "text/plain": [
       "array([[ 1.        , -0.01240211],\n",
       "       [-0.01240211,  1.        ]])"
      ]
     },
     "execution_count": 88,
     "metadata": {},
     "output_type": "execute_result"
    }
   ],
   "source": [
    "#Correlation\n",
    "\n",
    "np.corrcoef(X, Y)"
   ]
  },
  {
   "cell_type": "code",
   "execution_count": 89,
   "metadata": {},
   "outputs": [],
   "source": [
    "sorted_ratios = sorted(ratios.items(), key=operator.itemgetter(1), reverse=True)"
   ]
  },
  {
   "cell_type": "code",
   "execution_count": 94,
   "metadata": {},
   "outputs": [
    {
     "name": "stdout",
     "output_type": "stream",
     "text": [
      "# 0 , project:  Climber's Head (TowerClimb) , entropy:  1.0986122886681096 , updates:  3 , entropy/update:  0.36620409622270317         , \n",
      "description:  These inconspicuous 4 pixels are actually the head of the protagonist from the roguelike platformer game \"TowerClimb\". \n",
      "\n",
      "# 1 , project:  Smiley Face , entropy:  2.1679025503594818 , updates:  66 , entropy/update:  0.03284700833878003         , \n",
      "description:  A universal symbol of happiness rendered on a small scale for bite sized fun. \n",
      "\n",
      "# 2 , project:  Eightfold , entropy:  1.7075036453641854 , updates:  55 , entropy/update:  0.03104552082480337         , \n",
      "description:  What remains of Eightfold, a paper spider character from a webcomic called Paranatural. \n",
      "\n",
      "# 3 , project:  Italy heart , entropy:  2.0908155810619586 , updates:  75 , entropy/update:  0.027877541080826115         , \n",
      "description:  A random heart or a symbol of cooperation between Scott Pilgrim and Italy? \n",
      "\n",
      "# 4 , project:  Tiny danish flag , entropy:  1.5603830291635967 , updates:  61 , entropy/update:  0.025580049658419618         , \n",
      "description:  denmark is a samll nation in the nothern part of europe \n",
      "\n",
      "# 5 , project:  Red P , entropy:  2.0936386996190697 , updates:  86 , entropy/update:  0.024344636042082205         , \n",
      "description:  Seeing the whole work was an amazing piece of modern art, I really wanted to be a part of it. I decided to find a small unused spot and put my initial there. The void and erase factions were savage and had wiped two previous efforts and a larger piece of art I was helping maintain, so I found a spot and used a script running on 2 PC's to maintain my small part of the artwork until place ended, which happened while I was sleeping. \n",
      "\n",
      "# 6 , project:  Amaura , entropy:  2.0696308128546264 , updates:  93 , entropy/update:  0.022254094761877702         , \n",
      "description:  The head of the Generation 6 Fossil Pokémon Amaura. The body was covered up by surrounding art. \n",
      "\n",
      "# 7 , project:  The R , entropy:  1.8216729838184715 , updates:  82 , entropy/update:  0.02221552419290819         , \n",
      "description:  The R of the sub r/The_R \n",
      "\n",
      "# 8 , project:  Stealth Pepe , entropy:  1.730507493951123 , updates:  82 , entropy/update:  0.021103749926233206         , \n",
      "description:  Pepe the frog was placed and overwritten with prejudice many times, but this one survived by being tiny, the rarest of them all \n",
      "\n",
      "# 9 , project:  Make Trade Fair , entropy:  2.23330011555482 , updates:  110 , entropy/update:  0.02030272832322564         , \n",
      "description:  An organization supported by frontman Chris Martin of Coldplay drawn by the nearby Coldplay redditors. \n",
      "\n"
     ]
    }
   ],
   "source": [
    "#Entropy/update\n",
    "\n",
    "for i in range(10):\n",
    "    proj = sorted_ratios[i][0]\n",
    "    name = names[int(proj)]\n",
    "    desc = descriptions[int(proj)]\n",
    "    r = sorted_ratios[i][1]\n",
    "    ent = entropy_per_project[proj]\n",
    "    up = updates_per_project[proj]\n",
    "    \n",
    "    print(\"#\", i, \", project: \", name, \", entropy: \", ent, \", updates: \", up, \", entropy/update: \", r, \"\\\n",
    "        , \\ndescription: \", desc, \"\\n\")"
   ]
  },
  {
   "cell_type": "code",
   "execution_count": 100,
   "metadata": {},
   "outputs": [
    {
     "name": "stdout",
     "output_type": "stream",
     "text": [
      "# 1 project:  1066 entropy:  2.5201075806834554  updates:  1078220  entropy/update:  2.337285137247923e-06         ndescription:  One of the first projects on r/place, and also one of the largest. It integrates itself with many other artworks. \n",
      "\n",
      "# 2 project:  1066 entropy:  1.9258022777284207  updates:  684179  entropy/update:  2.814763793873271e-06         ndescription:  The center of the canvas was a controversial and disputed part of r/place. It began to be filled with numerous randomly placed pixels. As organized groups began creating masterpieces, the center began a white void, part of r/erase. As the original (dark) Void began to eat the center of the canvas, the USA Flag began to take shape covering a branch from the void. The flag took over the white void and a few projects including a smiley and a tree. Then the void reappeared in place and with other people erased most of the flag as RainbowRoad expanded where the flag was. Ireland saw an opportunity  and decided to expand as well. A net of yellow lines appeared and took over the void and r/AmericanFlaginPlace with help of r/TheDonald and other redditors, helped fight for their territory and reconstruct the USA Flag. \"E Pluribus Unum\" on the side \n",
      "\n",
      "# 3 project:  1066 entropy:  1.8934406184632742  updates:  612816  entropy/update:  3.089737569618408e-06         ndescription:   \n",
      "\n",
      "# 4 project:  1066 entropy:  1.8637929076111952  updates:  587958  entropy/update:  3.169942253717434e-06         ndescription:   \n",
      "\n",
      "# 5 project:  1066 entropy:  1.7155538740639518  updates:  540508  entropy/update:  3.1739657397558443e-06         ndescription:  The logo for the rhythm game osu. This was one of the more ambitious projects of /r/place and was intended to be more detailed. Unfortunately, a LoL player by the name of loltyler1, told his fans to attack the logo by filling it with the void, resulting in its current vandalized state. \n",
      "\n",
      "# 6 project:  1066 entropy:  1.7740802374969358  updates:  402175  entropy/update:  4.411214614277207e-06         ndescription:  The section of the canvas mostly filled with Leftist symbols, but also including pixel art and flags. <br>This area was under near-constant siege, especially the Hammer and Sickle. \n",
      "\n",
      "# 7 project:  1066 entropy:  1.2235034441598396  updates:  274444  entropy/update:  4.458116935184736e-06         ndescription:  One of the first additions to the map, this text of a meme from the prequel Star Wars movies started out as an uncoordinated attempt to write something everyone knew, and was refined to the masterpiece you see today. \n",
      "\n",
      "# 8 project:  1066 entropy:  1.238122435906646  updates:  276461  entropy/update:  4.478470510873672e-06         ndescription:  It's a Sith legend. Darth Plagueis was a Dark Lord of the Sith so powerful and so wise, he could use the Force to influence the midi-chlorians to create...life. He had such a knowledge of the Dark Side, he could even keep the ones he cared about...from dying. He became so powerful, the only thing he was afraid of was losing his power...which, eventually of course, he did. Unfortunately, he taught his apprentice everything he knew. Then his apprentice killed him in his sleep. Ironic. He could save others from death...but not himself.\n",
      " \n",
      "\n",
      "# 9 project:  1066 entropy:  1.3441048998717267  updates:  293808  entropy/update:  4.574772980557802e-06         ndescription:  The tale of Darth Plagueis the wise \n",
      "\n",
      "# 10 project:  1066 entropy:  1.7716695512363754  updates:  362651  entropy/update:  4.885329286935305e-06         ndescription:  A simple project started to make the bottom right corner completely blue, quickly grew to be the largest piece of art in r/place history. Within 12 hours it had covered more than half of the bottom canvas, completely in blue, with thousand of dedicated supporters. The blue corner was pushed back gradually as more organised projects superseded the early pattern-based structures. The current blue corner is a mere reminder of what the empire was in it's former glory. \n",
      "\n"
     ]
    }
   ],
   "source": [
    "for i in range(1,11):\n",
    "    proj = sorted_ratios[-i][0]\n",
    "    name = names[int(proj)]\n",
    "    desc = descriptions[int(proj)]\n",
    "    r = sorted_ratios[-i][1]\n",
    "    ent = entropy_per_project[proj]\n",
    "    up = updates_per_project[proj]\n",
    "    \n",
    "    print(\"#\", i, \"project: \", p, \"entropy: \", ent, \" updates: \", up, \" entropy/update: \", r,\"\\\n",
    "        ndescription: \", desc, \"\\n\")    "
   ]
  },
  {
   "cell_type": "code",
   "execution_count": 360,
   "metadata": {},
   "outputs": [],
   "source": [
    "#Updates vs. pixels per project\n",
    "\n",
    "X = np.zeros(len(updates_per_project))\n",
    "Y = np.zeros(len(updates_per_project))\n",
    "ratios = {}\n",
    "IDs = []\n",
    "\n",
    "i = 0\n",
    "for p in updates_per_project.keys():\n",
    "    up = updates_per_project[p]\n",
    "    pix = pixels_per_project[p]\n",
    "    \n",
    "    X[i] = up\n",
    "    Y[i] = pix\n",
    "    \n",
    "    ratios[p] = pix / up\n",
    "    IDs.append(names[int(p)])\n",
    "    \n",
    "    i = i + 1\n",
    "    \n",
    "IDs = np.array(list(IDs), dtype=object)"
   ]
  },
  {
   "cell_type": "code",
   "execution_count": 361,
   "metadata": {},
   "outputs": [
    {
     "data": {
      "text/plain": [
       "5"
      ]
     },
     "execution_count": 361,
     "metadata": {},
     "output_type": "execute_result"
    }
   ],
   "source": [
    "%matplotlib tk\n",
    "\n",
    "cmap = plt.cm.RdYlGn\n",
    "norm = plt.Normalize(1,4)\n",
    "\n",
    "fig, ax = plt.subplots()\n",
    "sc = ax.scatter(X, Y, color=\"green\", marker='x', s=5)\n",
    "ax.scatter(X, Y, color=\"green\", marker='x', s=5)\n",
    "ax.set_ylabel('#pixels', fontsize=30)\n",
    "ax.tick_params(labelsize=23)\n",
    "ax.set_xlabel('#updates', fontsize=30)\n",
    "ax.set_xscale('log')\n",
    "ax.set_yscale('log')\n",
    "ax.set_ylim(1,1000000)\n",
    "ax.set_xlim(1,None)\n",
    "    \n",
    "annot = ax.annotate(\"\", xy=(0,0), xytext=(5,5),textcoords=\"offset points\", size=14)\n",
    "annot.set_visible(False)   \n",
    "\n",
    "def update_annot(ind):\n",
    "    pos = sc.get_offsets()[ind[\"ind\"][0]]\n",
    "    annot.xy = pos\n",
    "    text = \"{}\".format(\"\".join(IDs[ind[\"ind\"]]))\n",
    "    annot.set_text(text)\n",
    "    \n",
    "def hover(event):\n",
    "    vis = annot.get_visible()\n",
    "    if event.inaxes == ax:\n",
    "        cont, ind = sc.contains(event)\n",
    "        if cont:\n",
    "            update_annot(ind)\n",
    "            annot.set_visible(True)\n",
    "            fig.canvas.draw_idle()\n",
    "        else:\n",
    "            if vis:\n",
    "                annot.set_visible(False)\n",
    "                fig.canvas.draw_idle()\n",
    "    \n",
    "fig.canvas.mpl_connect(\"motion_notify_event\", hover)"
   ]
  },
  {
   "cell_type": "code",
   "execution_count": 169,
   "metadata": {},
   "outputs": [
    {
     "data": {
      "image/png": "[encoded data removed]",
      "text/plain": [
       "<Figure size 432x288 with 1 Axes>"
      ]
     },
     "metadata": {
      "needs_background": "light"
     },
     "output_type": "display_data"
    }
   ],
   "source": [
    "def plot_updates_vs_pixels(X, Y, output_file_name):\n",
    "    plt.clf()\n",
    "\n",
    "    ax = plt.subplot(111)\n",
    "    ax.scatter(X, Y, color=\"green\", marker='x', s=5)\n",
    "    ax.set_ylabel('#pixels', fontsize=30)\n",
    "    ax.tick_params(labelsize=23)\n",
    "    ax.set_xlabel('#updates', fontsize=30)\n",
    "    ax.set_xscale('log')\n",
    "    ax.set_yscale('log')\n",
    "    ax.set_ylim(1,1000000)\n",
    "    ax.set_xlim(1,None)\n",
    "    plt.savefig(output_file_name, dpi=300, bbox_inches='tight')\n",
    "\n",
    "plot_updates_vs_pixels(X, Y, \"../plots/plot_updates_vs_pixels.svg\")"
   ]
  },
  {
   "cell_type": "code",
   "execution_count": 103,
   "metadata": {},
   "outputs": [
    {
     "data": {
      "text/plain": [
       "array([[1.        , 0.84277543],\n",
       "       [0.84277543, 1.        ]])"
      ]
     },
     "execution_count": 103,
     "metadata": {},
     "output_type": "execute_result"
    }
   ],
   "source": [
    "#Correlation\n",
    "\n",
    "np.corrcoef(X, Y)"
   ]
  },
  {
   "cell_type": "code",
   "execution_count": 104,
   "metadata": {},
   "outputs": [],
   "source": [
    "sorted_ratios = sorted(ratios.items(), key=operator.itemgetter(1), reverse=True)"
   ]
  },
  {
   "cell_type": "code",
   "execution_count": 106,
   "metadata": {},
   "outputs": [
    {
     "name": "stdout",
     "output_type": "stream",
     "text": [
      "# 0 , project:  Seplunky , pixels:  336 , updates:  821 , pixels/update:  0.4092570036540804         , \n",
      "description:  Player character from the platform indie game Spelunky. \n",
      "\n",
      "# 1 , project:  Bread , pixels:  65 , updates:  167 , pixels/update:  0.38922155688622756         , \n",
      "description:  A loaf of Bread constructed by a few users of Anarchist subreddits to represent the ideas of Pyotr Kropotkin, Russian anarchist and author of the influential anarchist book, 'The Conquest of Bread'. Since this was a relatively late addition to the place, and is not a particularly obviously Leftist symbol, the Bread saw little vandalism and required no bots to maintain. \n",
      "\n",
      "# 2 , project:  Amaura , pixels:  36 , updates:  93 , pixels/update:  0.3870967741935484         , \n",
      "description:  The head of the Generation 6 Fossil Pokémon Amaura. The body was covered up by surrounding art. \n",
      "\n",
      "# 3 , project:  Bread , pixels:  77 , updates:  203 , pixels/update:  0.3793103448275862         , \n",
      "description:  It's bread. \n",
      "\n",
      "# 4 , project:  Toucan , pixels:  326 , updates:  931 , pixels/update:  0.3501611170784103         , \n",
      "description:  le toucan has arrived sheepoToucan \n",
      "\n",
      "# 5 , project:  Foliat , pixels:  206 , updates:  616 , pixels/update:  0.3344155844155844         , \n",
      "description:  The grass starter from the Pokemon fangame, Pokemon Sage. \n",
      "\n",
      "# 6 , project:  Climber's Head (TowerClimb) , pixels:  1 , updates:  3 , pixels/update:  0.3333333333333333         , \n",
      "description:  These inconspicuous 4 pixels are actually the head of the protagonist from the roguelike platformer game \"TowerClimb\". \n",
      "\n",
      "# 7 , project:  Green Lattice Diamond , pixels:  66 , updates:  204 , pixels/update:  0.3235294117647059         , \n",
      "description:  A custom design created for the green lattice \n",
      "\n",
      "# 8 , project:  Yellow Duck , pixels:  48 , updates:  150 , pixels/update:  0.32         , \n",
      "description:  Possibly a pixel art rendition of an American Pekin Duckling. \n",
      "\n",
      "# 9 , project:  Green Carrot , pixels:  40 , updates:  127 , pixels/update:  0.31496062992125984         , \n",
      "description:  One of the few surviving carrots from /r/farmcarrots. Its colors have been swapped making it a green carrot with orange leaves. You can find what it originally looked like here:<br>http://imgur.com/xUWgFoJ \n",
      "\n"
     ]
    }
   ],
   "source": [
    "#Pixels/update\n",
    "    \n",
    "for i in range(10):\n",
    "    proj = sorted_ratios[i][0]\n",
    "    name = names[int(proj)]\n",
    "    desc = descriptions[int(proj)]\n",
    "    r = sorted_ratios[i][1]\n",
    "    pix = pixels_per_project[proj]\n",
    "    up = updates_per_project[proj]\n",
    "    \n",
    "    print(\"#\", i, \", project: \", name, \", pixels: \", pix, \", updates: \", up, \", pixels/update: \", r, \"\\\n",
    "        , \\ndescription: \", desc, \"\\n\")"
   ]
  },
  {
   "cell_type": "code",
   "execution_count": 108,
   "metadata": {},
   "outputs": [
    {
     "name": "stdout",
     "output_type": "stream",
     "text": [
      "# 1 , project:  The purple corner , pixels:  4 , updates:  7701 , pixels/update:  0.0005194130632385404         , \n",
      "description:  Originally a \"colony\" of the blue corner, a loss of interest among blue corner pixel-placers lead to the upper-left corner of the canvas being taken over by the faction that would eventually become /r/purplepixels. However, like all of the colour factions that dominated the early Place, the purple corner was eventually crowded out by pixel art. \n",
      "\n",
      "# 2 , project:  PINLAND , pixels:  2 , updates:  2872 , pixels/update:  0.0006963788300835655         , \n",
      "description:  It was very common for users to change these few pixels so the F turned into a P \n",
      "\n",
      "# 3 , project:  Trans Heart , pixels:  51 , updates:  19655 , pixels/update:  0.0025947596031544134         , \n",
      "description:  The first heart created by /r/TransFlagPlace, marking the centerpoint of the flag. \n",
      "\n",
      "# 4 , project:  (covered) 7-1 , pixels:  72 , updates:  17723 , pixels/update:  0.004062517632455002         , \n",
      "description:  The corner of the Brazil Flag that was vandalized over in over again in an attempt to shame Brazil for their 7-1 defeat against Germany in the 2014 world cup. Now all that remains is a single pixel of where the 7 starts \n",
      "\n",
      "# 5 , project:  Hammer and Sickle , pixels:  818 , updates:  171275 , pixels/update:  0.004775945117501095         , \n",
      "description:  Symbol of workers tools used to represent communism. \n",
      "\n",
      "# 6 , project:  Anarchocapitalist flag , pixels:  91 , updates:  15123 , pixels/update:  0.006017324604906434         , \n",
      "description:  The yellow/black anarchocapitalist flag, showing signs of vandalism, apparently from left-wing anarchists \n",
      "\n",
      "# 7 , project:  (Former) Tiny Trump , pixels:  108 , updates:  17449 , pixels/update:  0.006189466445068485         , \n",
      "description:  Early on in /r/place, the Donald Trump subreddit made a tiny Trump picture.  Shortly after construction, it got vandalized heavily with random pixels by the rest of reddit until it was finally abandoned. \n",
      "\n",
      "# 8 , project:  The Donald's Head , pixels:  108 , updates:  17449 , pixels/update:  0.006189466445068485         , \n",
      "description:  /r/The_Donald encouraged it's members to contribute to a likeness of President Trump wearing a suit, a red tie and a red ball cap. Other /r/place users worked against that effort. All that's left now is a little orange hair, some yellow face, and the red hat. \n",
      "\n",
      "# 9 , project:  Kirby , pixels:  224 , updates:  31545 , pixels/update:  0.007100966872721509         , \n",
      "description:  The remnants of a sprite of the video game character, Kirby, on top of the Osu! logo. \n",
      "\n",
      "# 10 , project:  The Original Heart , pixels:  104 , updates:  12098 , pixels/update:  0.008596462225161184         , \n",
      "description:  The one that started /r/placehearts \n",
      "\n"
     ]
    }
   ],
   "source": [
    "for i in range(1,11):\n",
    "    proj = sorted_ratios[-i][0]\n",
    "    name = names[int(proj)]\n",
    "    desc = descriptions[int(proj)]\n",
    "    r = sorted_ratios[-i][1]\n",
    "    pix = pixels_per_project[proj]\n",
    "    up = updates_per_project[proj]\n",
    "    \n",
    "    print(\"#\", i, \", project: \", name, \", pixels: \", pix, \", updates: \", up, \", pixels/update: \", r, \"\\\n",
    "        , \\ndescription: \", desc, \"\\n\")"
   ]
  },
  {
   "cell_type": "code",
   "execution_count": 362,
   "metadata": {},
   "outputs": [],
   "source": [
    "#Updates vs. users per project\n",
    "\n",
    "X = np.zeros(len(updates_per_project))\n",
    "Y = np.zeros(len(updates_per_project))\n",
    "ratios = {}\n",
    "IDs = []\n",
    "\n",
    "i = 0\n",
    "for p in updates_per_project.keys():\n",
    "    up = updates_per_project[p]\n",
    "    usr = users_per_project[p]\n",
    "    \n",
    "    X[i] = up\n",
    "    Y[i] = usr\n",
    "    \n",
    "    ratios[p] = usr / up\n",
    "    IDs.append(names[int(p)])\n",
    "    \n",
    "    i = i + 1\n",
    "    \n",
    "IDs = np.array(list(IDs), dtype=object)"
   ]
  },
  {
   "cell_type": "code",
   "execution_count": 363,
   "metadata": {},
   "outputs": [
    {
     "data": {
      "text/plain": [
       "5"
      ]
     },
     "execution_count": 363,
     "metadata": {},
     "output_type": "execute_result"
    }
   ],
   "source": [
    "%matplotlib tk\n",
    "\n",
    "cmap = plt.cm.RdYlGn\n",
    "norm = plt.Normalize(1,4)\n",
    "\n",
    "fig, ax = plt.subplots()\n",
    "sc = ax.scatter(X, Y, color=\"green\", marker='x', s=5)\n",
    "ax.scatter(X, Y, color=\"green\", marker='x', s=5)\n",
    "ax.set_ylabel('#users', fontsize=30)\n",
    "ax.tick_params(labelsize=23)\n",
    "ax.set_xlabel('#updates', fontsize=30)\n",
    "ax.set_xscale('log')\n",
    "ax.set_yscale('log')\n",
    "ax.set_ylim(1,1000000)\n",
    "ax.set_xlim(1,None)\n",
    "    \n",
    "annot = ax.annotate(\"\", xy=(0,0), xytext=(5,5),textcoords=\"offset points\", size=14)\n",
    "annot.set_visible(False)   \n",
    "\n",
    "def update_annot(ind):\n",
    "    pos = sc.get_offsets()[ind[\"ind\"][0]]\n",
    "    annot.xy = pos\n",
    "    text = \"{}\".format(\"\".join(IDs[ind[\"ind\"]]))\n",
    "    annot.set_text(text)\n",
    "    \n",
    "def hover(event):\n",
    "    vis = annot.get_visible()\n",
    "    if event.inaxes == ax:\n",
    "        cont, ind = sc.contains(event)\n",
    "        if cont:\n",
    "            update_annot(ind)\n",
    "            annot.set_visible(True)\n",
    "            fig.canvas.draw_idle()\n",
    "        else:\n",
    "            if vis:\n",
    "                annot.set_visible(False)\n",
    "                fig.canvas.draw_idle()\n",
    "    \n",
    "fig.canvas.mpl_connect(\"motion_notify_event\", hover)"
   ]
  },
  {
   "cell_type": "code",
   "execution_count": 171,
   "metadata": {},
   "outputs": [
    {
     "data": {
      "image/png": "[encoded data removed]",
      "text/plain": [
       "<Figure size 432x288 with 1 Axes>"
      ]
     },
     "metadata": {
      "needs_background": "light"
     },
     "output_type": "display_data"
    }
   ],
   "source": [
    "def plot_updates_vs_users(X, Y, output_file_name):\n",
    "    plt.clf()\n",
    "\n",
    "    ax = plt.subplot(111)\n",
    "    ax.scatter(X, Y, color=\"green\", marker='x', s=5)\n",
    "    ax.set_ylabel('#users', fontsize=30)\n",
    "    ax.tick_params(labelsize=23)\n",
    "    ax.set_xlabel('#updates', fontsize=30)\n",
    "    ax.set_xscale('log')\n",
    "    ax.set_yscale('log')\n",
    "    ax.set_ylim(1,1000000)\n",
    "    ax.set_xlim(1,None)\n",
    "    \n",
    "    plt.savefig(output_file_name, dpi=300, bbox_inches='tight')\n",
    "\n",
    "plot_updates_vs_users(X, Y, \"../plots/plot_updates_vs_users.svg\")"
   ]
  },
  {
   "cell_type": "code",
   "execution_count": 126,
   "metadata": {},
   "outputs": [
    {
     "data": {
      "text/plain": [
       "array([[1.        , 0.13952994],\n",
       "       [0.13952994, 1.        ]])"
      ]
     },
     "execution_count": 126,
     "metadata": {},
     "output_type": "execute_result"
    }
   ],
   "source": [
    "#Correlation\n",
    "\n",
    "np.corrcoef(X, Y)"
   ]
  },
  {
   "cell_type": "code",
   "execution_count": 127,
   "metadata": {},
   "outputs": [],
   "source": [
    "sorted_ratios = sorted(ratios.items(), key=operator.itemgetter(1), reverse=True)"
   ]
  },
  {
   "cell_type": "code",
   "execution_count": 116,
   "metadata": {},
   "outputs": [
    {
     "name": "stdout",
     "output_type": "stream",
     "text": [
      "# 0 , project:  Climber's Head (TowerClimb) , users:  3 , updates:  3 , users/update:  1.0         , \n",
      "description:  These inconspicuous 4 pixels are actually the head of the protagonist from the roguelike platformer game \"TowerClimb\". \n",
      "\n",
      "# 1 , project:  Remnants of a Pokeball , users:  1295 , updates:  1486 , users/update:  0.8714670255720054         , \n",
      "description:  Remnants of a small pokeball. \n",
      "\n",
      "# 2 , project:  Pokeball , users:  1404 , updates:  1669 , users/update:  0.8412222887956861         , \n",
      "description:   \n",
      "\n",
      "# 3 , project:  Pokéball , users:  1477 , updates:  1768 , users/update:  0.8354072398190046         , \n",
      "description:  A device used to capture Pokémon. \n",
      "\n",
      "# 4 , project:  Google Android Head , users:  645 , updates:  780 , users/update:  0.8269230769230769         , \n",
      "description:  Head of the Google Android created by /u/Jestified \n",
      "\n",
      "# 5 , project:  Pokeball , users:  1533 , updates:  1854 , users/update:  0.8268608414239482         , \n",
      "description:  An item from the Pokemon franchise. \n",
      "\n",
      "# 6 , project:  Tiny danish flag , users:  49 , updates:  61 , users/update:  0.8032786885245902         , \n",
      "description:  denmark is a samll nation in the nothern part of europe \n",
      "\n",
      "# 7 , project:  Juke Juice power-up , users:  569 , updates:  746 , users/update:  0.7627345844504021         , \n",
      "description:  Juke Juice allows you to accelerate and reach your maximum speed at faster rates, making it easier to avoid contact with other players and escape tricky situations. \n",
      "\n",
      "# 8 , project:  Nonbinary Heart , users:  449 , updates:  591 , users/update:  0.7597292724196277         , \n",
      "description:  A heart created by /r/TransFlagPlace to represent nonbinary people, those who do not identify as either male or female. \n",
      "\n",
      "# 9 , project:  Stealth Pepe , users:  61 , updates:  82 , users/update:  0.7439024390243902         , \n",
      "description:  Pepe the frog was placed and overwritten with prejudice many times, but this one survived by being tiny, the rarest of them all \n",
      "\n"
     ]
    }
   ],
   "source": [
    "#Users/update\n",
    "\n",
    "for i in range(10):\n",
    "    proj = sorted_ratios[i][0]\n",
    "    name = names[int(proj)]\n",
    "    desc = descriptions[int(proj)]\n",
    "    r = sorted_ratios[i][1]\n",
    "    usr = users_per_project[proj]\n",
    "    up = updates_per_project[proj]\n",
    "    \n",
    "    print(\"#\", i, \", project: \", name, \", users: \", usr, \", updates: \", up, \", users/update: \", r, \"\\\n",
    "        , \\ndescription: \", desc, \"\\n\")"
   ]
  },
  {
   "cell_type": "code",
   "execution_count": 117,
   "metadata": {},
   "outputs": [
    {
     "name": "stdout",
     "output_type": "stream",
     "text": [
      "# 1 , project:  University Of Texas at Austin , users:  1759 , updates:  15686 , users/update:  0.11213821241871733         , \n",
      "description:  University located in Austin, Texas USA. Their school colors are white and burnt orange.   \n",
      "\n",
      "# 2 , project:  The Far Left Side , users:  36757 , updates:  324259 , users/update:  0.11335691530535776         , \n",
      "description:  The Far left side was made up of dedicated Leftists working together to create a community on r/place \n",
      "\n",
      "# 3 , project:  The Far Left Side , users:  47034 , updates:  402175 , users/update:  0.1169490893267856         , \n",
      "description:  The section of the canvas mostly filled with Leftist symbols, but also including pixel art and flags. <br>This area was under near-constant siege, especially the Hammer and Sickle. \n",
      "\n",
      "# 4 , project:  Hammer and Sickle , users:  20180 , updates:  171275 , users/update:  0.11782221573492921         , \n",
      "description:  Symbol of workers tools used to represent communism. \n",
      "\n",
      "# 5 , project:  Three bikes in the colors of the Dutch flag. , users:  1367 , updates:  11582 , users/update:  0.11802797444310137         , \n",
      "description:  Holland is a country of cyclists. It's the country with the highest number of bicycles per capita. \n",
      "\n",
      "# 6 , project:  Dutch bicycles , users:  1365 , updates:  11442 , users/update:  0.11929732564237021         , \n",
      "description:  The Netherlands is known for having more privately owned bicycles than people. Stored at a safe distance from the Germans \n",
      "\n",
      "# 7 , project:  The sad Remnants of the Nerdcubed logo , users:  1766 , updates:  13125 , users/update:  0.13455238095238095         , \n",
      "description:  This poor neglected and vandalized \"N\" represents the shattered dreams of the Nerdcubed reddit fanbase. What was almost a proud statue to the beloved Youtuber \"Nerdcubed\" is now and forever will be a forgotten icon of Daniel Hardcastle, sentenced to a sad afterlife of being mistaken for the symbol of the Northeastern University of Boston, Massachusetts.  \n",
      "\n",
      "# 8 , project:  Northeastern University emblem , users:  1764 , updates:  13090 , users/update:  0.13475935828877006         , \n",
      "description:  Red and Black - One Pack \n",
      "\n",
      "# 9 , project:  Dwarf Fortress Vs Indonesia , users:  3120 , updates:  23009 , users/update:  0.13559911339041245         , \n",
      "description:  After receiving continual aggression from Indonesia as they attempted take space from PlaceMurdered (the Dwarven Fortress). /r/dwarffortress mounted a successful counter offensive that ended with the destruction and attempted relocation of the Indonesian flag. This battle is known as the battle for (108, 641) \n",
      "\n",
      "# 10 , project:  Minnesota Wild , users:  2891 , updates:  21059 , users/update:  0.137280972505817         , \n",
      "description:  Logo of the National Hockey League (NHL) team Minnesota Wild \n",
      "\n"
     ]
    }
   ],
   "source": [
    "for i in range(1,11):\n",
    "    proj = sorted_ratios[-i][0]\n",
    "    name = names[int(proj)]\n",
    "    desc = descriptions[int(proj)]\n",
    "    r = sorted_ratios[-i][1]\n",
    "    usr = users_per_project[proj]\n",
    "    up = updates_per_project[proj]\n",
    "    \n",
    "    print(\"#\", i, \", project: \", name, \", users: \", usr, \", updates: \", up, \", users/update: \", r, \"\\\n",
    "        , \\ndescription: \", desc, \"\\n\")"
   ]
  },
  {
   "cell_type": "code",
   "execution_count": 364,
   "metadata": {},
   "outputs": [],
   "source": [
    "#Updates vs. time\n",
    "\n",
    "X = np.zeros(len(updates_per_project))\n",
    "Y = np.zeros(len(updates_per_project))\n",
    "ratios = {}\n",
    "IDs = []\n",
    "\n",
    "i = 0\n",
    "for p in updates_per_project.keys():\n",
    "    up = updates_per_project[p]\n",
    "    t = times_per_project[p] / (1000 * 60 * 60)\n",
    "    \n",
    "    X[i] = up\n",
    "    Y[i] = t\n",
    "    \n",
    "    ratios[p] = t / up\n",
    "    \n",
    "    IDs.append(names[int(p)])\n",
    "    \n",
    "    i = i + 1\n",
    "    \n",
    "IDs = np.array(list(IDs), dtype=object)"
   ]
  },
  {
   "cell_type": "code",
   "execution_count": 365,
   "metadata": {},
   "outputs": [
    {
     "data": {
      "text/plain": [
       "5"
      ]
     },
     "execution_count": 365,
     "metadata": {},
     "output_type": "execute_result"
    }
   ],
   "source": [
    "%matplotlib tk\n",
    "\n",
    "cmap = plt.cm.RdYlGn\n",
    "norm = plt.Normalize(1,4)\n",
    "\n",
    "fig, ax = plt.subplots()\n",
    "sc = ax.scatter(X, Y, color=\"green\", marker='x', s=5)\n",
    "ax.scatter(X, Y, color=\"green\", marker='x', s=5)\n",
    "ax.scatter(X, Y, color=\"green\", marker='x', s=5)\n",
    "ax.set_ylabel('time (hours)', fontsize=30)\n",
    "ax.tick_params(labelsize=23)\n",
    "ax.set_xlabel('#updates', fontsize=30)\n",
    "ax.set_xscale('log')\n",
    "ax.set_xlim(1,None)\n",
    "ax.set_ylim(0,100)\n",
    "    \n",
    "annot = ax.annotate(\"\", xy=(0,0), xytext=(5,5),textcoords=\"offset points\", size=14)\n",
    "annot.set_visible(False)   \n",
    "\n",
    "def update_annot(ind):\n",
    "    pos = sc.get_offsets()[ind[\"ind\"][0]]\n",
    "    annot.xy = pos\n",
    "    text = \"{}\".format(\"\".join(IDs[ind[\"ind\"]]))\n",
    "    annot.set_text(text)\n",
    "    \n",
    "def hover(event):\n",
    "    vis = annot.get_visible()\n",
    "    if event.inaxes == ax:\n",
    "        cont, ind = sc.contains(event)\n",
    "        if cont:\n",
    "            update_annot(ind)\n",
    "            annot.set_visible(True)\n",
    "            fig.canvas.draw_idle()\n",
    "        else:\n",
    "            if vis:\n",
    "                annot.set_visible(False)\n",
    "                fig.canvas.draw_idle()\n",
    "    \n",
    "fig.canvas.mpl_connect(\"motion_notify_event\", hover)"
   ]
  },
  {
   "cell_type": "code",
   "execution_count": 176,
   "metadata": {},
   "outputs": [
    {
     "data": {
      "image/png": "[encoded data removed]",
      "text/plain": [
       "<Figure size 432x288 with 1 Axes>"
      ]
     },
     "metadata": {
      "needs_background": "light"
     },
     "output_type": "display_data"
    }
   ],
   "source": [
    "def plot_updates_vs_times(X, Y, output_file_name):\n",
    "    plt.clf()\n",
    "\n",
    "    ax = plt.subplot(111)\n",
    "    ax.scatter(X, Y, color=\"green\", marker='x', s=5)\n",
    "    ax.set_ylabel('time (hours)', fontsize=30)\n",
    "    ax.tick_params(labelsize=23)\n",
    "    ax.set_xlabel('#updates', fontsize=30)\n",
    "    ax.set_xscale('log')\n",
    "    ax.set_xlim(1,None)\n",
    "    ax.set_ylim(0,100)\n",
    "    plt.savefig(output_file_name, dpi=300, bbox_inches='tight')\n",
    "\n",
    "plot_updates_vs_times(X, Y, \"../plots/plot_updates_vs_times.svg\")"
   ]
  },
  {
   "cell_type": "code",
   "execution_count": 130,
   "metadata": {},
   "outputs": [
    {
     "data": {
      "text/plain": [
       "array([[1.        , 0.13952994],\n",
       "       [0.13952994, 1.        ]])"
      ]
     },
     "execution_count": 130,
     "metadata": {},
     "output_type": "execute_result"
    }
   ],
   "source": [
    "#Correlation\n",
    "\n",
    "np.corrcoef(X, Y)"
   ]
  },
  {
   "cell_type": "code",
   "execution_count": 185,
   "metadata": {},
   "outputs": [],
   "source": [
    "sorted_ratios = sorted(ratios.items(), key=operator.itemgetter(1), reverse=True)"
   ]
  },
  {
   "cell_type": "code",
   "execution_count": 186,
   "metadata": {},
   "outputs": [
    {
     "name": "stdout",
     "output_type": "stream",
     "text": [
      "# 0 , project:  Italy heart , time:  54.689166666666665 , updates:  75 , times/update:  0.7291888888888889         , \n",
      "description:  A random heart or a symbol of cooperation between Scott Pilgrim and Italy? \n",
      "\n",
      "# 1 , project:  Red P , time:  58.28722222222222 , updates:  86 , times/update:  0.6777583979328164         , \n",
      "description:  Seeing the whole work was an amazing piece of modern art, I really wanted to be a part of it. I decided to find a small unused spot and put my initial there. The void and erase factions were savage and had wiped two previous efforts and a larger piece of art I was helping maintain, so I found a spot and used a script running on 2 PC's to maintain my small part of the artwork until place ended, which happened while I was sleeping. \n",
      "\n",
      "# 2 , project:  Smiley Face , time:  41.72138888888889 , updates:  66 , times/update:  0.6321422558922559         , \n",
      "description:  A universal symbol of happiness rendered on a small scale for bite sized fun. \n",
      "\n",
      "# 3 , project:  Amaura , time:  44.79972222222222 , updates:  93 , times/update:  0.48171744324970134         , \n",
      "description:  The head of the Generation 6 Fossil Pokémon Amaura. The body was covered up by surrounding art. \n",
      "\n",
      "# 4 , project:  Tiny Fox , time:  52.34583333333333 , updates:  127 , times/update:  0.4121719160104987         , \n",
      "description:  A one-man effort to make art on /r/place, this very small fox stayed intact and hidden in the corner of the canvas for the last 24 hours of the event. \n",
      "\n",
      "# 5 , project:  Green Carrot , time:  50.256388888888885 , updates:  127 , times/update:  0.39571959755030617         , \n",
      "description:  One of the few surviving carrots from /r/farmcarrots. Its colors have been swapped making it a green carrot with orange leaves. You can find what it originally looked like here:<br>http://imgur.com/xUWgFoJ \n",
      "\n",
      "# 6 , project:  Bread , time:  65.08055555555555 , updates:  167 , times/update:  0.38970392548236854         , \n",
      "description:  A loaf of Bread constructed by a few users of Anarchist subreddits to represent the ideas of Pyotr Kropotkin, Russian anarchist and author of the influential anarchist book, 'The Conquest of Bread'. Since this was a relatively late addition to the place, and is not a particularly obviously Leftist symbol, the Bread saw little vandalism and required no bots to maintain. \n",
      "\n",
      "# 7 , project:  Yellow Duck , time:  53.27194444444444 , updates:  150 , times/update:  0.3551462962962963         , \n",
      "description:  Possibly a pixel art rendition of an American Pekin Duckling. \n",
      "\n",
      "# 8 , project:  CLC , time:  61.76027777777778 , updates:  178 , times/update:  0.3469678526841448         , \n",
      "description:  CrystaL Clear is a South Korean girl idol group that debuted in 2015 with Cube Entertainment. Fans are known as Cheshires.  \n",
      "\n",
      "# 9 , project:  Bwoah , time:  67.34611111111111 , updates:  204 , times/update:  0.3301279956427015         , \n",
      "description:  F1 driver Kimi Raikkonen's favorite word, and a well known meme within the F1 community \n",
      "\n"
     ]
    }
   ],
   "source": [
    "#Time/update\n",
    "\n",
    "for i in range(10):\n",
    "    proj = sorted_ratios[i][0]\n",
    "    name = names[int(proj)]\n",
    "    desc = descriptions[int(proj)]\n",
    "    r = sorted_ratios[i][1]\n",
    "    tm = times_per_project[proj] / (1000 * 60 * 60)\n",
    "    up = updates_per_project[proj]\n",
    "    \n",
    "    print(\"#\", i, \", project: \", name, \", time: \", tm, \", updates: \", up, \", times/update: \", r, \"\\\n",
    "        , \\ndescription: \", desc, \"\\n\")    "
   ]
  },
  {
   "cell_type": "code",
   "execution_count": 187,
   "metadata": {},
   "outputs": [
    {
     "name": "stdout",
     "output_type": "stream",
     "text": [
      "# 1 , project:  Climber's Head (TowerClimb) , time:  0.0 , updates:  3 , times/update:  0.0         , \n",
      "description:  These inconspicuous 4 pixels are actually the head of the protagonist from the roguelike platformer game \"TowerClimb\". \n",
      "\n",
      "# 2 , project:  osu! Logo , time:  33.25222222222222 , updates:  540508 , times/update:  6.152031463405208e-05         , \n",
      "description:  The logo for the rhythm game osu. This was one of the more ambitious projects of /r/place and was intended to be more detailed. Unfortunately, a LoL player by the name of loltyler1, told his fans to attack the logo by filling it with the void, resulting in its current vandalized state. \n",
      "\n",
      "# 3 , project:  The purple corner , time:  0.5097222222222222 , updates:  7701 , times/update:  6.618909521130012e-05         , \n",
      "description:  Originally a \"colony\" of the blue corner, a loss of interest among blue corner pixel-placers lead to the upper-left corner of the canvas being taken over by the faction that would eventually become /r/purplepixels. However, like all of the colour factions that dominated the early Place, the purple corner was eventually crowded out by pixel art. \n",
      "\n",
      "# 4 , project:  Rainbow Road , time:  71.82555555555555 , updates:  1078220 , times/update:  6.661493531520057e-05         , \n",
      "description:  One of the first projects on r/place, and also one of the largest. It integrates itself with many other artworks. \n",
      "\n",
      "# 5 , project:  Flag of the United States of America , time:  42.69583333333333 , updates:  587958 , times/update:  7.261714839041791e-05         , \n",
      "description:   \n",
      "\n",
      "# 6 , project:  USA / Canvas Center , time:  50.765277777777776 , updates:  684179 , times/update:  7.419882483645037e-05         , \n",
      "description:  The center of the canvas was a controversial and disputed part of r/place. It began to be filled with numerous randomly placed pixels. As organized groups began creating masterpieces, the center began a white void, part of r/erase. As the original (dark) Void began to eat the center of the canvas, the USA Flag began to take shape covering a branch from the void. The flag took over the white void and a few projects including a smiley and a tree. Then the void reappeared in place and with other people erased most of the flag as RainbowRoad expanded where the flag was. Ireland saw an opportunity  and decided to expand as well. A net of yellow lines appeared and took over the void and r/AmericanFlaginPlace with help of r/TheDonald and other redditors, helped fight for their territory and reconstruct the USA Flag. \"E Pluribus Unum\" on the side \n",
      "\n",
      "# 7 , project:  Flag of the USA , time:  50.765277777777776 , updates:  612816 , times/update:  8.283934782671761e-05         , \n",
      "description:   \n",
      "\n",
      "# 8 , project:  PINLAND , time:  0.30694444444444446 , updates:  2872 , times/update:  0.0001068748065614361         , \n",
      "description:  It was very common for users to change these few pixels so the F turned into a P \n",
      "\n",
      "# 9 , project:  D.Va Bunny , time:  5.251666666666667 , updates:  47951 , times/update:  0.00010952152544611514         , \n",
      "description:  In the process of making the osu! logo, several artworks were drawn over, including the D.Va bunny. As a compromise, osu! decided to incorporate the D.Va bunny into their logo. \n",
      "\n",
      "# 10 , project:  Entire Dutch Area , time:  71.01333333333334 , updates:  438387 , times/update:  0.00016198777183934135         , \n",
      "description:  Complete area built by Dutch subreddits \n",
      "\n"
     ]
    }
   ],
   "source": [
    "for i in range(1,11):\n",
    "    proj = sorted_ratios[-i][0]\n",
    "    name = names[int(proj)]\n",
    "    desc = descriptions[int(proj)]\n",
    "    r = sorted_ratios[-i][1]\n",
    "    tm = times_per_project[proj] / (1000 * 60 * 60)\n",
    "    up = updates_per_project[proj]\n",
    "    \n",
    "    print(\"#\", i, \", project: \", name, \", time: \", tm, \", updates: \", up, \", times/update: \", r, \"\\\n",
    "        , \\ndescription: \", desc, \"\\n\")    "
   ]
  },
  {
   "cell_type": "code",
   "execution_count": 366,
   "metadata": {},
   "outputs": [],
   "source": [
    "#Pixels vs. entropy per project\n",
    "\n",
    "X = np.zeros(len(updates_per_project))\n",
    "Y = np.zeros(len(updates_per_project))\n",
    "ratios = {}\n",
    "IDs = []\n",
    "\n",
    "i = 0\n",
    "for p in updates_per_project.keys():\n",
    "    ent = entropy_per_project[p]\n",
    "    pix = pixels_per_project[p]\n",
    "    \n",
    "    Y[i] = ent\n",
    "    X[i] = pix\n",
    "    \n",
    "    ratios[p] = ent / pix\n",
    "    IDs.append(names[int(p)])\n",
    "    \n",
    "    i = i + 1\n",
    "    \n",
    "IDs = np.array(list(IDs), dtype=object)"
   ]
  },
  {
   "cell_type": "code",
   "execution_count": 367,
   "metadata": {},
   "outputs": [
    {
     "data": {
      "text/plain": [
       "5"
      ]
     },
     "execution_count": 367,
     "metadata": {},
     "output_type": "execute_result"
    }
   ],
   "source": [
    "%matplotlib tk\n",
    "\n",
    "cmap = plt.cm.RdYlGn\n",
    "norm = plt.Normalize(1,4)\n",
    "\n",
    "fig, ax = plt.subplots()\n",
    "sc = ax.scatter(X, Y, color=\"green\", marker='x', s=5)\n",
    "ax.scatter(X, Y, color=\"green\", marker='x', s=5)\n",
    "ax.set_ylabel('entropy', fontsize=30)\n",
    "ax.tick_params(labelsize=23)\n",
    "ax.set_xlabel('#pixels', fontsize=30)\n",
    "ax.set_yticks(np.arange(0.69,math.exp(1)+.1, .69))\n",
    "ax.set_xscale('log')\n",
    "ax.set_xlim(1,1000000)\n",
    "    \n",
    "annot = ax.annotate(\"\", xy=(0,0), xytext=(5,5),textcoords=\"offset points\", size=14)\n",
    "annot.set_visible(False)   \n",
    "\n",
    "def update_annot(ind):\n",
    "    pos = sc.get_offsets()[ind[\"ind\"][0]]\n",
    "    annot.xy = pos\n",
    "    text = \"{}\".format(\"\".join(IDs[ind[\"ind\"]]))\n",
    "    annot.set_text(text)\n",
    "    \n",
    "def hover(event):\n",
    "    vis = annot.get_visible()\n",
    "    if event.inaxes == ax:\n",
    "        cont, ind = sc.contains(event)\n",
    "        if cont:\n",
    "            update_annot(ind)\n",
    "            annot.set_visible(True)\n",
    "            fig.canvas.draw_idle()\n",
    "        else:\n",
    "            if vis:\n",
    "                annot.set_visible(False)\n",
    "                fig.canvas.draw_idle()\n",
    "    \n",
    "fig.canvas.mpl_connect(\"motion_notify_event\", hover)"
   ]
  },
  {
   "cell_type": "code",
   "execution_count": 189,
   "metadata": {},
   "outputs": [
    {
     "data": {
      "image/png": "[encoded data removed]",
      "text/plain": [
       "<Figure size 432x288 with 1 Axes>"
      ]
     },
     "metadata": {
      "needs_background": "light"
     },
     "output_type": "display_data"
    }
   ],
   "source": [
    "def plot_pixels_vs_entropy(X, Y, output_file_name):\n",
    "    plt.clf()\n",
    "\n",
    "    ax = plt.subplot(111)\n",
    "    ax.scatter(X, Y, color=\"green\", marker='x', s=5)\n",
    "    ax.set_ylabel('entropy', fontsize=30)\n",
    "    ax.tick_params(labelsize=23)\n",
    "    ax.set_xlabel('#pixels', fontsize=30)\n",
    "    ax.set_yticks(np.arange(0.69,math.exp(1)+.1, .69))\n",
    "    ax.set_xscale('log')\n",
    "    ax.set_xlim(1,1000000)\n",
    "    plt.savefig(output_file_name, dpi=300, bbox_inches='tight')\n",
    "\n",
    "plot_pixels_vs_entropy(X, Y, \"../plots/plot_pixels_vs_entropy.svg\")"
   ]
  },
  {
   "cell_type": "code",
   "execution_count": 139,
   "metadata": {},
   "outputs": [
    {
     "data": {
      "text/plain": [
       "array([[1.        , 0.07472808],\n",
       "       [0.07472808, 1.        ]])"
      ]
     },
     "execution_count": 139,
     "metadata": {},
     "output_type": "execute_result"
    }
   ],
   "source": [
    "#Correlation\n",
    "\n",
    "np.corrcoef(X, Y)"
   ]
  },
  {
   "cell_type": "code",
   "execution_count": 140,
   "metadata": {},
   "outputs": [],
   "source": [
    "sorted_ratios = sorted(ratios.items(), key=operator.itemgetter(1), reverse=True)"
   ]
  },
  {
   "cell_type": "code",
   "execution_count": 141,
   "metadata": {},
   "outputs": [
    {
     "name": "stdout",
     "output_type": "stream",
     "text": [
      "# 0 , project:  Climber's Head (TowerClimb) , entropy:  1.0986122886681096 , pixels:  1 , entropy/pixel:  1.0986122886681096         , \n",
      "description:  These inconspicuous 4 pixels are actually the head of the protagonist from the roguelike platformer game \"TowerClimb\". \n",
      "\n",
      "# 1 , project:  PINLAND , entropy:  0.6928361704898555 , pixels:  2 , entropy/pixel:  0.34641808524492773         , \n",
      "description:  It was very common for users to change these few pixels so the F turned into a P \n",
      "\n",
      "# 2 , project:  Eightfold , entropy:  1.7075036453641854 , pixels:  5 , entropy/pixel:  0.3415007290728371         , \n",
      "description:  What remains of Eightfold, a paper spider character from a webcomic called Paranatural. \n",
      "\n",
      "# 3 , project:  The purple corner , entropy:  1.302178642906814 , pixels:  4 , entropy/pixel:  0.3255446607267035         , \n",
      "description:  Originally a \"colony\" of the blue corner, a loss of interest among blue corner pixel-placers lead to the upper-left corner of the canvas being taken over by the faction that would eventually become /r/purplepixels. However, like all of the colour factions that dominated the early Place, the purple corner was eventually crowded out by pixel art. \n",
      "\n",
      "# 4 , project:  Make Trade Fair , entropy:  2.23330011555482 , pixels:  10 , entropy/pixel:  0.22333001155548202         , \n",
      "description:  An organization supported by frontman Chris Martin of Coldplay drawn by the nearby Coldplay redditors. \n",
      "\n",
      "# 5 , project:  Remains of r/ockytop , entropy:  2.0004720210020785 , pixels:  9 , entropy/pixel:  0.22227466900023096         , \n",
      "description:  After the r/ockytop and El Bandito alliance was botted over, this is what the Tennessee Volunteers fan were able to claim with the time left. \n",
      "\n",
      "# 6 , project:  Stealth Pepe , entropy:  1.730507493951123 , pixels:  8 , entropy/pixel:  0.21631343674389036         , \n",
      "description:  Pepe the frog was placed and overwritten with prejudice many times, but this one survived by being tiny, the rarest of them all \n",
      "\n",
      "# 7 , project:  The Lovers' Heart , entropy:  2.083208419528378 , pixels:  10 , entropy/pixel:  0.20832084195283782         , \n",
      "description:  Made by two lovers, this heart was originally placed left of the USA flag, after some deliberation with the American community, it was moved here. Consisting of the lovers' two favourite colours, it represents their strong bond. \n",
      "\n",
      "# 8 , project:  A grey line by loomynartylenny , entropy:  1.7629908150784088 , pixels:  10 , entropy/pixel:  0.17629908150784088         , \n",
      "description:  Reddit user loomynartylenny was attempting to write 'Braveryjerk' on the SpaceX rocket (due to r/Braveryjerk having an Elon Musk theme at the time, which has been backed up on r/elonjerk). They got bored, so they didn't even finish the B. However, this line was still here. Bravery intensifies. \n",
      "\n",
      "# 9 , project:  Tiny danish flag , entropy:  1.5603830291635967 , pixels:  9 , entropy/pixel:  0.17337589212928853         , \n",
      "description:  denmark is a samll nation in the nothern part of europe \n",
      "\n"
     ]
    }
   ],
   "source": [
    "#Entropy/pixel\n",
    "   \n",
    "for i in range(10):\n",
    "    proj = sorted_ratios[i][0]\n",
    "    name = names[int(proj)]\n",
    "    desc = descriptions[int(proj)]\n",
    "    r = sorted_ratios[i][1]\n",
    "    ent = entropy_per_project[proj]\n",
    "    pix = pixels_per_project[proj]\n",
    "    \n",
    "    print(\"#\", i, \", project: \", name, \", entropy: \", ent, \", pixels: \", pix, \", entropy/pixel: \", r, \"\\\n",
    "        , \\ndescription: \", desc, \"\\n\")    "
   ]
  },
  {
   "cell_type": "code",
   "execution_count": 142,
   "metadata": {},
   "outputs": [
    {
     "name": "stdout",
     "output_type": "stream",
     "text": [
      "# 1 , project:  Rainbow Road , entropy:  2.5201075806834554 , pixels:  87255 , entropy/pixel:  2.888209937176615e-05         , \n",
      "description:  One of the first projects on r/place, and also one of the largest. It integrates itself with many other artworks. \n",
      "\n",
      "# 2 , project:  Darth Plagueis The Wise , entropy:  1.2235034441598396 , pixels:  21406 , entropy/pixel:  5.7157032802010635e-05         , \n",
      "description:  One of the first additions to the map, this text of a meme from the prequel Star Wars movies started out as an uncoordinated attempt to write something everyone knew, and was refined to the masterpiece you see today. \n",
      "\n",
      "# 3 , project:  Did you ever hear the Tragedy of Darth Plagueis the Wise? , entropy:  1.238122435906646 , pixels:  21401 , entropy/pixel:  5.7853485159882534e-05         , \n",
      "description:  It's a Sith legend. Darth Plagueis was a Dark Lord of the Sith so powerful and so wise, he could use the Force to influence the midi-chlorians to create...life. He had such a knowledge of the Dark Side, he could even keep the ones he cared about...from dying. He became so powerful, the only thing he was afraid of was losing his power...which, eventually of course, he did. Unfortunately, he taught his apprentice everything he knew. Then his apprentice killed him in his sleep. Ironic. He could save others from death...but not himself.\n",
      " \n",
      "\n",
      "# 4 , project:  The untold history , entropy:  1.3441048998717267 , pixels:  22926 , entropy/pixel:  5.8627972601924745e-05         , \n",
      "description:  The tale of Darth Plagueis the wise \n",
      "\n",
      "# 5 , project:  Entire Dutch Area , entropy:  2.2625207668214995 , pixels:  32920 , entropy/pixel:  6.872784832386086e-05         , \n",
      "description:  Complete area built by Dutch subreddits \n",
      "\n",
      "# 6 , project:  Flag of Sweden , entropy:  1.941622358069075 , pixels:  18075 , entropy/pixel:  0.00010742032409787413         , \n",
      "description:   \n",
      "\n",
      "# 7 , project:  Hearts , entropy:  2.2385399705223628 , pixels:  18669 , entropy/pixel:  0.00011990679578565337         , \n",
      "description:  What started with a few red hearts quickly became over one hundred hearts bearing the colors of flags and other things. \n",
      "\n",
      "# 8 , project:  French flag , entropy:  1.9671090653257879 , pixels:  14281 , entropy/pixel:  0.00013774308979243666         , \n",
      "description:   \n",
      "\n",
      "# 9 , project:  Mona Lisa , entropy:  2.0846681989872113 , pixels:  15072 , entropy/pixel:  0.0001383139728627396         , \n",
      "description:  In order to prove the point that reddit users are a cultured bunch, a group of them set out to recreate Leonardo da Vinci's Mona Lisa. \n",
      "\n",
      "# 10 , project:  Rainbow Road Core , entropy:  2.6200140250781163 , pixels:  17707 , entropy/pixel:  0.0001479648740655174         , \n",
      "description:  One of the earliest major faction on Place. They spread from here originally. After a while they began allowing others to build art in their space, making peace treaties and agreements with other factions \n",
      "\n"
     ]
    }
   ],
   "source": [
    "for i in range(1,11):\n",
    "    proj = sorted_ratios[-i][0]\n",
    "    name = names[int(proj)]\n",
    "    desc = descriptions[int(proj)]\n",
    "    r = sorted_ratios[-i][1]\n",
    "    ent = entropy_per_project[proj]\n",
    "    pix = pixels_per_project[proj]\n",
    "    \n",
    "    print(\"#\", i, \", project: \", name, \", entropy: \", ent, \", pixels: \", pix, \", entropy/pixel: \", r, \"\\\n",
    "        , \\ndescription: \", desc, \"\\n\")    "
   ]
  },
  {
   "cell_type": "code",
   "execution_count": 368,
   "metadata": {},
   "outputs": [],
   "source": [
    "#Pixels vs. users per project\n",
    "\n",
    "X = np.zeros(len(updates_per_project))\n",
    "Y = np.zeros(len(updates_per_project))\n",
    "ratios = {}\n",
    "IDs = []\n",
    "\n",
    "i = 0\n",
    "for p in updates_per_project.keys():\n",
    "    usr = users_per_project[p]\n",
    "    pix = pixels_per_project[p]\n",
    "    \n",
    "    Y[i] = usr\n",
    "    X[i] = pix\n",
    "    \n",
    "    ratios[p] = usr / pix\n",
    "    \n",
    "    IDs.append(names[int(p)])\n",
    "    \n",
    "    i = i + 1\n",
    "    \n",
    "IDs = np.array(list(IDs), dtype=object)"
   ]
  },
  {
   "cell_type": "code",
   "execution_count": 369,
   "metadata": {},
   "outputs": [
    {
     "data": {
      "text/plain": [
       "5"
      ]
     },
     "execution_count": 369,
     "metadata": {},
     "output_type": "execute_result"
    }
   ],
   "source": [
    "%matplotlib tk\n",
    "\n",
    "cmap = plt.cm.RdYlGn\n",
    "norm = plt.Normalize(1,4)\n",
    "\n",
    "fig, ax = plt.subplots()\n",
    "sc = ax.scatter(X, Y, color=\"green\", marker='x', s=5)\n",
    "ax.scatter(X, Y, color=\"green\", marker='x', s=5)\n",
    "ax.set_ylabel('#users', fontsize=30)\n",
    "ax.tick_params(labelsize=23)\n",
    "ax.set_xlabel('#pixels', fontsize=30)\n",
    "ax.set_xscale('log')\n",
    "ax.set_yscale('log')\n",
    "ax.set_ylim(1,1000000)\n",
    "ax.set_xlim(1,1000000)\n",
    "    \n",
    "annot = ax.annotate(\"\", xy=(0,0), xytext=(5,5),textcoords=\"offset points\", size=14)\n",
    "annot.set_visible(False)   \n",
    "\n",
    "def update_annot(ind):\n",
    "    pos = sc.get_offsets()[ind[\"ind\"][0]]\n",
    "    annot.xy = pos\n",
    "    text = \"{}\".format(\"\".join(IDs[ind[\"ind\"]]))\n",
    "    annot.set_text(text)\n",
    "    \n",
    "def hover(event):\n",
    "    vis = annot.get_visible()\n",
    "    if event.inaxes == ax:\n",
    "        cont, ind = sc.contains(event)\n",
    "        if cont:\n",
    "            update_annot(ind)\n",
    "            annot.set_visible(True)\n",
    "            fig.canvas.draw_idle()\n",
    "        else:\n",
    "            if vis:\n",
    "                annot.set_visible(False)\n",
    "                fig.canvas.draw_idle()\n",
    "    \n",
    "fig.canvas.mpl_connect(\"motion_notify_event\", hover)"
   ]
  },
  {
   "cell_type": "code",
   "execution_count": 192,
   "metadata": {},
   "outputs": [
    {
     "data": {
      "image/png": "[encoded data removed]",
      "text/plain": [
       "<Figure size 432x288 with 1 Axes>"
      ]
     },
     "metadata": {
      "needs_background": "light"
     },
     "output_type": "display_data"
    }
   ],
   "source": [
    "def plot_pixels_vs_users(X, Y, output_file_name):\n",
    "    plt.clf()\n",
    "\n",
    "    ax = plt.subplot(111)\n",
    "    ax.scatter(X, Y, color=\"green\", marker='x', s=5)\n",
    "    ax.set_ylabel('#users', fontsize=30)\n",
    "    ax.tick_params(labelsize=23)\n",
    "    ax.set_xlabel('#pixels', fontsize=30)\n",
    "    ax.set_xscale('log')\n",
    "    ax.set_yscale('log')\n",
    "    ax.set_ylim(1,1000000)\n",
    "    ax.set_xlim(1,1000000)\n",
    "    plt.savefig(output_file_name, dpi=300, bbox_inches='tight')\n",
    "\n",
    "plot_pixels_vs_users(X, Y, \"../plots/plot_pixels_vs_users.svg\")"
   ]
  },
  {
   "cell_type": "code",
   "execution_count": 145,
   "metadata": {},
   "outputs": [
    {
     "data": {
      "text/plain": [
       "array([[1.        , 0.84457543],\n",
       "       [0.84457543, 1.        ]])"
      ]
     },
     "execution_count": 145,
     "metadata": {},
     "output_type": "execute_result"
    }
   ],
   "source": [
    "#Correlation\n",
    "\n",
    "np.corrcoef(X, Y)"
   ]
  },
  {
   "cell_type": "code",
   "execution_count": 146,
   "metadata": {},
   "outputs": [],
   "source": [
    "sorted_ratios = sorted(ratios.items(), key=operator.itemgetter(1), reverse=True)"
   ]
  },
  {
   "cell_type": "code",
   "execution_count": 147,
   "metadata": {},
   "outputs": [
    {
     "name": "stdout",
     "output_type": "stream",
     "text": [
      "# 0 , project:  The purple corner , users:  4849 , pixels:  4 , users/pixel:  1212.25         , \n",
      "description:  Originally a \"colony\" of the blue corner, a loss of interest among blue corner pixel-placers lead to the upper-left corner of the canvas being taken over by the faction that would eventually become /r/purplepixels. However, like all of the colour factions that dominated the early Place, the purple corner was eventually crowded out by pixel art. \n",
      "\n",
      "# 1 , project:  PINLAND , users:  1589 , pixels:  2 , users/pixel:  794.5         , \n",
      "description:  It was very common for users to change these few pixels so the F turned into a P \n",
      "\n",
      "# 2 , project:  Trans Heart , users:  7072 , pixels:  51 , users/pixel:  138.66666666666666         , \n",
      "description:  The first heart created by /r/TransFlagPlace, marking the centerpoint of the flag. \n",
      "\n",
      "# 3 , project:  (covered) 7-1 , users:  6895 , pixels:  72 , users/pixel:  95.76388888888889         , \n",
      "description:  The corner of the Brazil Flag that was vandalized over in over again in an attempt to shame Brazil for their 7-1 defeat against Germany in the 2014 world cup. Now all that remains is a single pixel of where the 7 starts \n",
      "\n",
      "# 4 , project:  Kirby , users:  16713 , pixels:  224 , users/pixel:  74.61160714285714         , \n",
      "description:  The remnants of a sprite of the video game character, Kirby, on top of the Osu! logo. \n",
      "\n",
      "# 5 , project:  Reisen Udongein Inaba , users:  9888 , pixels:  151 , users/pixel:  65.48344370860927         , \n",
      "description:  A character of the Touhou Project universe, a series of Japanese bullet hell shooter video games. <br>A moon rabbit that ended up in the OSU! warzone. \n",
      "\n",
      "# 6 , project:  The Original Heart , users:  5344 , pixels:  104 , users/pixel:  51.38461538461539         , \n",
      "description:  The one that started /r/placehearts \n",
      "\n",
      "# 7 , project:  Former Red Corner , users:  6885 , pixels:  135 , users/pixel:  51.0         , \n",
      "description:   \n",
      "\n",
      "# 8 , project:  D.Va Bunny , users:  22847 , pixels:  448 , users/pixel:  50.997767857142854         , \n",
      "description:  In the process of making the osu! logo, several artworks were drawn over, including the D.Va bunny. As a compromise, osu! decided to incorporate the D.Va bunny into their logo. \n",
      "\n",
      "# 9 , project:  Mega Man's briefs , users:  839 , pixels:  19 , users/pixel:  44.1578947368421         , \n",
      "description:  Since the existing Mega Man creation had been integrated  into the southern French flag  the folks of /r/france asked to make his briefs correspond to the French tricolor. The Mega Man folks accepted it. \n",
      "\n"
     ]
    }
   ],
   "source": [
    "#Users/pixel\n",
    "\n",
    "for i in range(10):\n",
    "    proj = sorted_ratios[i][0]\n",
    "    name = names[int(proj)]\n",
    "    desc = descriptions[int(proj)]\n",
    "    r = sorted_ratios[i][1]\n",
    "    usr = users_per_project[proj]\n",
    "    pix = pixels_per_project[proj]\n",
    "    \n",
    "    print(\"#\", i, \", project: \", name, \", users: \", usr, \", pixels: \", pix, \", users/pixel: \", r, \"\\\n",
    "        , \\ndescription: \", desc, \"\\n\")    "
   ]
  },
  {
   "cell_type": "code",
   "execution_count": 148,
   "metadata": {},
   "outputs": [
    {
     "name": "stdout",
     "output_type": "stream",
     "text": [
      "# 1 , project:  Bread , users:  43 , pixels:  65 , users/pixel:  0.6615384615384615         , \n",
      "description:  A loaf of Bread constructed by a few users of Anarchist subreddits to represent the ideas of Pyotr Kropotkin, Russian anarchist and author of the influential anarchist book, 'The Conquest of Bread'. Since this was a relatively late addition to the place, and is not a particularly obviously Leftist symbol, the Bread saw little vandalism and required no bots to maintain. \n",
      "\n",
      "# 2 , project:  Bread , users:  51 , pixels:  77 , users/pixel:  0.6623376623376623         , \n",
      "description:  It's bread. \n",
      "\n",
      "# 3 , project:  Seplunky , users:  236 , pixels:  336 , users/pixel:  0.7023809523809523         , \n",
      "description:  Player character from the platform indie game Spelunky. \n",
      "\n",
      "# 4 , project:  Toucan , users:  273 , pixels:  326 , users/pixel:  0.8374233128834356         , \n",
      "description:  le toucan has arrived sheepoToucan \n",
      "\n",
      "# 5 , project:  Foliat , users:  180 , pixels:  206 , users/pixel:  0.8737864077669902         , \n",
      "description:  The grass starter from the Pokemon fangame, Pokemon Sage. \n",
      "\n",
      "# 6 , project:  Buizel , users:  209 , pixels:  218 , users/pixel:  0.9587155963302753         , \n",
      "description:  Introduced in the 4th Generation of Pokemon games, Buizel, the Sea Weasel Pokémon stores air in the sacs on its neck and uses them as flotation devices, and swims by spinning its two tails like a propeller.  \n",
      "\n",
      "# 7 , project:  World Of Tanks , users:  85 , pixels:  88 , users/pixel:  0.9659090909090909         , \n",
      "description:  Belorussian MMO Arcade Tank Simulator \n",
      "\n",
      "# 8 , project:  r/Parabola , users:  203 , pixels:  202 , users/pixel:  1.004950495049505         , \n",
      "description:  Parabola GNU/Linux-libre is one of the Linux operating systems computers.<br> \n",
      "\n",
      "# 9 , project:  Buizel (Pokemon) , users:  190 , pixels:  187 , users/pixel:  1.0160427807486632         , \n",
      "description:  Introduced in the 4th Generation of Pokemon games, Buizel, the Sea Weasel Pokémon stores air in the sacs on its neck and uses them as flotation devices, and swims by spinning its two tails like a propeller.  \n",
      "\n",
      "# 10 , project:  wot logo , users:  107 , pixels:  105 , users/pixel:  1.019047619047619         , \n",
      "description:   \n",
      "\n"
     ]
    }
   ],
   "source": [
    "for i in range(1,11):\n",
    "    proj = sorted_ratios[-i][0]\n",
    "    name = names[int(proj)]\n",
    "    desc = descriptions[int(proj)]\n",
    "    r = sorted_ratios[-i][1]\n",
    "    usr = users_per_project[proj]\n",
    "    pix = pixels_per_project[proj]\n",
    "    \n",
    "    print(\"#\", i, \", project: \", name, \", users: \", usr, \", pixels: \", pix, \", users/pixel: \", r, \"\\\n",
    "        , \\ndescription: \", desc, \"\\n\")    "
   ]
  },
  {
   "cell_type": "code",
   "execution_count": 371,
   "metadata": {},
   "outputs": [],
   "source": [
    "#Pixels vs. time per project\n",
    "\n",
    "X = np.zeros(len(updates_per_project))\n",
    "Y = np.zeros(len(updates_per_project))\n",
    "ratios = {}\n",
    "IDs = []\n",
    "\n",
    "i = 0\n",
    "for p in updates_per_project.keys():\n",
    "    t = times_per_project[p] / (1000 * 60 * 60)\n",
    "    pix = pixels_per_project[p]\n",
    "    \n",
    "    Y[i] = t \n",
    "    X[i] = pix\n",
    "    \n",
    "    ratios[p] = t / pix\n",
    "    \n",
    "    IDs.append(names[int(p)])\n",
    "    \n",
    "    i = i + 1\n",
    "    \n",
    "IDs = np.array(list(IDs), dtype=object)"
   ]
  },
  {
   "cell_type": "code",
   "execution_count": 372,
   "metadata": {},
   "outputs": [
    {
     "data": {
      "text/plain": [
       "5"
      ]
     },
     "execution_count": 372,
     "metadata": {},
     "output_type": "execute_result"
    }
   ],
   "source": [
    "%matplotlib tk\n",
    "\n",
    "cmap = plt.cm.RdYlGn\n",
    "norm = plt.Normalize(1,4)\n",
    "\n",
    "fig, ax = plt.subplots()\n",
    "sc = ax.scatter(X, Y, color=\"green\", marker='x', s=5)\n",
    "ax.scatter(X, Y, color=\"green\", marker='x', s=5)\n",
    "ax.set_ylabel('time (hours)', fontsize=30)\n",
    "ax.tick_params(labelsize=23)\n",
    "ax.set_xlabel('#pixels', fontsize=30)\n",
    "ax.set_xscale('log')\n",
    "ax.set_ylim(0,100)\n",
    "ax.set_xlim(1,1000000)\n",
    "    \n",
    "annot = ax.annotate(\"\", xy=(0,0), xytext=(5,5),textcoords=\"offset points\", size=14)\n",
    "annot.set_visible(False)   \n",
    "\n",
    "def update_annot(ind):\n",
    "    pos = sc.get_offsets()[ind[\"ind\"][0]]\n",
    "    annot.xy = pos\n",
    "    text = \"{}\".format(\"\".join(IDs[ind[\"ind\"]]))\n",
    "    annot.set_text(text)\n",
    "    \n",
    "def hover(event):\n",
    "    vis = annot.get_visible()\n",
    "    if event.inaxes == ax:\n",
    "        cont, ind = sc.contains(event)\n",
    "        if cont:\n",
    "            update_annot(ind)\n",
    "            annot.set_visible(True)\n",
    "            fig.canvas.draw_idle()\n",
    "        else:\n",
    "            if vis:\n",
    "                annot.set_visible(False)\n",
    "                fig.canvas.draw_idle()\n",
    "    \n",
    "fig.canvas.mpl_connect(\"motion_notify_event\", hover)"
   ]
  },
  {
   "cell_type": "code",
   "execution_count": 278,
   "metadata": {},
   "outputs": [
    {
     "data": {
      "image/png": "[encoded data removed]",
      "text/plain": [
       "<Figure size 432x288 with 1 Axes>"
      ]
     },
     "metadata": {
      "needs_background": "light"
     },
     "output_type": "display_data"
    }
   ],
   "source": [
    "def plot_pixels_vs_times(X, Y, output_file_name):\n",
    "    plt.clf()\n",
    "\n",
    "    ax = plt.subplot(111)\n",
    "    ax.scatter(X, Y, color=\"green\", marker='x', s=5)\n",
    "    ax.set_ylabel('time (hours)', fontsize=30)\n",
    "    ax.tick_params(labelsize=23)\n",
    "    ax.set_xlabel('#pixels', fontsize=30)\n",
    "    ax.set_xscale('log')\n",
    "    ax.set_ylim(0,100)\n",
    "    ax.set_xlim(1,1000000)\n",
    "    plt.savefig(output_file_name, dpi=300, bbox_inches='tight')\n",
    "\n",
    "plot_pixels_vs_times(X, Y, \"../plots/plot_pixels_vs_times.svg\")"
   ]
  },
  {
   "cell_type": "code",
   "execution_count": 151,
   "metadata": {},
   "outputs": [
    {
     "data": {
      "text/plain": [
       "array([[1.        , 0.18451768],\n",
       "       [0.18451768, 1.        ]])"
      ]
     },
     "execution_count": 151,
     "metadata": {},
     "output_type": "execute_result"
    }
   ],
   "source": [
    "#Correlation\n",
    "\n",
    "np.corrcoef(X, Y)"
   ]
  },
  {
   "cell_type": "code",
   "execution_count": 152,
   "metadata": {},
   "outputs": [],
   "source": [
    "sorted_ratios = sorted(ratios.items(), key=operator.itemgetter(1), reverse=True)"
   ]
  },
  {
   "cell_type": "code",
   "execution_count": 154,
   "metadata": {},
   "outputs": [
    {
     "name": "stdout",
     "output_type": "stream",
     "text": [
      "# 0 , project:  The Tree , time:  34.255 , pixels:  12 , time/pixel:  10276500.0         , \n",
      "description:  On a canvas dominated by fierce territorialism and grandiose schemes, The Tree cast aside these common ideologies to become something simple, something pure.\n",
      "The Tree represents a common principle to its followers, the idea of not getting wholly caught up in the rush, the flow of the crowd, the ability to stand on one's own feet, the ability to look back and say to oneself, \"I will not be blinded by faith.\"\n",
      "The Tree represents this just by being what it is, a small part of a much, much larger crowd. In that regard, The Tree also represents us all. We are The Tree, and The Tree is all of us. So while the tree may have been destroyed, it is still alive in all of us. \n",
      "\n",
      "# 1 , project:  Danish Heart , time:  63.8975 , pixels:  23 , time/pixel:  10001347.826086957         , \n",
      "description:  The flag of Denmark, or Dannebrog, in the shape of a heart, was almost overtaken by the /r/sweden \n",
      "\n",
      "# 2 , project:  A grey line by loomynartylenny , time:  26.090833333333332 , pixels:  10 , time/pixel:  9392700.0         , \n",
      "description:  Reddit user loomynartylenny was attempting to write 'Braveryjerk' on the SpaceX rocket (due to r/Braveryjerk having an Elon Musk theme at the time, which has been backed up on r/elonjerk). They got bored, so they didn't even finish the B. However, this line was still here. Bravery intensifies. \n",
      "\n",
      "# 3 , project:  Argentina Heart , time:  65.43416666666667 , pixels:  26 , time/pixel:  9060115.384615384         , \n",
      "description:  A heart with the flag of Argentina. \n",
      "\n",
      "# 4 , project:  Red P , time:  58.28722222222222 , pixels:  24 , time/pixel:  8743083.333333334         , \n",
      "description:  Seeing the whole work was an amazing piece of modern art, I really wanted to be a part of it. I decided to find a small unused spot and put my initial there. The void and erase factions were savage and had wiped two previous efforts and a larger piece of art I was helping maintain, so I found a spot and used a script running on 2 PC's to maintain my small part of the artwork until place ended, which happened while I was sleeping. \n",
      "\n",
      "# 5 , project:  Italy heart , time:  54.689166666666665 , pixels:  23 , time/pixel:  8560043.47826087         , \n",
      "description:  A random heart or a symbol of cooperation between Scott Pilgrim and Italy? \n",
      "\n",
      "# 6 , project:  Remnants of the /r/PictureGame Kiwi , time:  56.522777777777776 , pixels:  24 , time/pixel:  8478416.666666666         , \n",
      "description:  The original /r/PictureGame Kiwi was located here. Its remnants such as the beak /r/PICT and the PictureFrame(the snoo) are still visible. \n",
      "\n",
      "# 7 , project:  Egypt Heart , time:  57.15472222222222 , pixels:  25 , time/pixel:  8230280.0         , \n",
      "description:  Heart based on the flag of the Arab Republic of Egypt \n",
      "\n",
      "# 8 , project:  Reddit upvote arrow , time:  66.72 , pixels:  30 , time/pixel:  8006400.0         , \n",
      "description:  The one and only. \n",
      "\n",
      "# 9 , project:  Smiley Face , time:  41.72138888888889 , pixels:  20 , time/pixel:  7509850.0         , \n",
      "description:  A universal symbol of happiness rendered on a small scale for bite sized fun. \n",
      "\n"
     ]
    }
   ],
   "source": [
    "#Time/Pixel\n",
    "\n",
    "for i in range(10):\n",
    "    proj = sorted_ratios[i][0]\n",
    "    name = names[int(proj)]\n",
    "    desc = descriptions[int(proj)]\n",
    "    r = sorted_ratios[i][1]\n",
    "    tm = times_per_project[proj] / (1000 * 60 * 60)\n",
    "    pix = pixels_per_project[proj]\n",
    "    \n",
    "    print(\"#\", i, \", project: \", name, \", time: \", tm, \", pixels: \", pix, \", time/pixel: \", r, \"\\\n",
    "        , \\ndescription: \", desc, \"\\n\")    "
   ]
  },
  {
   "cell_type": "code",
   "execution_count": 285,
   "metadata": {},
   "outputs": [
    {
     "name": "stdout",
     "output_type": "stream",
     "text": [
      "# 1 , project:  Climber's Head (TowerClimb) , time:  0.0 , pixels:  1 , time/pixel:  0.0         , \n",
      "description:  These inconspicuous 4 pixels are actually the head of the protagonist from the roguelike platformer game \"TowerClimb\". \n",
      "\n",
      "# 2 , project:  osu! Logo , time:  33.25222222222222 , pixels:  6204 , time/pixel:  6.152031463405208e-05         , \n",
      "description:  The logo for the rhythm game osu. This was one of the more ambitious projects of /r/place and was intended to be more detailed. Unfortunately, a LoL player by the name of loltyler1, told his fans to attack the logo by filling it with the void, resulting in its current vandalized state. \n",
      "\n",
      "# 3 , project:  The purple corner , time:  0.5097222222222222 , pixels:  4 , time/pixel:  6.618909521130012e-05         , \n",
      "description:  Originally a \"colony\" of the blue corner, a loss of interest among blue corner pixel-placers lead to the upper-left corner of the canvas being taken over by the faction that would eventually become /r/purplepixels. However, like all of the colour factions that dominated the early Place, the purple corner was eventually crowded out by pixel art. \n",
      "\n",
      "# 4 , project:  Rainbow Road , time:  71.82555555555555 , pixels:  87255 , time/pixel:  6.661493531520057e-05         , \n",
      "description:  One of the first projects on r/place, and also one of the largest. It integrates itself with many other artworks. \n",
      "\n",
      "# 5 , project:  Flag of the United States of America , time:  42.69583333333333 , pixels:  10362 , time/pixel:  7.261714839041791e-05         , \n",
      "description:   \n",
      "\n",
      "# 6 , project:  USA / Canvas Center , time:  50.765277777777776 , pixels:  12116 , time/pixel:  7.419882483645037e-05         , \n",
      "description:  The center of the canvas was a controversial and disputed part of r/place. It began to be filled with numerous randomly placed pixels. As organized groups began creating masterpieces, the center began a white void, part of r/erase. As the original (dark) Void began to eat the center of the canvas, the USA Flag began to take shape covering a branch from the void. The flag took over the white void and a few projects including a smiley and a tree. Then the void reappeared in place and with other people erased most of the flag as RainbowRoad expanded where the flag was. Ireland saw an opportunity  and decided to expand as well. A net of yellow lines appeared and took over the void and r/AmericanFlaginPlace with help of r/TheDonald and other redditors, helped fight for their territory and reconstruct the USA Flag. \"E Pluribus Unum\" on the side \n",
      "\n",
      "# 7 , project:  Flag of the USA , time:  50.765277777777776 , pixels:  10951 , time/pixel:  8.283934782671761e-05         , \n",
      "description:   \n",
      "\n",
      "# 8 , project:  PINLAND , time:  0.30694444444444446 , pixels:  2 , time/pixel:  0.0001068748065614361         , \n",
      "description:  It was very common for users to change these few pixels so the F turned into a P \n",
      "\n",
      "# 9 , project:  D.Va Bunny , time:  5.251666666666667 , pixels:  448 , time/pixel:  0.00010952152544611514         , \n",
      "description:  In the process of making the osu! logo, several artworks were drawn over, including the D.Va bunny. As a compromise, osu! decided to incorporate the D.Va bunny into their logo. \n",
      "\n",
      "# 10 , project:  Entire Dutch Area , time:  71.01333333333334 , pixels:  32920 , time/pixel:  0.00016198777183934135         , \n",
      "description:  Complete area built by Dutch subreddits \n",
      "\n"
     ]
    }
   ],
   "source": [
    "for i in range(1,11):\n",
    "    proj = sorted_ratios[-i][0]\n",
    "    name = names[int(proj)]\n",
    "    desc = descriptions[int(proj)]\n",
    "    r = sorted_ratios[-i][1]\n",
    "    tm = times_per_project[proj] / (1000 * 60 * 60)\n",
    "    pix = pixels_per_project[proj]\n",
    "    \n",
    "    print(\"#\", i, \", project: \", name, \", time: \", tm, \", pixels: \", pix, \", time/pixel: \", r, \"\\\n",
    "        , \\ndescription: \", desc, \"\\n\")    "
   ]
  },
  {
   "cell_type": "code",
   "execution_count": 373,
   "metadata": {},
   "outputs": [],
   "source": [
    "#Users vs. entropy per project\n",
    "\n",
    "X = np.zeros(len(updates_per_project))\n",
    "Y = np.zeros(len(updates_per_project))\n",
    "ratios = {}\n",
    "IDs = []\n",
    "\n",
    "i = 0\n",
    "for p in updates_per_project.keys():\n",
    "    usr = users_per_project[p]\n",
    "    ent = entropy_per_project[p]\n",
    "    \n",
    "    Y[i] = ent\n",
    "    X[i] = usr\n",
    "    \n",
    "    ratios[p] = ent / usr\n",
    "    \n",
    "    IDs.append(names[int(p)])\n",
    "    \n",
    "    i = i + 1\n",
    "    \n",
    "IDs = np.array(list(IDs), dtype=object)"
   ]
  },
  {
   "cell_type": "code",
   "execution_count": 374,
   "metadata": {},
   "outputs": [
    {
     "data": {
      "text/plain": [
       "5"
      ]
     },
     "execution_count": 374,
     "metadata": {},
     "output_type": "execute_result"
    }
   ],
   "source": [
    "%matplotlib tk\n",
    "\n",
    "cmap = plt.cm.RdYlGn\n",
    "norm = plt.Normalize(1,4)\n",
    "\n",
    "fig, ax = plt.subplots()\n",
    "sc = ax.scatter(X, Y, color=\"green\", marker='x', s=5)\n",
    "ax.scatter(X, Y, color=\"green\", marker='x', s=5)\n",
    "ax.set_ylabel('entropy', fontsize=30)\n",
    "ax.tick_params(labelsize=23)\n",
    "ax.set_xlabel('#users', fontsize=30)\n",
    "ax.set_xscale('log')\n",
    "ax.set_yticks(np.arange(0.69, math.exp(1)+.1, .69))\n",
    "ax.set_xlim(1,1000000)\n",
    "    \n",
    "annot = ax.annotate(\"\", xy=(0,0), xytext=(5,5),textcoords=\"offset points\", size=14)\n",
    "annot.set_visible(False)   \n",
    "\n",
    "def update_annot(ind):\n",
    "    pos = sc.get_offsets()[ind[\"ind\"][0]]\n",
    "    annot.xy = pos\n",
    "    text = \"{}\".format(\"\".join(IDs[ind[\"ind\"]]))\n",
    "    annot.set_text(text)\n",
    "    \n",
    "def hover(event):\n",
    "    vis = annot.get_visible()\n",
    "    if event.inaxes == ax:\n",
    "        cont, ind = sc.contains(event)\n",
    "        if cont:\n",
    "            update_annot(ind)\n",
    "            annot.set_visible(True)\n",
    "            fig.canvas.draw_idle()\n",
    "        else:\n",
    "            if vis:\n",
    "                annot.set_visible(False)\n",
    "                fig.canvas.draw_idle()\n",
    "    \n",
    "fig.canvas.mpl_connect(\"motion_notify_event\", hover)"
   ]
  },
  {
   "cell_type": "code",
   "execution_count": 299,
   "metadata": {},
   "outputs": [
    {
     "data": {
      "image/png": "[encoded data removed]",
      "text/plain": [
       "<Figure size 432x288 with 1 Axes>"
      ]
     },
     "metadata": {
      "needs_background": "light"
     },
     "output_type": "display_data"
    }
   ],
   "source": [
    "def plot_users_vs_entropy(X, Y, output_file_name):\n",
    "    plt.clf()\n",
    "\n",
    "    ax = plt.subplot(111)\n",
    "    ax.scatter(X, Y, color=\"green\", marker='x', s=5)\n",
    "    ax.set_ylabel('entropy', fontsize=30)\n",
    "    ax.tick_params(labelsize=23)\n",
    "    ax.set_xlabel('#users', fontsize=30)\n",
    "    ax.set_xscale('log')\n",
    "    ax.set_yticks(np.arange(0.69, math.exp(1)+.1, .69))\n",
    "    ax.set_xlim(1,1000000)\n",
    "    plt.savefig(output_file_name, dpi=300, bbox_inches='tight')\n",
    "\n",
    "plot_users_vs_entropy(X, Y, \"../plots/plot_users_vs_entropy.svg\")"
   ]
  },
  {
   "cell_type": "code",
   "execution_count": 430,
   "metadata": {},
   "outputs": [
    {
     "data": {
      "text/plain": [
       "array([[ 1.        , -0.01457834],\n",
       "       [-0.01457834,  1.        ]])"
      ]
     },
     "execution_count": 430,
     "metadata": {},
     "output_type": "execute_result"
    }
   ],
   "source": [
    "#Correlation\n",
    "\n",
    "np.corrcoef(X, Y)"
   ]
  },
  {
   "cell_type": "code",
   "execution_count": 291,
   "metadata": {},
   "outputs": [],
   "source": [
    "sorted_ratios = sorted(ratios.items(), key=operator.itemgetter(1), reverse=True)"
   ]
  },
  {
   "cell_type": "code",
   "execution_count": 292,
   "metadata": {},
   "outputs": [
    {
     "name": "stdout",
     "output_type": "stream",
     "text": [
      "# 0 , project:  Climber's Head (TowerClimb) , entropy:  1.0986122886681096 , users:  3 , entropy/user:  0.36620409622270317         , \n",
      "description:  These inconspicuous 4 pixels are actually the head of the protagonist from the roguelike platformer game \"TowerClimb\". \n",
      "\n",
      "# 1 , project:  Smiley Face , entropy:  2.1679025503594818 , users:  26 , entropy/user:  0.08338086732151853         , \n",
      "description:  A universal symbol of happiness rendered on a small scale for bite sized fun. \n",
      "\n",
      "# 2 , project:  The R , entropy:  1.8216729838184715 , users:  25 , entropy/user:  0.07286691935273887         , \n",
      "description:  The R of the sub r/The_R \n",
      "\n",
      "# 3 , project:  Italy heart , entropy:  2.0908155810619586 , users:  32 , entropy/user:  0.06533798690818621         , \n",
      "description:  A random heart or a symbol of cooperation between Scott Pilgrim and Italy? \n",
      "\n",
      "# 4 , project:  Make Trade Fair , entropy:  2.23330011555482 , users:  35 , entropy/user:  0.06380857473013772         , \n",
      "description:  An organization supported by frontman Chris Martin of Coldplay drawn by the nearby Coldplay redditors. \n",
      "\n",
      "# 5 , project:  Green Carrot , entropy:  1.9304562912741823 , users:  41 , entropy/user:  0.047084299787175175         , \n",
      "description:  One of the few surviving carrots from /r/farmcarrots. Its colors have been swapped making it a green carrot with orange leaves. You can find what it originally looked like here:<br>http://imgur.com/xUWgFoJ \n",
      "\n",
      "# 6 , project:  Amaura , entropy:  2.0696308128546264 , users:  45 , entropy/user:  0.04599179584121392         , \n",
      "description:  The head of the Generation 6 Fossil Pokémon Amaura. The body was covered up by surrounding art. \n",
      "\n",
      "# 7 , project:  Eightfold , entropy:  1.7075036453641854 , users:  38 , entropy/user:  0.04493430645695225         , \n",
      "description:  What remains of Eightfold, a paper spider character from a webcomic called Paranatural. \n",
      "\n",
      "# 8 , project:  Bread , entropy:  1.9152215967871429 , users:  43 , entropy/user:  0.044540037134584716         , \n",
      "description:  A loaf of Bread constructed by a few users of Anarchist subreddits to represent the ideas of Pyotr Kropotkin, Russian anarchist and author of the influential anarchist book, 'The Conquest of Bread'. Since this was a relatively late addition to the place, and is not a particularly obviously Leftist symbol, the Bread saw little vandalism and required no bots to maintain. \n",
      "\n",
      "# 9 , project:  Polyamory Flag , entropy:  1.8322107988038823 , users:  44 , entropy/user:  0.04164115451827005         , \n",
      "description:  Polyamory is loving kind of relationship between more than two people \n",
      "\n"
     ]
    }
   ],
   "source": [
    "#Entropy/User\n",
    "\n",
    "for i in range(10):\n",
    "    proj = sorted_ratios[i][0]\n",
    "    name = names[int(proj)]\n",
    "    desc = descriptions[int(proj)]\n",
    "    r = sorted_ratios[i][1]\n",
    "    ent = entropy_per_project[proj] \n",
    "    usr = users_per_project[proj]\n",
    "    \n",
    "    print(\"#\", i, \", project: \", name, \", entropy: \", ent, \", users: \", usr, \", entropy/user: \", r, \"\\\n",
    "        , \\ndescription: \", desc, \"\\n\")    "
   ]
  },
  {
   "cell_type": "code",
   "execution_count": 293,
   "metadata": {},
   "outputs": [
    {
     "name": "stdout",
     "output_type": "stream",
     "text": [
      "# 1 , project:  Rainbow Road , entropy:  2.5201075806834554 , users:  266766 , entropy/user:  9.446884463100453e-06         , \n",
      "description:  One of the first projects on r/place, and also one of the largest. It integrates itself with many other artworks. \n",
      "\n",
      "# 2 , project:  USA / Canvas Center , entropy:  1.9258022777284207 , users:  158121 , entropy/user:  1.2179294829456054e-05         , \n",
      "description:  The center of the canvas was a controversial and disputed part of r/place. It began to be filled with numerous randomly placed pixels. As organized groups began creating masterpieces, the center began a white void, part of r/erase. As the original (dark) Void began to eat the center of the canvas, the USA Flag began to take shape covering a branch from the void. The flag took over the white void and a few projects including a smiley and a tree. Then the void reappeared in place and with other people erased most of the flag as RainbowRoad expanded where the flag was. Ireland saw an opportunity  and decided to expand as well. A net of yellow lines appeared and took over the void and r/AmericanFlaginPlace with help of r/TheDonald and other redditors, helped fight for their territory and reconstruct the USA Flag. \"E Pluribus Unum\" on the side \n",
      "\n",
      "# 3 , project:  Flag of the United States of America , entropy:  1.8637929076111952 , users:  150274 , entropy/user:  1.2402630578883874e-05         , \n",
      "description:   \n",
      "\n",
      "# 4 , project:  Flag of the USA , entropy:  1.8934406184632742 , users:  151978 , entropy/user:  1.2458649399671494e-05         , \n",
      "description:   \n",
      "\n",
      "# 5 , project:  Darth Plagueis The Wise , entropy:  1.2235034441598396 , users:  88851 , entropy/user:  1.3770283330067636e-05         , \n",
      "description:  One of the first additions to the map, this text of a meme from the prequel Star Wars movies started out as an uncoordinated attempt to write something everyone knew, and was refined to the masterpiece you see today. \n",
      "\n",
      "# 6 , project:  Did you ever hear the Tragedy of Darth Plagueis the Wise? , entropy:  1.238122435906646 , users:  89266 , entropy/user:  1.38700337856143e-05         , \n",
      "description:  It's a Sith legend. Darth Plagueis was a Dark Lord of the Sith so powerful and so wise, he could use the Force to influence the midi-chlorians to create...life. He had such a knowledge of the Dark Side, he could even keep the ones he cared about...from dying. He became so powerful, the only thing he was afraid of was losing his power...which, eventually of course, he did. Unfortunately, he taught his apprentice everything he knew. Then his apprentice killed him in his sleep. Ironic. He could save others from death...but not himself.\n",
      " \n",
      "\n",
      "# 7 , project:  The untold history , entropy:  1.3441048998717267 , users:  93146 , entropy/user:  1.4430087173595502e-05         , \n",
      "description:  The tale of Darth Plagueis the wise \n",
      "\n",
      "# 8 , project:  osu! Logo , entropy:  1.7155538740639518 , users:  107561 , entropy/user:  1.5949590223816733e-05         , \n",
      "description:  The logo for the rhythm game osu. This was one of the more ambitious projects of /r/place and was intended to be more detailed. Unfortunately, a LoL player by the name of loltyler1, told his fans to attack the logo by filling it with the void, resulting in its current vandalized state. \n",
      "\n",
      "# 9 , project:  The Blue Empire , entropy:  1.7716695512363754 , users:  106865 , entropy/user:  1.65785762526213e-05         , \n",
      "description:  A simple project started to make the bottom right corner completely blue, quickly grew to be the largest piece of art in r/place history. Within 12 hours it had covered more than half of the bottom canvas, completely in blue, with thousand of dedicated supporters. The blue corner was pushed back gradually as more organised projects superseded the early pattern-based structures. The current blue corner is a mere reminder of what the empire was in it's former glory. \n",
      "\n",
      "# 10 , project:  The Blue Corner , entropy:  1.7670523616531872 , users:  105913 , entropy/user:  1.6683998769302986e-05         , \n",
      "description:  The Blue Corner was one of the earliest projects on /r/place.<br>It quickly grew to cover a significant part of the map, but later was pushed back to its current size. \n",
      "\n"
     ]
    }
   ],
   "source": [
    "for i in range(1,11):\n",
    "    proj = sorted_ratios[-i][0]\n",
    "    name = names[int(proj)]\n",
    "    desc = descriptions[int(proj)]\n",
    "    r = sorted_ratios[-i][1]\n",
    "    ent = entropy_per_project[proj] \n",
    "    usr = users_per_project[proj]\n",
    "    \n",
    "    print(\"#\", i, \", project: \", name, \", entropy: \", ent, \", users: \", usr, \", entropy/user: \", r, \"\\\n",
    "        , \\ndescription: \", desc, \"\\n\")    "
   ]
  },
  {
   "cell_type": "code",
   "execution_count": 375,
   "metadata": {},
   "outputs": [],
   "source": [
    "#Users vs. time per project\n",
    "\n",
    "X = np.zeros(len(updates_per_project))\n",
    "Y = np.zeros(len(updates_per_project))\n",
    "ratios = {}\n",
    "IDs = []\n",
    "\n",
    "i = 0\n",
    "for p in updates_per_project.keys():\n",
    "    usr = users_per_project[p]\n",
    "    t = times_per_project[p] / (1000 * 60 * 60)\n",
    "    \n",
    "    Y[i] = t\n",
    "    X[i] = usr\n",
    "    \n",
    "    ratios[p] = t / usr\n",
    "    \n",
    "    IDs.append(names[int(p)])\n",
    "    \n",
    "    i = i + 1\n",
    "    \n",
    "IDs = np.array(list(IDs), dtype=object)"
   ]
  },
  {
   "cell_type": "code",
   "execution_count": 376,
   "metadata": {},
   "outputs": [
    {
     "data": {
      "text/plain": [
       "5"
      ]
     },
     "execution_count": 376,
     "metadata": {},
     "output_type": "execute_result"
    }
   ],
   "source": [
    "%matplotlib tk\n",
    "\n",
    "cmap = plt.cm.RdYlGn\n",
    "norm = plt.Normalize(1,4)\n",
    "\n",
    "fig, ax = plt.subplots()\n",
    "sc = ax.scatter(X, Y, color=\"green\", marker='x', s=5)\n",
    "ax.scatter(X, Y, color=\"green\", marker='x', s=5)\n",
    "ax.set_ylabel('times (hours)', fontsize=30)\n",
    "ax.tick_params(labelsize=23)\n",
    "ax.set_xlabel('#users', fontsize=30)\n",
    "ax.set_xscale('log')\n",
    "ax.set_ylim(0,100)\n",
    "ax.set_xlim(1,1000000)\n",
    "    \n",
    "annot = ax.annotate(\"\", xy=(0,0), xytext=(5,5),textcoords=\"offset points\", size=14)\n",
    "annot.set_visible(False)   \n",
    "\n",
    "def update_annot(ind):\n",
    "    pos = sc.get_offsets()[ind[\"ind\"][0]]\n",
    "    annot.xy = pos\n",
    "    text = \"{}\".format(\"\".join(IDs[ind[\"ind\"]]))\n",
    "    annot.set_text(text)\n",
    "    \n",
    "def hover(event):\n",
    "    vis = annot.get_visible()\n",
    "    if event.inaxes == ax:\n",
    "        cont, ind = sc.contains(event)\n",
    "        if cont:\n",
    "            update_annot(ind)\n",
    "            annot.set_visible(True)\n",
    "            fig.canvas.draw_idle()\n",
    "        else:\n",
    "            if vis:\n",
    "                annot.set_visible(False)\n",
    "                fig.canvas.draw_idle()\n",
    "    \n",
    "fig.canvas.mpl_connect(\"motion_notify_event\", hover)"
   ]
  },
  {
   "cell_type": "code",
   "execution_count": 301,
   "metadata": {},
   "outputs": [
    {
     "data": {
      "image/png": "[encoded data removed]",
      "text/plain": [
       "<Figure size 432x288 with 1 Axes>"
      ]
     },
     "metadata": {
      "needs_background": "light"
     },
     "output_type": "display_data"
    }
   ],
   "source": [
    "def plot_users_vs_times(X, Y, output_file_name):\n",
    "    plt.clf()\n",
    "\n",
    "    ax = plt.subplot(111)\n",
    "    ax.scatter(X, Y, color=\"green\", marker='x', s=5)\n",
    "    ax.set_ylabel('times (hours)', fontsize=30)\n",
    "    ax.tick_params(labelsize=23)\n",
    "    ax.set_xlabel('#users', fontsize=30)\n",
    "    ax.set_xscale('log')\n",
    "    ax.set_ylim(0,100)\n",
    "    ax.set_xlim(1,1000000)\n",
    "    plt.savefig(output_file_name, dpi=300, bbox_inches='tight')\n",
    "\n",
    "plot_users_vs_times(X, Y, \"../plots/plot_users_vs_times.svg\")"
   ]
  },
  {
   "cell_type": "code",
   "execution_count": 437,
   "metadata": {},
   "outputs": [
    {
     "data": {
      "text/plain": [
       "array([[1.        , 0.14488014],\n",
       "       [0.14488014, 1.        ]])"
      ]
     },
     "execution_count": 437,
     "metadata": {},
     "output_type": "execute_result"
    }
   ],
   "source": [
    "#Correlation\n",
    "\n",
    "np.corrcoef(X, Y)"
   ]
  },
  {
   "cell_type": "code",
   "execution_count": 304,
   "metadata": {},
   "outputs": [],
   "source": [
    "sorted_ratios = sorted(ratios.items(), key=operator.itemgetter(1), reverse=True)"
   ]
  },
  {
   "cell_type": "code",
   "execution_count": 305,
   "metadata": {},
   "outputs": [
    {
     "name": "stdout",
     "output_type": "stream",
     "text": [
      "# 0 , project:  Italy heart , time:  54.689166666666665 , users:  32 , time/user:  1.7090364583333333         , \n",
      "description:  A random heart or a symbol of cooperation between Scott Pilgrim and Italy? \n",
      "\n",
      "# 1 , project:  Smiley Face , time:  41.72138888888889 , users:  26 , time/user:  1.6046688034188035         , \n",
      "description:  A universal symbol of happiness rendered on a small scale for bite sized fun. \n",
      "\n",
      "# 2 , project:  Bread , time:  65.08055555555555 , users:  43 , time/user:  1.513501291989664         , \n",
      "description:  A loaf of Bread constructed by a few users of Anarchist subreddits to represent the ideas of Pyotr Kropotkin, Russian anarchist and author of the influential anarchist book, 'The Conquest of Bread'. Since this was a relatively late addition to the place, and is not a particularly obviously Leftist symbol, the Bread saw little vandalism and required no bots to maintain. \n",
      "\n",
      "# 3 , project:  Bread , time:  65.08055555555555 , users:  51 , time/user:  1.2760893246187361         , \n",
      "description:  It's bread. \n",
      "\n",
      "# 4 , project:  Green Carrot , time:  50.256388888888885 , users:  41 , time/user:  1.2257655826558265         , \n",
      "description:  One of the few surviving carrots from /r/farmcarrots. Its colors have been swapped making it a green carrot with orange leaves. You can find what it originally looked like here:<br>http://imgur.com/xUWgFoJ \n",
      "\n",
      "# 5 , project:  The R , time:  26.462222222222223 , users:  25 , time/user:  1.058488888888889         , \n",
      "description:  The R of the sub r/The_R \n",
      "\n",
      "# 6 , project:  Amaura , time:  44.79972222222222 , users:  45 , time/user:  0.9955493827160494         , \n",
      "description:  The head of the Generation 6 Fossil Pokémon Amaura. The body was covered up by surrounding art. \n",
      "\n",
      "# 7 , project:  Red P , time:  58.28722222222222 , users:  60 , time/user:  0.9714537037037037         , \n",
      "description:  Seeing the whole work was an amazing piece of modern art, I really wanted to be a part of it. I decided to find a small unused spot and put my initial there. The void and erase factions were savage and had wiped two previous efforts and a larger piece of art I was helping maintain, so I found a spot and used a script running on 2 PC's to maintain my small part of the artwork until place ended, which happened while I was sleeping. \n",
      "\n",
      "# 8 , project:  Cosmog , time:  65.35333333333334 , users:  68 , time/user:  0.9610784313725491         , \n",
      "description:  Cosmog is a character introduced in the Generation VII Pokemon games, Sun and Moon \n",
      "\n",
      "# 9 , project:  Welsh Heart , time:  68.5813888888889 , users:  72 , time/user:  0.9525192901234569         , \n",
      "description:  A rudimentary representation of the Welsh flag in heart-form \n",
      "\n"
     ]
    }
   ],
   "source": [
    "#Time/User\n",
    "\n",
    "for i in range(10):\n",
    "    proj = sorted_ratios[i][0]\n",
    "    name = names[int(proj)]\n",
    "    desc = descriptions[int(proj)]\n",
    "    r = sorted_ratios[i][1]\n",
    "    tm = times_per_project[proj] / (1000 * 60 * 60)\n",
    "    usr = users_per_project[proj]\n",
    "    \n",
    "    print(\"#\", i, \", project: \", name, \", time: \", tm, \", users: \", usr, \", time/user: \", r, \"\\\n",
    "        , \\ndescription: \", desc, \"\\n\")    "
   ]
  },
  {
   "cell_type": "code",
   "execution_count": 306,
   "metadata": {},
   "outputs": [
    {
     "name": "stdout",
     "output_type": "stream",
     "text": [
      "# 1 , project:  Climber's Head (TowerClimb) , time:  0.0 , users:  3 , time/user:  0.0         , \n",
      "description:  These inconspicuous 4 pixels are actually the head of the protagonist from the roguelike platformer game \"TowerClimb\". \n",
      "\n",
      "# 2 , project:  The purple corner , time:  0.5097222222222222 , users:  4849 , time/user:  0.00010511903943539331         , \n",
      "description:  Originally a \"colony\" of the blue corner, a loss of interest among blue corner pixel-placers lead to the upper-left corner of the canvas being taken over by the faction that would eventually become /r/purplepixels. However, like all of the colour factions that dominated the early Place, the purple corner was eventually crowded out by pixel art. \n",
      "\n",
      "# 3 , project:  PINLAND , time:  0.30694444444444446 , users:  1589 , time/user:  0.00019316830990839803         , \n",
      "description:  It was very common for users to change these few pixels so the F turned into a P \n",
      "\n",
      "# 4 , project:  D.Va Bunny , time:  5.251666666666667 , users:  22847 , time/user:  0.00022986241811470508         , \n",
      "description:  In the process of making the osu! logo, several artworks were drawn over, including the D.Va bunny. As a compromise, osu! decided to incorporate the D.Va bunny into their logo. \n",
      "\n",
      "# 5 , project:  Rainbow Road , time:  71.82555555555555 , users:  266766 , time/user:  0.000269245539369918         , \n",
      "description:  One of the first projects on r/place, and also one of the largest. It integrates itself with many other artworks. \n",
      "\n",
      "# 6 , project:  Flag of the United States of America , time:  42.69583333333333 , users:  150274 , time/user:  0.0002841198965445342         , \n",
      "description:   \n",
      "\n",
      "# 7 , project:  osu! Logo , time:  33.25222222222222 , users:  107561 , time/user:  0.0003091475741413916         , \n",
      "description:  The logo for the rhythm game osu. This was one of the more ambitious projects of /r/place and was intended to be more detailed. Unfortunately, a LoL player by the name of loltyler1, told his fans to attack the logo by filling it with the void, resulting in its current vandalized state. \n",
      "\n",
      "# 8 , project:  USA / Canvas Center , time:  50.765277777777776 , users:  158121 , time/user:  0.00032105335646610996         , \n",
      "description:  The center of the canvas was a controversial and disputed part of r/place. It began to be filled with numerous randomly placed pixels. As organized groups began creating masterpieces, the center began a white void, part of r/erase. As the original (dark) Void began to eat the center of the canvas, the USA Flag began to take shape covering a branch from the void. The flag took over the white void and a few projects including a smiley and a tree. Then the void reappeared in place and with other people erased most of the flag as RainbowRoad expanded where the flag was. Ireland saw an opportunity  and decided to expand as well. A net of yellow lines appeared and took over the void and r/AmericanFlaginPlace with help of r/TheDonald and other redditors, helped fight for their territory and reconstruct the USA Flag. \"E Pluribus Unum\" on the side \n",
      "\n",
      "# 9 , project:  Flag of the USA , time:  50.765277777777776 , users:  151978 , time/user:  0.0003340304371539155         , \n",
      "description:   \n",
      "\n",
      "# 10 , project:  The Blue Empire , time:  69.67416666666666 , users:  106865 , time/user:  0.0006519830315507104         , \n",
      "description:  A simple project started to make the bottom right corner completely blue, quickly grew to be the largest piece of art in r/place history. Within 12 hours it had covered more than half of the bottom canvas, completely in blue, with thousand of dedicated supporters. The blue corner was pushed back gradually as more organised projects superseded the early pattern-based structures. The current blue corner is a mere reminder of what the empire was in it's former glory. \n",
      "\n"
     ]
    }
   ],
   "source": [
    "for i in range(1,11):\n",
    "    proj = sorted_ratios[-i][0]\n",
    "    name = names[int(proj)]\n",
    "    desc = descriptions[int(proj)]\n",
    "    r = sorted_ratios[-i][1]\n",
    "    tm = times_per_project[proj] / (1000 * 60 * 60)\n",
    "    usr = users_per_project[proj]\n",
    "    \n",
    "    print(\"#\", i, \", project: \", name, \", time: \", tm, \", users: \", usr, \", time/user: \", r, \"\\\n",
    "        , \\ndescription: \", desc, \"\\n\")    "
   ]
  },
  {
   "cell_type": "code",
   "execution_count": 379,
   "metadata": {},
   "outputs": [],
   "source": [
    "#Time vs. entropy per project\n",
    "\n",
    "X = np.zeros(len(updates_per_project))\n",
    "Y = np.zeros(len(updates_per_project))\n",
    "ratios = {}\n",
    "IDs = []\n",
    "\n",
    "i = 0\n",
    "for p in updates_per_project.keys():\n",
    "    ent = entropy_per_project[p]\n",
    "    t = times_per_project[p] / (1000 * 60 * 60)\n",
    "    \n",
    "    Y[i] = ent\n",
    "    X[i] = t\n",
    "    \n",
    "    if t > 0:\n",
    "        ratios[p] = ent / t\n",
    "    \n",
    "    IDs.append(names[int(p)])\n",
    "    \n",
    "    i = i + 1\n",
    "    \n",
    "IDs = np.array(list(IDs), dtype=object)"
   ]
  },
  {
   "cell_type": "code",
   "execution_count": 380,
   "metadata": {},
   "outputs": [
    {
     "data": {
      "text/plain": [
       "5"
      ]
     },
     "execution_count": 380,
     "metadata": {},
     "output_type": "execute_result"
    }
   ],
   "source": [
    "%matplotlib tk\n",
    "\n",
    "cmap = plt.cm.RdYlGn\n",
    "norm = plt.Normalize(1,4)\n",
    "\n",
    "fig, ax = plt.subplots()\n",
    "sc = ax.scatter(X, Y, color=\"green\", marker='x', s=5)\n",
    "ax.scatter(X, Y, color=\"green\", marker='x', s=5)\n",
    "ax.set_xlabel('times (hours)', fontsize=30)\n",
    "ax.tick_params(labelsize=23)\n",
    "ax.set_ylabel('entropy', fontsize=30)\n",
    "ax.set_yticks(np.arange(0.69,math.exp(1)+.1, .69))\n",
    "ax.set_xlim(0,100)\n",
    "    \n",
    "annot = ax.annotate(\"\", xy=(0,0), xytext=(5,5),textcoords=\"offset points\", size=14)\n",
    "annot.set_visible(False)   \n",
    "\n",
    "def update_annot(ind):\n",
    "    pos = sc.get_offsets()[ind[\"ind\"][0]]\n",
    "    annot.xy = pos\n",
    "    text = \"{}\".format(\"\".join(IDs[ind[\"ind\"]]))\n",
    "    annot.set_text(text)\n",
    "    \n",
    "def hover(event):\n",
    "    vis = annot.get_visible()\n",
    "    if event.inaxes == ax:\n",
    "        cont, ind = sc.contains(event)\n",
    "        if cont:\n",
    "            update_annot(ind)\n",
    "            annot.set_visible(True)\n",
    "            fig.canvas.draw_idle()\n",
    "        else:\n",
    "            if vis:\n",
    "                annot.set_visible(False)\n",
    "                fig.canvas.draw_idle()\n",
    "    \n",
    "fig.canvas.mpl_connect(\"motion_notify_event\", hover)"
   ]
  },
  {
   "cell_type": "code",
   "execution_count": 308,
   "metadata": {},
   "outputs": [
    {
     "data": {
      "image/png": "[encoded data removed]",
      "text/plain": [
       "<Figure size 432x288 with 1 Axes>"
      ]
     },
     "metadata": {
      "needs_background": "light"
     },
     "output_type": "display_data"
    }
   ],
   "source": [
    "def plot_entropy_vs_times(X, Y, output_file_name):\n",
    "    plt.clf()\n",
    "\n",
    "    ax = plt.subplot(111)\n",
    "    ax.scatter(X, Y, color=\"green\", marker='x', s=5)\n",
    "    ax.set_xlabel('times (hours)', fontsize=30)\n",
    "    ax.tick_params(labelsize=23)\n",
    "    ax.set_ylabel('entropy', fontsize=30)\n",
    "    ax.set_yticks(np.arange(0.69,math.exp(1)+.1, .69))\n",
    "    ax.set_xlim(0,100)\n",
    "    plt.savefig(output_file_name, dpi=300, bbox_inches='tight')\n",
    "\n",
    "plot_entropy_vs_times(X, Y, \"plot_entropy_vs_times.svg\")"
   ]
  },
  {
   "cell_type": "code",
   "execution_count": 309,
   "metadata": {},
   "outputs": [
    {
     "data": {
      "text/plain": [
       "array([[1.        , 0.02066956],\n",
       "       [0.02066956, 1.        ]])"
      ]
     },
     "execution_count": 309,
     "metadata": {},
     "output_type": "execute_result"
    }
   ],
   "source": [
    "#Correlation\n",
    "\n",
    "np.corrcoef(X, Y)"
   ]
  },
  {
   "cell_type": "code",
   "execution_count": 310,
   "metadata": {},
   "outputs": [],
   "source": [
    "sorted_ratios = sorted(ratios.items(), key=operator.itemgetter(1), reverse=True)"
   ]
  },
  {
   "cell_type": "code",
   "execution_count": 311,
   "metadata": {},
   "outputs": [
    {
     "name": "stdout",
     "output_type": "stream",
     "text": [
      "# 0 , project:  Eightfold , entropy:  1.7075036453641854 , time:  0.6638888888888889 , entropy/time:  2.5719720181217856         , \n",
      "description:  What remains of Eightfold, a paper spider character from a webcomic called Paranatural. \n",
      "\n",
      "# 1 , project:  The purple corner , entropy:  1.302178642906814 , time:  0.5097222222222222 , entropy/time:  2.554682896165957         , \n",
      "description:  Originally a \"colony\" of the blue corner, a loss of interest among blue corner pixel-placers lead to the upper-left corner of the canvas being taken over by the faction that would eventually become /r/purplepixels. However, like all of the colour factions that dominated the early Place, the purple corner was eventually crowded out by pixel art. \n",
      "\n",
      "# 2 , project:  Gold Codfish , entropy:  1.9147854753595217 , time:  0.8355555555555556 , entropy/time:  2.2916315529568743         , \n",
      "description:  The /r/portugal equivalent of reddit gold. Given to topics and posts of high quality in the subreddit (mod flair) \n",
      "\n",
      "# 3 , project:  PINLAND , entropy:  0.6928361704898555 , time:  0.30694444444444446 , entropy/time:  2.257203813360615         , \n",
      "description:  It was very common for users to change these few pixels so the F turned into a P \n",
      "\n",
      "# 4 , project:  A6M Zero , entropy:  2.0585018398090855 , time:  1.4927777777777778 , entropy/time:  1.3789740646283417         , \n",
      "description:  Sadly unfinished, it is r/warthunder's only mark on r/place \n",
      "\n",
      "# 5 , project:  Amethyst , entropy:  1.7441739406775585 , time:  1.2766666666666666 , entropy/time:  1.3661936872147977         , \n",
      "description:  Amethyst's gem from Steven Universe \n",
      "\n",
      "# 6 , project:  Lehigh University Marching 97 , entropy:  1.6534958682893786 , time:  1.4283333333333332 , entropy/time:  1.1576400478105335         , \n",
      "description:  If you are familiar with Lehigh University, then likely you are also familiar with their marching band, the Lehigh University Marching 97. It is as integral a part to the history of the university as the buildings on campus are. On April 3rd, three of the members of The Finest Band East of All Points West were particularly bored with their Systems Software class, and decided to embolden a glorious '97' next to their school's name. Calling for aid from their fellow 94 band members, we set out on a mission to grace the r/place canvas with a beautiful, brown and white '97'. Scores of musicians joined the plight of the bored CS students, and within an hour, the Marching 97 made their mark in Reddit history. To those that tried to oppose them, the Marching 97 pushed them off the face of r/place, just as they marched the puny Lafayette pep band off of their home field, all for the glory and eternal preservation of psyche. \n",
      "\n",
      "# 7 , project:  A Barn Swallow , entropy:  2.3886126471492224 , time:  2.2644444444444445 , entropy/time:  1.0548338481031894         , \n",
      "description:  The national bird of Estonia \n",
      "\n",
      "# 8 , project:  Remains of r/ockytop , entropy:  2.0004720210020785 , time:  2.132222222222222 , entropy/time:  0.9382099108399535         , \n",
      "description:  After the r/ockytop and El Bandito alliance was botted over, this is what the Tennessee Volunteers fan were able to claim with the time left. \n",
      "\n",
      "# 9 , project:  Canadian Flag , entropy:  1.6595475745872037 , time:  1.898611111111111 , entropy/time:  0.8740850429427848         , \n",
      "description:  The flag of Canada. \n",
      "\n"
     ]
    }
   ],
   "source": [
    "#Entropy/Time\n",
    "\n",
    "for i in range(10):\n",
    "    proj = sorted_ratios[i][0]\n",
    "    name = names[int(proj)]\n",
    "    desc = descriptions[int(proj)]\n",
    "    r = sorted_ratios[i][1]\n",
    "    tm = times_per_project[proj] / (1000 * 60 * 60)\n",
    "    ent = entropy_per_project[proj]\n",
    "    \n",
    "    print(\"#\", i, \", project: \", name, \", entropy: \", ent, \", time: \", tm, \", entropy/time: \", r, \"\\\n",
    "        , \\ndescription: \", desc, \"\\n\")    "
   ]
  },
  {
   "cell_type": "code",
   "execution_count": 314,
   "metadata": {},
   "outputs": [
    {
     "name": "stdout",
     "output_type": "stream",
     "text": [
      "# 1 , project:  (covered) 7-1 , entropy:  0.7545123567706904 , time:  67.4075 , entropy/time:  0.011193299807450067         , \n",
      "description:  The corner of the Brazil Flag that was vandalized over in over again in an attempt to shame Brazil for their 7-1 defeat against Germany in the 2014 world cup. Now all that remains is a single pixel of where the 7 starts \n",
      "\n",
      "# 2 , project:  Letter battle , entropy:  1.0174379097233763 , time:  71.06333333333333 , entropy/time:  0.014317340068343398         , \n",
      "description:  During the making of this, there was a lot of sabotage to the logo from peasants who can't stand the master race, and the FPS was changed a lot and started at 60FPS but exploded to a enormous number towards the end of R/place to show that PCMasterRace have no limitations.  \n",
      "\n",
      "# 3 , project:  Hanzo Switch Pls , entropy:  0.962231222075264 , time:  67.06583333333333 , entropy/time:  0.014347562301846655         , \n",
      "description:  After initially writing \"Switch\" here, the words \"Hanzo\" and \"pls\" were added before and after it respectively to say \"Hanzo Switch pls\". Hanzo is a hero from the Blizzard game Overwatch who is considered bad and often when someone picks him people ask him to switch to a different hero. \n",
      "\n",
      "# 4 , project:  Place Farts , entropy:  1.018259757368317 , time:  69.37166666666667 , entropy/time:  0.014678323389015452         , \n",
      "description:  The sign of r/placehearts was constantly under attack from a group of individuals who changed the E to an F. This made the sign read r/placehfarts.<br>It has become an inside joke to the r/placehearts community, and when r/place ended, the sign ended in a \"fart\".<br>The sign also read r/place4farts and r/spacefarts at some point. \n",
      "\n",
      "# 5 , project:  Nine Inch Nails , entropy:  1.2876396873250326 , time:  84.48694444444445 , entropy/time:  0.015240694237341462         , \n",
      "description:  The logo of the industrial rock band Nine Inch Nails, appropriately glitched out by random pixels. \n",
      "\n",
      "# 6 , project:  Iceland Banner , entropy:  1.080509250440711 , time:  70.48083333333334 , entropy/time:  0.015330540224042625         , \n",
      "description:  Originally written in Icelandic language, it was changed into 'Iceland' after hours of alternating between Ísland and Islam. \n",
      "\n",
      "# 7 , project:  Portugal Caralho , entropy:  1.0765558106170405 , time:  69.67805555555556 , entropy/time:  0.015450428431641341         , \n",
      "description:  A sentence seen throughout the internet when someone mentions Portugal. Although it has a different literal translation, it basically means \"Portugal FUCK YEAH\" \n",
      "\n",
      "# 8 , project:  Homura Did Nothing Wrong , entropy:  1.090145665234791 , time:  70.10805555555555 , entropy/time:  0.015549506495311791         , \n",
      "description:  A popular Madoka Magica meme and the start of Madoka Magica /r/place art. \n",
      "\n",
      "# 9 , project:  Finland 100 years independent , entropy:  1.010740482668805 , time:  64.49055555555556 , entropy/time:  0.015672689961526223         , \n",
      "description:  This year, Finland celebrates its 100th year of independence. \n",
      "\n",
      "# 10 , project:  Cirkeltrek , entropy:  1.0989243837722575 , time:  68.56361111111111 , entropy/time:  0.01602780784097544         , \n",
      "description:  The mark to show one of the subs that helped to create the Dutch Flag and the surroundings.<br />/r/Cirkeltrek is the dutch version of /r/circlejerk \n",
      "\n"
     ]
    }
   ],
   "source": [
    "for i in range(1,11):\n",
    "    proj = sorted_ratios[-i][0]\n",
    "    name = names[int(proj)]\n",
    "    desc = descriptions[int(proj)]\n",
    "    r = sorted_ratios[-i][1]\n",
    "    tm = times_per_project[proj] / (1000 * 60 * 60)\n",
    "    ent = entropy_per_project[proj]\n",
    "    \n",
    "    print(\"#\", i, \", project: \", name, \", entropy: \", ent, \", time: \", tm, \", entropy/time: \", r, \"\\\n",
    "        , \\ndescription: \", desc, \"\\n\")    "
   ]
  }
 ],
 "metadata": {
  "kernelspec": {
   "display_name": "Python 3",
   "language": "python",
   "name": "python3"
  },
  "language_info": {
   "codemirror_mode": {
    "name": "ipython",
    "version": 3
   },
   "file_extension": ".py",
   "mimetype": "text/x-python",
   "name": "python",
   "nbconvert_exporter": "python",
   "pygments_lexer": "ipython3",
   "version": "3.6.5"
  }
 },
 "nbformat": 4,
 "nbformat_minor": 2
}
