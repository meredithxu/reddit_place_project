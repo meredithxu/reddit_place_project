{
 "cells": [
  {
   "cell_type": "markdown",
   "metadata": {},
   "source": [
    "# Project Data Analysis\n",
    "\n",
    "This notebook contains the analysis of project data for the Reddit place experiment.\n",
    "\n",
    "We have computed several distributions, scatter plots and visualizations to better understant the dataset.\n",
    "\n",
    "To run this notebook, the following files should be precomputed in the '.../data/' folder:\n",
    "\n",
    "1) sorted_tile_placements_proj.csv : Tile updates with project information added. Format: \n",
    "\n",
    "#ts,user,x_coordinate,y_coordinate,color,pic_id,pixel,pixel_color\n",
    "\n",
    "2) sorted_tile_placements_proj_den_freq.csv : Denoised version of the previous file using Frequent Pixel heuristic.\n",
    "\n",
    "3) sorted_tile_placements_proj_den_freq.csv : Denoised version of same file based on figure created by users.\n",
    "\n",
    "4) atlas.json : Filtered version of the place atlas\n",
    "\n",
    "# Sections:\n",
    "\n",
    "## Single Variable\n",
    "[Updates per Project](#Updates_per_Project)\n",
    "\n",
    "[Updates Entropy per Project](#Updates_Entropy_per_Project)\n",
    "\n",
    "[Updates Entropy (Time) per project](#Updates_Time_Entropy_per_Project)\n",
    "\n",
    "[Colors and Entropy (Color) per Project (Original Data)](#Colors_and_Entropy_(Color)_per_Project_Original)\n",
    "\n",
    "[Colors and Entropy (Color) per Project (Denoised Data using Frequent Color)](#Colors_and_Entropy_(Color)_per_Project_Denoised_Frequent)\n",
    "\n",
    "[Colors and Entropy (Color) per Project (Denoised by Users)](#Colors_and_Entropy_(Color)_per_Project_Denoised_Users)\n",
    "\n",
    "[Pixels per Project](#Pixels_per_Project)\n",
    "\n",
    "[Projects per User](#Projects_per_User)\n",
    "\n",
    "[Users per Project](#Users_per_Project)\n",
    "\n",
    "[Time per Project](#Time_per_Project)\n",
    "\n",
    "[Area per Project](#Area_per_Project)\n",
    "\n",
    "## Two Variables\n",
    "\n",
    "### Update\n",
    "[Update vs Entropy](#Update_vs_Entropy)\n",
    "\n",
    "[Update vs Pixel](#Update_vs_pixel)\n",
    "\n",
    "[Update vs User](#Update_vs_User)\n",
    "\n",
    "[Update vs Time](#Update_vs_Time)\n",
    "\n",
    "[Update vs Area](#Update_vs_Area)\n",
    "\n",
    "### Pixels\n",
    "\n",
    "[Pixels vs Entropy](#Pixels_vs_Entropy)\n",
    "\n",
    "[Pixels vs Users](#Pixels_vs_Users)\n",
    "\n",
    "[Pixels vs Time](#Pixels_vs_Time)\n",
    "\n",
    "[Pixels vs Area](#Pixels_vs_Area)\n",
    "\n",
    "### Users\n",
    "\n",
    "[Users vs Entropy](#Users_vs_Entropy)\n",
    "\n",
    "[Users vs Time](#Users_vs_Time)\n",
    "\n",
    "[Users vs Area](#Users_vs_Area)\n",
    "\n",
    "### Time\n",
    "\n",
    "[Time vs Entropy](#Time_vs_Entropy)\n",
    "\n",
    "[Time vs Area](#Time_vs_Area)\n",
    "\n",
    "### Area\n",
    "\n",
    "[Area vs Entropy](#Area_vs_Entropy)\n",
    "\n",
    "# Others\n",
    "\n",
    "[Updates per Time](#Updates_per_time)\n",
    "\n",
    "[Distance (Users)](#Distance_users)\n"
   ]
  },
  {
   "cell_type": "code",
   "execution_count": 1,
   "metadata": {},
   "outputs": [],
   "source": [
    "import csv\n",
    "import sys\n",
    "import os\n",
    "import math\n",
    "import random\n",
    "import numpy as np\n",
    "import numpy.linalg as npla\n",
    "import scipy\n",
    "import sklearn\n",
    "from scipy import sparse\n",
    "from scipy import linalg\n",
    "import scipy.sparse.linalg as spla\n",
    "from scipy.spatial import distance\n",
    "import matplotlib.pyplot as plt\n",
    "from matplotlib import cm\n",
    "import matplotlib.mlab as mlab\n",
    "from mpl_toolkits.mplot3d import axes3d\n",
    "import operator"
   ]
  },
  {
   "cell_type": "code",
   "execution_count": 2,
   "metadata": {},
   "outputs": [],
   "source": [
    "import sys\n",
    "sys.path.append(\"../Python_code\") # go to parent dir\n",
    "from reddit import *\n",
    "from canvas_vis import *\n",
    "from project_data_analysis import *\n",
    "from generate_proj_to_remove import *"
   ]
  },
  {
   "cell_type": "markdown",
   "metadata": {},
   "source": [
    "# Setting up Variables"
   ]
  },
  {
   "cell_type": "code",
   "execution_count": 6,
   "metadata": {},
   "outputs": [],
   "source": [
    "#Run this before anything else!\n",
    "\n",
    "input_file_proj = \"../data/sorted_tile_placements_proj.csv\"\n",
    "input_file_proj_den_freq = \"../data/tile_placements_denoised_freq_proj.csv\"\n",
    "input_file_proj_den_users = \"../data/tile_placements_denoised_users_proj.csv\"\n",
    "js_filename = \"../data/atlas.json\"\n",
    "\n",
    "#Projects to remove 777, 1921 (whole canvas), 1240, 1516 (1 pixel), 1319 (very incomplete)\n",
    "#1169, 42 (repeated American Flag, 1122), 1066 (repeated blue corner 67), \n",
    "#1757 (repeated the far left side 736), 1824 (climber's head, too small)\n",
    "#320 (repeated kenkistan/rainbow flat 3311)\n",
    "#351 (repeated erase the place 1297)\n",
    "#1046, 1073 (repeated channel orange 958)\n",
    "#998, 1870 (repeated darth plagueis the wise 75)\n",
    "#1383, 1493, 1823, 1818, 645, 1640 (Very small)\n",
    "#1811, 1925, 1927, 704, 1085, 1308, 1378, 1412, 1418, 1428, 1455, 1482, 1512, 1548, 1589, \n",
    "#1614, 1790, 939, 1263, 1383, 1155, 1524, 129, 1595, 1254, 1528, 1529, 1578, 1616, 1721 (Covered)\n",
    "# projects_to_remove = {'777', '1921', '1169', '42', '1066', '1757', '1824', '320', '998', '1870', '1811',\\\n",
    "#                      '1925', '1927', '704', '1085', '1308', '1378', '1412', '1418', '1428', '1455', '1482',\\\n",
    "#                       '1512', '1548', '1589', '1614', '1790', '1319', '939', '1263', '1383', '1155', '1761', \n",
    "#                      '1524', '351', '129', '1046', '1073', '1595', '1254', '1528', '1529', '1578', '1616',\\\n",
    "#                      '1721'}\n",
    "\n",
    "projects_to_remove = get_list_of_removed_proj(output_filename = \"../data/proj_to_remove.txt\")\n",
    "\n",
    "locations = store_locations(js_filename)\n",
    "\n",
    "names, descriptions = read_picture_names_and_descriptions(js_filename)"
   ]
  },
  {
   "cell_type": "markdown",
   "metadata": {},
   "source": [
    "<a id='Updates_per_Project'></a>\n",
    "# Updates per Project"
   ]
  },
  {
   "cell_type": "code",
   "execution_count": 8,
   "metadata": {},
   "outputs": [],
   "source": [
    "#Computing updates per project\n",
    "updates_per_proj, total_updates = updates_per_project(input_file_proj, projects_to_remove)\n",
    "\n",
    "#computing the updates in three different category: agree,disagree,final\n",
    "tile_updates, total_tile_updates = update_category_per_project()\n",
    "\n",
    "#print(\"total updates:\", total_updates)"
   ]
  },
  {
   "cell_type": "code",
   "execution_count": 10,
   "metadata": {},
   "outputs": [
    {
     "name": "stdout",
     "output_type": "stream",
     "text": [
      "[('42', 612816), ('1169', 587958), ('95', 540508), ('736', 399649), ('1066', 362651), ('67', 358566), ('903', 353109), ('1757', 324259), ('1897', 309469), ('998', 293808)]\n"
     ]
    },
    {
     "ename": "KeyError",
     "evalue": "42",
     "output_type": "error",
     "traceback": [
      "\u001b[0;31m---------------------------------------------------------------------------\u001b[0m",
      "\u001b[0;31mKeyError\u001b[0m                                  Traceback (most recent call last)",
      "\u001b[0;32m<ipython-input-10-de4fd81416c0>\u001b[0m in \u001b[0;36m<module>\u001b[0;34m\u001b[0m\n\u001b[1;32m      5\u001b[0m     \u001b[0mproj\u001b[0m \u001b[0;34m=\u001b[0m \u001b[0msorted_up_proj\u001b[0m\u001b[0;34m[\u001b[0m\u001b[0mi\u001b[0m\u001b[0;34m]\u001b[0m\u001b[0;34m[\u001b[0m\u001b[0;36m0\u001b[0m\u001b[0;34m]\u001b[0m\u001b[0;34m\u001b[0m\u001b[0m\n\u001b[1;32m      6\u001b[0m     \u001b[0mup\u001b[0m \u001b[0;34m=\u001b[0m \u001b[0msorted_up_proj\u001b[0m\u001b[0;34m[\u001b[0m\u001b[0mi\u001b[0m\u001b[0;34m]\u001b[0m\u001b[0;34m[\u001b[0m\u001b[0;36m1\u001b[0m\u001b[0;34m]\u001b[0m\u001b[0;34m\u001b[0m\u001b[0m\n\u001b[0;32m----> 7\u001b[0;31m     \u001b[0mname\u001b[0m \u001b[0;34m=\u001b[0m \u001b[0mnames\u001b[0m\u001b[0;34m[\u001b[0m\u001b[0mint\u001b[0m\u001b[0;34m(\u001b[0m\u001b[0mproj\u001b[0m\u001b[0;34m)\u001b[0m\u001b[0;34m]\u001b[0m\u001b[0;34m\u001b[0m\u001b[0m\n\u001b[0m\u001b[1;32m      8\u001b[0m     \u001b[0mdesc\u001b[0m \u001b[0;34m=\u001b[0m \u001b[0mdescriptions\u001b[0m\u001b[0;34m[\u001b[0m\u001b[0mint\u001b[0m\u001b[0;34m(\u001b[0m\u001b[0mproj\u001b[0m\u001b[0;34m)\u001b[0m\u001b[0;34m]\u001b[0m\u001b[0;34m\u001b[0m\u001b[0m\n\u001b[1;32m      9\u001b[0m \u001b[0;34m\u001b[0m\u001b[0m\n",
      "\u001b[0;31mKeyError\u001b[0m: 42"
     ]
    }
   ],
   "source": [
    "sorted_up_proj = sorted(updates_per_proj.items(), key=operator.itemgetter(1), reverse=True)\n",
    "print(sorted_up_proj[:10])\n",
    "#Top-10\n",
    "for i in range(10):\n",
    "    proj = sorted_up_proj[i][0]\n",
    "    up = sorted_up_proj[i][1]\n",
    "    name = names[int(proj)]\n",
    "    desc = descriptions[int(proj)]\n",
    "    \n",
    "    print(\"#\", i, \", project: \", name, \", updates: \", up, \", \\ndesc: \", desc, \"\\n\")"
   ]
  },
  {
   "cell_type": "code",
   "execution_count": null,
   "metadata": {},
   "outputs": [],
   "source": [
    "#Bottom-10\n",
    "\n",
    "for i in range(1,11):\n",
    "    proj = sorted_up_proj[-i][0]\n",
    "    up = sorted_up_proj[-i][1]\n",
    "    name = names[int(proj)]\n",
    "    desc = descriptions[int(proj)]\n",
    "    \n",
    "    print(\"#\", i, \", project: \", name, \", updates: \", up, \", \\ndescription: \", desc, \"\\n\")"
   ]
  },
  {
   "cell_type": "code",
   "execution_count": null,
   "metadata": {},
   "outputs": [],
   "source": [
    "#AVG\n",
    "\n",
    "print(\"AVG = \", np.mean(np.array(list(updates_per_proj.values()))))"
   ]
  },
  {
   "cell_type": "code",
   "execution_count": null,
   "metadata": {},
   "outputs": [],
   "source": [
    "#STD\n",
    "\n",
    "print(\"STD = \", np.std(np.array(list(updates_per_proj.values()))))"
   ]
  },
  {
   "cell_type": "code",
   "execution_count": null,
   "metadata": {},
   "outputs": [],
   "source": [
    "#Inverse cumulative density funcition\n",
    "\n",
    "def plot_updates_per_project_icdf(count, output_file_name):\n",
    "    plt.clf()\n",
    "    ax = plt.subplot(111)\n",
    "    ax.loglog(range(len(count)), count, color=\"red\", linewidth=4)\n",
    "    ax.set_ylabel('ICDF', fontsize=30)\n",
    "    ax.set_xlabel('#updates', fontsize=30)\n",
    "    ax.tick_params(labelsize=23)\n",
    "    ax.set_xlim(1,10000000)\n",
    "    plt.savefig(output_file_name, dpi=300, bbox_inches='tight')\n",
    "    \n",
    "#Computing ICDF\n",
    "count = icdf(updates_per_proj)\n",
    "    \n",
    "plot_updates_per_project_icdf(count, \"../plots/plot_updates_per_project_icdf.svg\")"
   ]
  },
  {
   "cell_type": "markdown",
   "metadata": {},
   "source": [
    "<a id='Updates_Entropy_per_Project'></a>\n",
    "# Updates Entropy per Project"
   ]
  },
  {
   "cell_type": "code",
   "execution_count": null,
   "metadata": {},
   "outputs": [],
   "source": [
    "#Computing update-entropy per project: agreeing vs disagreeing\n",
    "#tile_updates is computed in the previous block\n",
    "update_entropy_per_proj=update_entropy_per_project(tile_updates)"
   ]
  },
  {
   "cell_type": "code",
   "execution_count": null,
   "metadata": {},
   "outputs": [],
   "source": [
    "sorted_up_ent_proj = sorted(update_entropy_per_proj.items(), key=operator.itemgetter(1), reverse=True)\n",
    "\n",
    "#Top-10\n",
    "for i in range(10):\n",
    "    proj = sorted_up_ent_proj[i][0]\n",
    "    up_ent = sorted_up_ent_proj[i][1]\n",
    "    name = names[int(proj)]\n",
    "    desc = descriptions[int(proj)]\n",
    "    \n",
    "    print(\"#\", i, \", project: \", name, \", update_entropy: \", up_ent, \", \\ndesc: \", desc, \"\\n\")"
   ]
  },
  {
   "cell_type": "code",
   "execution_count": null,
   "metadata": {},
   "outputs": [],
   "source": [
    "\n",
    "#Bottom-10\n",
    "for i in range(1,11):\n",
    "    proj = sorted_up_ent_proj[-i][0]\n",
    "    up_ent = sorted_up_ent_proj[-i][1]\n",
    "    name = names[int(proj)]\n",
    "    desc = descriptions[int(proj)]\n",
    "    \n",
    "    print(\"#\", i, \", project: \", name, \", update_entropy: \", up_ent, \", \\ndesc: \", desc, \"\\n\")"
   ]
  },
  {
   "cell_type": "code",
   "execution_count": null,
   "metadata": {},
   "outputs": [],
   "source": [
    "#AVG\n",
    "\n",
    "print(\"AVG = \", np.mean(np.array(list(update_entropy_per_proj.values()))))"
   ]
  },
  {
   "cell_type": "code",
   "execution_count": null,
   "metadata": {},
   "outputs": [],
   "source": [
    "#STD\n",
    "\n",
    "print(\"STD = \", np.std(np.array(list(update_entropy_per_proj.values()))))"
   ]
  },
  {
   "cell_type": "code",
   "execution_count": null,
   "metadata": {},
   "outputs": [],
   "source": [
    "#Inverse cumulative density funcition\n",
    "%matplotlib inline\n",
    "def plot_update_entropies_per_project_icdf(entropy, count, output_file_name):\n",
    "    plt.clf()\n",
    "\n",
    "    ax = plt.subplot(111)\n",
    "    ax.plot(entropy, count, color=\"red\", linewidth=4)\n",
    "    ax.set_ylabel('ICDF', fontsize=30)\n",
    "    ax.set_xlabel('entropy', fontsize=30)\n",
    "    ax.tick_params(labelsize=23)\n",
    "    #ax.set_xticks(np.arange(0,math.log(.5)+.1, math.log(.1)))\n",
    "    ax.set_yticks(np.arange(0, 1.1, .25))\n",
    "    plt.savefig(output_file_name, dpi=300, bbox_inches='tight')\n",
    "\n",
    "#Computing ICDF\n",
    "entropy = sorted(list(update_entropy_per_proj.values()))\n",
    "\n",
    "count = np.arange(len(entropy)+1)[len(entropy)+1:0:-1]\n",
    "count = count / count[0]\n",
    "\n",
    "plot_update_entropies_per_project_icdf(entropy, count, \"../plots/plot_update_entropies_users_icdf.svg\")\n"
   ]
  },
  {
   "cell_type": "markdown",
   "metadata": {},
   "source": [
    "<a id='Updates_Time_Entropy_per_Project'></a>\n",
    "# Updates Entropy (Time) per Project"
   ]
  },
  {
   "cell_type": "code",
   "execution_count": null,
   "metadata": {},
   "outputs": [],
   "source": [
    "#Computing update-entropy per project: agreeing vs disagreeing over all the time slots (around 78 --- based on hours)\n",
    "#tile_updates is computed in the previous block\n",
    "update_time_entropy_per_proj=update_time_entropy_per_project(tile_updates)"
   ]
  },
  {
   "cell_type": "code",
   "execution_count": null,
   "metadata": {},
   "outputs": [],
   "source": [
    "sorted_up_time_ent_proj = sorted(update_time_entropy_per_proj.items(), key=operator.itemgetter(1), reverse=True)\n",
    "\n",
    "#Top-10\n",
    "for i in range(10):\n",
    "    proj = sorted_up_time_ent_proj[i][0]\n",
    "    up_ent = sorted_up_time_ent_proj[i][1]\n",
    "    name = names[int(proj)]\n",
    "    desc = descriptions[int(proj)]\n",
    "    \n",
    "    print(\"#\", i, \", project: \", name, \", update_time_entropy: \", up_ent, \", \\ndesc: \", desc, \"\\n\")"
   ]
  },
  {
   "cell_type": "code",
   "execution_count": null,
   "metadata": {},
   "outputs": [],
   "source": [
    "#Bottom-10\n",
    "for i in range(1,11):\n",
    "    proj = sorted_up_time_ent_proj[-i][0]\n",
    "    up_ent = sorted_up_time_ent_proj[-i][1]\n",
    "    name = names[int(proj)]\n",
    "    desc = descriptions[int(proj)]\n",
    "    \n",
    "    print(\"#\", i, \", project: \", name, \", update_time_entropy: \", up_ent, \", \\ndesc: \", proj, \"\\n\")"
   ]
  },
  {
   "cell_type": "code",
   "execution_count": null,
   "metadata": {},
   "outputs": [],
   "source": [
    "#AVG\n",
    "\n",
    "print(\"AVG = \", np.mean(np.array(list(update_time_entropy_per_proj.values()))))"
   ]
  },
  {
   "cell_type": "code",
   "execution_count": null,
   "metadata": {},
   "outputs": [],
   "source": [
    "#STD\n",
    "\n",
    "print(\"STD = \", np.std(np.array(list(update_time_entropy_per_proj.values()))))"
   ]
  },
  {
   "cell_type": "code",
   "execution_count": null,
   "metadata": {},
   "outputs": [],
   "source": [
    "#Inverse cumulative density funcition\n",
    "%matplotlib inline\n",
    "def plot_update_time_entropies_per_project_icdf(entropy, count, output_file_name):\n",
    "    plt.clf()\n",
    "\n",
    "    ax = plt.subplot(111)\n",
    "    ax.plot(entropy, count, color=\"red\", linewidth=4)\n",
    "    ax.set_ylabel('ICDF', fontsize=30)\n",
    "    ax.set_xlabel('entropy', fontsize=30)\n",
    "    ax.tick_params(labelsize=23)\n",
    "    #ax.set_xticks(np.arange(0,math.exp(1)+.6, .69))\n",
    "    ax.set_xticks(np.arange(2,6, .5))\n",
    "    ax.set_yticks(np.arange(0, 1.1, .25))\n",
    "    plt.savefig(output_file_name, dpi=300, bbox_inches='tight')\n",
    "\n",
    "#Computing ICDF\n",
    "entropy = sorted(list(update_time_entropy_per_proj.values()))\n",
    "\n",
    "count = np.arange(len(entropy)+1)[len(entropy)+1:0:-1]\n",
    "count = count / count[0]\n",
    "\n",
    "plot_update_time_entropies_per_project_icdf(entropy, count, \"../plots/plot_update_time_entropies_users_icdf.svg\")"
   ]
  },
  {
   "cell_type": "markdown",
   "metadata": {},
   "source": [
    "<a id='Colors_and_Entropy_(Color)_per_Project_Original'></a>\n",
    "# Colors and Entropy (Color) per Project (Original Data)"
   ]
  },
  {
   "cell_type": "code",
   "execution_count": null,
   "metadata": {},
   "outputs": [],
   "source": [
    "# Computing colors per project and entropies\n",
    "#Only pixels (final) are considered.\n",
    "colors_per_proj = colors_per_project(input_file_proj, projects_to_remove)\n",
    "entropy_per_proj = entropy_per_project(colors_per_proj)"
   ]
  },
  {
   "cell_type": "code",
   "execution_count": null,
   "metadata": {},
   "outputs": [],
   "source": [
    "num_colors_per_proj = {}\n",
    "\n",
    "for proj in colors_per_proj:\n",
    "    num_colors_per_proj[proj] = np.count_nonzero(colors_per_proj[proj])"
   ]
  },
  {
   "cell_type": "code",
   "execution_count": null,
   "metadata": {},
   "outputs": [],
   "source": [
    "sorted_color_proj = sorted(num_colors_per_proj.items(), key=operator.itemgetter(1), reverse=True)\n",
    "\n",
    "#Top-10\n",
    "for i in range(10):\n",
    "    proj = sorted_color_proj[i][0]\n",
    "    colors = sorted_color_proj[i][1]\n",
    "    name = names[int(proj)]\n",
    "    desc = descriptions[int(proj)]\n",
    "    \n",
    "    print(\"#\", i, \", project: \", name, \", colors: \", colors, \", \\ndesc: \", desc, \"\\n\")"
   ]
  },
  {
   "cell_type": "code",
   "execution_count": null,
   "metadata": {},
   "outputs": [],
   "source": [
    "#Bottom-10\n",
    "\n",
    "for i in range(1,11):\n",
    "    proj = sorted_color_proj[-i][0]\n",
    "    colors = sorted_color_proj[-i][1]\n",
    "    name = names[int(proj)]\n",
    "    desc = descriptions[int(proj)]\n",
    "    \n",
    "    print(\"#\", i, \", project: \", name, \", colors: \", colors, \", \\ndesc: \", desc, \"\\n\")"
   ]
  },
  {
   "cell_type": "code",
   "execution_count": null,
   "metadata": {},
   "outputs": [],
   "source": [
    "#AVG\n",
    "\n",
    "print(\"AVG = \", np.mean(np.array(list(num_colors_per_proj.values()))))"
   ]
  },
  {
   "cell_type": "code",
   "execution_count": null,
   "metadata": {},
   "outputs": [],
   "source": [
    "#STD\n",
    "\n",
    "print(\"STD = \", np.std(np.array(list(num_colors_per_proj.values()))))"
   ]
  },
  {
   "cell_type": "code",
   "execution_count": null,
   "metadata": {},
   "outputs": [],
   "source": [
    "%matplotlib inline\n",
    "def plot_colors_per_project_hst(count, output_file_name):\n",
    "    plt.clf()\n",
    "\n",
    "    ax = plt.subplot(111)\n",
    "    ax.bar(np.arange(count.shape[0]), count, color=\"black\", linewidth=4)\n",
    "    ax.set_ylabel('#projects', fontsize=30)\n",
    "    ax.set_xlabel('colors', fontsize=30)\n",
    "    ax.tick_params(labelsize=23)\n",
    "    ax.set_xlim(0,)\n",
    "    ax.set_xticks(np.arange(1,17, 3))\n",
    "    ax.set_yticks(np.arange(0, 300, 50))\n",
    "    plt.savefig(output_file_name, dpi=300, bbox_inches='tight')\n",
    "\n",
    "count = np.zeros(17)\n",
    "\n",
    "for c in num_colors_per_proj.values():\n",
    "    count[c] = count[c] + 1\n",
    "    \n",
    "plot_colors_per_project_hst(count, \"../plots/plot_colors_project_hist.svg\")"
   ]
  },
  {
   "cell_type": "code",
   "execution_count": null,
   "metadata": {},
   "outputs": [],
   "source": [
    "sorted_ent_proj = sorted(entropy_per_proj.items(), key=operator.itemgetter(1), reverse=True)\n",
    "\n",
    "#Top-10\n",
    "for i in range(10):\n",
    "    proj = sorted_ent_proj[i][0]\n",
    "    ent = sorted_ent_proj[i][1]\n",
    "    name = names[int(proj)]\n",
    "    desc = descriptions[int(proj)]\n",
    "    \n",
    "    print(\"#\", i, \", project: \", name, \", entropy: \", ent, \", \\ndesc: \", desc, \"\\n\")"
   ]
  },
  {
   "cell_type": "code",
   "execution_count": null,
   "metadata": {},
   "outputs": [],
   "source": [
    "#Bottom-10\n",
    "\n",
    "for i in range(1,11):\n",
    "    proj = sorted_ent_proj[-i][0]\n",
    "    ent = sorted_ent_proj[-i][1]\n",
    "    name = names[int(proj)]\n",
    "    desc = descriptions[int(proj)]\n",
    "    \n",
    "    print(\"#\", i, \", project: \", name, \", entropy: \", ent, \", \\ndesc: \", desc, \"\\n\")"
   ]
  },
  {
   "cell_type": "code",
   "execution_count": null,
   "metadata": {},
   "outputs": [],
   "source": [
    "#AVG\n",
    "\n",
    "print(\"AVG = \", np.mean(np.array(list(entropy_per_proj.values()))))"
   ]
  },
  {
   "cell_type": "code",
   "execution_count": null,
   "metadata": {},
   "outputs": [],
   "source": [
    "#STD\n",
    "\n",
    "print(\"STD = \", np.std(np.array(list(entropy_per_proj.values()))))"
   ]
  },
  {
   "cell_type": "code",
   "execution_count": null,
   "metadata": {},
   "outputs": [],
   "source": [
    "%matplotlib inline\n",
    "def plot_color_entropies_per_project_icdf(entropy, count, output_file_name):\n",
    "    plt.clf()\n",
    "\n",
    "    ax = plt.subplot(111)\n",
    "    ax.plot(entropy, count, color=\"red\", linewidth=4)\n",
    "    ax.set_ylabel('ICDF', fontsize=30)\n",
    "    ax.set_xlabel('entropy', fontsize=30)\n",
    "    ax.tick_params(labelsize=23)\n",
    "    ax.set_xticks(np.arange(0,math.exp(1)+.1, .69))\n",
    "    ax.set_yticks(np.arange(0, 1.1, .25))\n",
    "    plt.savefig(output_file_name, dpi=300, bbox_inches='tight')\n",
    "\n",
    "#Computing ICDF\n",
    "entropy = sorted(list(entropy_per_proj.values()))\n",
    "\n",
    "count = np.arange(len(entropy)+1)[len(entropy)+1:0:-1]\n",
    "count = count / count[0]\n",
    "\n",
    "plot_color_entropies_per_project_icdf(entropy, count, \"../plots/plot_color_entropies_icdf.svg\")"
   ]
  },
  {
   "cell_type": "markdown",
   "metadata": {},
   "source": [
    "<a id='Colors_and_Entrpy_(Color)_per_Project_Denoised_Frequent'></a>\n",
    "# Colors and Entropy (Color) per Project (Denoised Data using Frequent Color)"
   ]
  },
  {
   "cell_type": "code",
   "execution_count": null,
   "metadata": {},
   "outputs": [],
   "source": [
    "# Computing colors per project and entropies\n",
    "#Only pixels (final) are considered.\n",
    "\n",
    "colors_per_proj_den_freq = colors_per_project(input_file_proj_den_freq, projects_to_remove)\n",
    "entropy_per_proj_den_freq = entropy_per_project(colors_per_proj_den_freq)"
   ]
  },
  {
   "cell_type": "code",
   "execution_count": null,
   "metadata": {},
   "outputs": [],
   "source": [
    "num_colors_per_proj_den_freq = {}\n",
    "\n",
    "for proj in colors_per_proj_den_freq:\n",
    "    num_colors_per_proj_den_freq[proj] = np.count_nonzero(colors_per_proj_den_freq[proj])"
   ]
  },
  {
   "cell_type": "code",
   "execution_count": null,
   "metadata": {},
   "outputs": [],
   "source": [
    "sorted_color_proj = sorted(num_colors_per_proj_den_freq.items(), key=operator.itemgetter(1), reverse=True)\n",
    "\n",
    "#Top-10\n",
    "for i in range(10):\n",
    "    proj = sorted_color_proj[i][0]\n",
    "    colors = sorted_color_proj[i][1]\n",
    "    name = names[int(proj)]\n",
    "    desc = descriptions[int(proj)]\n",
    "    \n",
    "    print(\"#\", i, \", project: \", name, \", colors: \", colors, \", \\ndesc: \", desc, \"\\n\")"
   ]
  },
  {
   "cell_type": "code",
   "execution_count": null,
   "metadata": {},
   "outputs": [],
   "source": [
    "#Bottom-10\n",
    "\n",
    "for i in range(1,11):\n",
    "    proj = sorted_color_proj[-i][0]\n",
    "    colors = sorted_color_proj[-i][1]\n",
    "    name = names[int(proj)]\n",
    "    desc = descriptions[int(proj)]\n",
    "    \n",
    "    print(\"#\", i, \", project: \", name, \", colors: \", colors, \", \\ndesc: \", desc, \"\\n\")"
   ]
  },
  {
   "cell_type": "code",
   "execution_count": null,
   "metadata": {},
   "outputs": [],
   "source": [
    "#AVG\n",
    "\n",
    "print(\"AVG = \", np.mean(np.array(list(num_colors_per_proj_den_freq.values()))))"
   ]
  },
  {
   "cell_type": "code",
   "execution_count": null,
   "metadata": {},
   "outputs": [],
   "source": [
    "#STD\n",
    "\n",
    "print(\"STD = \", np.std(np.array(list(num_colors_per_proj_den_freq.values()))))"
   ]
  },
  {
   "cell_type": "code",
   "execution_count": null,
   "metadata": {},
   "outputs": [],
   "source": [
    "%matplotlib inline\n",
    "def plot_colors_per_project_hst(count, output_file_name):\n",
    "    plt.clf()\n",
    "\n",
    "    ax = plt.subplot(111)\n",
    "    ax.bar(np.arange(count.shape[0]), count, color=\"black\", linewidth=4)\n",
    "    ax.set_ylabel('#projects', fontsize=30)\n",
    "    ax.set_xlabel('colors', fontsize=30)\n",
    "    ax.tick_params(labelsize=23)\n",
    "    ax.set_xlim(0,)\n",
    "    ax.set_xticks(np.arange(1,17, 3))\n",
    "    ax.set_yticks(np.arange(0, 300, 50))\n",
    "    plt.savefig(output_file_name, dpi=300, bbox_inches='tight')\n",
    "\n",
    "count = np.zeros(17)\n",
    "\n",
    "for c in num_colors_per_proj_den_freq.values():\n",
    "    count[c] = count[c] + 1\n",
    "    \n",
    "plot_colors_per_project_hst(count, \"../plots/plot_colors_project_den_freq_hist.svg\")"
   ]
  },
  {
   "cell_type": "code",
   "execution_count": null,
   "metadata": {},
   "outputs": [],
   "source": [
    "sorted_ent_proj = sorted(entropy_per_proj_den_freq.items(), key=operator.itemgetter(1), reverse=True)\n",
    "\n",
    "#Top-10\n",
    "for i in range(10):\n",
    "    proj = sorted_ent_proj[i][0]\n",
    "    ent = sorted_ent_proj[i][1]\n",
    "    name = names[int(proj)]\n",
    "    desc = descriptions[int(proj)]\n",
    "    \n",
    "    print(\"#\", i, \", project: \", name, \", entropy: \", ent, \", \\ndesc: \", desc, \"\\n\")"
   ]
  },
  {
   "cell_type": "code",
   "execution_count": null,
   "metadata": {},
   "outputs": [],
   "source": [
    "#Bottom-10\n",
    "\n",
    "for i in range(1,11):\n",
    "    proj = sorted_ent_proj[-i][0]\n",
    "    ent = sorted_ent_proj[-i][1]\n",
    "    name = names[int(proj)]\n",
    "    desc = descriptions[int(proj)]\n",
    "    \n",
    "    print(\"#\", i, \", project: \", name, \", entropy: \", ent, \", \\ndesc: \", desc, \"\\n\")"
   ]
  },
  {
   "cell_type": "code",
   "execution_count": null,
   "metadata": {},
   "outputs": [],
   "source": [
    "#AVG\n",
    "\n",
    "print(\"AVG = \", np.mean(np.array(list(entropy_per_proj_den_freq.values()))))"
   ]
  },
  {
   "cell_type": "code",
   "execution_count": null,
   "metadata": {},
   "outputs": [],
   "source": [
    "#STD\n",
    "\n",
    "print(\"STD = \", np.std(np.array(list(entropy_per_proj_den_freq.values()))))"
   ]
  },
  {
   "cell_type": "code",
   "execution_count": null,
   "metadata": {},
   "outputs": [],
   "source": [
    "%matplotlib inline\n",
    "def plot_color_entropies_per_project_icdf(entropy, count, output_file_name):\n",
    "    plt.clf()\n",
    "\n",
    "    ax = plt.subplot(111)\n",
    "    ax.plot(entropy, count, color=\"red\", linewidth=4)\n",
    "    ax.set_ylabel('ICDF', fontsize=30)\n",
    "    ax.set_xlabel('entropy', fontsize=30)\n",
    "    ax.tick_params(labelsize=23)\n",
    "    ax.set_xticks(np.arange(0,math.exp(1)+.1, .69))\n",
    "    ax.set_yticks(np.arange(0, 1.1, .25))\n",
    "    plt.savefig(output_file_name, dpi=300, bbox_inches='tight')\n",
    "\n",
    "#Computing ICDF\n",
    "entropy = sorted(list(entropy_per_proj_den_freq.values()))\n",
    "\n",
    "count = np.arange(len(entropy)+1)[len(entropy)+1:0:-1]\n",
    "count = count / count[0]\n",
    "\n",
    "plot_color_entropies_per_project_icdf(entropy, count, \"../plots/plot_color_entropies_den_freq_icdf.svg\")"
   ]
  },
  {
   "cell_type": "markdown",
   "metadata": {},
   "source": [
    "<a id='Colors_and_Entropy_(Color)_per_Project_Denoised_Users'></a>\n",
    "# Colors and Entropy (Color) per Project (Denoised Data using Canvas Denoised by Users)"
   ]
  },
  {
   "cell_type": "code",
   "execution_count": null,
   "metadata": {},
   "outputs": [],
   "source": [
    "# Computing colors per project and entropies\n",
    "#Only pixels (final) are considered.\n",
    "colors_per_proj_den_users = colors_per_project(input_file_proj_den_users, projects_to_remove)\n",
    "entropy_per_proj_den_users = entropy_per_project(colors_per_proj_den_users)"
   ]
  },
  {
   "cell_type": "code",
   "execution_count": null,
   "metadata": {},
   "outputs": [],
   "source": [
    "num_colors_per_proj_den_users = {}\n",
    "\n",
    "for proj in colors_per_proj_den_users:\n",
    "    num_colors_per_proj_den_users[proj] = np.count_nonzero(colors_per_proj_den_users[proj])"
   ]
  },
  {
   "cell_type": "code",
   "execution_count": null,
   "metadata": {},
   "outputs": [],
   "source": [
    "sorted_color_proj = sorted(num_colors_per_proj_den_users.items(), key=operator.itemgetter(1), reverse=True)\n",
    "\n",
    "#Top-10\n",
    "for i in range(10):\n",
    "    proj = sorted_color_proj[i][0]\n",
    "    colors = sorted_color_proj[i][1]\n",
    "    name = names[int(proj)]\n",
    "    desc = descriptions[int(proj)]\n",
    "    \n",
    "    print(\"#\", i, \", project: \", name, \", colors: \", colors, \", \\ndesc: \", desc, \"\\n\")"
   ]
  },
  {
   "cell_type": "code",
   "execution_count": null,
   "metadata": {},
   "outputs": [],
   "source": [
    "#Bottom-10\n",
    "\n",
    "for i in range(1,11):\n",
    "    proj = sorted_color_proj[-i][0]\n",
    "    colors = sorted_color_proj[-i][1]\n",
    "    name = names[int(proj)]\n",
    "    desc = descriptions[int(proj)]\n",
    "    \n",
    "    print(\"#\", i, \", project: \", name, \", colors: \", colors, \", \\ndesc: \", desc, \"\\n\")"
   ]
  },
  {
   "cell_type": "code",
   "execution_count": null,
   "metadata": {},
   "outputs": [],
   "source": [
    "#AVG\n",
    "\n",
    "print(\"AVG = \", np.mean(np.array(list(num_colors_per_proj_den_users.values()))))"
   ]
  },
  {
   "cell_type": "code",
   "execution_count": null,
   "metadata": {},
   "outputs": [],
   "source": [
    "#STD\n",
    "\n",
    "print(\"STD = \", np.std(np.array(list(num_colors_per_proj_den_users.values()))))"
   ]
  },
  {
   "cell_type": "code",
   "execution_count": null,
   "metadata": {},
   "outputs": [],
   "source": [
    "%matplotlib inline\n",
    "def plot_colors_per_project_hst(count, output_file_name):\n",
    "    plt.clf()\n",
    "\n",
    "    ax = plt.subplot(111)\n",
    "    ax.bar(np.arange(count.shape[0]), count, color=\"black\", linewidth=4)\n",
    "    ax.set_ylabel('#projects', fontsize=30)\n",
    "    ax.set_xlabel('colors', fontsize=30)\n",
    "    ax.tick_params(labelsize=23)\n",
    "    ax.set_xlim(0,)\n",
    "    ax.set_xticks(np.arange(1,17, 3))\n",
    "    ax.set_yticks(np.arange(0, 300, 50))\n",
    "    plt.savefig(output_file_name, dpi=300, bbox_inches='tight')\n",
    "\n",
    "count = np.zeros(17)\n",
    "\n",
    "for c in num_colors_per_proj_den_users.values():\n",
    "    count[c] = count[c] + 1\n",
    "    \n",
    "plot_colors_per_project_hst(count, \"../plots/plot_colors_project_den_users_hist.svg\")"
   ]
  },
  {
   "cell_type": "code",
   "execution_count": null,
   "metadata": {},
   "outputs": [],
   "source": [
    "sorted_ent_proj = sorted(entropy_per_proj_den_users.items(), key=operator.itemgetter(1), reverse=True)\n",
    "\n",
    "#Top-10\n",
    "for i in range(10):\n",
    "    proj = sorted_ent_proj[i][0]\n",
    "    ent = sorted_ent_proj[i][1]\n",
    "    name = names[int(proj)]\n",
    "    desc = descriptions[int(proj)]\n",
    "    \n",
    "    print(\"#\", i, \", project: \", name, \", entropy: \", ent, \", \\ndesc: \", desc, \"\\n\")"
   ]
  },
  {
   "cell_type": "code",
   "execution_count": null,
   "metadata": {},
   "outputs": [],
   "source": [
    "#Bottom-10\n",
    "\n",
    "for i in range(1,11):\n",
    "    proj = sorted_ent_proj[-i][0]\n",
    "    ent = sorted_ent_proj[-i][1]\n",
    "    name = names[int(proj)]\n",
    "    desc = descriptions[int(proj)]\n",
    "    \n",
    "    print(\"#\", i, \", project: \", name, \", entropy: \", ent, \", \\ndesc: \", desc, \"\\n\")"
   ]
  },
  {
   "cell_type": "code",
   "execution_count": null,
   "metadata": {},
   "outputs": [],
   "source": [
    "#AVG\n",
    "\n",
    "print(\"AVG = \", np.mean(np.array(list(entropy_per_proj_den_users.values()))))"
   ]
  },
  {
   "cell_type": "code",
   "execution_count": null,
   "metadata": {},
   "outputs": [],
   "source": [
    "#STD\n",
    "\n",
    "print(\"STD = \", np.std(np.array(list(entropy_per_proj_den_users.values()))))"
   ]
  },
  {
   "cell_type": "code",
   "execution_count": null,
   "metadata": {},
   "outputs": [],
   "source": [
    "%matplotlib inline\n",
    "def plot_color_entropies_per_project_icdf(entropy, count, output_file_name):\n",
    "    plt.clf()\n",
    "\n",
    "    ax = plt.subplot(111)\n",
    "    ax.plot(entropy, count, color=\"red\", linewidth=4)\n",
    "    ax.set_ylabel('ICDF', fontsize=30)\n",
    "    ax.set_xlabel('entropy', fontsize=30)\n",
    "    ax.tick_params(labelsize=23)\n",
    "    ax.set_xticks(np.arange(0,math.exp(1)+.1, .69))\n",
    "    ax.set_yticks(np.arange(0, 1.1, .25))\n",
    "    plt.savefig(output_file_name, dpi=300, bbox_inches='tight')\n",
    "\n",
    "#Computing ICDF\n",
    "entropy = sorted(list(entropy_per_proj_den_users.values()))\n",
    "\n",
    "count = np.arange(len(entropy)+1)[len(entropy)+1:0:-1]\n",
    "count = count / count[0]\n",
    "\n",
    "plot_color_entropies_per_project_icdf(entropy, count, \"../plots/plot_color_entropies_den_users_icdf.svg\")"
   ]
  },
  {
   "cell_type": "markdown",
   "metadata": {},
   "source": [
    "<a id='Pixels_per_Project'></a>\n",
    "# Pixels per Project"
   ]
  },
  {
   "cell_type": "code",
   "execution_count": null,
   "metadata": {},
   "outputs": [],
   "source": [
    "# Computing number of pixels per project\n",
    "#Only pixels (final) are considered.\n",
    "pixels_per_proj = pixels_per_project(input_file_proj, projects_to_remove)"
   ]
  },
  {
   "cell_type": "code",
   "execution_count": null,
   "metadata": {},
   "outputs": [],
   "source": [
    "sorted_pixel_proj = sorted(pixels_per_proj.items(), key=operator.itemgetter(1), reverse=True)\n",
    "\n",
    "#Top-10\n",
    "for i in range(10):\n",
    "    proj = sorted_pixel_proj[i][0]\n",
    "    pix = sorted_pixel_proj[i][1]\n",
    "    name = names[int(proj)]\n",
    "    desc = descriptions[int(proj)]\n",
    "    \n",
    "    print(\"#\", i, \", project: \", name, \", pixels: \", pix, \", \\ndesc: \", desc, \"\\n\")"
   ]
  },
  {
   "cell_type": "code",
   "execution_count": null,
   "metadata": {},
   "outputs": [],
   "source": [
    "#Bottom-10\n",
    "\n",
    "for i in range(1,11):\n",
    "    proj = sorted_pixel_proj[-i][0]\n",
    "    pix = sorted_pixel_proj[-i][1]\n",
    "    name = names[int(proj)]\n",
    "    desc = descriptions[int(proj)]\n",
    "    \n",
    "    print(\"#\", i, \", project: \", name, \", pixels: \", pix, \", \\ndesc: \", desc, \"\\n\")"
   ]
  },
  {
   "cell_type": "code",
   "execution_count": null,
   "metadata": {},
   "outputs": [],
   "source": [
    "#AVG\n",
    "\n",
    "print(\"AVG = \", np.mean(np.array(list(pixels_per_proj.values()))))"
   ]
  },
  {
   "cell_type": "code",
   "execution_count": null,
   "metadata": {},
   "outputs": [],
   "source": [
    "#STD\n",
    "\n",
    "print(\"STD = \", np.std(np.array(list(pixels_per_proj.values()))))"
   ]
  },
  {
   "cell_type": "code",
   "execution_count": null,
   "metadata": {},
   "outputs": [],
   "source": [
    "%matplotlib inline\n",
    "def plot_pixels_per_project_icdf(count, output_file_name):\n",
    "    plt.clf()\n",
    "\n",
    "    ax = plt.subplot(111)\n",
    "    ax.loglog(np.arange(count.shape[0]), count, color=\"red\", linewidth=4)\n",
    "    ax.set_ylabel('ICDF', fontsize=30)\n",
    "    ax.set_xlabel('#pixels', fontsize=30)\n",
    "    ax.tick_params(labelsize=23)\n",
    "    ax.set_xlim(1,100000)\n",
    "    plt.savefig(output_file_name, dpi=300, bbox_inches='tight')\n",
    "\n",
    "#Computing ICDF\n",
    "count = icdf(pixels_per_proj)\n",
    "    \n",
    "plot_pixels_per_project_icdf(count, \"../plots/plot_pixels_icdf.svg\")"
   ]
  },
  {
   "cell_type": "markdown",
   "metadata": {},
   "source": [
    "<a id='Projects_per_User'></a>\n",
    "# Projects per User"
   ]
  },
  {
   "cell_type": "code",
   "execution_count": null,
   "metadata": {},
   "outputs": [],
   "source": [
    "#Projects per User\n",
    "#Only updates that agree with the final color of the tile are considered\n",
    "proj_per_user = projects_per_user(input_file_proj, projects_to_remove)"
   ]
  },
  {
   "cell_type": "code",
   "execution_count": null,
   "metadata": {},
   "outputs": [],
   "source": [
    "sorted_proj_per_user = sorted(proj_per_user.items(), key=operator.itemgetter(1), reverse=True)\n",
    "\n",
    "#Top-10\n",
    "for i in range(10):\n",
    "    user = sorted_proj_per_user[i][0]\n",
    "    n = sorted_proj_per_user[i][1]\n",
    "    \n",
    "    print(\"#\", i, \", user: \", user, \", projects: \", n)"
   ]
  },
  {
   "cell_type": "code",
   "execution_count": null,
   "metadata": {},
   "outputs": [],
   "source": [
    "#Bottom-10\n",
    "\n",
    "for i in range(1,11):\n",
    "    user = sorted_proj_per_user[-i][0]\n",
    "    n = sorted_proj_per_user[-i][1]\n",
    "    \n",
    "    print(\"#\", i, \", user: \", user, \", projects: \", n)"
   ]
  },
  {
   "cell_type": "code",
   "execution_count": null,
   "metadata": {},
   "outputs": [],
   "source": [
    "#AVG\n",
    "\n",
    "print(\"AVG = \", np.mean(np.array(list(proj_per_user.values()))))"
   ]
  },
  {
   "cell_type": "code",
   "execution_count": null,
   "metadata": {},
   "outputs": [],
   "source": [
    "#STD\n",
    "\n",
    "print(\"STD = \", np.std(np.array(list(proj_per_user.values()))))"
   ]
  },
  {
   "cell_type": "code",
   "execution_count": null,
   "metadata": {},
   "outputs": [],
   "source": [
    "#Median\n",
    "\n",
    "print(\"Median = \", np.median(np.array(list(proj_per_user.values()))))"
   ]
  },
  {
   "cell_type": "code",
   "execution_count": null,
   "metadata": {},
   "outputs": [],
   "source": [
    "%matplotlib inline\n",
    "def plot_projects_per_user_icdf(count, output_file_name):\n",
    "    plt.clf()\n",
    "\n",
    "    ax = plt.subplot(111)\n",
    "    ax.loglog(np.arange(count.shape[0]), count, color=\"red\", linewidth=4)\n",
    "    ax.set_ylabel('ICDF', fontsize=30)\n",
    "    ax.set_xlabel('#projects', fontsize=30)\n",
    "    ax.tick_params(labelsize=23)\n",
    "    #ax.set_yticks(np.arange(0,1.1,0.25))\n",
    "    plt.savefig(output_file_name, dpi=300, bbox_inches='tight')\n",
    "    \n",
    "#Computing ICDF\n",
    "count = icdf(proj_per_user)\n",
    "\n",
    "plot_projects_per_user_icdf(count, \"../plots/plot_proj_user_icdf.svg\")"
   ]
  },
  {
   "cell_type": "markdown",
   "metadata": {},
   "source": [
    "<a id='Users_per_Project'></a>\n",
    "\n",
    "# Users per Project"
   ]
  },
  {
   "cell_type": "code",
   "execution_count": null,
   "metadata": {},
   "outputs": [],
   "source": [
    "# Users per Project\n",
    "#Only updates that aggree with the final color of the tile are considered\n",
    "users_per_proj = users_per_project(input_file_proj, projects_to_remove)   "
   ]
  },
  {
   "cell_type": "code",
   "execution_count": null,
   "metadata": {},
   "outputs": [],
   "source": [
    "sorted_users_per_proj = sorted(users_per_proj.items(), key=operator.itemgetter(1), reverse=True)\n",
    "\n",
    "#Top-10\n",
    "for i in range(10):\n",
    "    proj = sorted_users_per_proj[i][0]\n",
    "    n = sorted_users_per_proj[i][1]\n",
    "    name = names[int(proj)]\n",
    "    desc = descriptions[int(proj)]\n",
    "    \n",
    "    print(\"#\", i, \", project: \", name, \", users: \", n, \", \\ndesc: \", desc, \"\\n\")"
   ]
  },
  {
   "cell_type": "code",
   "execution_count": null,
   "metadata": {},
   "outputs": [],
   "source": [
    "#Bottom-10\n",
    "\n",
    "for i in range(1,11):\n",
    "    proj = sorted_users_per_proj[-i][0]\n",
    "    n = sorted_users_per_proj[-i][1]\n",
    "    name = names[int(proj)]\n",
    "    desc = descriptions[int(proj)]\n",
    "    \n",
    "    print(\"#\", i, \", project: \", name, \", users: \", n, \", \\ndesc: \", desc, \"\\n\")"
   ]
  },
  {
   "cell_type": "code",
   "execution_count": null,
   "metadata": {},
   "outputs": [],
   "source": [
    "#AVG\n",
    "\n",
    "print(\"AVG = \", np.mean(np.array(list(users_per_proj.values()))))"
   ]
  },
  {
   "cell_type": "code",
   "execution_count": null,
   "metadata": {},
   "outputs": [],
   "source": [
    "#STD\n",
    "\n",
    "print(\"STD = \", np.std(np.array(list(users_per_proj.values()))))"
   ]
  },
  {
   "cell_type": "code",
   "execution_count": null,
   "metadata": {},
   "outputs": [],
   "source": [
    "#Median\n",
    "print(\"Median = \", np.median(np.array(list(users_per_proj.values()))))"
   ]
  },
  {
   "cell_type": "code",
   "execution_count": null,
   "metadata": {},
   "outputs": [],
   "source": [
    "%matplotlib inline\n",
    "def plot_users_per_project_icdf(count, output_file_name):\n",
    "    plt.clf()\n",
    "\n",
    "    ax = plt.subplot(111)\n",
    "    ax.loglog(np.arange(count.shape[0]), count, color=\"red\", linewidth=4)\n",
    "    ax.set_ylabel('ICDF', fontsize=30)\n",
    "    ax.set_xlabel('#users', fontsize=30)\n",
    "    ax.tick_params(labelsize=23)\n",
    "    ax.set_xlim(1, 1000000)\n",
    "    plt.savefig(output_file_name, dpi=300, bbox_inches='tight')\n",
    "    \n",
    "#Computing ICDF\n",
    "count = icdf(users_per_proj)\n",
    "\n",
    "plot_users_per_project_icdf(count, \"../plots/plot_user_proj_icdf.svg\")"
   ]
  },
  {
   "cell_type": "markdown",
   "metadata": {},
   "source": [
    "<a id='Time_per_Project'></a>\n",
    "# Time per Project"
   ]
  },
  {
   "cell_type": "code",
   "execution_count": null,
   "metadata": {},
   "outputs": [],
   "source": [
    "#Time per project\n",
    "#Only updates that aggree with the final color of the tile are considered\n",
    "times_per_proj = times_per_project(input_file_proj, projects_to_remove)"
   ]
  },
  {
   "cell_type": "code",
   "execution_count": null,
   "metadata": {},
   "outputs": [],
   "source": [
    "sorted_times_per_proj = sorted(times_per_proj.items(), key=operator.itemgetter(1), reverse=True)\n",
    "\n",
    "#Top-10\n",
    "for i in range(10):\n",
    "    proj = sorted_times_per_proj[i][0]\n",
    "    t = sorted_times_per_proj[i][1] / (1000 * 60 * 60)\n",
    "    name = names[int(proj)]\n",
    "    desc = descriptions[int(proj)]\n",
    "    \n",
    "    print(\"#\", i, \", project: \", name, \", time: \", t, \", \\ndesc: \", desc, \"\\n\")"
   ]
  },
  {
   "cell_type": "code",
   "execution_count": null,
   "metadata": {},
   "outputs": [],
   "source": [
    "#Bottom-10\n",
    "\n",
    "for i in range(1,11):\n",
    "    proj = sorted_times_per_proj[-i][0]\n",
    "    t = sorted_times_per_proj[-i][1] / (1000 * 60 * 60)\n",
    "    name = names[int(proj)]\n",
    "    desc = descriptions[int(proj)]\n",
    "    \n",
    "    print(\"#\", i, \", project: \", name, \", time: \", t, \", \\ndesc: \", desc, \"\\n\")"
   ]
  },
  {
   "cell_type": "code",
   "execution_count": null,
   "metadata": {},
   "outputs": [],
   "source": [
    "#AVG (hours)\n",
    "\n",
    "print(\"AVG = \", np.mean(np.array(list(times_per_proj.values())))/(1000 * 60 * 60))"
   ]
  },
  {
   "cell_type": "code",
   "execution_count": null,
   "metadata": {},
   "outputs": [],
   "source": [
    "#STD (hours)\n",
    "\n",
    "print(\"STD = \", np.std(np.array(list(times_per_proj.values())))/(1000 * 60 * 60))"
   ]
  },
  {
   "cell_type": "code",
   "execution_count": null,
   "metadata": {},
   "outputs": [],
   "source": [
    "%matplotlib inline\n",
    "def plot_times_per_project_icdf(count, output_file_name):\n",
    "    plt.clf()\n",
    "\n",
    "    ax = plt.subplot(111)\n",
    "    ax.semilogy(np.arange(count.shape[0]), count, color=\"red\", linewidth=4) #millisecons to hours\n",
    "    ax.set_ylabel('ICDF', fontsize=30)\n",
    "    ax.set_xlabel('time (hours)', fontsize=30)\n",
    "    ax.tick_params(labelsize=23)\n",
    "    #ax.set_xticks(np.arange(0,101,25))\n",
    "    #ax.set_xlim(None, 100)\n",
    "    #ax.set_yticks(np.arange(0,1.1,0.25))\n",
    "    plt.savefig(output_file_name, dpi=300, bbox_inches='tight')\n",
    "    \n",
    "#Computing ICDF\n",
    "times_per_proj_hours = {}\n",
    "\n",
    "for proj in times_per_proj:\n",
    "    times_per_proj_hours[proj] = int(times_per_proj[proj] / (1000 * 60 * 60))\n",
    "\n",
    "count = icdf(times_per_proj_hours)\n",
    "\n",
    "plot_times_per_project_icdf(count, \"../plots/plot_time_proj_icdf.svg\")"
   ]
  },
  {
   "cell_type": "markdown",
   "metadata": {},
   "source": [
    "<a id='Area_per_Project'></a>\n",
    "# Area per Project"
   ]
  },
  {
   "cell_type": "code",
   "execution_count": null,
   "metadata": {},
   "outputs": [],
   "source": [
    "#Area per project (area is between 0 to 1)\n",
    "#input_file_proj= \"../data/sorted_tile_placements_proj.csv\"\n",
    "area_per_proj = area_per_project(input_file_proj,projects_to_remove)"
   ]
  },
  {
   "cell_type": "code",
   "execution_count": null,
   "metadata": {},
   "outputs": [],
   "source": [
    "sorted_area_per_proj = sorted(area_per_proj.items(), key=operator.itemgetter(1), reverse=True)\n",
    "\n",
    "#Top-10\n",
    "for i in range(10):\n",
    "    proj = sorted_area_per_proj[i][0]\n",
    "    a = sorted_area_per_proj[i][1]\n",
    "    name = names[int(proj)]\n",
    "    desc = descriptions[int(proj)]\n",
    "    \n",
    "    print(\"#\", i, \", project: \", name, \", area: \", a, \", \\ndesc: \", desc, \"\\n\")"
   ]
  },
  {
   "cell_type": "code",
   "execution_count": null,
   "metadata": {},
   "outputs": [],
   "source": [
    "\n",
    "#Bottom-10\n",
    "for i in range(1,11):\n",
    "    proj = sorted_area_per_proj[-i][0]\n",
    "    a = sorted_area_per_proj[-i][1] \n",
    "    name = names[int(proj)]\n",
    "    desc = descriptions[int(proj)]\n",
    "    \n",
    "    print(\"#\", i, \", project: \", name, \", area: \", a, \", \\ndesc: \", desc, \"\\n\")"
   ]
  },
  {
   "cell_type": "code",
   "execution_count": null,
   "metadata": {},
   "outputs": [],
   "source": [
    "#AVG \n",
    "\n",
    "print(\"AVG = \", np.mean(np.array(list(area_per_proj.values()))))"
   ]
  },
  {
   "cell_type": "code",
   "execution_count": null,
   "metadata": {},
   "outputs": [],
   "source": [
    "#STD \n",
    "\n",
    "print(\"STD = \", np.std(np.array(list(area_per_proj.values())))/(1000 * 60 * 60))"
   ]
  },
  {
   "cell_type": "code",
   "execution_count": null,
   "metadata": {},
   "outputs": [],
   "source": [
    "%matplotlib inline\n",
    "def plot_area_per_project_icdf(area, count, output_file_name):\n",
    "    plt.clf()\n",
    "\n",
    "    ax = plt.subplot(111)\n",
    "    ax.plot(area, count, color=\"red\", linewidth=4)\n",
    "    ax.set_ylabel('ICDF', fontsize=30)\n",
    "    ax.set_xlabel('Area', fontsize=30)\n",
    "    ax.tick_params(labelsize=23)\n",
    "    #ax.set_xticks(np.arange(0,101,25))\n",
    "    #ax.set_xlim(None, 100)\n",
    "    #ax.set_yticks(np.arange(0,1.1,0.25))\n",
    "    plt.savefig(output_file_name, dpi=300, bbox_inches='tight')\n",
    "    \n",
    "    \n",
    "#Computing ICDF\n",
    "area = sorted(list(area_per_proj.values()))\n",
    "count = np.arange(len(area)+1)[len(area)+1:0:-1]\n",
    "count = count / count[0]\n",
    "\n",
    "\n",
    "plot_area_per_project_icdf(area,count, \"../plots/plot_area_proj_icdf.svg\")"
   ]
  },
  {
   "cell_type": "markdown",
   "metadata": {},
   "source": [
    "# Two Variables"
   ]
  },
  {
   "cell_type": "markdown",
   "metadata": {},
   "source": [
    "<a id='Update_vs_Entropy'></a>\n",
    "# Update vs Entropy"
   ]
  },
  {
   "cell_type": "code",
   "execution_count": null,
   "metadata": {},
   "outputs": [],
   "source": [
    "#Updates vs. entropy \n",
    "X,Y = Create_Array(updates_per_proj,entropy_per_proj)\n",
    "\n",
    "#Updates vs.entropy: ratio and ID\n",
    "ratios, IDs = Ratio(updates_per_proj,entropy_per_proj, names)\n"
   ]
  },
  {
   "cell_type": "code",
   "execution_count": null,
   "metadata": {},
   "outputs": [],
   "source": [
    "sorted_ratios = sorted(ratios.items(), key=operator.itemgetter(1), reverse=True)"
   ]
  },
  {
   "cell_type": "code",
   "execution_count": null,
   "metadata": {},
   "outputs": [],
   "source": [
    "#Correlation\n",
    "np.corrcoef(X, Y)"
   ]
  },
  {
   "cell_type": "code",
   "execution_count": null,
   "metadata": {},
   "outputs": [],
   "source": [
    "#Top-10\n",
    "\n",
    "for i in range(10):\n",
    "    proj = sorted_ratios[i][0]\n",
    "    r = sorted_ratios[i][1]\n",
    "        \n",
    "    name = names[int(proj)]\n",
    "    desc = descriptions[int(proj)]\n",
    "   \n",
    "    ent = entropy_per_proj[proj]\n",
    "    up = updates_per_proj[proj]\n",
    "    \n",
    "    print(\"#\", i,\", project: \", name, \", entropy: \", ent, \", updates: \", up, \", entropy/update: \", r, \"\\\n",
    "        , \\ndescription: \", desc, \"\\n\")"
   ]
  },
  {
   "cell_type": "code",
   "execution_count": null,
   "metadata": {},
   "outputs": [],
   "source": [
    "#Bottom-10    \n",
    "for i in range(1, 11):\n",
    "    proj = sorted_ratios[-i][0]\n",
    "    r = sorted_ratios[-i][1]\n",
    "        \n",
    "    name = names[int(proj)]\n",
    "    desc = descriptions[int(proj)]\n",
    "   \n",
    "    ent = entropy_per_proj[proj]\n",
    "    up = updates_per_proj[proj]\n",
    "    \n",
    "    print(\"#\", i, \", project: \", name, \", entropy: \", ent, \", updates: \", up, \", entropy/update: \", r, \"\\\n",
    "        , \\ndescription: \", desc, \"\\n\")"
   ]
  },
  {
   "cell_type": "code",
   "execution_count": null,
   "metadata": {},
   "outputs": [],
   "source": [
    "%matplotlib inline\n",
    "\n",
    "def plot_updates_vs_entropy(X, Y, output_file_name):\n",
    "    plt.clf()\n",
    "    fig, ax = plt.subplots()\n",
    "    ax.scatter(X, Y, color=\"green\", marker='x', s=5)\n",
    "    ax.set_ylabel('entropy', fontsize=30)\n",
    "    ax.tick_params(labelsize=23)\n",
    "    ax.set_xlabel('#updates', fontsize=30)\n",
    "    ax.set_xscale('log')\n",
    "    #ax.set_yticks(np.arange(0.69,math.exp(1)+.1, .69))\n",
    "    ax.set_xlim(1,None)\n",
    "    \n",
    "    plt.savefig(output_file_name, dpi=300, bbox_inches='tight')\n",
    "\n",
    "plot_updates_vs_entropy(X, Y, \"../plots/plot_updates_vs_entropy.svg\")"
   ]
  },
  {
   "cell_type": "code",
   "execution_count": null,
   "metadata": {},
   "outputs": [],
   "source": [
    "#Showing project IDs on mouse hovering. Based on:\n",
    "#https://stackoverflow.com/questions/7908636/possible-to-make-labels-appear-when-hovering-over-a-point-in-matplotlib\n",
    "\n",
    "%matplotlib tk\n",
    "cmap = plt.cm.RdYlGn\n",
    "norm = plt.Normalize(1,4)\n",
    "\n",
    "fig, ax = plt.subplots()\n",
    "sc = ax.scatter(X, Y, color=\"green\", marker='x', s=5)\n",
    "ax.set_ylabel('entropy', fontsize=30)\n",
    "ax.tick_params(labelsize=23)\n",
    "ax.set_xlabel('#updates', fontsize=30)\n",
    "ax.set_xscale('log')\n",
    "ax.set_yticks(np.arange(np.min(Y),math.exp(1)+.1, .69))\n",
    "    \n",
    "annot = ax.annotate(\"\", xy=(0,0), xytext=(5,5),textcoords=\"offset points\", size=14)\n",
    "annot.set_visible(False)   \n",
    "\n",
    "def update_annot(ind):\n",
    "    pos = sc.get_offsets()[ind[\"ind\"][0]]\n",
    "    annot.xy = pos\n",
    "    text = \"{}\".format(\"\".join(IDs[ind[\"ind\"]]))\n",
    "    annot.set_text(text)\n",
    "    \n",
    "def hover(event):\n",
    "    vis = annot.get_visible()\n",
    "    if event.inaxes == ax:\n",
    "        cont, ind = sc.contains(event)\n",
    "        if cont:\n",
    "            update_annot(ind)\n",
    "            annot.set_visible(True)\n",
    "            fig.canvas.draw_idle()\n",
    "        else:\n",
    "            if vis:\n",
    "                annot.set_visible(False)\n",
    "                fig.canvas.draw_idle()\n",
    "    \n",
    "fig.canvas.mpl_connect(\"motion_notify_event\", hover)"
   ]
  },
  {
   "cell_type": "markdown",
   "metadata": {},
   "source": [
    "<a id='Update_vs_Pixels'></a>\n",
    "# Update vs Pixel"
   ]
  },
  {
   "cell_type": "code",
   "execution_count": null,
   "metadata": {},
   "outputs": [],
   "source": [
    "#Updates vs. Pixels \n",
    "X,Y = Create_Array(updates_per_proj,pixels_per_proj)\n",
    "\n",
    "\n",
    "#Updates vs. pixels: ratio and ID\n",
    "ratios, IDs = Ratio(updates_per_proj,pixels_per_proj, names)"
   ]
  },
  {
   "cell_type": "code",
   "execution_count": null,
   "metadata": {},
   "outputs": [],
   "source": [
    "sorted_ratios = sorted(ratios.items(), key=operator.itemgetter(1), reverse=True)"
   ]
  },
  {
   "cell_type": "code",
   "execution_count": null,
   "metadata": {},
   "outputs": [],
   "source": [
    "#Correlation\n",
    "np.corrcoef(X, Y)"
   ]
  },
  {
   "cell_type": "code",
   "execution_count": null,
   "metadata": {},
   "outputs": [],
   "source": [
    "#Top-10\n",
    "\n",
    "for i in range(10):\n",
    "    proj = sorted_ratios[i][0]\n",
    "    r = sorted_ratios[i][1]\n",
    "        \n",
    "    name = names[int(proj)]\n",
    "    desc = descriptions[int(proj)]\n",
    "   \n",
    "    pix = pixels_per_proj[proj]\n",
    "    up = updates_per_proj[proj]\n",
    "    \n",
    "    print(\"#\", i,\", project: \", name, \", pixels: \", pix, \", updates: \", up, \", pixels/update: \", r, \"\\\n",
    "        , \\ndescription: \", desc, \"\\n\")"
   ]
  },
  {
   "cell_type": "code",
   "execution_count": null,
   "metadata": {},
   "outputs": [],
   "source": [
    "#Bottom-10    \n",
    "for i in range(1, 11):\n",
    "    proj = sorted_ratios[-i][0]\n",
    "    r = sorted_ratios[-i][1]\n",
    "        \n",
    "    name = names[int(proj)]\n",
    "    desc = descriptions[int(proj)]\n",
    "   \n",
    "    pix = pixels_per_proj[proj]\n",
    "    up = updates_per_proj[proj]\n",
    "    \n",
    "    print(\"#\", i,\", project: \", name, \", pixels: \", pix, \", updates: \", up, \", pixels/update: \", r, \"\\\n",
    "        , \\ndescription: \", desc, \"\\n\")"
   ]
  },
  {
   "cell_type": "code",
   "execution_count": null,
   "metadata": {},
   "outputs": [],
   "source": [
    "%matplotlib inline\n",
    "\n",
    "def plot_updates_vs_pixels(X, Y, output_file_name):\n",
    "    plt.clf()\n",
    "    fig, ax = plt.subplots()\n",
    "    ax.scatter(X, Y, color=\"green\", marker='x', s=5)\n",
    "    ax.set_ylabel('#pixels', fontsize=30)\n",
    "    ax.tick_params(labelsize=23)\n",
    "    ax.set_xlabel('#updates', fontsize=30)\n",
    "    ax.set_xscale('log')\n",
    "    ax.set_yscale('log')\n",
    "    ax.set_ylim(1,1000000)\n",
    "    ax.set_xlim(1,None)\n",
    "    plt.savefig(output_file_name, dpi=300, bbox_inches='tight')\n",
    "\n",
    "plot_updates_vs_pixels(X, Y, \"../plots/plot_updates_vs_pixels.svg\")"
   ]
  },
  {
   "cell_type": "code",
   "execution_count": null,
   "metadata": {},
   "outputs": [],
   "source": [
    "#Showing project IDs on mouse hovering. Based on:\n",
    "#https://stackoverflow.com/questions/7908636/possible-to-make-labels-appear-when-hovering-over-a-point-in-matplotlib\n",
    "\n",
    "%matplotlib tk\n",
    "\n",
    "cmap = plt.cm.RdYlGn\n",
    "norm = plt.Normalize(1,4)\n",
    "\n",
    "fig, ax = plt.subplots()\n",
    "sc = ax.scatter(X, Y, color=\"green\", marker='x', s=5)\n",
    "ax.scatter(X, Y, color=\"green\", marker='x', s=5)\n",
    "ax.set_ylabel('#pixels', fontsize=30)\n",
    "ax.tick_params(labelsize=23)\n",
    "ax.set_xlabel('#updates', fontsize=30)\n",
    "ax.set_xscale('log')\n",
    "ax.set_yscale('log')\n",
    "ax.set_ylim(1,1000000)\n",
    "ax.set_xlim(1,None)\n",
    "    \n",
    "annot = ax.annotate(\"\", xy=(0,0), xytext=(5,5),textcoords=\"offset points\", size=14)\n",
    "annot.set_visible(False)   \n",
    "\n",
    "def update_annot(ind):\n",
    "    pos = sc.get_offsets()[ind[\"ind\"][0]]\n",
    "    annot.xy = pos\n",
    "    text = \"{}\".format(\"\".join(IDs[ind[\"ind\"]]))\n",
    "    annot.set_text(text)\n",
    "    \n",
    "def hover(event):\n",
    "    vis = annot.get_visible()\n",
    "    if event.inaxes == ax:\n",
    "        cont, ind = sc.contains(event)\n",
    "        if cont:\n",
    "            update_annot(ind)\n",
    "            annot.set_visible(True)\n",
    "            fig.canvas.draw_idle()\n",
    "        else:\n",
    "            if vis:\n",
    "                annot.set_visible(False)\n",
    "                fig.canvas.draw_idle()\n",
    "    \n",
    "fig.canvas.mpl_connect(\"motion_notify_event\", hover)"
   ]
  },
  {
   "cell_type": "markdown",
   "metadata": {},
   "source": [
    "<a id='Update_vs_User'></a>\n",
    "# Update vs User"
   ]
  },
  {
   "cell_type": "code",
   "execution_count": null,
   "metadata": {},
   "outputs": [],
   "source": [
    "#Updates vs. users per project\n",
    "X,Y = Create_Array(updates_per_proj, users_per_proj)\n",
    "\n",
    "#Updates vs. users: ratio and ID\n",
    "ratios, IDs = Ratio(updates_per_proj,users_per_proj, names)"
   ]
  },
  {
   "cell_type": "code",
   "execution_count": null,
   "metadata": {},
   "outputs": [],
   "source": [
    "sorted_ratios = sorted(ratios.items(), key=operator.itemgetter(1), reverse=True)"
   ]
  },
  {
   "cell_type": "code",
   "execution_count": null,
   "metadata": {},
   "outputs": [],
   "source": [
    "#Correlation\n",
    "np.corrcoef(X, Y)"
   ]
  },
  {
   "cell_type": "code",
   "execution_count": null,
   "metadata": {},
   "outputs": [],
   "source": [
    "#Top-10\n",
    "\n",
    "for i in range(10):\n",
    "    proj = sorted_ratios[i][0]\n",
    "    r = sorted_ratios[i][1]\n",
    "        \n",
    "    name = names[int(proj)]\n",
    "    desc = descriptions[int(proj)]\n",
    "   \n",
    "    usr = users_per_proj[proj]\n",
    "    up = updates_per_proj[proj]\n",
    "    \n",
    "    print(\"#\", i, \", project: \", name, \", users: \", usr, \", updates: \", up, \", users/update: \", r, \"\\\n",
    "        , \\ndescription: \", desc, \"\\n\")"
   ]
  },
  {
   "cell_type": "code",
   "execution_count": null,
   "metadata": {},
   "outputs": [],
   "source": [
    "#Bottom-10    \n",
    "for i in range(1, 11):\n",
    "    proj = sorted_ratios[-i][0]\n",
    "    r = sorted_ratios[-i][1]\n",
    "        \n",
    "    name = names[int(proj)]\n",
    "    desc = descriptions[int(proj)]\n",
    "   \n",
    "    usr = users_per_proj[proj]\n",
    "    up = updates_per_proj[proj]\n",
    "    \n",
    "    print(\"#\", i, \", project: \", name, \", users: \", usr, \", updates: \", up, \", users/update: \", r, \"\\\n",
    "        , \\ndescription: \", desc, \"\\n\")"
   ]
  },
  {
   "cell_type": "code",
   "execution_count": null,
   "metadata": {},
   "outputs": [],
   "source": [
    "%matplotlib inline\n",
    "\n",
    "def plot_updates_vs_pixels(X, Y, output_file_name):\n",
    "    plt.clf()\n",
    "    fig, ax = plt.subplots()\n",
    "    ax.scatter(X, Y, color=\"green\", marker='x', s=5)\n",
    "    ax.set_ylabel('#pixels', fontsize=30)\n",
    "    ax.tick_params(labelsize=23)\n",
    "    ax.set_xlabel('#updates', fontsize=30)\n",
    "    ax.set_xscale('log')\n",
    "    ax.set_yscale('log')\n",
    "    ax.set_ylim(1,1000000)\n",
    "    ax.set_xlim(1,None)\n",
    "    plt.savefig(output_file_name, dpi=300, bbox_inches='tight')\n",
    "\n",
    "plot_updates_vs_pixels(X, Y, \"../plots/plot_updates_vs_users.svg\")"
   ]
  },
  {
   "cell_type": "code",
   "execution_count": null,
   "metadata": {},
   "outputs": [],
   "source": [
    "%matplotlib tk\n",
    "\n",
    "cmap = plt.cm.RdYlGn\n",
    "norm = plt.Normalize(1,4)\n",
    "\n",
    "fig, ax = plt.subplots()\n",
    "sc = ax.scatter(X, Y, color=\"green\", marker='x', s=5)\n",
    "ax.scatter(X, Y, color=\"green\", marker='x', s=5)\n",
    "ax.set_ylabel('#users', fontsize=30)\n",
    "ax.tick_params(labelsize=23)\n",
    "ax.set_xlabel('#updates', fontsize=30)\n",
    "ax.set_xscale('log')\n",
    "ax.set_yscale('log')\n",
    "ax.set_ylim(1,1000000)\n",
    "ax.set_xlim(1,None)\n",
    "    \n",
    "annot = ax.annotate(\"\", xy=(0,0), xytext=(5,5),textcoords=\"offset points\", size=14)\n",
    "annot.set_visible(False)   \n",
    "\n",
    "def update_annot(ind):\n",
    "    pos = sc.get_offsets()[ind[\"ind\"][0]]\n",
    "    annot.xy = pos\n",
    "    text = \"{}\".format(\"\".join(IDs[ind[\"ind\"]]))\n",
    "    annot.set_text(text)\n",
    "    \n",
    "def hover(event):\n",
    "    vis = annot.get_visible()\n",
    "    if event.inaxes == ax:\n",
    "        cont, ind = sc.contains(event)\n",
    "        if cont:\n",
    "            update_annot(ind)\n",
    "            annot.set_visible(True)\n",
    "            fig.canvas.draw_idle()\n",
    "        else:\n",
    "            if vis:\n",
    "                annot.set_visible(False)\n",
    "                fig.canvas.draw_idle()\n",
    "    \n",
    "fig.canvas.mpl_connect(\"motion_notify_event\", hover)"
   ]
  },
  {
   "cell_type": "markdown",
   "metadata": {},
   "source": [
    "<a id='Update_vs_Time'></a>\n",
    "# Update vs Time"
   ]
  },
  {
   "cell_type": "code",
   "execution_count": null,
   "metadata": {},
   "outputs": [],
   "source": [
    "\n",
    "#Updates vs. time per project\n",
    "X,Y = Create_Array(updates_per_proj, times_per_proj)\n",
    "\n",
    "#Updates vs. time: ratio and ID\n",
    "ratios, IDs = Ratio(updates_per_proj,times_per_proj, names)"
   ]
  },
  {
   "cell_type": "code",
   "execution_count": null,
   "metadata": {},
   "outputs": [],
   "source": [
    "sorted_ratios = sorted(ratios.items(), key=operator.itemgetter(1), reverse=True)"
   ]
  },
  {
   "cell_type": "code",
   "execution_count": null,
   "metadata": {},
   "outputs": [],
   "source": [
    "#Correlation\n",
    "\n",
    "np.corrcoef(X, Y)"
   ]
  },
  {
   "cell_type": "code",
   "execution_count": null,
   "metadata": {},
   "outputs": [],
   "source": [
    "#Top-10\n",
    "\n",
    "for i in range(10):\n",
    "    proj = sorted_ratios[i][0]\n",
    "    r = sorted_ratios[i][1]/ (1000 * 60 * 60)\n",
    "        \n",
    "    name = names[int(proj)]\n",
    "    desc = descriptions[int(proj)]\n",
    "   \n",
    "    tm = times_per_proj[proj] / (1000 * 60 * 60)\n",
    "    up = updates_per_proj[proj]\n",
    "    \n",
    "    print(\"#\", i, \", project: \", name, \", time: \", tm, \", updates: \", up, \", times/update: \", r, \"\\\n",
    "        , \\ndescription: \", desc, \"\\n\") \n",
    "    "
   ]
  },
  {
   "cell_type": "code",
   "execution_count": null,
   "metadata": {},
   "outputs": [],
   "source": [
    "#Bottom-10    \n",
    "for i in range(1, 11):\n",
    "    proj = sorted_ratios[-i][0]\n",
    "    r = sorted_ratios[-i][1]/ (1000 * 60 * 60)\n",
    "        \n",
    "    name = names[int(proj)]\n",
    "    desc = descriptions[int(proj)]\n",
    "   \n",
    "    tm = times_per_proj[proj] / (1000 * 60 * 60)\n",
    "    up = updates_per_proj[proj]\n",
    "    \n",
    "    print(\"#\", i, \", project: \", name, \", time: \", tm, \", updates: \", up, \", times/update: \", r, \"\\\n",
    "        , \\ndescription: \", desc, \"\\n\") \n",
    "    "
   ]
  },
  {
   "cell_type": "code",
   "execution_count": null,
   "metadata": {},
   "outputs": [],
   "source": [
    "%matplotlib inline\n",
    "Y=Y/ (1000 * 60 * 60)\n",
    "def plot_updates_vs_times(X, Y, output_file_name):\n",
    "    plt.clf()\n",
    "    ax = plt.subplot()\n",
    "    ax.scatter(X, Y, color=\"green\", marker='x', s=5)\n",
    "    ax.set_ylabel('time (hours)', fontsize=30)\n",
    "    ax.tick_params(labelsize=23)\n",
    "    ax.set_xlabel('#updates', fontsize=30)\n",
    "    ax.set_xscale('log')\n",
    "    ax.set_xlim(1,None)\n",
    "    ax.set_ylim(0,100)\n",
    "    plt.savefig(output_file_name, dpi=300, bbox_inches='tight')\n",
    "\n",
    "plot_updates_vs_times(X, Y, \"../plots/plot_updates_vs_times.svg\")"
   ]
  },
  {
   "cell_type": "code",
   "execution_count": null,
   "metadata": {},
   "outputs": [],
   "source": [
    "%matplotlib tk\n",
    "\n",
    "cmap = plt.cm.RdYlGn\n",
    "norm = plt.Normalize(1,4)\n",
    "\n",
    "fig, ax = plt.subplots()\n",
    "sc = ax.scatter(X, Y, color=\"green\", marker='x', s=5)\n",
    "ax.scatter(X, Y, color=\"green\", marker='x', s=5)\n",
    "ax.scatter(X, Y, color=\"green\", marker='x', s=5)\n",
    "ax.set_ylabel('time (hours)', fontsize=30)\n",
    "ax.tick_params(labelsize=23)\n",
    "ax.set_xlabel('#updates', fontsize=30)\n",
    "ax.set_xscale('log')\n",
    "ax.set_xlim(1,None)\n",
    "ax.set_ylim(0,100)\n",
    "    \n",
    "annot = ax.annotate(\"\", xy=(0,0), xytext=(5,5),textcoords=\"offset points\", size=14)\n",
    "annot.set_visible(False)   \n",
    "\n",
    "def update_annot(ind):\n",
    "    pos = sc.get_offsets()[ind[\"ind\"][0]]\n",
    "    annot.xy = pos\n",
    "    text = \"{}\".format(\"\".join(IDs[ind[\"ind\"]]))\n",
    "    annot.set_text(text)\n",
    "    \n",
    "def hover(event):\n",
    "    vis = annot.get_visible()\n",
    "    if event.inaxes == ax:\n",
    "        cont, ind = sc.contains(event)\n",
    "        if cont:\n",
    "            update_annot(ind)\n",
    "            annot.set_visible(True)\n",
    "            fig.canvas.draw_idle()\n",
    "        else:\n",
    "            if vis:\n",
    "                annot.set_visible(False)\n",
    "                fig.canvas.draw_idle()\n",
    "    \n",
    "fig.canvas.mpl_connect(\"motion_notify_event\", hover)"
   ]
  },
  {
   "cell_type": "markdown",
   "metadata": {},
   "source": [
    "<a id='Update_vs_Area'></a>\n",
    "# Update vs Area"
   ]
  },
  {
   "cell_type": "code",
   "execution_count": null,
   "metadata": {},
   "outputs": [],
   "source": [
    "#Updates vs. area per project\n",
    "X,Y = Create_Array(updates_per_proj, area_per_proj)\n",
    "\n",
    "#Updates vs. time: ratio and ID\n",
    "ratios, IDs = Ratio(updates_per_proj,area_per_proj, names)"
   ]
  },
  {
   "cell_type": "code",
   "execution_count": null,
   "metadata": {},
   "outputs": [],
   "source": [
    "sorted_ratios = sorted(ratios.items(), key=operator.itemgetter(1), reverse=True)"
   ]
  },
  {
   "cell_type": "code",
   "execution_count": null,
   "metadata": {},
   "outputs": [],
   "source": [
    "#Correlation\n",
    "\n",
    "np.corrcoef(X, Y)"
   ]
  },
  {
   "cell_type": "code",
   "execution_count": null,
   "metadata": {},
   "outputs": [],
   "source": [
    "#Top-10\n",
    "\n",
    "for i in range(10):\n",
    "    proj = sorted_ratios[i][0]\n",
    "    r = sorted_ratios[i][1]\n",
    "        \n",
    "    name = names[int(proj)]\n",
    "    desc = descriptions[int(proj)]\n",
    "   \n",
    "    ar = area_per_proj[proj] \n",
    "    up = updates_per_proj[proj]\n",
    "    \n",
    "    print(\"#\", i, \", project: \", name, \", area: \", ar, \", updates: \", up, \", area/update: \", r, \"\\\n",
    "        , \\ndescription: \", desc, \"\\n\") "
   ]
  },
  {
   "cell_type": "code",
   "execution_count": null,
   "metadata": {},
   "outputs": [],
   "source": [
    "#Bottom-10\n",
    "\n",
    "for i in range(1,11):\n",
    "    proj = sorted_ratios[-i][0]\n",
    "    r = sorted_ratios[-i][1]\n",
    "        \n",
    "    name = names[int(proj)]\n",
    "    desc = descriptions[int(proj)]\n",
    "   \n",
    "    ar = area_per_proj[proj] \n",
    "    up = updates_per_proj[proj]\n",
    "    \n",
    "    print(\"#\", i, \", project: \", name, \", area: \", ar, \", updates: \", up, \", area/update: \", r, \"\\\n",
    "        , \\ndescription: \", desc, \"\\n\")"
   ]
  },
  {
   "cell_type": "code",
   "execution_count": null,
   "metadata": {},
   "outputs": [],
   "source": [
    "%matplotlib inline\n",
    "def plot_updates_vs_area(X, Y, output_file_name):\n",
    "    plt.clf()\n",
    "    ax = plt.subplot()\n",
    "    ax.scatter(X, Y, color=\"green\", marker='x', s=5)\n",
    "    ax.set_ylabel('area', fontsize=30)\n",
    "    ax.tick_params(labelsize=23)\n",
    "    ax.set_xlabel('#updates', fontsize=30)\n",
    "    ax.set_xscale('log')\n",
    "    ax.set_xlim(1,None)\n",
    "    #ax.set_ylim(0,100)\n",
    "    plt.savefig(output_file_name, dpi=300, bbox_inches='tight')\n",
    "\n",
    "plot_updates_vs_area(X, Y, \"../plots/plot_updates_vs_area.svg\")"
   ]
  },
  {
   "cell_type": "code",
   "execution_count": null,
   "metadata": {},
   "outputs": [],
   "source": [
    "%matplotlib tk\n",
    "\n",
    "cmap = plt.cm.RdYlGn\n",
    "norm = plt.Normalize(1,4)\n",
    "\n",
    "fig, ax = plt.subplots()\n",
    "sc = ax.scatter(X, Y, color=\"green\", marker='x', s=5)\n",
    "ax.scatter(X, Y, color=\"green\", marker='x', s=5)\n",
    "ax.scatter(X, Y, color=\"green\", marker='x', s=5)\n",
    "ax.set_ylabel('area', fontsize=30)\n",
    "ax.tick_params(labelsize=23)\n",
    "ax.set_xlabel('#updates', fontsize=30)\n",
    "ax.set_xscale('log')\n",
    "ax.set_xlim(1,None)\n",
    "#ax.set_ylim(0,100)\n",
    "    \n",
    "annot = ax.annotate(\"\", xy=(0,0), xytext=(5,5),textcoords=\"offset points\", size=14)\n",
    "annot.set_visible(False)   \n",
    "\n",
    "def update_annot(ind):\n",
    "    pos = sc.get_offsets()[ind[\"ind\"][0]]\n",
    "    annot.xy = pos\n",
    "    text = \"{}\".format(\"\".join(IDs[ind[\"ind\"]]))\n",
    "    annot.set_text(text)\n",
    "    \n",
    "def hover(event):\n",
    "    vis = annot.get_visible()\n",
    "    if event.inaxes == ax:\n",
    "        cont, ind = sc.contains(event)\n",
    "        if cont:\n",
    "            update_annot(ind)\n",
    "            annot.set_visible(True)\n",
    "            fig.canvas.draw_idle()\n",
    "        else:\n",
    "            if vis:\n",
    "                annot.set_visible(False)\n",
    "                fig.canvas.draw_idle()\n",
    "    \n",
    "fig.canvas.mpl_connect(\"motion_notify_event\", hover)"
   ]
  },
  {
   "cell_type": "markdown",
   "metadata": {},
   "source": [
    "<a id='Pixels_vs_Entropy'></a>\n",
    "# Pixels vs Entropy"
   ]
  },
  {
   "cell_type": "code",
   "execution_count": null,
   "metadata": {},
   "outputs": [],
   "source": [
    "#Pixels vs. entropy per project\n",
    "X,Y = Create_Array(pixels_per_proj, entropy_per_proj)\n",
    "\n",
    "#Pixels vs. entropy: ratio and ID\n",
    "ratios, IDs = Ratio(pixels_per_proj,entropy_per_proj, names)"
   ]
  },
  {
   "cell_type": "code",
   "execution_count": null,
   "metadata": {},
   "outputs": [],
   "source": [
    "sorted_ratios = sorted(ratios.items(), key=operator.itemgetter(1), reverse=True)"
   ]
  },
  {
   "cell_type": "code",
   "execution_count": null,
   "metadata": {},
   "outputs": [],
   "source": [
    "#Correlation\n",
    "\n",
    "np.corrcoef(X, Y)"
   ]
  },
  {
   "cell_type": "code",
   "execution_count": null,
   "metadata": {},
   "outputs": [],
   "source": [
    "#Entropy/pixel\n",
    "  \n",
    "#Top-10\n",
    "\n",
    "for i in range(10):\n",
    "    proj = sorted_ratios[i][0]\n",
    "    r = sorted_ratios[i][1]\n",
    "        \n",
    "    name = names[int(proj)]\n",
    "    desc = descriptions[int(proj)]\n",
    "   \n",
    "    \n",
    "    ent = entropy_per_proj[proj]\n",
    "    pix = pixels_per_proj[proj]\n",
    "    \n",
    "    print(\"#\", i, \", project: \", name, \", entropy: \", ent, \", pixels: \", pix, \", entropy/pixel: \", r, \"\\\n",
    "        , \\ndescription: \", desc, \"\\n\")     "
   ]
  },
  {
   "cell_type": "code",
   "execution_count": null,
   "metadata": {},
   "outputs": [],
   "source": [
    "#Bottom-10\n",
    "for i in range(1,11):\n",
    "    proj = sorted_ratios[-i][0]\n",
    "    r = sorted_ratios[-i][1]\n",
    "    \n",
    "    name = names[int(proj)]\n",
    "    desc = descriptions[int(proj)]\n",
    "   \n",
    "    ent = entropy_per_proj[proj]\n",
    "    pix = pixels_per_proj[proj]\n",
    "    \n",
    "    print(\"#\", i, \", project: \", name, \", entropy: \", ent, \", pixels: \", pix, \", entropy/pixel: \", r, \"\\\n",
    "        , \\ndescription: \", desc, \"\\n\") "
   ]
  },
  {
   "cell_type": "code",
   "execution_count": null,
   "metadata": {},
   "outputs": [],
   "source": [
    "%matplotlib inline\n",
    "def plot_pixels_vs_entropy(X, Y, output_file_name):\n",
    "    plt.clf()\n",
    "\n",
    "    ax = plt.subplot(111)\n",
    "    ax.scatter(X, Y, color=\"green\", marker='x', s=5)\n",
    "    ax.set_ylabel('entropy', fontsize=30)\n",
    "    ax.tick_params(labelsize=23)\n",
    "    ax.set_xlabel('#pixels', fontsize=30)\n",
    "    ax.set_yticks(np.arange(0.69,math.exp(1)+.1, .69))\n",
    "    ax.set_xscale('log')\n",
    "    ax.set_xlim(1,1000000)\n",
    "    plt.savefig(output_file_name, dpi=300, bbox_inches='tight')\n",
    "\n",
    "plot_pixels_vs_entropy(X, Y, \"../plots/plot_pixels_vs_entropy.svg\")"
   ]
  },
  {
   "cell_type": "code",
   "execution_count": null,
   "metadata": {},
   "outputs": [],
   "source": [
    "%matplotlib tk\n",
    "\n",
    "cmap = plt.cm.RdYlGn\n",
    "norm = plt.Normalize(1,4)\n",
    "\n",
    "fig, ax = plt.subplots()\n",
    "sc = ax.scatter(X, Y, color=\"green\", marker='x', s=5)\n",
    "ax.scatter(X, Y, color=\"green\", marker='x', s=5)\n",
    "ax.set_ylabel('entropy', fontsize=30)\n",
    "ax.tick_params(labelsize=23)\n",
    "ax.set_xlabel('#pixels', fontsize=30)\n",
    "ax.set_yticks(np.arange(0.69,math.exp(1)+.1, .69))\n",
    "ax.set_xscale('log')\n",
    "ax.set_xlim(1,1000000)\n",
    "    \n",
    "annot = ax.annotate(\"\", xy=(0,0), xytext=(5,5),textcoords=\"offset points\", size=14)\n",
    "annot.set_visible(False)   \n",
    "\n",
    "def update_annot(ind):\n",
    "    pos = sc.get_offsets()[ind[\"ind\"][0]]\n",
    "    annot.xy = pos\n",
    "    text = \"{}\".format(\"\".join(IDs[ind[\"ind\"]]))\n",
    "    annot.set_text(text)\n",
    "    \n",
    "def hover(event):\n",
    "    vis = annot.get_visible()\n",
    "    if event.inaxes == ax:\n",
    "        cont, ind = sc.contains(event)\n",
    "        if cont:\n",
    "            update_annot(ind)\n",
    "            annot.set_visible(True)\n",
    "            fig.canvas.draw_idle()\n",
    "        else:\n",
    "            if vis:\n",
    "                annot.set_visible(False)\n",
    "                fig.canvas.draw_idle()\n",
    "    \n",
    "fig.canvas.mpl_connect(\"motion_notify_event\", hover)"
   ]
  },
  {
   "cell_type": "markdown",
   "metadata": {},
   "source": [
    "<a id='Pixels_vs_Users'></a>\n",
    "# Pixels vs Users"
   ]
  },
  {
   "cell_type": "code",
   "execution_count": null,
   "metadata": {},
   "outputs": [],
   "source": [
    "#Pixels vs. users per project\n",
    "X,Y = Create_Array(pixels_per_proj, users_per_proj)\n",
    "\n",
    "#Pixels vs. users: ratio and ID\n",
    "ratios, IDs = Ratio(pixels_per_proj,users_per_proj, names)"
   ]
  },
  {
   "cell_type": "code",
   "execution_count": null,
   "metadata": {},
   "outputs": [],
   "source": [
    "sorted_ratios = sorted(ratios.items(), key=operator.itemgetter(1), reverse=True)"
   ]
  },
  {
   "cell_type": "code",
   "execution_count": null,
   "metadata": {},
   "outputs": [],
   "source": [
    "#Correlation\n",
    "\n",
    "np.corrcoef(X, Y)"
   ]
  },
  {
   "cell_type": "code",
   "execution_count": null,
   "metadata": {},
   "outputs": [],
   "source": [
    "#users/pixel\n",
    "  \n",
    "#Top-10\n",
    "\n",
    "for i in range(10):\n",
    "    proj = sorted_ratios[i][0]\n",
    "    r = sorted_ratios[i][1]\n",
    "        \n",
    "    name = names[int(proj)]\n",
    "    desc = descriptions[int(proj)]\n",
    "   \n",
    "    \n",
    "    usr = users_per_proj[proj]\n",
    "    pix = pixels_per_proj[proj]\n",
    "    \n",
    "    print(\"#\", i, \", project: \", name, \", users: \", usr, \", pixels: \", pix, \", users/pixel: \", r, \"\\\n",
    "        , \\ndescription: \", desc, \"\\n\") "
   ]
  },
  {
   "cell_type": "code",
   "execution_count": null,
   "metadata": {},
   "outputs": [],
   "source": [
    "#Bottom-10\n",
    "for i in range(1,11):\n",
    "    proj = sorted_ratios[-i][0]\n",
    "    r = sorted_ratios[-i][1]\n",
    "    \n",
    "    name = names[int(proj)]\n",
    "    desc = descriptions[int(proj)]\n",
    "   \n",
    "    usr = users_per_proj[proj]\n",
    "    pix = pixels_per_proj[proj]\n",
    "    \n",
    "    print(\"#\", i, \", project: \", name, \", users: \", usr, \", pixels: \", pix, \", users/pixel: \", r, \"\\\n",
    "        , \\ndescription: \", desc, \"\\n\")"
   ]
  },
  {
   "cell_type": "code",
   "execution_count": null,
   "metadata": {},
   "outputs": [],
   "source": [
    "%matplotlib inline\n",
    "def plot_pixels_vs_users(X, Y, output_file_name):\n",
    "    plt.clf()\n",
    "\n",
    "    ax = plt.subplot(111)\n",
    "    ax.scatter(X, Y, color=\"green\", marker='x', s=5)\n",
    "    ax.set_ylabel('#users', fontsize=30)\n",
    "    ax.tick_params(labelsize=23)\n",
    "    ax.set_xlabel('#pixels', fontsize=30)\n",
    "    ax.set_xscale('log')\n",
    "    ax.set_yscale('log')\n",
    "    ax.set_ylim(1,1000000)\n",
    "    ax.set_xlim(1,1000000)\n",
    "    plt.savefig(output_file_name, dpi=300, bbox_inches='tight')\n",
    "\n",
    "plot_pixels_vs_users(X, Y, \"../plots/plot_pixels_vs_users.svg\")"
   ]
  },
  {
   "cell_type": "code",
   "execution_count": null,
   "metadata": {},
   "outputs": [],
   "source": [
    "%matplotlib tk\n",
    "\n",
    "cmap = plt.cm.RdYlGn\n",
    "norm = plt.Normalize(1,4)\n",
    "\n",
    "fig, ax = plt.subplots()\n",
    "sc = ax.scatter(X, Y, color=\"green\", marker='x', s=5)\n",
    "ax.scatter(X, Y, color=\"green\", marker='x', s=5)\n",
    "ax.set_ylabel('#users', fontsize=30)\n",
    "ax.tick_params(labelsize=23)\n",
    "ax.set_xlabel('#pixels', fontsize=30)\n",
    "ax.set_xscale('log')\n",
    "ax.set_yscale('log')\n",
    "ax.set_ylim(1,1000000)\n",
    "ax.set_xlim(1,1000000)\n",
    "    \n",
    "annot = ax.annotate(\"\", xy=(0,0), xytext=(5,5),textcoords=\"offset points\", size=14)\n",
    "annot.set_visible(False)   \n",
    "\n",
    "def update_annot(ind):\n",
    "    pos = sc.get_offsets()[ind[\"ind\"][0]]\n",
    "    annot.xy = pos\n",
    "    text = \"{}\".format(\"\".join(IDs[ind[\"ind\"]]))\n",
    "    annot.set_text(text)\n",
    "    \n",
    "def hover(event):\n",
    "    vis = annot.get_visible()\n",
    "    if event.inaxes == ax:\n",
    "        cont, ind = sc.contains(event)\n",
    "        if cont:\n",
    "            update_annot(ind)\n",
    "            annot.set_visible(True)\n",
    "            fig.canvas.draw_idle()\n",
    "        else:\n",
    "            if vis:\n",
    "                annot.set_visible(False)\n",
    "                fig.canvas.draw_idle()\n",
    "    \n",
    "fig.canvas.mpl_connect(\"motion_notify_event\", hover)"
   ]
  },
  {
   "cell_type": "markdown",
   "metadata": {},
   "source": [
    "<a id='Pixels_vs_Time'></a>\n",
    "# Pixels vs Time"
   ]
  },
  {
   "cell_type": "code",
   "execution_count": null,
   "metadata": {},
   "outputs": [],
   "source": [
    "#Pixels vs. time per project\n",
    "X,Y = Create_Array(pixels_per_proj, times_per_proj)\n",
    "\n",
    "#Pixels vs. area: ratio and ID\n",
    "ratios, IDs = Ratio(pixels_per_proj, times_per_proj, names)"
   ]
  },
  {
   "cell_type": "code",
   "execution_count": null,
   "metadata": {},
   "outputs": [],
   "source": [
    "sorted_ratios = sorted(ratios.items(), key=operator.itemgetter(1), reverse=True)"
   ]
  },
  {
   "cell_type": "code",
   "execution_count": null,
   "metadata": {},
   "outputs": [],
   "source": [
    "#Correlation\n",
    "\n",
    "np.corrcoef(X, Y)"
   ]
  },
  {
   "cell_type": "code",
   "execution_count": null,
   "metadata": {},
   "outputs": [],
   "source": [
    " #Time/Pixel\n",
    "#Top-10\n",
    "\n",
    "for i in range(10):\n",
    "    proj = sorted_ratios[i][0]\n",
    "    r = sorted_ratios[i][1]/(1000 * 60 * 60)\n",
    "        \n",
    "    name = names[int(proj)]\n",
    "    desc = descriptions[int(proj)]\n",
    "   \n",
    "    \n",
    "    tm = times_per_proj[proj] / (1000 * 60 * 60)\n",
    "    pix = pixels_per_proj[proj]\n",
    "    \n",
    "    print(\"#\", i, \", project: \", name, \", time: \", tm, \", pixels: \", pix, \", time/pixel: \", r, \"\\\n",
    "        , \\ndescription: \", desc, \"\\n\") \n",
    "    "
   ]
  },
  {
   "cell_type": "code",
   "execution_count": null,
   "metadata": {},
   "outputs": [],
   "source": [
    "#Bottom-10\n",
    "for i in range(1,11):\n",
    "    proj = sorted_ratios[-i][0]\n",
    "    r = sorted_ratios[-i][1]/(1000 * 60 * 60)\n",
    "    \n",
    "    name = names[int(proj)]\n",
    "    desc = descriptions[int(proj)]\n",
    "   \n",
    "    tm = times_per_proj[proj] / (1000 * 60 * 60)\n",
    "    pix = pixels_per_proj[proj]\n",
    "    \n",
    "    print(\"#\", i, \", project: \", name, \", time: \", tm, \", pixels: \", pix, \", time/pixel: \", r, \"\\\n",
    "        , \\ndescription: \", desc, \"\\n\") "
   ]
  },
  {
   "cell_type": "code",
   "execution_count": null,
   "metadata": {},
   "outputs": [],
   "source": [
    "%matplotlib inline\n",
    "Y= Y/(3600*1000)\n",
    "def plot_pixels_vs_times(X, Y, output_file_name):\n",
    "    plt.clf()\n",
    "\n",
    "    ax = plt.subplot(111)\n",
    "    ax.scatter(X, Y, color=\"green\", marker='x', s=5)\n",
    "    ax.set_ylabel('time (hours)', fontsize=30)\n",
    "    ax.tick_params(labelsize=23)\n",
    "    ax.set_xlabel('#pixels', fontsize=30)\n",
    "    ax.set_xscale('log')\n",
    "    ax.set_ylim(0,100)\n",
    "    ax.set_xlim(1,1000000)\n",
    "    plt.savefig(output_file_name, dpi=300, bbox_inches='tight')\n",
    "\n",
    "plot_pixels_vs_times(X, Y, \"../plots/plot_pixels_vs_times.svg\")"
   ]
  },
  {
   "cell_type": "code",
   "execution_count": null,
   "metadata": {},
   "outputs": [],
   "source": [
    "%matplotlib tk\n",
    "\n",
    "cmap = plt.cm.RdYlGn\n",
    "norm = plt.Normalize(1,4)\n",
    "\n",
    "fig, ax = plt.subplots()\n",
    "sc = ax.scatter(X, Y, color=\"green\", marker='x', s=5)\n",
    "ax.scatter(X, Y, color=\"green\", marker='x', s=5)\n",
    "ax.set_ylabel('time (hours)', fontsize=30)\n",
    "ax.tick_params(labelsize=23)\n",
    "ax.set_xlabel('#pixels', fontsize=30)\n",
    "ax.set_xscale('log')\n",
    "#ax.set_ylim(0,100)\n",
    "#ax.set_xlim(1,1000000)\n",
    "    \n",
    "annot = ax.annotate(\"\", xy=(0,0), xytext=(5,5),textcoords=\"offset points\", size=14)\n",
    "annot.set_visible(False)   \n",
    "\n",
    "def update_annot(ind):\n",
    "    pos = sc.get_offsets()[ind[\"ind\"][0]]\n",
    "    annot.xy = pos\n",
    "    text = \"{}\".format(\"\".join(IDs[ind[\"ind\"]]))\n",
    "    annot.set_text(text)\n",
    "    \n",
    "def hover(event):\n",
    "    vis = annot.get_visible()\n",
    "    if event.inaxes == ax:\n",
    "        cont, ind = sc.contains(event)\n",
    "        if cont:\n",
    "            update_annot(ind)\n",
    "            annot.set_visible(True)\n",
    "            fig.canvas.draw_idle()\n",
    "        else:\n",
    "            if vis:\n",
    "                annot.set_visible(False)\n",
    "                fig.canvas.draw_idle()\n",
    "    \n",
    "fig.canvas.mpl_connect(\"motion_notify_event\", hover)"
   ]
  },
  {
   "cell_type": "markdown",
   "metadata": {},
   "source": [
    "<a id='Pixels_vs_Area'></a>\n",
    "# Pixels vs Area"
   ]
  },
  {
   "cell_type": "code",
   "execution_count": null,
   "metadata": {},
   "outputs": [],
   "source": [
    "#Pixels vs. area per project\n",
    "X,Y = Create_Array(pixels_per_proj, area_per_proj)\n",
    "\n",
    "#Pixels vs. area: ratio and ID\n",
    "ratios, IDs = Ratio(pixels_per_proj, area_per_proj, names)"
   ]
  },
  {
   "cell_type": "code",
   "execution_count": null,
   "metadata": {},
   "outputs": [],
   "source": [
    "sorted_ratios = sorted(ratios.items(), key=operator.itemgetter(1), reverse=True)"
   ]
  },
  {
   "cell_type": "code",
   "execution_count": null,
   "metadata": {},
   "outputs": [],
   "source": [
    "#Correlation\n",
    "\n",
    "np.corrcoef(X, Y)"
   ]
  },
  {
   "cell_type": "code",
   "execution_count": null,
   "metadata": {},
   "outputs": [],
   "source": [
    " #Area/Pixel\n",
    "#Top-10\n",
    "\n",
    "for i in range(10):\n",
    "    proj = sorted_ratios[i][0]\n",
    "    r = sorted_ratios[i][1]\n",
    "        \n",
    "    name = names[int(proj)]\n",
    "    desc = descriptions[int(proj)]\n",
    "   \n",
    "    \n",
    "    ar = area_per_proj[proj] \n",
    "    pix = pixels_per_proj[proj]\n",
    "    \n",
    "    print(\"#\", i, \", project: \", name, \", area: \", ar, \", pixels: \", pix, \", area/pixel: \", r, \"\\\n",
    "        , \\ndescription: \", desc, \"\\n\") "
   ]
  },
  {
   "cell_type": "code",
   "execution_count": null,
   "metadata": {},
   "outputs": [],
   "source": [
    " #bottom-10\n",
    "\n",
    "for i in range(1,11):\n",
    "    proj = sorted_ratios[-i][0]\n",
    "    r = sorted_ratios[-i][1]\n",
    "        \n",
    "    name = names[int(proj)]\n",
    "    desc = descriptions[int(proj)]\n",
    "   \n",
    "    \n",
    "    ar = area_per_proj[proj] \n",
    "    pix = pixels_per_proj[proj]\n",
    "    \n",
    "    print(\"#\", i, \", project: \", name, \", area: \", ar, \", pixels: \", pix, \", area/pixel: \", r, \"\\\n",
    "        , \\ndescription: \", desc, \"\\n\") "
   ]
  },
  {
   "cell_type": "code",
   "execution_count": null,
   "metadata": {},
   "outputs": [],
   "source": [
    "%matplotlib inline\n",
    "def plot_pixels_vs_area(X, Y, output_file_name):\n",
    "    plt.clf()\n",
    "\n",
    "    ax = plt.subplot(111)\n",
    "    ax.scatter(X, Y, color=\"green\", marker='x', s=5)\n",
    "    ax.set_ylabel('area', fontsize=30)\n",
    "    ax.tick_params(labelsize=23)\n",
    "    ax.set_xlabel('#pixels', fontsize=30)\n",
    "    ax.set_xscale('log')\n",
    "    #ax.set_ylim(0,100)\n",
    "    ax.set_xlim(1,1000000)\n",
    "    plt.savefig(output_file_name, dpi=300, bbox_inches='tight')\n",
    "\n",
    "plot_pixels_vs_area(X, Y, \"../plots/plot_pixels_vs_area.svg\")"
   ]
  },
  {
   "cell_type": "code",
   "execution_count": null,
   "metadata": {},
   "outputs": [],
   "source": [
    "%matplotlib tk\n",
    "\n",
    "cmap = plt.cm.RdYlGn\n",
    "norm = plt.Normalize(1,4)\n",
    "\n",
    "fig, ax = plt.subplots()\n",
    "sc = ax.scatter(X, Y, color=\"green\", marker='x', s=5)\n",
    "ax.scatter(X, Y, color=\"green\", marker='x', s=5)\n",
    "ax.set_ylabel('area', fontsize=30)\n",
    "ax.tick_params(labelsize=23)\n",
    "ax.set_xlabel('#pixels', fontsize=30)\n",
    "ax.set_xscale('log')\n",
    "#ax.set_ylim(0,100)\n",
    "ax.set_xlim(1,1000000)\n",
    "    \n",
    "annot = ax.annotate(\"\", xy=(0,0), xytext=(5,5),textcoords=\"offset points\", size=14)\n",
    "annot.set_visible(False)   \n",
    "\n",
    "def update_annot(ind):\n",
    "    pos = sc.get_offsets()[ind[\"ind\"][0]]\n",
    "    annot.xy = pos\n",
    "    text = \"{}\".format(\"\".join(IDs[ind[\"ind\"]]))\n",
    "    annot.set_text(text)\n",
    "    \n",
    "def hover(event):\n",
    "    vis = annot.get_visible()\n",
    "    if event.inaxes == ax:\n",
    "        cont, ind = sc.contains(event)\n",
    "        if cont:\n",
    "            update_annot(ind)\n",
    "            annot.set_visible(True)\n",
    "            fig.canvas.draw_idle()\n",
    "        else:\n",
    "            if vis:\n",
    "                annot.set_visible(False)\n",
    "                fig.canvas.draw_idle()\n",
    "    \n",
    "fig.canvas.mpl_connect(\"motion_notify_event\", hover)"
   ]
  },
  {
   "cell_type": "markdown",
   "metadata": {},
   "source": [
    "<a id='Users_vs_Entropy'></a>\n",
    "# Users_vs_Entropy"
   ]
  },
  {
   "cell_type": "code",
   "execution_count": null,
   "metadata": {},
   "outputs": [],
   "source": [
    "#Users vs. entropy per project\n",
    "\n",
    "X,Y = Create_Array(users_per_proj, entropy_per_proj)\n",
    "\n",
    "#Users vs. entropy: ratio and ID\n",
    "ratios, IDs = Ratio(users_per_proj, entropy_per_proj, names)"
   ]
  },
  {
   "cell_type": "code",
   "execution_count": null,
   "metadata": {},
   "outputs": [],
   "source": [
    "sorted_ratios = sorted(ratios.items(), key=operator.itemgetter(1), reverse=True)"
   ]
  },
  {
   "cell_type": "code",
   "execution_count": null,
   "metadata": {},
   "outputs": [],
   "source": [
    "#Correlation\n",
    "\n",
    "np.corrcoef(X, Y)"
   ]
  },
  {
   "cell_type": "code",
   "execution_count": null,
   "metadata": {},
   "outputs": [],
   "source": [
    " #Entropy/user\n",
    "#Top-10\n",
    "\n",
    "for i in range(10):\n",
    "    proj = sorted_ratios[i][0]\n",
    "    r = sorted_ratios[i][1]\n",
    "        \n",
    "    name = names[int(proj)]\n",
    "    desc = descriptions[int(proj)]\n",
    "   \n",
    "    \n",
    "    ent = entropy_per_proj[proj] \n",
    "    usr = users_per_proj[proj]\n",
    "    \n",
    "    print(\"#\", i, \", project: \", name, \", entropy: \", ent, \", users: \", usr, \", entropy/user: \", r, \"\\\n",
    "        , \\ndescription: \", desc, \"\\n\") "
   ]
  },
  {
   "cell_type": "code",
   "execution_count": null,
   "metadata": {},
   "outputs": [],
   "source": [
    " #Entropy/user\n",
    "#Bottom-10\n",
    "\n",
    "for i in range(1,11):\n",
    "    proj = sorted_ratios[-i][0]\n",
    "    r = sorted_ratios[-i][1]\n",
    "        \n",
    "    name = names[int(proj)]\n",
    "    desc = descriptions[int(proj)]\n",
    "   \n",
    "    \n",
    "    ent = entropy_per_proj[proj] \n",
    "    usr = users_per_proj[proj]\n",
    "    \n",
    "    print(\"#\", i, \", project: \", name, \", entropy: \", ent, \", users: \", usr, \", entropy/user: \", r, \"\\\n",
    "        , \\ndescription: \", desc, \"\\n\") "
   ]
  },
  {
   "cell_type": "code",
   "execution_count": null,
   "metadata": {},
   "outputs": [],
   "source": [
    "%matplotlib inline\n",
    "def plot_users_vs_entropy(X, Y, output_file_name):\n",
    "    plt.clf()\n",
    "\n",
    "    ax = plt.subplot(111)\n",
    "    ax.scatter(X, Y, color=\"green\", marker='x', s=5)\n",
    "    ax.set_ylabel('entropy', fontsize=30)\n",
    "    ax.tick_params(labelsize=23)\n",
    "    ax.set_xlabel('#users', fontsize=30)\n",
    "    ax.set_xscale('log')\n",
    "    ax.set_yticks(np.arange(0.69, math.exp(1)+.1, .69))\n",
    "    ax.set_xlim(1,1000000)\n",
    "    plt.savefig(output_file_name, dpi=300, bbox_inches='tight')\n",
    "\n",
    "plot_users_vs_entropy(X, Y, \"../plots/plot_users_vs_entropy.svg\")"
   ]
  },
  {
   "cell_type": "code",
   "execution_count": null,
   "metadata": {},
   "outputs": [],
   "source": [
    "%matplotlib tk\n",
    "\n",
    "cmap = plt.cm.RdYlGn\n",
    "norm = plt.Normalize(1,4)\n",
    "\n",
    "fig, ax = plt.subplots()\n",
    "sc = ax.scatter(X, Y, color=\"green\", marker='x', s=5)\n",
    "ax.scatter(X, Y, color=\"green\", marker='x', s=5)\n",
    "ax.set_ylabel('entropy', fontsize=30)\n",
    "ax.tick_params(labelsize=23)\n",
    "ax.set_xlabel('#users', fontsize=30)\n",
    "ax.set_xscale('log')\n",
    "ax.set_yticks(np.arange(0.69, math.exp(1)+.1, .69))\n",
    "ax.set_xlim(1,1000000)\n",
    "    \n",
    "annot = ax.annotate(\"\", xy=(0,0), xytext=(5,5),textcoords=\"offset points\", size=14)\n",
    "annot.set_visible(False)   \n",
    "\n",
    "def update_annot(ind):\n",
    "    pos = sc.get_offsets()[ind[\"ind\"][0]]\n",
    "    annot.xy = pos\n",
    "    text = \"{}\".format(\"\".join(IDs[ind[\"ind\"]]))\n",
    "    annot.set_text(text)\n",
    "    \n",
    "def hover(event):\n",
    "    vis = annot.get_visible()\n",
    "    if event.inaxes == ax:\n",
    "        cont, ind = sc.contains(event)\n",
    "        if cont:\n",
    "            update_annot(ind)\n",
    "            annot.set_visible(True)\n",
    "            fig.canvas.draw_idle()\n",
    "        else:\n",
    "            if vis:\n",
    "                annot.set_visible(False)\n",
    "                fig.canvas.draw_idle()\n",
    "    \n",
    "fig.canvas.mpl_connect(\"motion_notify_event\", hover)"
   ]
  },
  {
   "cell_type": "markdown",
   "metadata": {},
   "source": [
    "<a id='Users_vs_Time'></a>\n",
    "# Users vs Time"
   ]
  },
  {
   "cell_type": "code",
   "execution_count": null,
   "metadata": {},
   "outputs": [],
   "source": [
    "#Users vs. time per project\n",
    "X,Y = Create_Array(users_per_proj, times_per_proj)\n",
    "\n",
    "#Users vs. time: ratio and ID\n",
    "ratios, IDs = Ratio(users_per_proj, times_per_proj, names)"
   ]
  },
  {
   "cell_type": "code",
   "execution_count": null,
   "metadata": {},
   "outputs": [],
   "source": [
    "sorted_ratios = sorted(ratios.items(), key=operator.itemgetter(1), reverse=True)"
   ]
  },
  {
   "cell_type": "code",
   "execution_count": null,
   "metadata": {},
   "outputs": [],
   "source": [
    "#Correlation\n",
    "\n",
    "np.corrcoef(X, Y)"
   ]
  },
  {
   "cell_type": "code",
   "execution_count": null,
   "metadata": {},
   "outputs": [],
   "source": [
    "#Time/User\n",
    "#Top -10\n",
    "for i in range(10):\n",
    "    proj = sorted_ratios[i][0]\n",
    "    r = sorted_ratios[i][1]/ (1000 * 60 * 60)\n",
    "    \n",
    "    name = names[int(proj)]\n",
    "    desc = descriptions[int(proj)]\n",
    "    \n",
    "    tm = times_per_proj[proj] / (1000 * 60 * 60)\n",
    "    usr = users_per_proj[proj]\n",
    "    \n",
    "    print(\"#\", i, \", project: \", name, \", time: \", tm, \", users: \", usr, \", time/user: \", r, \"\\\n",
    "        , \\ndescription: \", desc, \"\\n\")    "
   ]
  },
  {
   "cell_type": "code",
   "execution_count": null,
   "metadata": {},
   "outputs": [],
   "source": [
    "#Time/User\n",
    "#Bottom -10\n",
    "for i in range(1,11):\n",
    "    proj = sorted_ratios[-i][0]\n",
    "    r = sorted_ratios[-i][1]/(1000 * 60 * 60)\n",
    "    \n",
    "    name = names[int(proj)]\n",
    "    desc = descriptions[int(proj)]\n",
    "    \n",
    "    tm = times_per_proj[proj] / (1000 * 60 * 60)\n",
    "    usr = users_per_proj[proj]\n",
    "    \n",
    "    print(\"#\", i, \", project: \", name, \", time: \", tm, \", users: \", usr, \", time/user: \", r, \"\\\n",
    "        , \\ndescription: \", desc, \"\\n\") "
   ]
  },
  {
   "cell_type": "code",
   "execution_count": null,
   "metadata": {},
   "outputs": [],
   "source": [
    "%matplotlib inline\n",
    "Y = Y/(1000 * 60 * 60)\n",
    "def plot_users_vs_times(X, Y, output_file_name):\n",
    "    plt.clf()\n",
    "\n",
    "    ax = plt.subplot(111)\n",
    "    ax.scatter(X, Y, color=\"green\", marker='x', s=5)\n",
    "    ax.set_ylabel('times (hours)', fontsize=30)\n",
    "    ax.tick_params(labelsize=23)\n",
    "    ax.set_xlabel('#users', fontsize=30)\n",
    "    ax.set_xscale('log')\n",
    "    ax.set_ylim(0,100)\n",
    "    ax.set_xlim(1,1000000)\n",
    "    plt.savefig(output_file_name, dpi=300, bbox_inches='tight')\n",
    "\n",
    "plot_users_vs_times(X, Y, \"../plots/plot_users_vs_times.svg\")"
   ]
  },
  {
   "cell_type": "code",
   "execution_count": null,
   "metadata": {},
   "outputs": [],
   "source": [
    "%matplotlib tk\n",
    "\n",
    "cmap = plt.cm.RdYlGn\n",
    "norm = plt.Normalize(1,4)\n",
    "\n",
    "fig, ax = plt.subplots()\n",
    "sc = ax.scatter(X, Y, color=\"green\", marker='x', s=5)\n",
    "ax.scatter(X, Y, color=\"green\", marker='x', s=5)\n",
    "ax.set_ylabel('times (hours)', fontsize=30)\n",
    "ax.tick_params(labelsize=23)\n",
    "ax.set_xlabel('#users', fontsize=30)\n",
    "ax.set_xscale('log')\n",
    "ax.set_ylim(0,100)\n",
    "ax.set_xlim(1,1000000)\n",
    "    \n",
    "annot = ax.annotate(\"\", xy=(0,0), xytext=(5,5),textcoords=\"offset points\", size=14)\n",
    "annot.set_visible(False)   \n",
    "\n",
    "def update_annot(ind):\n",
    "    pos = sc.get_offsets()[ind[\"ind\"][0]]\n",
    "    annot.xy = pos\n",
    "    text = \"{}\".format(\"\".join(IDs[ind[\"ind\"]]))\n",
    "    annot.set_text(text)\n",
    "    \n",
    "def hover(event):\n",
    "    vis = annot.get_visible()\n",
    "    if event.inaxes == ax:\n",
    "        cont, ind = sc.contains(event)\n",
    "        if cont:\n",
    "            update_annot(ind)\n",
    "            annot.set_visible(True)\n",
    "            fig.canvas.draw_idle()\n",
    "        else:\n",
    "            if vis:\n",
    "                annot.set_visible(False)\n",
    "                fig.canvas.draw_idle()\n",
    "    \n",
    "fig.canvas.mpl_connect(\"motion_notify_event\", hover)"
   ]
  },
  {
   "cell_type": "markdown",
   "metadata": {},
   "source": [
    "<a id='Users_vs_Area'></a>\n",
    "# Users vs Area"
   ]
  },
  {
   "cell_type": "code",
   "execution_count": null,
   "metadata": {},
   "outputs": [],
   "source": [
    "#Users vs. area per project\n",
    "X,Y = Create_Array(users_per_proj, area_per_proj)\n",
    "\n",
    "#Users vs. area: ratio and ID\n",
    "ratios, IDs = Ratio(users_per_proj, area_per_proj, names)"
   ]
  },
  {
   "cell_type": "code",
   "execution_count": null,
   "metadata": {},
   "outputs": [],
   "source": [
    "sorted_ratios = sorted(ratios.items(), key=operator.itemgetter(1), reverse=True)"
   ]
  },
  {
   "cell_type": "code",
   "execution_count": null,
   "metadata": {},
   "outputs": [],
   "source": [
    "#Correlation\n",
    "\n",
    "np.corrcoef(X, Y)"
   ]
  },
  {
   "cell_type": "code",
   "execution_count": null,
   "metadata": {},
   "outputs": [],
   "source": [
    "#Area/User\n",
    "#Top -10\n",
    "for i in range(10):\n",
    "    proj = sorted_ratios[i][0]\n",
    "    r = sorted_ratios[i][1]\n",
    "    \n",
    "    name = names[int(proj)]\n",
    "    desc = descriptions[int(proj)]\n",
    "    \n",
    "    ar = area_per_proj[proj] \n",
    "    usr = users_per_proj[proj]\n",
    "    \n",
    "    print(\"#\", i, \", project: \", name, \", area: \", ar, \", users: \", usr, \", area/user: \", r, \"\\\n",
    "        , \\ndescription: \", desc, \"\\n\")   "
   ]
  },
  {
   "cell_type": "code",
   "execution_count": null,
   "metadata": {},
   "outputs": [],
   "source": [
    "#Area/User\n",
    "#Bottom-10\n",
    "for i in range(1,11):\n",
    "    proj = sorted_ratios[-i][0]\n",
    "    r = sorted_ratios[-i][1]\n",
    "    \n",
    "    name = names[int(proj)]\n",
    "    desc = descriptions[int(proj)]\n",
    "    \n",
    "    ar = area_per_proj[proj] \n",
    "    usr = users_per_proj[proj]\n",
    "    \n",
    "    print(\"#\", i, \", project: \", name, \", area: \", ar, \", users: \", usr, \", area/user: \", r, \"\\\n",
    "        , \\ndescription: \", desc, \"\\n\")  "
   ]
  },
  {
   "cell_type": "code",
   "execution_count": null,
   "metadata": {},
   "outputs": [],
   "source": [
    "%matplotlib inline\n",
    "def plot_users_vs_area(X, Y, output_file_name):\n",
    "    plt.clf()\n",
    "\n",
    "    ax = plt.subplot(111)\n",
    "    ax.scatter(X, Y, color=\"green\", marker='x', s=5)\n",
    "    ax.set_ylabel('area', fontsize=30)\n",
    "    ax.tick_params(labelsize=23)\n",
    "    ax.set_xlabel('#users', fontsize=30)\n",
    "    ax.set_xscale('log')\n",
    "    #ax.set_ylim(0,100)\n",
    "    ax.set_xlim(1,1000000)\n",
    "    plt.savefig(output_file_name, dpi=300, bbox_inches='tight')\n",
    "\n",
    "plot_users_vs_area(X, Y, \"../plots/plot_users_vs_area.svg\")"
   ]
  },
  {
   "cell_type": "code",
   "execution_count": null,
   "metadata": {},
   "outputs": [],
   "source": [
    "%matplotlib tk\n",
    "\n",
    "cmap = plt.cm.RdYlGn\n",
    "norm = plt.Normalize(1,4)\n",
    "\n",
    "fig, ax = plt.subplots()\n",
    "sc = ax.scatter(X, Y, color=\"green\", marker='x', s=5)\n",
    "ax.scatter(X, Y, color=\"green\", marker='x', s=5)\n",
    "ax.set_ylabel('area', fontsize=30)\n",
    "ax.tick_params(labelsize=23)\n",
    "ax.set_xlabel('#users', fontsize=30)\n",
    "ax.set_xscale('log')\n",
    "#ax.set_ylim(0,100)\n",
    "ax.set_xlim(1,1000000)\n",
    "    \n",
    "annot = ax.annotate(\"\", xy=(0,0), xytext=(5,5),textcoords=\"offset points\", size=14)\n",
    "annot.set_visible(False)   \n",
    "\n",
    "def update_annot(ind):\n",
    "    pos = sc.get_offsets()[ind[\"ind\"][0]]\n",
    "    annot.xy = pos\n",
    "    text = \"{}\".format(\"\".join(IDs[ind[\"ind\"]]))\n",
    "    annot.set_text(text)\n",
    "    \n",
    "def hover(event):\n",
    "    vis = annot.get_visible()\n",
    "    if event.inaxes == ax:\n",
    "        cont, ind = sc.contains(event)\n",
    "        if cont:\n",
    "            update_annot(ind)\n",
    "            annot.set_visible(True)\n",
    "            fig.canvas.draw_idle()\n",
    "        else:\n",
    "            if vis:\n",
    "                annot.set_visible(False)\n",
    "                fig.canvas.draw_idle()\n",
    "    \n",
    "fig.canvas.mpl_connect(\"motion_notify_event\", hover)"
   ]
  },
  {
   "cell_type": "markdown",
   "metadata": {},
   "source": [
    "<a id='Time_vs_Entropy'></a>\n",
    "# Time vs Entropy"
   ]
  },
  {
   "cell_type": "code",
   "execution_count": null,
   "metadata": {},
   "outputs": [],
   "source": [
    "#Time vs. entropy per project\n",
    "\n",
    "X,Y = Create_Array(times_per_proj, entropy_per_proj)\n",
    "\n",
    "#Users vs. entropy: ratio and ID\n",
    "ratios, IDs = Ratio(times_per_proj, entropy_per_proj, names)"
   ]
  },
  {
   "cell_type": "code",
   "execution_count": null,
   "metadata": {},
   "outputs": [],
   "source": [
    "sorted_ratios = sorted(ratios.items(), key=operator.itemgetter(1), reverse=True)"
   ]
  },
  {
   "cell_type": "code",
   "execution_count": null,
   "metadata": {},
   "outputs": [],
   "source": [
    "#Correlation\n",
    "\n",
    "np.corrcoef(X, Y)"
   ]
  },
  {
   "cell_type": "code",
   "execution_count": null,
   "metadata": {},
   "outputs": [],
   "source": [
    "#Entropy/Time\n",
    "#Top-10\n",
    "for i in range(10):\n",
    "    proj = sorted_ratios[i][0]\n",
    "    r = sorted_ratios[i][1]/(1000 * 60 * 60)\n",
    "    \n",
    "    name = names[int(proj)]\n",
    "    desc = descriptions[int(proj)]\n",
    "    \n",
    "    tm = times_per_proj[proj] / (1000 * 60 * 60)\n",
    "    ent = entropy_per_proj[proj]\n",
    "    \n",
    "    print(\"#\", i, \", project: \", name, \", entropy: \", ent, \", time: \", tm, \", entropy/time: \", r, \"\\\n",
    "        , \\ndescription: \", desc, \"\\n\")    "
   ]
  },
  {
   "cell_type": "code",
   "execution_count": null,
   "metadata": {},
   "outputs": [],
   "source": [
    "#Bottom-10\n",
    "for i in range(1,11):\n",
    "    proj = sorted_ratios[-i][0]\n",
    "    r = sorted_ratios[-i][1]/(1000 * 60 * 60)\n",
    "    \n",
    "    name = names[int(proj)]\n",
    "    desc = descriptions[int(proj)]\n",
    "    \n",
    "    tm = times_per_proj[proj] / (1000 * 60 * 60)\n",
    "    ent = entropy_per_proj[proj]\n",
    "    \n",
    "    print(\"#\", i, \", project: \", name, \", entropy: \", ent, \", time: \", tm, \", entropy/time: \", r, \"\\\n",
    "        , \\ndescription: \", desc, \"\\n\")    "
   ]
  },
  {
   "cell_type": "code",
   "execution_count": null,
   "metadata": {},
   "outputs": [],
   "source": [
    "%matplotlib inline\n",
    "X=X/(1000 * 60 * 60)\n",
    "def plot_entropy_vs_times(X, Y, output_file_name):\n",
    "    plt.clf()\n",
    "\n",
    "    ax = plt.subplot(111)\n",
    "    ax.scatter(X, Y, color=\"green\", marker='x', s=5)\n",
    "    ax.set_xlabel('times (hours)', fontsize=30)\n",
    "    ax.tick_params(labelsize=23)\n",
    "    ax.set_ylabel('entropy', fontsize=30)\n",
    "    ax.set_yticks(np.arange(0.69,math.exp(1)+.1, .69))\n",
    "    ax.set_xlim(0,100)\n",
    "    plt.savefig(output_file_name, dpi=300, bbox_inches='tight')\n",
    "\n",
    "plot_entropy_vs_times(X, Y, \"../plots/plot_entropy_vs_times.svg\")"
   ]
  },
  {
   "cell_type": "code",
   "execution_count": null,
   "metadata": {},
   "outputs": [],
   "source": [
    "%matplotlib tk\n",
    "\n",
    "cmap = plt.cm.RdYlGn\n",
    "norm = plt.Normalize(1,4)\n",
    "\n",
    "fig, ax = plt.subplots()\n",
    "sc = ax.scatter(X, Y, color=\"green\", marker='x', s=5)\n",
    "ax.scatter(X, Y, color=\"green\", marker='x', s=5)\n",
    "ax.set_xlabel('times (hours)', fontsize=30)\n",
    "ax.tick_params(labelsize=23)\n",
    "ax.set_ylabel('entropy', fontsize=30)\n",
    "ax.set_yticks(np.arange(0.69,math.exp(1)+.1, .69))\n",
    "ax.set_xlim(0,100)\n",
    "    \n",
    "annot = ax.annotate(\"\", xy=(0,0), xytext=(5,5),textcoords=\"offset points\", size=14)\n",
    "annot.set_visible(False)   \n",
    "\n",
    "def update_annot(ind):\n",
    "    pos = sc.get_offsets()[ind[\"ind\"][0]]\n",
    "    annot.xy = pos\n",
    "    text = \"{}\".format(\"\".join(IDs[ind[\"ind\"]]))\n",
    "    annot.set_text(text)\n",
    "    \n",
    "def hover(event):\n",
    "    vis = annot.get_visible()\n",
    "    if event.inaxes == ax:\n",
    "        cont, ind = sc.contains(event)\n",
    "        if cont:\n",
    "            update_annot(ind)\n",
    "            annot.set_visible(True)\n",
    "            fig.canvas.draw_idle()\n",
    "        else:\n",
    "            if vis:\n",
    "                annot.set_visible(False)\n",
    "                fig.canvas.draw_idle()\n",
    "    \n",
    "fig.canvas.mpl_connect(\"motion_notify_event\", hover)"
   ]
  },
  {
   "cell_type": "markdown",
   "metadata": {},
   "source": [
    "<a id='Time_vs_Area'></a>\n",
    "# Time vs Area"
   ]
  },
  {
   "cell_type": "code",
   "execution_count": null,
   "metadata": {},
   "outputs": [],
   "source": [
    "#Time vs. area per project\n",
    "\n",
    "X,Y = Create_Array(times_per_proj, area_per_proj)\n",
    "\n",
    "#Time vs. area: ratio and ID\n",
    "ratios, IDs = Ratio(times_per_proj, area_per_proj, names)"
   ]
  },
  {
   "cell_type": "code",
   "execution_count": null,
   "metadata": {},
   "outputs": [],
   "source": [
    "sorted_ratios = sorted(ratios.items(), key=operator.itemgetter(1), reverse=True)"
   ]
  },
  {
   "cell_type": "code",
   "execution_count": null,
   "metadata": {},
   "outputs": [],
   "source": [
    "#Correlation\n",
    "\n",
    "np.corrcoef(X, Y)"
   ]
  },
  {
   "cell_type": "code",
   "execution_count": null,
   "metadata": {},
   "outputs": [],
   "source": [
    "#Area/Time\n",
    "#Top-10\n",
    "for i in range(10):\n",
    "    proj = sorted_ratios[i][0]\n",
    "    r = sorted_ratios[i][1]*(1000*3600)\n",
    "    \n",
    "    name = names[int(proj)]\n",
    "    desc = descriptions[int(proj)]\n",
    "    \n",
    "    ar = area_per_proj[proj] \n",
    "    t = times_per_proj[proj]/(1000*3600)\n",
    "    \n",
    "    print(\"#\", i, \", project: \", name, \", time: \", t, \", area: \", ar, \", area/time: \", r, \"\\\n",
    "        , \\ndescription: \", desc, \"\\n\")  "
   ]
  },
  {
   "cell_type": "code",
   "execution_count": null,
   "metadata": {},
   "outputs": [],
   "source": [
    "#Area/Time\n",
    "#Bottom-10\n",
    "for i in range(1,11):\n",
    "    proj = sorted_ratios[-i][0]\n",
    "    r = sorted_ratios[-i][1]*(1000*3600)\n",
    "    \n",
    "    name = names[int(proj)]\n",
    "    desc = descriptions[int(proj)]\n",
    "    \n",
    "    ar = area_per_proj[proj] \n",
    "    t = times_per_proj[proj]/(1000*3600)\n",
    "    \n",
    "    print(\"#\", i, \", project: \", name, \", time: \", t, \", area: \", ar, \", area/time: \", r, \"\\\n",
    "        , \\ndescription: \", desc, \"\\n\") "
   ]
  },
  {
   "cell_type": "code",
   "execution_count": null,
   "metadata": {},
   "outputs": [],
   "source": [
    "%matplotlib inline\n",
    "X=X/(1000*3600)\n",
    "def plot_area_vs_times(X, Y, output_file_name):\n",
    "    plt.clf()\n",
    "\n",
    "    ax = plt.subplot(111)\n",
    "    ax.scatter(X, Y, color=\"green\", marker='x', s=5)\n",
    "    ax.set_xlabel('times (hours)', fontsize=30)\n",
    "    ax.tick_params(labelsize=23)\n",
    "    ax.set_ylabel('area', fontsize=30)\n",
    "    #ax.set_yticks(np.arange(0.69,math.exp(1)+.1, .69))\n",
    "    ax.set_xlim(0,100)\n",
    "    plt.savefig(output_file_name, dpi=300, bbox_inches='tight')\n",
    "\n",
    "plot_area_vs_times(X, Y, \"../plots/plot_area_vs_times.svg\")"
   ]
  },
  {
   "cell_type": "code",
   "execution_count": null,
   "metadata": {},
   "outputs": [],
   "source": [
    "%matplotlib tk\n",
    "\n",
    "cmap = plt.cm.RdYlGn\n",
    "norm = plt.Normalize(1,4)\n",
    "\n",
    "fig, ax = plt.subplots()\n",
    "sc = ax.scatter(X, Y, color=\"green\", marker='x', s=5)\n",
    "ax.scatter(X, Y, color=\"green\", marker='x', s=5)\n",
    "ax.set_xlabel('times (hours)', fontsize=30)\n",
    "ax.tick_params(labelsize=23)\n",
    "ax.set_ylabel('area', fontsize=30)\n",
    "#ax.set_yticks(np.arange(0.69,math.exp(1)+.1, .69))\n",
    "ax.set_xlim(0,100)\n",
    "    \n",
    "annot = ax.annotate(\"\", xy=(0,0), xytext=(5,5),textcoords=\"offset points\", size=14)\n",
    "annot.set_visible(False)   \n",
    "\n",
    "def update_annot(ind):\n",
    "    pos = sc.get_offsets()[ind[\"ind\"][0]]\n",
    "    annot.xy = pos\n",
    "    text = \"{}\".format(\"\".join(IDs[ind[\"ind\"]]))\n",
    "    annot.set_text(text)\n",
    "    \n",
    "def hover(event):\n",
    "    vis = annot.get_visible()\n",
    "    if event.inaxes == ax:\n",
    "        cont, ind = sc.contains(event)\n",
    "        if cont:\n",
    "            update_annot(ind)\n",
    "            annot.set_visible(True)\n",
    "            fig.canvas.draw_idle()\n",
    "        else:\n",
    "            if vis:\n",
    "                annot.set_visible(False)\n",
    "                fig.canvas.draw_idle()\n",
    "    \n",
    "fig.canvas.mpl_connect(\"motion_notify_event\", hover)"
   ]
  },
  {
   "cell_type": "markdown",
   "metadata": {},
   "source": [
    "<a id='Area_vs_Entropy'></a>\n",
    "# Area vs Entropy"
   ]
  },
  {
   "cell_type": "code",
   "execution_count": null,
   "metadata": {},
   "outputs": [],
   "source": [
    "#Area vs. entropy per project\n",
    "\n",
    "X,Y = Create_Array(area_per_proj, entropy_per_proj)\n",
    "\n",
    "#Area vs. entropy: ratio and ID\n",
    "ratios, IDs = Ratio(area_per_proj, entropy_per_proj, names)"
   ]
  },
  {
   "cell_type": "code",
   "execution_count": null,
   "metadata": {},
   "outputs": [],
   "source": [
    "sorted_ratios = sorted(ratios.items(), key=operator.itemgetter(1), reverse=True)"
   ]
  },
  {
   "cell_type": "code",
   "execution_count": null,
   "metadata": {},
   "outputs": [],
   "source": [
    "#Correlation\n",
    "\n",
    "np.corrcoef(X, Y)"
   ]
  },
  {
   "cell_type": "code",
   "execution_count": null,
   "metadata": {},
   "outputs": [],
   "source": [
    "#Entropy/Area\n",
    "#Top-10\n",
    "for i in range(10):\n",
    "    proj = sorted_ratios[i][0]\n",
    "    r = sorted_ratios[i][1]\n",
    "    \n",
    "    name = names[int(proj)]\n",
    "    desc = descriptions[int(proj)]\n",
    "    \n",
    "    ar = area_per_proj[proj]\n",
    "    ent = entropy_per_proj[proj]\n",
    "    \n",
    "    print(\"#\", i, \", project: \", name, \", entropy: \", ent, \", area: \", ar, \", entropy/area: \", r, \"\\\n",
    "        , \\ndescription: \", desc, \"\\n\")"
   ]
  },
  {
   "cell_type": "code",
   "execution_count": null,
   "metadata": {},
   "outputs": [],
   "source": [
    "#Entropy/Area\n",
    "#Bottom-10\n",
    "for i in range(1,11):\n",
    "    proj = sorted_ratios[-i][0]\n",
    "    r = sorted_ratios[-i][1]\n",
    "    \n",
    "    name = names[int(proj)]\n",
    "    desc = descriptions[int(proj)]\n",
    "    \n",
    "    ar = area_per_proj[proj]\n",
    "    ent = entropy_per_proj[proj]\n",
    "    \n",
    "    print(\"#\", i, \", project: \", name, \", entropy: \", ent, \", area: \", ar, \", entropy/area: \", r, \"\\\n",
    "        , \\ndescription: \", desc, \"\\n\")"
   ]
  },
  {
   "cell_type": "code",
   "execution_count": null,
   "metadata": {},
   "outputs": [],
   "source": [
    "%matplotlib inline\n",
    "def plot_entropy_vs_area(X, Y, output_file_name):\n",
    "    plt.clf()\n",
    "\n",
    "    ax = plt.subplot(111)\n",
    "    ax.scatter(X, Y, color=\"green\", marker='x', s=5)\n",
    "    ax.set_xlabel('area', fontsize=30)\n",
    "    ax.tick_params(labelsize=23)\n",
    "    ax.set_ylabel('entropy', fontsize=30)\n",
    "    ax.set_yticks(np.arange(0.69,math.exp(1)+.1, .69))\n",
    "    #ax.set_xlim(0,100)\n",
    "    plt.savefig(output_file_name, dpi=300, bbox_inches='tight')\n",
    "\n",
    "plot_entropy_vs_area(X, Y, \"../plots/plot_entropy_vs_area.svg\")"
   ]
  },
  {
   "cell_type": "code",
   "execution_count": null,
   "metadata": {},
   "outputs": [],
   "source": [
    "%matplotlib tk\n",
    "\n",
    "cmap = plt.cm.RdYlGn\n",
    "norm = plt.Normalize(1,4)\n",
    "\n",
    "fig, ax = plt.subplots()\n",
    "sc = ax.scatter(X, Y, color=\"green\", marker='x', s=5)\n",
    "ax.scatter(X, Y, color=\"green\", marker='x', s=5)\n",
    "ax.set_xlabel('area', fontsize=30)\n",
    "ax.tick_params(labelsize=23)\n",
    "ax.set_ylabel('entropy', fontsize=30)\n",
    "ax.set_yticks(np.arange(0.69,math.exp(1)+.1, .69))\n",
    "#ax.set_xlim(0,100)\n",
    "    \n",
    "annot = ax.annotate(\"\", xy=(0,0), xytext=(5,5),textcoords=\"offset points\", size=14)\n",
    "annot.set_visible(False)   \n",
    "\n",
    "def update_annot(ind):\n",
    "    pos = sc.get_offsets()[ind[\"ind\"][0]]\n",
    "    annot.xy = pos\n",
    "    text = \"{}\".format(\"\".join(IDs[ind[\"ind\"]]))\n",
    "    annot.set_text(text)\n",
    "    \n",
    "def hover(event):\n",
    "    vis = annot.get_visible()\n",
    "    if event.inaxes == ax:\n",
    "        cont, ind = sc.contains(event)\n",
    "        if cont:\n",
    "            update_annot(ind)\n",
    "            annot.set_visible(True)\n",
    "            fig.canvas.draw_idle()\n",
    "        else:\n",
    "            if vis:\n",
    "                annot.set_visible(False)\n",
    "                fig.canvas.draw_idle()\n",
    "    \n",
    "fig.canvas.mpl_connect(\"motion_notify_event\", hover)"
   ]
  },
  {
   "cell_type": "markdown",
   "metadata": {},
   "source": [
    "<a id='Updates_per_time'></a>\n",
    "# Updates per Time"
   ]
  },
  {
   "cell_type": "code",
   "execution_count": null,
   "metadata": {},
   "outputs": [],
   "source": [
    "#---already computed (first block)\n",
    "#tile_updates, total_tile_updates = update_category_per_project()\n",
    "#use tile_updates and total_tile_updates"
   ]
  },
  {
   "cell_type": "code",
   "execution_count": null,
   "metadata": {},
   "outputs": [],
   "source": [
    "def generate_figures_time(hour_marks, picID):\n",
    "    begin_time = 1490918688000\n",
    "    \n",
    "    if picID is None:\n",
    "            data = extract_canvas_color('../data/sorted_tile_placements.csv', 0, 1000, 0, 1000,\\\n",
    "                            begin_time+1000*60*60*hour_marks)\n",
    "    else:\n",
    "            data = extract_project_color('../data/sorted_tile_placements_proj.csv', picID, \n",
    "                            begin_time+1000*60*60*hour_marks)\n",
    "    \n",
    "    for t in range(len(hour_marks)):\n",
    "        tmp_file_name = \"../plots/tmp_fig_\"+str(t)+\".png\"\n",
    "        draw_canvas(canvas_color_code_rgb(data[t]), tmp_file_name);"
   ]
  },
  {
   "cell_type": "code",
   "execution_count": null,
   "metadata": {},
   "outputs": [],
   "source": [
    "from canvas_vis import *\n",
    "from matplotlib.offsetbox import (TextArea, DrawingArea, OffsetImage,\n",
    "                                  AnnotationBbox)\n",
    "from matplotlib.cbook import get_sample_data\n",
    "import time\n",
    "from mpl_toolkits.axes_grid1 import make_axes_locatable\n",
    "from mpl_toolkits.axes_grid1.axes_divider import make_axes_area_auto_adjustable\n",
    "\n",
    "%matplotlib inline\n",
    "def plot_updates_per_time_with_figure(pixel, pixel_color, other, proj, hour_marks, up_line, zoom, output_file_name):\n",
    "    plt.clf()\n",
    "    ax = plt.subplot(111)\n",
    "    total = pixel+pixel_color+other\n",
    "    ax.plot(np.arange(pixel.shape[0]), 100*pixel, color=\"green\", linewidth=5, label=\"Final\", linestyle='-')\n",
    "    ax.plot(np.arange(pixel_color.shape[0]), 100*pixel_color, color=\"blue\", linewidth=4, label=\"Match\", linestyle='--')\n",
    "    ax.plot(np.arange(other.shape[0]), 100*other, color=\"red\", linewidth=3, label=\"Adv\", linestyle=':')\n",
    "       \n",
    "    for t in range(len(hour_marks)):\n",
    "        tmp_file_name = \"../plots/tmp_fig_\"+str(t)+\".png\"\n",
    "        arr_img = plt.imread(tmp_file_name, format='png')\n",
    "        \n",
    "        imagebox = OffsetImage(arr_img, zoom=zoom)\n",
    "        imagebox.image.axes = ax\n",
    "    \n",
    "        ab = AnnotationBbox(imagebox, (hour_marks[t], up_line),\n",
    "                        None,\n",
    "                        xycoords='data',\n",
    "                        pad=0.1)\n",
    "\n",
    "        ax.add_artist(ab)\n",
    "    \n",
    "    ax.set_ylabel('update (%)', fontsize=20)\n",
    "    ax.set_xlabel('time (hours)', fontsize=20)\n",
    "    ax.tick_params(labelsize=18)\n",
    "    ax.set_xlim(0, 110)\n",
    "\n",
    "    ax.set_xticks(np.arange(0,95, 24))\n",
    "    ax.set_ylim(0, 5.2)\n",
    "    ax.set_yticks(np.arange(0,1.3, .4))\n",
    "    \n",
    "    ax.vlines(np.array(hour_marks),ymin=0,ymax=up_line,color='k', linestyle='--')\n",
    "    ax.legend(loc='upper center', bbox_to_anchor=(0.5, 1.2),\n",
    "          fancybox=True, shadow=True, ncol=3, fontsize=15)\n",
    "    ax.ticklabel_format(useOffset=False, style='plain')\n",
    "    #ax.set_aspect(aspect=.2)\n",
    "    \n",
    "    plt.savefig(output_file_name, dpi=300, bbox_inches='tight')"
   ]
  },
  {
   "cell_type": "code",
   "execution_count": null,
   "metadata": {},
   "outputs": [],
   "source": [
    "generate_figures_time(np.array([24, 48, 72, 96]), None)"
   ]
  },
  {
   "cell_type": "code",
   "execution_count": null,
   "metadata": {},
   "outputs": [],
   "source": [
    "#zoom =.04 decides how large the figures should be\n",
    "\n",
    "plot_updates_per_time_with_figure(total_tile_updates[\"final_updates\"], total_tile_updates[\"agreeing_updates\"],\n",
    "    total_tile_updates[\"disagreeing_updates\"], None, np.array([24, 48, 72, 96]), 1.7, .04,\n",
    "    \"../plots/plot_updates_time_total_fig.svg\")"
   ]
  },
  {
   "cell_type": "code",
   "execution_count": null,
   "metadata": {},
   "outputs": [],
   "source": [
    "%matplotlib inline\n",
    "def plot_updates_per_time_all_types(pixel, pixel_color, other, output_file_name):\n",
    "    plt.clf()\n",
    "    ax = plt.subplot(111)\n",
    "    total = pixel+pixel_color+other\n",
    "    ax.plot(np.arange(pixel.shape[0]), 100*pixel, color=\"green\", linewidth=5, label=\"Final\", linestyle='-')\n",
    "    ax.plot(np.arange(pixel_color.shape[0]), 100*pixel_color, color=\"blue\", linewidth=4, label=\"Match\", linestyle='--')\n",
    "    ax.plot(np.arange(other.shape[0]), 100*other, color=\"red\", linewidth=3, label=\"Adv\", linestyle=':')\n",
    "        \n",
    "    ax.set_ylabel('update (%)', fontsize=30)\n",
    "    ax.set_xlabel('time (hours)', fontsize=30)\n",
    "    ax.tick_params(labelsize=23)\n",
    "    ax.set_xticks(np.arange(0,97, 24))\n",
    "    ax.legend(loc='upper center', bbox_to_anchor=(0.5, 1.2),\n",
    "          fancybox=True, shadow=True, ncol=3, fontsize=15)\n",
    "    ax.ticklabel_format(useOffset=False, style='plain')\n",
    "    plt.savefig(output_file_name, dpi=300, bbox_inches='tight')"
   ]
  },
  {
   "cell_type": "code",
   "execution_count": null,
   "metadata": {},
   "outputs": [],
   "source": [
    "#total updates per time all types\n",
    "plot_updates_per_time_all_types(total_tile_updates[\"final_updates\"], total_tile_updates[\"agreeing_updates\"],\n",
    "    total_tile_updates[\"disagreeing_updates\"], \"../plots/plot_updates_time_total.svg\")"
   ]
  },
  {
   "cell_type": "code",
   "execution_count": null,
   "metadata": {},
   "outputs": [],
   "source": [
    "%matplotlib tk\n",
    "\n",
    "cmap = plt.cm.RdYlGn\n",
    "norm = plt.Normalize(1,4)\n",
    "\n",
    "pixel = total_tile_updates[\"final_updates\"]\n",
    "\n",
    "pixel_color = total_tile_updates[\"agreeing_updates\"]\n",
    "\n",
    "other = total_tile_updates[\"disagreeing_updates\"]\n",
    "\n",
    "fig,ax = plt.subplots()\n",
    "total = pixel+pixel_color+other\n",
    "line1, = ax.plot(np.arange(pixel.shape[0]), 100*pixel, color=\"green\", linewidth=5, label=\"Final\", linestyle='-')\n",
    "line2, = ax.plot(np.arange(pixel_color.shape[0]), 100*pixel_color, color=\"blue\", linewidth=4, label=\"Match\", linestyle='--')\n",
    "line3, = ax.plot(np.arange(other.shape[0]), 100*other, color=\"red\", linewidth=3, label=\"Adv\", linestyle=':')\n",
    "        \n",
    "ax.set_ylabel('update (%)', fontsize=30)\n",
    "ax.set_xlabel('time (hours)', fontsize=30)\n",
    "ax.tick_params(labelsize=23)\n",
    "ax.set_xticks(np.arange(0,97, 24))\n",
    "ax.legend(loc='upper center', bbox_to_anchor=(0.5, 1.2),\n",
    "          fancybox=True, shadow=True, ncol=3, fontsize=15)\n",
    "ax.ticklabel_format(useOffset=False, style='plain')\n",
    "    \n",
    "annot = ax.annotate(\"\", xy=(0,0), xytext=(5,5),textcoords=\"offset points\", size=14)\n",
    "annot.set_visible(False)   \n",
    "\n",
    "def update_annot(ind, line):\n",
    "    x,y = line.get_data()\n",
    "    annot.xy = (x[ind[\"ind\"][0]], y[ind[\"ind\"][0]])\n",
    "    text = \"{}, {}\".format(str(annot.xy[0]), \n",
    "                           str(np.around(annot.xy[1], decimals=2)))\n",
    "    annot.set_text(text)\n",
    "\n",
    "def hover(event):\n",
    "    vis = annot.get_visible()\n",
    "    if event.inaxes == ax:\n",
    "        cont, ind = line1.contains(event)\n",
    "        if cont:\n",
    "            update_annot(ind, line1)\n",
    "            annot.set_visible(True)\n",
    "            fig.canvas.draw_idle()\n",
    "        else:\n",
    "            cont, ind = line2.contains(event)\n",
    "            \n",
    "            if cont:\n",
    "                update_annot(ind, line2)\n",
    "                annot.set_visible(True)\n",
    "                fig.canvas.draw_idle()\n",
    "            else:\n",
    "                cont, ind = line3.contains(event)\n",
    "            \n",
    "                if cont:\n",
    "                    update_annot(ind, line3)\n",
    "                    annot.set_visible(True)\n",
    "                    fig.canvas.draw_idle()\n",
    "                else:\n",
    "                    if vis:\n",
    "                        annot.set_visible(False)\n",
    "                    fig.canvas.draw_idle()\n",
    "\n",
    "fig.canvas.mpl_connect(\"motion_notify_event\", hover)"
   ]
  },
  {
   "cell_type": "markdown",
   "metadata": {},
   "source": [
    "## Example of some projects"
   ]
  },
  {
   "cell_type": "code",
   "execution_count": null,
   "metadata": {},
   "outputs": [],
   "source": [
    "generate_figures_time(np.array([24, 48, 72, 96]), 286)"
   ]
  },
  {
   "cell_type": "code",
   "execution_count": null,
   "metadata": {},
   "outputs": [],
   "source": [
    "picID = 286\n",
    "\n",
    "plot_updates_per_time_with_figure(tile_updates[picID][\"final_updates\"], tile_updates[picID][\"agreeing_updates\"],\n",
    "    tile_updates[picID][\"disagreeing_updates\"], picID, np.array([24, 48, 72, 96]), 1.8, 0.045, \n",
    "    \"../plots/plot_updates_time_286_fig.svg\")"
   ]
  },
  {
   "cell_type": "code",
   "execution_count": null,
   "metadata": {},
   "outputs": [],
   "source": [
    "generate_figures_time(np.array([24, 48, 72, 96]), 1824)"
   ]
  },
  {
   "cell_type": "code",
   "execution_count": null,
   "metadata": {},
   "outputs": [],
   "source": [
    "from canvas_vis import *\n",
    "from matplotlib.offsetbox import (TextArea, DrawingArea, OffsetImage,\n",
    "                                  AnnotationBbox)\n",
    "from matplotlib.cbook import get_sample_data\n",
    "import time\n",
    "from mpl_toolkits.axes_grid1 import make_axes_locatable\n",
    "from mpl_toolkits.axes_grid1.axes_divider import make_axes_area_auto_adjustable\n",
    "\n",
    "%matplotlib inline\n",
    "def plot_updates_per_time_with_figure(pixel, pixel_color, other, proj, hour_marks, up_line, zoom, output_file_name):\n",
    "    plt.clf()\n",
    "    ax = plt.subplot(111)\n",
    "    total = pixel+pixel_color+other\n",
    "    ax.plot(np.arange(pixel.shape[0]), 100*pixel, color=\"green\", linewidth=5, label=\"Final\", linestyle='-')\n",
    "    ax.plot(np.arange(pixel_color.shape[0]), 100*pixel_color, color=\"blue\", linewidth=4, label=\"Match\", linestyle='--')\n",
    "    ax.plot(np.arange(other.shape[0]), 100*other, color=\"red\", linewidth=3, label=\"Adv\", linestyle=':')\n",
    "       \n",
    "    for t in range(len(hour_marks)):\n",
    "        tmp_file_name = \"../plots/tmp_fig_\"+str(t)+\".png\"\n",
    "        arr_img = plt.imread(tmp_file_name, format='png')\n",
    "        \n",
    "        imagebox = OffsetImage(arr_img, zoom=zoom)\n",
    "        imagebox.image.axes = ax\n",
    "    \n",
    "        ab = AnnotationBbox(imagebox, (hour_marks[t], up_line),\n",
    "                        None,\n",
    "                        xycoords='data',\n",
    "                        pad=0.1)\n",
    "\n",
    "        ax.add_artist(ab)\n",
    "    \n",
    "    ax.set_ylabel('update (%)', fontsize=20)\n",
    "    ax.set_xlabel('time (hours)', fontsize=20)\n",
    "    ax.tick_params(labelsize=18)\n",
    "    ax.set_xlim(0, 110)\n",
    "\n",
    "    ax.set_xticks(np.arange(0,95, 24))\n",
    "    ax.set_ylim(0, 28)\n",
    "    #ax.set_yticks(np.arange(0,1.3, .4))\n",
    "    \n",
    "    ax.vlines(np.array(hour_marks),ymin=0,ymax=up_line,color='k', linestyle='--')\n",
    "    ax.legend(loc='upper center', bbox_to_anchor=(0.5, 1.2),\n",
    "          fancybox=True, shadow=True, ncol=3, fontsize=15)\n",
    "    ax.ticklabel_format(useOffset=False, style='plain')\n",
    "    #ax.set_aspect(aspect=.2)\n",
    "    \n",
    "    plt.savefig(output_file_name, dpi=300, bbox_inches='tight')\n",
    "\n",
    "picID = 1824\n",
    "\n",
    "plot_updates_per_time_with_figure(tile_updates[picID][\"final_updates\"], tile_updates[picID][\"agreeing_updates\"],\n",
    "    tile_updates[picID][\"disagreeing_updates\"], picID, np.array([24, 48, 72, 96]), 22., 0.045, \n",
    "    \"../plots/plot_updates_time_1824_fig.svg\")"
   ]
  },
  {
   "cell_type": "code",
   "execution_count": null,
   "metadata": {},
   "outputs": [],
   "source": [
    "picID = 179\n",
    "plot_updates_per_time_all_types(tile_updates[picID][\"final_updates\"], tile_updates[picID][\"agreeing_updates\"],\n",
    "    tile_updates[picID][\"disagreeing_updates\"], \"../plots/plot_updates_time_179.svg\")"
   ]
  },
  {
   "cell_type": "code",
   "execution_count": null,
   "metadata": {},
   "outputs": [],
   "source": [
    "picID = 1493\n",
    "plot_updates_per_time_all_types(tile_updates[picID][\"final_updates\"], tile_updates[picID][\"agreeing_updates\"],\n",
    "    tile_updates[picID][\"disagreeing_updates\"], \"../plots/plot_updates_time_1493.svg\")"
   ]
  },
  {
   "cell_type": "code",
   "execution_count": null,
   "metadata": {},
   "outputs": [],
   "source": [
    "picID = 2\n",
    "plot_updates_per_time_all_types(tile_updates[picID][\"final_updates\"], tile_updates[picID][\"agreeing_updates\"],\n",
    "    tile_updates[picID][\"disagreeing_updates\"], \"../plots/plot_updates_time_2.svg\")"
   ]
  },
  {
   "cell_type": "markdown",
   "metadata": {},
   "source": [
    "<a id='#Distance_users'></a>\n",
    "# Distance (Users')"
   ]
  },
  {
   "cell_type": "code",
   "execution_count": null,
   "metadata": {},
   "outputs": [],
   "source": [
    "#Two types of distances: euclidean and cosine\n",
    "# sample size denotes the number of considered users per project to compute the distance\n",
    "sample_size=500\n",
    "euc_dis,cos_dis,rand_dis = distance_per_project_all(input_file_proj,projects_to_remove, sample_size)"
   ]
  },
  {
   "cell_type": "code",
   "execution_count": null,
   "metadata": {},
   "outputs": [],
   "source": [
    "plt.hist(euc_dis.values(), bins=20)"
   ]
  },
  {
   "cell_type": "code",
   "execution_count": null,
   "metadata": {},
   "outputs": [],
   "source": [
    "plt.hist(rand_dis[0], bins=20)"
   ]
  },
  {
   "cell_type": "code",
   "execution_count": null,
   "metadata": {},
   "outputs": [],
   "source": [
    "plt.hist(cos_dis.values(), bins=20)"
   ]
  },
  {
   "cell_type": "code",
   "execution_count": null,
   "metadata": {},
   "outputs": [],
   "source": [
    "plt.hist(rand_dis[1], bins=20)"
   ]
  },
  {
   "cell_type": "code",
   "execution_count": null,
   "metadata": {},
   "outputs": [],
   "source": [
    "#Test: the users' involvemnet in a project\n",
    "#project_per_user_lst=projects_per_user_list(input_file_proj, projects_to_remove)\n",
    "#users_per_proj_lst=users_per_project_list(input_file_proj, projects_to_remove)"
   ]
  }
 ],
 "metadata": {
  "kernelspec": {
   "display_name": "Python 3",
   "language": "python",
   "name": "python3"
  },
  "language_info": {
   "codemirror_mode": {
    "name": "ipython",
    "version": 3
   },
   "file_extension": ".py",
   "mimetype": "text/x-python",
   "name": "python",
   "nbconvert_exporter": "python",
   "pygments_lexer": "ipython3",
   "version": "3.6.3"
  }
 },
 "nbformat": 4,
 "nbformat_minor": 2
}
