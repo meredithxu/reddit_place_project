{
 "cells": [
  {
   "cell_type": "markdown",
   "metadata": {},
   "source": [
    "# Region Generation\n",
    "\n",
    "This notebok will separate the data into all the updates for a particular project.\n",
    "\n",
    "Take the tile_placements data and separate it out into frames. A frame is a subset of the data.\n",
    "The data can be split up into frames based on time (e.g. 1 frame is 30 minutes of data) or by number of updates (e.g. 1 frame is 1 million updates). Every update can only belong to one frame.\n",
    "After creating the frames, create a graph where every pixel is a node. A single pixel will be a vector of all the different updates that happened within that one frame.\n",
    "\n",
    "We want to do a min-cut on the graph so that every graph partition represents one image. To select the edge weights, we want edges between pixels within the same image to have a large weight and edges between pixels of different images should have small weights. \n",
    "\n",
    "After we do graph partitions within one frame, we want to connect the frames together. \n",
    "\n",
    "\n",
    "The ultimate goal is to connect the frames that hold all the updates for a single project and to train a CNN on this data\n",
    "\n",
    "## Progress Updates:\n",
    "##### May 15, 2019  \n",
    "\n",
    "To start out, we will try to split based on updates because there is a large surge of updates near the end, so if we split by time, then the frames near the end will have significantly more updates than frames in the beginning.\n",
    "There are 16 million datapoints, so we will split 100,000 updates per frame, which will result in 160 frames.\n",
    "Frames will be stored as CSV files into the folder ../data/frames\n",
    "\n",
    "##### May 17, 2019\n",
    "\n",
    "Heirustics: Same color and same user should have a weight of 0. "
   ]
  },
  {
   "cell_type": "code",
   "execution_count": 16,
   "metadata": {},
   "outputs": [],
   "source": [
    "import csv\n",
    "import numpy as np\n",
    "import scipy\n",
    "import networkx as nx\n",
    "import math\n",
    "import sys\n",
    "import matplotlib.pyplot as plt\n",
    "\n",
    "sys.path.append(\"../Python_code\") # go to parent dir\n",
    "from canvas_vis import * \n",
    "from analytics_combined import *"
   ]
  },
  {
   "cell_type": "code",
   "execution_count": 2,
   "metadata": {},
   "outputs": [],
   "source": [
    "import copy\n",
    "import sys\n",
    "import networkx as nx\n",
    "import csv\n",
    "import math\n",
    "import os\n",
    "\n",
    "class MyGraph:\n",
    "    '''\n",
    "        This is an undirected graph class for processing edge lists \n",
    "        as files. It is suitable for very large number of edges that \n",
    "        might not fit in memory.\n",
    "    '''\n",
    "    def __init__(self):\n",
    "        '''\n",
    "        '''\n",
    "        self._edges = {}\n",
    "        self.buffer_size = 100000                            #Keeps at most 100K edges in memory\n",
    "        \n",
    "        #File names used by this class\n",
    "        self.edges_file_name = \"edges.csv\"\n",
    "        self.unique_edges_file_name = \"unique_edges.csv\"\n",
    "        self.sorted_edges_file_name = \"sorted_edges.csv\"\n",
    "        \n",
    "        if os.path.exists(self.edges_file_name):\n",
    "            os.remove(self.edges_file_name)\n",
    "            \n",
    "        if os.path.exists(self.unique_edges_file_name):\n",
    "            os.remove(self.unique_edges_file_name)\n",
    "        \n",
    "        if os.path.exists(self.sorted_edges_file_name):\n",
    "            os.remove(self.sorted_edges_file_name)\n",
    "    \n",
    "    def flush_edges(self):\n",
    "        '''\n",
    "            Flushes edges to the file <u,v,label>.\n",
    "            \n",
    "            Don't forget to run this after adding all the edges!\n",
    "        '''\n",
    "        with open(self.edges_file_name, 'a') as file_out:\n",
    "            writer = csv.writer(file_out, delimiter = \",\")\n",
    "            \n",
    "            for e in self._edges:\n",
    "                writer.writerow([e[0], e[1], self._edges[e]])\n",
    "                \n",
    "        self._edges = {}\n",
    "        \n",
    "    def flush_weights(self):\n",
    "        '''\n",
    "            Flushes edges and their weights to the file <u,v,label,weight>.\n",
    "            \n",
    "            Don't forget to run this after adding all the edges!\n",
    "        '''\n",
    "        with open(self.edges_file_name, 'a') as file_out:\n",
    "            writer = csv.writer(file_out, delimiter = \",\")\n",
    "            \n",
    "            for e in self._edges:\n",
    "                writer.writerow([e[0], e[1], self._edges[e][0], self._edges[e][1]])\n",
    "                \n",
    "        self._edges = {}\n",
    "        \n",
    "    def remove_repeated_edges(self):\n",
    "        '''\n",
    "            Uses sort command to remove repeated\n",
    "            edges from the edge file.\n",
    "        '''\n",
    "        os.system(\"sort -u \"+self.edges_file_name+\" > \"+self.unique_edges_file_name)\n",
    "        \n",
    "        if os.path.exists(self.edges_file_name):\n",
    "            os.remove(self.edges_file_name)\n",
    "    \n",
    "    def add_edge(self, node1, node2, label):\n",
    "        '''\n",
    "           Adds edge to the graph. \n",
    "        '''\n",
    "        if node1 < node2:\n",
    "            if (str(node1), str(node2)) not in self._edges:\n",
    "                self._edges[(str(node1),str(node2))] = label\n",
    "        else:\n",
    "            if (str(node2), str(node1)) not in self._edges:\n",
    "                self._edges[(str(node2),str(node1))] = label\n",
    "        \n",
    "        #Flushes edges to file.\n",
    "        if len(self._edges) >= self.buffer_size:\n",
    "            self.flush_edges()     \n",
    "            \n",
    "    def set_weight(self, node1, node2, label, weight):\n",
    "        '''\n",
    "            Sets edge weight.\n",
    "        '''\n",
    "        if node1 < node2:\n",
    "            if (str(node1), str(node2)) not in self._edges:\n",
    "                self._edges[(str(node1),str(node2))] = [label, weight]\n",
    "        else:\n",
    "            if (str(node2), str(node1)) not in self._edges:\n",
    "                self._edges[(str(node2),str(node1))] = [label, weight]\n",
    "        \n",
    "        #Flushes edge to file\n",
    "        if len(self._edges) >= self.buffer_size:\n",
    "            self.flush_weights()     \n",
    "            \n",
    "    def sort_edges(self):\n",
    "        '''\n",
    "            Sorts edges in increasing order of weight.\n",
    "        '''\n",
    "        os.system(\"sort -g -t, -k4,4 \"+self.edges_file_name+\" > \"+self.sorted_edges_file_name)\n",
    "    \n",
    "def create_frames_by_time(input_file_name, time_window=sys.maxsize):\n",
    "    '''\n",
    "        Creates frames based on a given time window size (time_window) in seconds.\n",
    "        Returns list of timestamps corresponding to beginning of new frame.\n",
    "        If no time_window is given, returns everything.\n",
    "    '''\n",
    "    max_time=0\n",
    "    min_time=sys.maxsize\n",
    "    \n",
    "    with open(input_file_name,'r') as file:\n",
    "        # Skip first line (header row)\n",
    "        next(file, None)\n",
    "        reader = csv.reader(file)\n",
    "\n",
    "        for r in reader:\n",
    "            ts = int(r[0])\n",
    "            \n",
    "            if ts < min_time:\n",
    "                min_time = ts\n",
    "                \n",
    "            if ts > max_time:\n",
    "                max_time = ts\n",
    "                \n",
    "    n_frames = math.ceil((max_time-min_time) / (1000 * time_window))\n",
    "    frames = []\n",
    "    \n",
    "    t = min_time\n",
    "    for i in range(n_frames):\n",
    "        frames.append(t)\n",
    "        t = t + 1000 * time_window\n",
    "    \n",
    "    frames.append(t+1)\n",
    "    \n",
    "    return frames\n",
    "\n",
    "def create_frames_by_updates(input_file_name, num_updates=sys.maxsize):\n",
    "    '''\n",
    "        Creates frames based on a given number of updates per frame.\n",
    "        Returns list of timestamps corresponding to beginning of new frame.\n",
    "        If no num_updates is given, returns everything.\n",
    "    '''\n",
    "    count = 0\n",
    "    frames = [0]\n",
    "    \n",
    "    with open(input_file_name,'r') as file:\n",
    "        # Skip first line (header row)\n",
    "        next(file, None)\n",
    "        reader = csv.reader(file)\n",
    "\n",
    "        for r in reader:\n",
    "            ts = int(r[0])            \n",
    "            count = count + 1\n",
    "            \n",
    "            if count == num_updates:\n",
    "                count = 0\n",
    "                frames.append(ts)\n",
    "    \n",
    "    if count > 0:\n",
    "        frames.append(ts)\n",
    "        \n",
    "    frames[-1] = frames[-1] + 1\n",
    "    \n",
    "    return frames\n",
    "\n",
    "def get_label(upi, upj):\n",
    "    '''\n",
    "    '''\n",
    "    if upi[5] != upj[5] and int(upi[6]) == 1 and int(upj[6]) == 1:\n",
    "        return 0\n",
    "    elif int(upi[6]) == 1 and int(upj[6]) == 1:\n",
    "        return 1\n",
    "    else: \n",
    "        return 2\n",
    "\n",
    "def create_graph(input_file_name, min_time=0, max_time=sys.maxsize, space_threshold=1, time_threshold=sys.maxsize,\n",
    "                min_x=0, max_x=1002, min_y=0, max_y=1002):\n",
    "    '''\n",
    "        Creates networkx graph of updates within a given frame (or time window) and associated \n",
    "        list of update info (timestamp, user, color etc.).\n",
    "        The input file contains the sorted list of updates with project assignments.\n",
    "        The values of min_time and max_time define the frame time window.\n",
    "        Updates are connected spatially based on the space threshold and temporally based\n",
    "        on the time threshold (in seconds).\n",
    "        min_x,max_x,min_y,max_y define the area of the canvas for which updates will be considered.\n",
    "        It returns a networx graph for which node IDs are indexes for the list of updates.\n",
    "    '''\n",
    "    updates = []\n",
    "    \n",
    "    xy_index = []\n",
    "    for i in range(1001):\n",
    "        xy_index.append([])\n",
    "        for j in range(1001):\n",
    "            xy_index[i].append([])\n",
    "    \n",
    "    i = 0\n",
    "    with open(input_file_name,'r') as file:\n",
    "        # Skip first line (header row)\n",
    "        next(file, None)\n",
    "        reader = csv.reader(file)\n",
    "\n",
    "        for r in reader:\n",
    "            ts = int(r[0])\n",
    "            x = int(r[2])\n",
    "            y = int(r[3])\n",
    "            proj_smallest = int(r[8])\n",
    "            if proj_smallest:\n",
    "                if ts >= min_time and ts < max_time and x >= min_x and x < max_x and y >= min_y and y < max_y:\n",
    "                    user = r[1]\n",
    "                    color = int(r[4])\n",
    "                    proj = r[5]\n",
    "                    pixel = int(r[6])\n",
    "                    pixel_color = int(r[7])\n",
    "\n",
    "                    #Collecting update info\n",
    "                    updates.append([ts, user, x, y, color, proj, pixel, pixel_color])\n",
    "\n",
    "                    #Spatial index for updates. This is used to find updates near each other.\n",
    "                    xy_index[x][y].append(i)\n",
    "                    i = i + 1\n",
    "    \n",
    "    G = MyGraph()\n",
    "                \n",
    "    for xi in range(1001):\n",
    "        for yi in range(1001):\n",
    "            for xj in range(xi-space_threshold, xi+space_threshold+1):\n",
    "                for yj in range(yi-space_threshold, yi+space_threshold+1):\n",
    "                    if xj >= 0 and yj >= 0 and xj < 1001 and yj < 1001:\n",
    "                        #Each update is connected at least to the previous update\n",
    "                        #of the same pixel.\n",
    "                        if xi == xj and yi == yj:\n",
    "                            for i in range(0, len(xy_index[xi][yi])-1):\n",
    "                                if updates[xy_index[xi][yi][i]][0] >= min_time and updates[xy_index[xi][yi][i]][0] < max_time:\n",
    "                                    if updates[xy_index[xi][yi][i+1]][0] >= min_time and updates[xy_index[xi][yi][i+1]][0] < max_time:\n",
    "                                        if xy_index[xi][yi][i] != xy_index[xi][yi][i+1]:\n",
    "                                            label = get_label(updates[xy_index[xi][yi][i]],\n",
    "                                                              updates[xy_index[xi][yi][i+1]]) \n",
    "                                            G.add_edge(xy_index[xi][yi][i], xy_index[xi][yi][i+1], label)\n",
    "                        \n",
    "                        #Connecting nodes based on spatial and temporal proximity\n",
    "                        if len(xy_index[xi][yi]) > 0 and len(xy_index[xj][yj]) > 0:\n",
    "                            i = 0\n",
    "                            j = 0\n",
    "\n",
    "                            while i < len(xy_index[xi][yi]) and j < len(xy_index[xj][yj]):\n",
    "                                ui = updates[xy_index[xi][yi][i]]\n",
    "                                uj = updates[xy_index[xj][yj][j]]\n",
    "\n",
    "                                if ui[0] >= min_time and ui[0] < max_time:\n",
    "                                    if uj[0] >= min_time and uj[0] < max_time:\n",
    "                                        if ui[0]-uj[0] < 1000 * time_threshold and ui[0]-uj[0] >= 0:\n",
    "                                            if xy_index[xi][yi][i] != xy_index[xj][yj][j]:\n",
    "                                                label = get_label(updates[xy_index[xi][yi][i]], \n",
    "                                                                  updates[xy_index[xj][yj][j]])\n",
    "                                                G.add_edge(xy_index[xi][yi][i], xy_index[xj][yj][j], label)\n",
    "                                \n",
    "                                if ui[0] < uj[0]:\n",
    "                                    i = i + 1\n",
    "                                else:\n",
    "                                    j = j + 1\n",
    "\n",
    "                            if j == len(xy_index[xj][yj]):\n",
    "                                while i < len(xy_index[xi][yi]):\n",
    "                                    ui = updates[xy_index[xi][yi][i]]\n",
    "                                    uj = updates[xy_index[xj][yj][j-1]]\n",
    "                                    \n",
    "                                    if ui[0] >= min_time and ui[0] < max_time:\n",
    "                                        if uj[0] >= min_time and uj[0] < max_time:\n",
    "                                            if ui[0]-uj[0] < 1000 * time_threshold and ui[0]-uj[0] >= 0:\n",
    "                                                if xy_index[xi][yi][i] != xy_index[xj][yj][j-1]:\n",
    "                                                    label = get_label(updates[xy_index[xi][yi][i]], \n",
    "                                                                      updates[xy_index[xj][yj][j-1]])\n",
    "                                                    G.add_edge(xy_index[xi][yi][i], xy_index[xj][yj][j-1], label)\n",
    "                                    i = i + 1\n",
    "                                    \n",
    "                            elif i == len(xy_index[xi][yi]):\n",
    "                                while j < len(xy_index[xj][yj]):\n",
    "                                    ui = updates[xy_index[xi][yi][i-1]]\n",
    "                                    uj = updates[xy_index[xj][yj][j]]\n",
    "                                    if ui[0] >= min_time and ui[0] < max_time:\n",
    "                                        if uj[0] >= min_time and uj[0] < max_time:\n",
    "                                            if ui[0]-uj[0] < 1000 * time_threshold and ui[0]-uj[0] >= 0:\n",
    "                                                if xy_index[xi][yi][i] != xy_index[xj][yj][j]:\n",
    "                                                    label = get_label(updates[xy_index[xi][yi][i]], \n",
    "                                                                      updates[xy_index[xj][yj][j]])\n",
    "                                                    G.add_edge(xy_index[xi][yi][i], xy_index[xj][yj][j], label)\n",
    "                                    j = j + 1\n",
    "    \n",
    "    G.flush_edges()\n",
    "    G.remove_repeated_edges()\n",
    "                                    \n",
    "    return G, updates     "
   ]
  },
  {
   "cell_type": "code",
   "execution_count": 40,
   "metadata": {},
   "outputs": [],
   "source": [
    "input_file= \"../data/sorted_tile_placements_proj.csv\"\n",
    "'''\n",
    "    Determine the size of the canvas that is being looked at\n",
    "'''\n",
    "min_x = 0\n",
    "max_x = 100\n",
    "min_y = 0\n",
    "max_y = 100\n"
   ]
  },
  {
   "cell_type": "code",
   "execution_count": 4,
   "metadata": {},
   "outputs": [],
   "source": [
    "#G, ups = create_graph(\"../data/sorted_tile_placements_proj.csv\", frames[-2], frames[-1], 2)\n",
    "\n",
    "#Building graph for whole experiment within box (0-100,0-100) of the canvas\n",
    "# frames = create_frames_by_time(\"../data/sorted_tile_placements_proj.csv\")\n",
    "# G, ups = create_graph(\"../data/sorted_tile_placements_proj_nonoverlap.csv\", frames[0], frames[1]+1, 2, 30*60, 0, 300, 0, 300)"
   ]
  },
  {
   "cell_type": "code",
   "execution_count": 42,
   "metadata": {},
   "outputs": [],
   "source": [
    "G, ups = create_graph(input_file, 0, sys.maxsize, 2, 30*60, min_x, max_x, min_y, max_y)"
   ]
  },
  {
   "cell_type": "code",
   "execution_count": 43,
   "metadata": {},
   "outputs": [],
   "source": [
    "def compute_color_relations(ups):\n",
    "    '''\n",
    "        Computes for each (x,y) position of the canvas a pairwise value for color conflict\n",
    "        which is how often at color replaces another at that position.\n",
    "        \n",
    "        The only parameter is the list of updates.\n",
    "        \n",
    "        Returns a sparse array 1001x1001x16x16 (x,y,color,color)\n",
    "        \n",
    "        Seems to be useless for region identification!!\n",
    "    '''\n",
    "    xy_color = -np.ones((1001,1001),dtype=np.int8)            \n",
    "    xy_distance = np.zeros((1001,1001, 16, 16), dtype=np.uint16)\n",
    "    \n",
    "    for i in range(len(ups)):\n",
    "        ts = ups[i][0]\n",
    "        x = int(ups[i][2])\n",
    "        y = int(ups[i][3])\n",
    "        color_now = int(ups[i][4])\n",
    "        color_earlier = xy_color[x][y]\n",
    "        \n",
    "        if color_earlier >= 0 and color_earlier != color_now:\n",
    "            xy_distance[x][y][color_earlier][color_now] = xy_distance[x][y][color_earlier][color_now] + 1\n",
    "            \n",
    "        xy_color[x][y] = color_now\n",
    "    \n",
    "    #Creating sparse data structure for memory savings\n",
    "    sparse_xy_distance = []\n",
    "    \n",
    "    for x in range(xy_distance.shape[0]):\n",
    "        sparse_xy_distance.append([])\n",
    "        for y in range(xy_distance.shape[1]):\n",
    "            sparse_xy_distance[x].append(scipy.sparse.csr_matrix(xy_distance[x][y], dtype=np.uint16))\n",
    "                \n",
    "    return sparse_xy_distance\n",
    "\n",
    "color_rel = compute_color_relations(ups)"
   ]
  },
  {
   "cell_type": "code",
   "execution_count": null,
   "metadata": {},
   "outputs": [],
   "source": [
    "#Applying the color relations (above) and comparing scores for TRUE and FALSE edges\n",
    "#TRUE edges are inside an artwork. FALSE edges are across artworks.\n",
    "\n",
    "sum_true = 0\n",
    "n_true = 0\n",
    "sum_false = 0\n",
    "n_false = 0\n",
    "\n",
    "with open(G.unique_edges_file_name, 'r') as file_in:\n",
    "    reader = csv.reader(file_in)\n",
    "    \n",
    "    for r in reader:\n",
    "        u = int(r[0])\n",
    "        v = int(r[1])\n",
    "        lb = int(r[2])\n",
    "        \n",
    "        xu = ups[u][2]\n",
    "        yu = ups[u][3]\n",
    "        xv = ups[v][2]\n",
    "        yv = ups[v][3]\n",
    "        \n",
    "        color_u = int(ups[u][4])\n",
    "        color_v = int(ups[v][4])\n",
    "        user_u = ups[u][1]\n",
    "        user_v = ups[v][1]\n",
    "        \n",
    "        w = color_rel[xu][yu][color_u,color_v] + color_rel[xu][yu][color_v,color_u]\n",
    "        w = w + color_rel[xv][yv][color_u,color_v] + color_rel[xv][yv][color_v,color_u]\n",
    "        if lb == 0:                         #Different projec ids\n",
    "            sum_false = sum_false + w\n",
    "            n_false = n_false + 1\n",
    "        elif lb == 1:                               #Same project ids\n",
    "            sum_true = sum_true + w\n",
    "            n_true = n_true + 1"
   ]
  },
  {
   "cell_type": "code",
   "execution_count": 48,
   "metadata": {},
   "outputs": [
    {
     "name": "stdout",
     "output_type": "stream",
     "text": [
      "TRUE: AVG =  1.8603406101444593\n",
      "FALSE: AVG =  2.6799188640973632\n"
     ]
    }
   ],
   "source": [
    "print(\"TRUE: AVG = \", sum_true / n_true)\n",
    "print(\"FALSE: AVG = \", sum_false / n_false)"
   ]
  },
  {
   "cell_type": "code",
   "execution_count": 44,
   "metadata": {},
   "outputs": [],
   "source": [
    "def compute_user_color(ups):\n",
    "    '''\n",
    "        Computes a color vector for each user. \n",
    "        For each color, we add 1 if the user uses the color and\n",
    "        subtract 1 if that color replaces an update of the user\n",
    "        or the user changes that color via an update. The vectors\n",
    "        are normalized (norm 1.)\n",
    "    '''\n",
    "    max_uint32 = 4294967295    #Using this for undefined\n",
    "    xy_user = max_uint32 * np.ones((1001,1001),dtype=np.uint32)\n",
    "    xy_color = -np.ones((1001,1001),dtype=np.int8)\n",
    "    user_index = {}\n",
    "    \n",
    "    for i in range(len(ups)):\n",
    "        user = ups[i][1]\n",
    "        if user not in user_index:\n",
    "            user_index[user] = len(user_index)\n",
    "    \n",
    "    user_color = np.zeros((len(user_index)+1, 16))\n",
    "    \n",
    "    for i in range(len(ups)):\n",
    "        user = ups[i][1]\n",
    "        x = ups[i][2]\n",
    "        y = ups[i][3]\n",
    "        color = int(ups[i][4])\n",
    "              \n",
    "        idx_user = user_index[user]\n",
    "        user_color[idx_user][color] = user_color[idx_user][color] + 1\n",
    "        \n",
    "        color_earlier = xy_color[x][y]\n",
    "        user_earlier = xy_user[x][y]\n",
    "        \n",
    "        if user_earlier < max_uint32 and user_earlier != idx_user and color != color_earlier:\n",
    "            user_color[user_earlier][color] = user_color[user_earlier][color] - 1\n",
    "            \n",
    "        if color_earlier >= 0 and color != color_earlier:\n",
    "            user_color[idx_user][color_earlier] = user_color[idx_user][color_earlier] - 1\n",
    "            \n",
    "        xy_color[x][y] = color\n",
    "        xy_user[x][y] = idx_user\n",
    "        \n",
    "        \n",
    "    for i in range(user_color.shape[0]):\n",
    "        if np.linalg.norm(user_color[i]) > 0:\n",
    "            user_color[i] = user_color[i] / np.linalg.norm(user_color[i])\n",
    "            \n",
    "    return scipy.sparse.csr_matrix(user_color), user_index\n",
    "\n",
    "user_color, user_index_color = compute_user_color(ups)"
   ]
  },
  {
   "cell_type": "code",
   "execution_count": 52,
   "metadata": {},
   "outputs": [],
   "source": [
    "#Applying user colors (above) and comparing scores for TRUE and FALSE edges\n",
    "#TRUE edges are inside an artwork. FALSE edges are across artworks.\n",
    "\n",
    "sum_true = 0\n",
    "n_true = 0\n",
    "sum_false = 0\n",
    "n_false = 0\n",
    "\n",
    "with open(G.unique_edges_file_name, 'r') as file_in:\n",
    "    reader = csv.reader(file_in)\n",
    "    \n",
    "    for r in reader:\n",
    "        u = int(r[0])\n",
    "        v = int(r[1])\n",
    "        lb = int(r[2])\n",
    "        \n",
    "        xu = ups[u][2]\n",
    "        yu = ups[u][3]\n",
    "        xv = ups[v][2]\n",
    "        yv = ups[v][3]\n",
    "        \n",
    "        color_u = int(ups[u][4])\n",
    "        color_v = int(ups[v][4])\n",
    "        user_u = ups[u][1]\n",
    "        user_v = ups[v][1]\n",
    "        \n",
    "        idx_user_u = user_index_color[user_u]\n",
    "        idx_user_v = user_index_color[user_v]\n",
    "        \n",
    "        w = 1.-(user_color[idx_user_u].todense() * user_color[idx_user_v].todense().T)[0,0]\n",
    "        \n",
    "        if lb == 0:                         #Different projec ids\n",
    "            sum_false = sum_false + w\n",
    "            n_false = n_false + 1\n",
    "        elif lb == 1:                               #Same project ids\n",
    "            sum_true = sum_true + w\n",
    "            n_true = n_true + 1"
   ]
  },
  {
   "cell_type": "code",
   "execution_count": 53,
   "metadata": {},
   "outputs": [
    {
     "name": "stdout",
     "output_type": "stream",
     "text": [
      "TRUE: AVG =  0.5052399731249696\n",
      "FALSE: AVG =  0.6251917660892468\n"
     ]
    }
   ],
   "source": [
    "print(\"TRUE: AVG = \", sum_true / n_true)\n",
    "print(\"FALSE: AVG = \", sum_false / n_false)"
   ]
  },
  {
   "cell_type": "code",
   "execution_count": 45,
   "metadata": {},
   "outputs": [],
   "source": [
    "def compute_update_durations(ups):\n",
    "    '''\n",
    "        Computes the time duration of each update [begin,end]\n",
    "    '''\n",
    "    max_uint32 = 4294967295    #Using this for undefined\n",
    "    xy_ups = max_uint32 * np.ones((1001,1001),dtype=np.uint32)\n",
    "    durations = []\n",
    "    max_time = 0\n",
    "    \n",
    "    for i in range(len(ups)):\n",
    "        ts = int(ups[i][0])\n",
    "        user = ups[i][1]\n",
    "        x = int(ups[i][2])\n",
    "        y = int(ups[i][3])\n",
    "        \n",
    "        if xy_ups[x][y] < max_uint32:\n",
    "            durations[xy_ups[x][y]][1] = ts\n",
    "            \n",
    "        xy_ups[x][y] = i\n",
    "        durations.append([ts,0])\n",
    "        \n",
    "        if ts > max_time:\n",
    "            max_time = ts\n",
    "            \n",
    "    for x in range(xy_ups.shape[0]):\n",
    "        for y in range(xy_ups.shape[1]):\n",
    "            if xy_ups[x][y] < max_uint32:\n",
    "                durations[xy_ups[x][y]][1] = max_time+1\n",
    "            \n",
    "    return durations\n",
    "\n",
    "def dist_duration(dur_i, dur_j):\n",
    "    '''\n",
    "        Distance function for two durations. \n",
    "    '''\n",
    "    if dur_i[0] > dur_j[1] or dur_j[0] > dur_i[1]:\n",
    "        return 1. # 0 overlap\n",
    "    else:\n",
    "        a = max(dur_i[0], dur_j[0])\n",
    "        b = min(dur_i[1], dur_j[1])\n",
    "        \n",
    "        if dur_i[1]-dur_i[0]+dur_j[1]-dur_j[0] == 0:\n",
    "            return 1.\n",
    "        \n",
    "        overlap = 2 * (b-a) / (dur_i[1]-dur_i[0]+dur_j[1]-dur_j[0]) \n",
    "        \n",
    "        return 1.-overlap\n",
    "\n",
    "durations = compute_update_durations(ups)"
   ]
  },
  {
   "cell_type": "code",
   "execution_count": 55,
   "metadata": {},
   "outputs": [],
   "source": [
    "#Applying update durations (above) and comparing scores for TRUE and FALSE edges\n",
    "#TRUE edges are inside an artwork. FALSE edges are across artworks.\n",
    "\n",
    "sum_true = 0\n",
    "n_true = 0\n",
    "sum_false = 0\n",
    "n_false = 0\n",
    "\n",
    "with open(G.unique_edges_file_name, 'r') as file_in:\n",
    "    reader = csv.reader(file_in)\n",
    "    \n",
    "    for r in reader:\n",
    "        u = int(r[0])\n",
    "        v = int(r[1])\n",
    "        lb = int(r[2])\n",
    "        \n",
    "        xu = ups[u][2]\n",
    "        yu = ups[u][3]\n",
    "        xv = ups[v][2]\n",
    "        yv = ups[v][3]\n",
    "        \n",
    "        color_u = int(ups[u][4])\n",
    "        color_v = int(ups[v][4])\n",
    "        user_u = ups[u][1]\n",
    "        user_v = ups[v][1]\n",
    "        \n",
    "        w = dist_duration(durations[u], durations[v])\n",
    "        \n",
    "        if lb == 0:                         #Different projec ids\n",
    "            sum_false = sum_false + w\n",
    "            n_false = n_false + 1\n",
    "        elif lb == 1:                               #Same project ids\n",
    "            sum_true = sum_true + w\n",
    "            n_true = n_true + 1"
   ]
  },
  {
   "cell_type": "code",
   "execution_count": 56,
   "metadata": {},
   "outputs": [
    {
     "name": "stdout",
     "output_type": "stream",
     "text": [
      "TRUE: AVG =  0.15983350165574886\n",
      "FALSE: AVG =  0.21897012857395612\n"
     ]
    }
   ],
   "source": [
    "print(\"TRUE: AVG = \", sum_true / n_true)\n",
    "print(\"FALSE: AVG = \", sum_false / n_false)"
   ]
  },
  {
   "cell_type": "code",
   "execution_count": 46,
   "metadata": {},
   "outputs": [],
   "source": [
    "def compute_user_relations(G, ups):\n",
    "    '''\n",
    "        Computes two matrices based on user activity. The first \n",
    "        has for each position (i,j) the number of times users i and j\n",
    "        used the same color at adjacent positions (in the update graph).\n",
    "        The second matrix has for each position (i,j) the number of\n",
    "        times users i and j used different collors at adjacent positions.\n",
    "        These matrices are in sparse format. The function also returns\n",
    "        an index for mapping user ids to matrix indices.\n",
    "    '''\n",
    "    user_relations = {}\n",
    "    user_index = {}\n",
    "    \n",
    "    with open(G.unique_edges_file_name, 'r') as file_in:\n",
    "        reader = csv.reader(file_in)\n",
    "    \n",
    "        for r in reader:\n",
    "            u = int(r[0])\n",
    "            v = int(r[1])\n",
    "            lb = r[2]\n",
    "            \n",
    "            user_u = ups[u][1]\n",
    "            user_v = ups[v][1]\n",
    "            \n",
    "            color_u = ups[u][4]\n",
    "            color_v = ups[v][4]\n",
    "            \n",
    "            x_u = ups[u][2]\n",
    "            x_v = ups[v][2]\n",
    "            y_u = ups[u][3]\n",
    "            y_v = ups[v][3]\n",
    "            \n",
    "            if user_u not in user_index:\n",
    "                user_index[user_u] = len(user_index)\n",
    "                user_relations[user_index[user_u]] = {}\n",
    "                    \n",
    "            if user_v not in user_index:\n",
    "                user_index[user_v] = len(user_index)\n",
    "                user_relations[user_index[user_v]] = {}\n",
    "                \n",
    "            idx_u = user_index[user_u]\n",
    "            idx_v = user_index[user_v]\n",
    "            \n",
    "            if idx_u < idx_v:\n",
    "                if idx_v not in user_relations[idx_u]:\n",
    "                    user_relations[idx_u][idx_v] = [0, 0]\n",
    "                    \n",
    "                if color_u == color_v:\n",
    "                    user_relations[idx_u][idx_v][0] = user_relations[idx_u][idx_v][0] + 1\n",
    "                else:\n",
    "                    user_relations[idx_u][idx_v][1] = user_relations[idx_u][idx_v][1] + 1\n",
    "                \n",
    "            else:\n",
    "                if idx_u not in user_relations[idx_v]:\n",
    "                    user_relations[idx_v][idx_u] = [0, 0]\n",
    "                    \n",
    "                if color_u == color_v:\n",
    "                    user_relations[idx_v][idx_u][0] = user_relations[idx_v][idx_u][0] + 1\n",
    "                else:\n",
    "                    user_relations[idx_v][idx_u][1] = user_relations[idx_v][idx_u][1] + 1\n",
    "                \n",
    "                    \n",
    "    #Creating sparse data structure for memory savings\n",
    "    rows = []\n",
    "    cols = []\n",
    "    vals = []\n",
    "\n",
    "    for ui in user_relations:\n",
    "        for uj in user_relations[ui]:\n",
    "            if user_relations[ui][uj][0] > 0:\n",
    "                rows.append(ui)\n",
    "                cols.append(uj)\n",
    "                vals.append(user_relations[ui][uj][0])\n",
    "\n",
    "    same_color = scipy.sparse.csr_matrix((vals, (rows, cols)), shape=(len(user_index)+1, len(user_index)+1), dtype=np.uint16)\n",
    "    \n",
    "    rows = []\n",
    "    cols = []\n",
    "    vals = []\n",
    "\n",
    "    for ui in user_relations:\n",
    "        for uj in user_relations[ui]:\n",
    "            if user_relations[ui][uj][1] > 0:\n",
    "                rows.append(ui)\n",
    "                cols.append(uj)\n",
    "                vals.append(user_relations[ui][uj][1])\n",
    "\n",
    "    diff_color = scipy.sparse.csr_matrix((vals, (rows, cols)), shape=(len(user_index)+1, len(user_index)+1), dtype=np.uint16)\n",
    "    \n",
    "    return same_color, diff_color, user_index\n",
    "\n",
    "usr_rel_same_color, usr_rel_diff_color, user_index = compute_user_relations(G, ups)"
   ]
  },
  {
   "cell_type": "code",
   "execution_count": 58,
   "metadata": {},
   "outputs": [],
   "source": [
    "#Applying user same color interactions (above) and comparing scores for TRUE and FALSE edges\n",
    "#TRUE edges are inside an artwork. FALSE edges are across artworks.\n",
    "\n",
    "sum_true = 0\n",
    "n_true = 0\n",
    "sum_false = 0\n",
    "n_false = 0\n",
    "\n",
    "with open(G.unique_edges_file_name, 'r') as file_in:\n",
    "    reader = csv.reader(file_in)\n",
    "    \n",
    "    for r in reader:\n",
    "        u = int(r[0])\n",
    "        v = int(r[1])\n",
    "        lb = int(r[2])\n",
    "        \n",
    "        xu = ups[u][2]\n",
    "        yu = ups[u][3]\n",
    "        xv = ups[v][2]\n",
    "        yv = ups[v][3]\n",
    "        \n",
    "        color_u = int(ups[u][4])\n",
    "        color_v = int(ups[v][4])\n",
    "        user_u = ups[u][1]\n",
    "        user_v = ups[v][1]\n",
    "        \n",
    "        idx_user_u = user_index[user_u]\n",
    "        idx_user_v = user_index[user_v]\n",
    "        \n",
    "        if idx_user_u < idx_user_v:\n",
    "            w = usr_rel_same_color[idx_user_u,idx_user_v]\n",
    "        else:\n",
    "            w = usr_rel_same_color[idx_user_v,idx_user_u]\n",
    "        \n",
    "        if lb == 0:                         #Different projec ids\n",
    "            sum_false = sum_false + w\n",
    "            n_false = n_false + 1\n",
    "        elif lb == 1:                               #Same project ids\n",
    "            sum_true = sum_true + w\n",
    "            n_true = n_true + 1"
   ]
  },
  {
   "cell_type": "code",
   "execution_count": 59,
   "metadata": {},
   "outputs": [
    {
     "name": "stdout",
     "output_type": "stream",
     "text": [
      "TRUE: AVG =  7.4052706881432595\n",
      "FALSE: AVG =  4.021501014198783\n"
     ]
    }
   ],
   "source": [
    "print(\"TRUE: AVG = \", sum_true / n_true)\n",
    "print(\"FALSE: AVG = \", sum_false / n_false)"
   ]
  },
  {
   "cell_type": "code",
   "execution_count": 60,
   "metadata": {},
   "outputs": [],
   "source": [
    "#Applying user different color interactions (above) and comparing scores for TRUE and FALSE edges\n",
    "#TRUE edges are inside an artwork. FALSE edges are across artworks.\n",
    "\n",
    "sum_true = 0\n",
    "n_true = 0\n",
    "sum_false = 0\n",
    "n_false = 0\n",
    "\n",
    "with open(G.unique_edges_file_name, 'r') as file_in:\n",
    "    reader = csv.reader(file_in)\n",
    "    \n",
    "    for r in reader:\n",
    "        u = int(r[0])\n",
    "        v = int(r[1])\n",
    "        lb = int(r[2])\n",
    "        \n",
    "        xu = ups[u][2]\n",
    "        yu = ups[u][3]\n",
    "        xv = ups[v][2]\n",
    "        yv = ups[v][3]\n",
    "        \n",
    "        color_u = int(ups[u][4])\n",
    "        color_v = int(ups[v][4])\n",
    "        user_u = ups[u][1]\n",
    "        user_v = ups[v][1]\n",
    "        \n",
    "        idx_user_u = user_index[user_u]\n",
    "        idx_user_v = user_index[user_v]\n",
    "        \n",
    "        if idx_user_u < idx_user_v:\n",
    "            w = usr_rel_diff_color[idx_user_u,idx_user_v]\n",
    "        else:\n",
    "            w = usr_rel_diff_color[idx_user_v,idx_user_u]\n",
    "        \n",
    "        if lb == 0:                         #Different projec ids\n",
    "            sum_false = sum_false + w\n",
    "            n_false = n_false + 1\n",
    "        elif lb == 1:                               #Same project ids\n",
    "            sum_true = sum_true + w\n",
    "            n_true = n_true + 1"
   ]
  },
  {
   "cell_type": "code",
   "execution_count": 61,
   "metadata": {},
   "outputs": [
    {
     "name": "stdout",
     "output_type": "stream",
     "text": [
      "TRUE: AVG =  8.004061475977293\n",
      "FALSE: AVG =  6.184178498985801\n"
     ]
    }
   ],
   "source": [
    "print(\"TRUE: AVG = \", sum_true / n_true)\n",
    "print(\"FALSE: AVG = \", sum_false / n_false)"
   ]
  },
  {
   "cell_type": "code",
   "execution_count": 47,
   "metadata": {},
   "outputs": [],
   "source": [
    "def compute_weight(i, j, upi, upj, user_rel, user_index_rel, durations, user_colors, user_index_colors, \n",
    "        ALPHA, EPSILON_COLOR, EPSILON_USER):\n",
    "    '''\n",
    "        Computes weight of edge (upi,upj) based on user relations (positive and negative),\n",
    "        update durations, and user colors..\n",
    "        \n",
    "        ALPHA is a 3-D vector with the weights of each of these signals.\n",
    "        EPSILON_COLOR AND EPSILON_USER are used to distinguish the cases of equal color\n",
    "        or user.\n",
    "    '''\n",
    "    xi = upi[2]\n",
    "    yi = upi[3]\n",
    "    xj = upj[2]\n",
    "    yj = upj[3]\n",
    "    color_i = upi[4]\n",
    "    color_j = upj[4]\n",
    "    user_i = upi[1]\n",
    "    user_j = upj[1]\n",
    "    \n",
    "    if color_i != color_j:\n",
    "        color_weight = EPSILON_COLOR\n",
    "    else:\n",
    "        color_weight = 0.\n",
    "    \n",
    "    user_i_id = user_index_colors[user_i]\n",
    "    user_j_id = user_index_colors[user_j]\n",
    "    \n",
    "    #user colors\n",
    "    color_weight = color_weight + (1.-user_colors[user_i_id].todense() * user_colors[user_j_id].todense().T)[0,0]\n",
    "    \n",
    "    #durations\n",
    "    dur_weight = dist_duration(durations[i], durations[j])\n",
    "    \n",
    "    user_i_id = user_index_rel[user_i]\n",
    "    user_j_id = user_index_rel[user_j]\n",
    "    \n",
    "    if user_i != user_j:\n",
    "        user_weight = EPSILON_USER\n",
    "    else:\n",
    "        user_weight = 0.\n",
    "    \n",
    "    #users positive and negative interactions\n",
    "    if (user_rel[0][user_i_id,user_j_id]+user_rel[1][user_i_id,user_j_id]) > 0:\n",
    "        user_weight = user_weight + user_rel[1][user_i_id,user_j_id] /  (user_rel[0][user_i_id,user_j_id]+user_rel[1][user_i_id,user_j_id])\n",
    "            \n",
    "    return ALPHA[0] * color_weight + ALPHA[1] * user_weight + ALPHA[2] * dur_weight\n"
   ]
  },
  {
   "cell_type": "code",
   "execution_count": 24,
   "metadata": {},
   "outputs": [],
   "source": []
  },
  {
   "cell_type": "code",
   "execution_count": 25,
   "metadata": {},
   "outputs": [],
   "source": []
  },
  {
   "cell_type": "code",
   "execution_count": 48,
   "metadata": {},
   "outputs": [],
   "source": [
    "def create_components(ups):\n",
    "    '''\n",
    "        Creates one component per node in the graph.\n",
    "        \n",
    "        Returns a dictionary mapping nodes to components\n",
    "        and also the internal weights (0) and sizes (1) of\n",
    "        the components.\n",
    "    '''\n",
    "    comp_assign = {}\n",
    "    internal_weights = []\n",
    "    sizes = []\n",
    "    regions = []\n",
    "    \n",
    "    for v in range(len(ups)):\n",
    "        comp_assign[v] = len(comp_assign)\n",
    "        internal_weights.append(0.)\n",
    "        sizes.append(1)\n",
    "        regions.append([v])\n",
    "        \n",
    "    return comp_assign, internal_weights, sizes, regions\n",
    "\n",
    "def compute_m_int(int_weights, sizes, comp_u, comp_v, KAPPA):\n",
    "    ''' \n",
    "        Computing internal weights for a pair of components.\n",
    "        \n",
    "        KAPPA is a small value that helps with small components.\n",
    "    '''\n",
    "    tau_1 = KAPPA / sizes[comp_u]\n",
    "    tau_2 = KAPPA / sizes[comp_v]\n",
    "    \n",
    "    return min(int_weights[comp_u]+tau_1, int_weights[comp_v]+tau_2)\n",
    "\n",
    "def merge(G, comp_assign, int_weights, sizes, regions, comp_u, comp_v, w):\n",
    "    '''\n",
    "        Merges two components (comp_u and comp_v) and updates\n",
    "        their respective internal weights.\n",
    "        \n",
    "        Returns the updated component assignments, internal weights\n",
    "        and component sizes.\n",
    "    '''\n",
    "    if sizes[comp_u] > sizes[comp_v]:\n",
    "        new_comp = comp_u\n",
    "        old_comp = comp_v\n",
    "    else:\n",
    "        new_comp = comp_v\n",
    "        old_comp = comp_u\n",
    "        \n",
    "    for v in regions[old_comp]:\n",
    "        comp_assign[v] = new_comp\n",
    "    \n",
    "    regions[new_comp].extend(regions[old_comp])\n",
    "    regions[old_comp] = []\n",
    "            \n",
    "    sizes[new_comp] = sizes[comp_u] + sizes[comp_v]\n",
    "    sizes[old_comp] = 0\n",
    "        \n",
    "    int_weights[new_comp] = w\n",
    "    \n",
    "    return comp_assign, int_weights, sizes, regions\n",
    "\n",
    "def region_segmentation(G, ups, KAPPA):\n",
    "    '''\n",
    "        Implements region segmentation algorithms by Felzenszwalb and Huttenlocher.\n",
    "        \n",
    "        Paper: http://people.cs.uchicago.edu/~pff/papers/seg-ijcv.pdf\n",
    "        \n",
    "        Returns dictionary mapping node to region.\n",
    "    '''\n",
    "    comp_assign, int_weights, sizes, regions = create_components(ups)\n",
    "      \n",
    "    with open(G.sorted_edges_file_name, 'r') as file_in:\n",
    "        reader = csv.reader(file_in)\n",
    "    \n",
    "        for r in reader:\n",
    "            u = int(r[0])\n",
    "            v = int(r[1])\n",
    "            lb = r[2]\n",
    "            w = float(r[3])\n",
    "        \n",
    "            comp_u = comp_assign[u]\n",
    "            comp_v = comp_assign[v]\n",
    "        \n",
    "            if comp_u != comp_v:\n",
    "                m_int = compute_m_int(int_weights, sizes, comp_u, comp_v, KAPPA)\n",
    "            \n",
    "                if w < m_int:\n",
    "                    comp_assign, int_weights, sizes, regions = merge(G, comp_assign, int_weights, sizes, regions,\n",
    "                        comp_u, comp_v, w)\n",
    "        \n",
    "    return comp_assign\n",
    "\n",
    "def extract_regions(comp_assign):\n",
    "    '''\n",
    "        Extracts actual regions (lists of updates) from region assignements.\n",
    "        Also returns the region sizes.\n",
    "    '''\n",
    "    regions = []\n",
    "    sizes = []\n",
    "    region_ids = {}\n",
    "    \n",
    "    for c in comp_assign:\n",
    "        if comp_assign[c] not in region_ids:\n",
    "            region_ids[comp_assign[c]] = len(region_ids)\n",
    "            regions.append([])\n",
    "            sizes.append(0)\n",
    "            \n",
    "    for c in comp_assign:\n",
    "        ID = region_ids[comp_assign[c]]\n",
    "        regions[ID].append(c)\n",
    "        sizes[ID] = sizes[ID] + 1\n",
    "    \n",
    "    return regions, sizes"
   ]
  },
  {
   "cell_type": "code",
   "execution_count": 11,
   "metadata": {},
   "outputs": [],
   "source": [
    "def extract_region(updates, region):\n",
    "    data_color_code = np.uint8(np.zeros((1001,1001)))\n",
    "    \n",
    "    for pixel in region:\n",
    "        u = updates[int(pixel)]\n",
    "        x = u[2]\n",
    "        y = u[3]\n",
    "        color = u[4]\n",
    "        \n",
    "        data_color_code[y][x] = color\n",
    "        \n",
    "    return data_color_code\n",
    "\n",
    "def draw_canvas_region(updates, region, out_file):\n",
    "    canvas_ups = extract_region(updates, region)\n",
    "    canvas_ups_rgb = canvas_color_code_rgb(canvas_ups)\n",
    "    draw_canvas(canvas_ups_rgb, out_file)"
   ]
  },
  {
   "cell_type": "code",
   "execution_count": 18,
   "metadata": {},
   "outputs": [],
   "source": [
    "def create_ground_truth(input_filename, min_time=0, max_time=sys.maxsize, min_x=0, max_x=1002, min_y=0, max_y=1002):\n",
    "    '''\n",
    "        Given the input file, create and return a dictionary of the ground truth for the\n",
    "        pixel assignments.\n",
    "        \n",
    "        Each pixel's ID will be based upon the index it is found within the file\n",
    "    '''\n",
    "    line_number = 0\n",
    "    ground_truth = dict()\n",
    "    with open(input_filename,'r') as file_in:\n",
    "    \n",
    "        # Skip first line (header row)\n",
    "        next(file_in, None)\n",
    "\n",
    "        reader = csv.reader(file_in)\n",
    "        for r in reader:\n",
    "            ts = int(r[0])\n",
    "            user = r[1]\n",
    "            x = int(r[2])\n",
    "            y = int(r[3])\n",
    "            color = int(r[4])\n",
    "            pic_id = r[5]\n",
    "            final_pixel = int(r[6])\n",
    "            final_pixel_color = int(r[7])\n",
    "            smallest_proj = int(r[8])\n",
    "            \n",
    "            # The ground truth pixel assignments will be based on the pixel assigned to the smallest project\n",
    "            if smallest_proj and ts >= min_time and ts < max_time and x >= min_x and x < max_x and y >= min_y and y < max_y:\n",
    "                if pic_id not in ground_truth:\n",
    "                    ground_truth[pic_id] = [line_number]\n",
    "                else:\n",
    "                    ground_truth[pic_id].append(line_number)\n",
    "                    \n",
    "                line_number += 1\n",
    "    \n",
    "    return ground_truth\n",
    "                \n",
    "\n",
    "def get_region_borders(region, updates):\n",
    "    '''\n",
    "        Given a region (list of lists), return the min x, min y, max x, and max y\n",
    "    '''\n",
    "    min_x = sys.maxsize\n",
    "    min_y = sys.maxsize\n",
    "    max_x = 0\n",
    "    max_y = 0\n",
    "    for update_id in region:\n",
    "        \n",
    "        update = updates[int(update_id)]\n",
    "        x = int(update[2])\n",
    "        y = int(update[3])\n",
    "        \n",
    "        if x > max_x:\n",
    "            max_x = x\n",
    "        if x < min_x:\n",
    "            min_x = x\n",
    "        if y > max_y:\n",
    "            max_y = y\n",
    "        if y < min_y:\n",
    "            min_y = y\n",
    "            \n",
    "    return min_x, min_y, max_x, max_y\n",
    "\n",
    "def get_rectangle_overlap_area(min_x1, max_x1, min_y1, max_y1, min_x2, max_x2, min_y2, max_y2):\n",
    "    '''\n",
    "        Given the coordinates of the corners of two rectangles, return the area of the overlapping region\n",
    "    '''\n",
    "    \n",
    "    # First, calculate a bounding box around the two rectangles\n",
    "    bounding_box_area =  (max(max_x1, max_x2) - min(min_x1, min_x2)) * (max(max_y1, max_y2) - min(min_y1, min_y2))  \n",
    "    \n",
    "    \n",
    "    overlap_max_x = min(max_x1, max_x2)\n",
    "    overlap_max_y = min(max_y1, max_y2)\n",
    "    overlap_min_x = max(min_x1, min_x2)\n",
    "    overlap_min_y = max(min_y1, min_y2)\n",
    "    \n",
    "    if overlap_max_x > overlap_min_x and overlap_max_y > overlap_min_y:\n",
    "        return ((overlap_max_x - overlap_min_x + 1) * (overlap_max_y - overlap_min_y + 1))\n",
    "    else:\n",
    "        return 0\n",
    "    \n",
    "\n",
    "def get_max_iou(locations, region, updates, ground_truth):\n",
    "    '''\n",
    "        Given a region, check and return the maximum the iou with every project in the ground truth.\n",
    "    '''\n",
    "    max_iou = 0\n",
    "    max_pic_id = None\n",
    "    for pic_id in ground_truth:\n",
    "        project = locations[pic_id]\n",
    "        min_x, min_y, max_x, max_y =  get_region_borders(region, updates)\n",
    "        \n",
    "        # only check this region with the pic_id if the bounding boxes overlap by at least the threshold\n",
    "        overlap_area = get_rectangle_overlap_area(min_x, max_x, min_y, max_y, project.get_left(), project.get_right(), project.get_bottom(), project.get_top())\n",
    "        total_area = ((abs(max_x - min_x) + 1) * (abs(max_y - min_y) + 1)) + ((abs(project.get_right() - project.get_left()) + 1) * (abs(project.get_top() - project.get_bottom()) + 1)) - overlap_area\n",
    "        \n",
    "        if total_area > 0:\n",
    "        \n",
    "            iou = overlap_area / total_area\n",
    "            if iou > max_iou:\n",
    "                max_iou = iou\n",
    "                max_pic_id = pic_id\n",
    "            \n",
    "    return max_iou, max_pic_id\n",
    "    \n",
    "    \n",
    "# Given a set_of_updates and the ground truth data, evaluate the precision and recall\n",
    "# ground_truth is a dictionary of the following format:\n",
    "'''\n",
    "    \"image_id\" : [ list of update IDS belonging to this image ]\n",
    "'''\n",
    "\n",
    "# Each update tuple is assumed to be this format:\n",
    "# (updateID, time, user, x, y, color, pic_id)\n",
    "def evaluate(locations, regions, updates, ground_truth, threshold = 0.50, draw = False):\n",
    "    \n",
    "    if len(regions) == 0 or len(ground_truth) == 0:\n",
    "        return 0,0,0,0,dict()\n",
    "    \n",
    "#     stub = []\n",
    "    \n",
    "    region_assignments = dict()\n",
    "    num_assignments_made = len(regions)\n",
    "    ground_truth_size = len(ground_truth)\n",
    "    \n",
    "    image_assignment = dict()\n",
    "    num_correct_counter = 0\n",
    "    \n",
    "    for region in regions:\n",
    "        iou, pic_id = get_max_iou(locations, region, updates, ground_truth)\n",
    "        \n",
    "        \n",
    "#         if pic_id == \"73\":\n",
    "#             if region_assignments.get(pic_id) is None:\n",
    "#                 region_assignments[pic_id] = iou\n",
    "#                 stub = region\n",
    "#             else:\n",
    "#                 if region_assignments[pic_id] < iou:\n",
    "#                     region_assignments[pic_id] = iou\n",
    "#                     stub = region\n",
    "                \n",
    "        if iou > threshold:\n",
    "            if region_assignments.get(pic_id) is None:\n",
    "                # If this artwork has not been predicted yet, then add 1 to num_correct_counter and set the iou for\n",
    "                # this image\n",
    "                num_correct_counter += 1\n",
    "                region_assignments[pic_id] = iou\n",
    "            else:\n",
    "                # Else if there is a higher iou, update the value within region_assignments\n",
    "                if iou > region_assignments[pic_id]:\n",
    "                    region_assignments[pic_id] = iou\n",
    "\n",
    "                \n",
    "            if draw:\n",
    "                name = locations[pic_id].get_name().replace('/', '')\n",
    "                draw_canvas_region(updates, region, \"../drawings/\" + name + \"_region.png\")\n",
    "                draw_canvas_region(updates, ground_truth[pic_id], \"../drawings/\" + name + \"_truth.png\")\n",
    "\n",
    "#     runescape = locations[\"73\"].get_name()\n",
    "#     draw_canvas_region(updates, stub, \"../plots/\" + runescape + \".png\")\n",
    "#     print(\"RUNSECAPE IOU:\", region_assignments[\"73\"])\n",
    "    \n",
    "    precision = num_correct_counter / num_assignments_made\n",
    "    \n",
    "    recall = num_correct_counter / ground_truth_size\n",
    "    \n",
    "    return num_correct_counter, num_assignments_made, precision, recall, region_assignments"
   ]
  },
  {
   "cell_type": "code",
   "execution_count": null,
   "metadata": {},
   "outputs": [],
   "source": [
    "ground_truth = create_ground_truth(input_file,0, sys.maxsize, min_x, max_x, min_y, max_y)"
   ]
  },
  {
   "cell_type": "code",
   "execution_count": 31,
   "metadata": {},
   "outputs": [],
   "source": [
    "with open(G.unique_edges_file_name, 'r') as file_in:\n",
    "    reader = csv.reader(file_in)\n",
    "    \n",
    "    for r in reader:\n",
    "        u = r[0]\n",
    "        v = r[1]\n",
    "        lb = r[2]\n",
    "        \n",
    "        w = compute_weight(int(u), int(v), ups[int(u)], ups[int(v)], [usr_rel_same_color, usr_rel_diff_color], \n",
    "             user_index, durations, user_color, user_index_color, [0.1, 0.45, 0.45], 0.1, 0.9)\n",
    "        \n",
    "        G.set_weight(u, v, lb, w)\n",
    "        \n",
    "G.flush_weights()"
   ]
  },
  {
   "cell_type": "code",
   "execution_count": 32,
   "metadata": {},
   "outputs": [],
   "source": [
    "G.sort_edges()"
   ]
  },
  {
   "cell_type": "code",
   "execution_count": 33,
   "metadata": {},
   "outputs": [],
   "source": [
    "comp_assign = region_segmentation(G, ups, 1.)"
   ]
  },
  {
   "cell_type": "code",
   "execution_count": 34,
   "metadata": {},
   "outputs": [],
   "source": [
    "regions, sizes = extract_regions(comp_assign)"
   ]
  },
  {
   "cell_type": "code",
   "execution_count": 35,
   "metadata": {},
   "outputs": [
    {
     "name": "stdout",
     "output_type": "stream",
     "text": [
      "17547\n",
      "9247\n"
     ]
    }
   ],
   "source": [
    "print(len(regions))\n",
    "num_single = 0\n",
    "for region in regions:\n",
    "    if len(region) == 1:\n",
    "        num_single += 1\n",
    "print(num_single)"
   ]
  },
  {
   "cell_type": "code",
   "execution_count": 36,
   "metadata": {},
   "outputs": [
    {
     "data": {
      "text/plain": [
       "<Figure size 432x288 with 0 Axes>"
      ]
     },
     "metadata": {},
     "output_type": "display_data"
    },
    {
     "data": {
      "text/plain": [
       "<Figure size 7200x7200 with 0 Axes>"
      ]
     },
     "metadata": {},
     "output_type": "display_data"
    },
    {
     "data": {
      "text/plain": [
       "<Figure size 432x288 with 0 Axes>"
      ]
     },
     "metadata": {},
     "output_type": "display_data"
    },
    {
     "data": {
      "text/plain": [
       "<Figure size 7200x7200 with 0 Axes>"
      ]
     },
     "metadata": {},
     "output_type": "display_data"
    },
    {
     "data": {
      "text/plain": [
       "<Figure size 432x288 with 0 Axes>"
      ]
     },
     "metadata": {},
     "output_type": "display_data"
    },
    {
     "data": {
      "text/plain": [
       "<Figure size 7200x7200 with 0 Axes>"
      ]
     },
     "metadata": {},
     "output_type": "display_data"
    },
    {
     "data": {
      "text/plain": [
       "<Figure size 432x288 with 0 Axes>"
      ]
     },
     "metadata": {},
     "output_type": "display_data"
    },
    {
     "data": {
      "text/plain": [
       "<Figure size 7200x7200 with 0 Axes>"
      ]
     },
     "metadata": {},
     "output_type": "display_data"
    },
    {
     "data": {
      "text/plain": [
       "<Figure size 432x288 with 0 Axes>"
      ]
     },
     "metadata": {},
     "output_type": "display_data"
    },
    {
     "data": {
      "text/plain": [
       "<Figure size 7200x7200 with 0 Axes>"
      ]
     },
     "metadata": {},
     "output_type": "display_data"
    },
    {
     "data": {
      "text/plain": [
       "<Figure size 432x288 with 0 Axes>"
      ]
     },
     "metadata": {},
     "output_type": "display_data"
    },
    {
     "data": {
      "text/plain": [
       "<Figure size 7200x7200 with 0 Axes>"
      ]
     },
     "metadata": {},
     "output_type": "display_data"
    },
    {
     "data": {
      "text/plain": [
       "<Figure size 432x288 with 0 Axes>"
      ]
     },
     "metadata": {},
     "output_type": "display_data"
    },
    {
     "data": {
      "text/plain": [
       "<Figure size 7200x7200 with 0 Axes>"
      ]
     },
     "metadata": {},
     "output_type": "display_data"
    },
    {
     "data": {
      "text/plain": [
       "<Figure size 432x288 with 0 Axes>"
      ]
     },
     "metadata": {},
     "output_type": "display_data"
    },
    {
     "data": {
      "text/plain": [
       "<Figure size 7200x7200 with 0 Axes>"
      ]
     },
     "metadata": {},
     "output_type": "display_data"
    },
    {
     "data": {
      "text/plain": [
       "<Figure size 432x288 with 0 Axes>"
      ]
     },
     "metadata": {},
     "output_type": "display_data"
    },
    {
     "data": {
      "text/plain": [
       "<Figure size 7200x7200 with 0 Axes>"
      ]
     },
     "metadata": {},
     "output_type": "display_data"
    },
    {
     "data": {
      "text/plain": [
       "<Figure size 432x288 with 0 Axes>"
      ]
     },
     "metadata": {},
     "output_type": "display_data"
    },
    {
     "data": {
      "text/plain": [
       "<Figure size 7200x7200 with 0 Axes>"
      ]
     },
     "metadata": {},
     "output_type": "display_data"
    },
    {
     "data": {
      "text/plain": [
       "<Figure size 432x288 with 0 Axes>"
      ]
     },
     "metadata": {},
     "output_type": "display_data"
    },
    {
     "data": {
      "text/plain": [
       "<Figure size 7200x7200 with 0 Axes>"
      ]
     },
     "metadata": {},
     "output_type": "display_data"
    },
    {
     "data": {
      "text/plain": [
       "<Figure size 432x288 with 0 Axes>"
      ]
     },
     "metadata": {},
     "output_type": "display_data"
    },
    {
     "data": {
      "text/plain": [
       "<Figure size 7200x7200 with 0 Axes>"
      ]
     },
     "metadata": {},
     "output_type": "display_data"
    },
    {
     "data": {
      "text/plain": [
       "<Figure size 432x288 with 0 Axes>"
      ]
     },
     "metadata": {},
     "output_type": "display_data"
    },
    {
     "data": {
      "text/plain": [
       "<Figure size 7200x7200 with 0 Axes>"
      ]
     },
     "metadata": {},
     "output_type": "display_data"
    },
    {
     "data": {
      "text/plain": [
       "<Figure size 432x288 with 0 Axes>"
      ]
     },
     "metadata": {},
     "output_type": "display_data"
    },
    {
     "data": {
      "text/plain": [
       "<Figure size 7200x7200 with 0 Axes>"
      ]
     },
     "metadata": {},
     "output_type": "display_data"
    },
    {
     "data": {
      "text/plain": [
       "<Figure size 432x288 with 0 Axes>"
      ]
     },
     "metadata": {},
     "output_type": "display_data"
    },
    {
     "data": {
      "text/plain": [
       "<Figure size 7200x7200 with 0 Axes>"
      ]
     },
     "metadata": {},
     "output_type": "display_data"
    },
    {
     "data": {
      "text/plain": [
       "<Figure size 432x288 with 0 Axes>"
      ]
     },
     "metadata": {},
     "output_type": "display_data"
    },
    {
     "data": {
      "text/plain": [
       "<Figure size 7200x7200 with 0 Axes>"
      ]
     },
     "metadata": {},
     "output_type": "display_data"
    },
    {
     "data": {
      "text/plain": [
       "<Figure size 432x288 with 0 Axes>"
      ]
     },
     "metadata": {},
     "output_type": "display_data"
    },
    {
     "data": {
      "text/plain": [
       "<Figure size 7200x7200 with 0 Axes>"
      ]
     },
     "metadata": {},
     "output_type": "display_data"
    },
    {
     "data": {
      "text/plain": [
       "<Figure size 432x288 with 0 Axes>"
      ]
     },
     "metadata": {},
     "output_type": "display_data"
    },
    {
     "data": {
      "text/plain": [
       "<Figure size 7200x7200 with 0 Axes>"
      ]
     },
     "metadata": {},
     "output_type": "display_data"
    },
    {
     "data": {
      "text/plain": [
       "<Figure size 432x288 with 0 Axes>"
      ]
     },
     "metadata": {},
     "output_type": "display_data"
    },
    {
     "data": {
      "text/plain": [
       "<Figure size 7200x7200 with 0 Axes>"
      ]
     },
     "metadata": {},
     "output_type": "display_data"
    },
    {
     "data": {
      "text/plain": [
       "<Figure size 432x288 with 0 Axes>"
      ]
     },
     "metadata": {},
     "output_type": "display_data"
    },
    {
     "data": {
      "text/plain": [
       "<Figure size 7200x7200 with 0 Axes>"
      ]
     },
     "metadata": {},
     "output_type": "display_data"
    },
    {
     "data": {
      "text/plain": [
       "<Figure size 432x288 with 0 Axes>"
      ]
     },
     "metadata": {},
     "output_type": "display_data"
    },
    {
     "data": {
      "text/plain": [
       "<Figure size 7200x7200 with 0 Axes>"
      ]
     },
     "metadata": {},
     "output_type": "display_data"
    },
    {
     "data": {
      "text/plain": [
       "<Figure size 432x288 with 0 Axes>"
      ]
     },
     "metadata": {},
     "output_type": "display_data"
    },
    {
     "data": {
      "text/plain": [
       "<Figure size 7200x7200 with 0 Axes>"
      ]
     },
     "metadata": {},
     "output_type": "display_data"
    },
    {
     "data": {
      "text/plain": [
       "<Figure size 432x288 with 0 Axes>"
      ]
     },
     "metadata": {},
     "output_type": "display_data"
    },
    {
     "data": {
      "text/plain": [
       "<Figure size 7200x7200 with 0 Axes>"
      ]
     },
     "metadata": {},
     "output_type": "display_data"
    },
    {
     "data": {
      "text/plain": [
       "<Figure size 432x288 with 0 Axes>"
      ]
     },
     "metadata": {},
     "output_type": "display_data"
    },
    {
     "data": {
      "text/plain": [
       "<Figure size 7200x7200 with 0 Axes>"
      ]
     },
     "metadata": {},
     "output_type": "display_data"
    },
    {
     "data": {
      "text/plain": [
       "<Figure size 432x288 with 0 Axes>"
      ]
     },
     "metadata": {},
     "output_type": "display_data"
    },
    {
     "data": {
      "text/plain": [
       "<Figure size 7200x7200 with 0 Axes>"
      ]
     },
     "metadata": {},
     "output_type": "display_data"
    },
    {
     "data": {
      "text/plain": [
       "<Figure size 432x288 with 0 Axes>"
      ]
     },
     "metadata": {},
     "output_type": "display_data"
    },
    {
     "data": {
      "text/plain": [
       "<Figure size 7200x7200 with 0 Axes>"
      ]
     },
     "metadata": {},
     "output_type": "display_data"
    },
    {
     "data": {
      "text/plain": [
       "<Figure size 432x288 with 0 Axes>"
      ]
     },
     "metadata": {},
     "output_type": "display_data"
    },
    {
     "data": {
      "text/plain": [
       "<Figure size 7200x7200 with 0 Axes>"
      ]
     },
     "metadata": {},
     "output_type": "display_data"
    },
    {
     "data": {
      "text/plain": [
       "<Figure size 432x288 with 0 Axes>"
      ]
     },
     "metadata": {},
     "output_type": "display_data"
    },
    {
     "data": {
      "text/plain": [
       "<Figure size 7200x7200 with 0 Axes>"
      ]
     },
     "metadata": {},
     "output_type": "display_data"
    },
    {
     "data": {
      "text/plain": [
       "<Figure size 432x288 with 0 Axes>"
      ]
     },
     "metadata": {},
     "output_type": "display_data"
    },
    {
     "data": {
      "text/plain": [
       "<Figure size 7200x7200 with 0 Axes>"
      ]
     },
     "metadata": {},
     "output_type": "display_data"
    },
    {
     "data": {
      "text/plain": [
       "<Figure size 432x288 with 0 Axes>"
      ]
     },
     "metadata": {},
     "output_type": "display_data"
    },
    {
     "data": {
      "text/plain": [
       "<Figure size 7200x7200 with 0 Axes>"
      ]
     },
     "metadata": {},
     "output_type": "display_data"
    },
    {
     "data": {
      "text/plain": [
       "<Figure size 432x288 with 0 Axes>"
      ]
     },
     "metadata": {},
     "output_type": "display_data"
    },
    {
     "data": {
      "text/plain": [
       "<Figure size 7200x7200 with 0 Axes>"
      ]
     },
     "metadata": {},
     "output_type": "display_data"
    },
    {
     "data": {
      "text/plain": [
       "<Figure size 432x288 with 0 Axes>"
      ]
     },
     "metadata": {},
     "output_type": "display_data"
    },
    {
     "data": {
      "text/plain": [
       "<Figure size 7200x7200 with 0 Axes>"
      ]
     },
     "metadata": {},
     "output_type": "display_data"
    },
    {
     "data": {
      "text/plain": [
       "<Figure size 432x288 with 0 Axes>"
      ]
     },
     "metadata": {},
     "output_type": "display_data"
    },
    {
     "data": {
      "text/plain": [
       "<Figure size 7200x7200 with 0 Axes>"
      ]
     },
     "metadata": {},
     "output_type": "display_data"
    },
    {
     "data": {
      "text/plain": [
       "<Figure size 432x288 with 0 Axes>"
      ]
     },
     "metadata": {},
     "output_type": "display_data"
    },
    {
     "data": {
      "text/plain": [
       "<Figure size 7200x7200 with 0 Axes>"
      ]
     },
     "metadata": {},
     "output_type": "display_data"
    },
    {
     "data": {
      "text/plain": [
       "<Figure size 432x288 with 0 Axes>"
      ]
     },
     "metadata": {},
     "output_type": "display_data"
    },
    {
     "data": {
      "text/plain": [
       "<Figure size 7200x7200 with 0 Axes>"
      ]
     },
     "metadata": {},
     "output_type": "display_data"
    },
    {
     "data": {
      "text/plain": [
       "<Figure size 432x288 with 0 Axes>"
      ]
     },
     "metadata": {},
     "output_type": "display_data"
    },
    {
     "data": {
      "text/plain": [
       "<Figure size 7200x7200 with 0 Axes>"
      ]
     },
     "metadata": {},
     "output_type": "display_data"
    },
    {
     "data": {
      "text/plain": [
       "<Figure size 432x288 with 0 Axes>"
      ]
     },
     "metadata": {},
     "output_type": "display_data"
    },
    {
     "data": {
      "text/plain": [
       "<Figure size 7200x7200 with 0 Axes>"
      ]
     },
     "metadata": {},
     "output_type": "display_data"
    },
    {
     "data": {
      "text/plain": [
       "<Figure size 432x288 with 0 Axes>"
      ]
     },
     "metadata": {},
     "output_type": "display_data"
    },
    {
     "data": {
      "text/plain": [
       "<Figure size 7200x7200 with 0 Axes>"
      ]
     },
     "metadata": {},
     "output_type": "display_data"
    },
    {
     "data": {
      "text/plain": [
       "<Figure size 432x288 with 0 Axes>"
      ]
     },
     "metadata": {},
     "output_type": "display_data"
    },
    {
     "data": {
      "text/plain": [
       "<Figure size 7200x7200 with 0 Axes>"
      ]
     },
     "metadata": {},
     "output_type": "display_data"
    },
    {
     "data": {
      "text/plain": [
       "<Figure size 432x288 with 0 Axes>"
      ]
     },
     "metadata": {},
     "output_type": "display_data"
    },
    {
     "data": {
      "text/plain": [
       "<Figure size 7200x7200 with 0 Axes>"
      ]
     },
     "metadata": {},
     "output_type": "display_data"
    },
    {
     "data": {
      "text/plain": [
       "<Figure size 432x288 with 0 Axes>"
      ]
     },
     "metadata": {},
     "output_type": "display_data"
    },
    {
     "data": {
      "text/plain": [
       "<Figure size 7200x7200 with 0 Axes>"
      ]
     },
     "metadata": {},
     "output_type": "display_data"
    },
    {
     "data": {
      "text/plain": [
       "<Figure size 432x288 with 0 Axes>"
      ]
     },
     "metadata": {},
     "output_type": "display_data"
    },
    {
     "data": {
      "text/plain": [
       "<Figure size 7200x7200 with 0 Axes>"
      ]
     },
     "metadata": {},
     "output_type": "display_data"
    },
    {
     "data": {
      "text/plain": [
       "<Figure size 432x288 with 0 Axes>"
      ]
     },
     "metadata": {},
     "output_type": "display_data"
    },
    {
     "data": {
      "text/plain": [
       "<Figure size 7200x7200 with 0 Axes>"
      ]
     },
     "metadata": {},
     "output_type": "display_data"
    },
    {
     "data": {
      "text/plain": [
       "<Figure size 432x288 with 0 Axes>"
      ]
     },
     "metadata": {},
     "output_type": "display_data"
    },
    {
     "data": {
      "text/plain": [
       "<Figure size 7200x7200 with 0 Axes>"
      ]
     },
     "metadata": {},
     "output_type": "display_data"
    },
    {
     "data": {
      "text/plain": [
       "<Figure size 432x288 with 0 Axes>"
      ]
     },
     "metadata": {},
     "output_type": "display_data"
    },
    {
     "data": {
      "text/plain": [
       "<Figure size 7200x7200 with 0 Axes>"
      ]
     },
     "metadata": {},
     "output_type": "display_data"
    },
    {
     "data": {
      "text/plain": [
       "<Figure size 432x288 with 0 Axes>"
      ]
     },
     "metadata": {},
     "output_type": "display_data"
    },
    {
     "data": {
      "text/plain": [
       "<Figure size 7200x7200 with 0 Axes>"
      ]
     },
     "metadata": {},
     "output_type": "display_data"
    },
    {
     "data": {
      "text/plain": [
       "<Figure size 432x288 with 0 Axes>"
      ]
     },
     "metadata": {},
     "output_type": "display_data"
    },
    {
     "data": {
      "text/plain": [
       "<Figure size 7200x7200 with 0 Axes>"
      ]
     },
     "metadata": {},
     "output_type": "display_data"
    },
    {
     "data": {
      "text/plain": [
       "<Figure size 432x288 with 0 Axes>"
      ]
     },
     "metadata": {},
     "output_type": "display_data"
    },
    {
     "data": {
      "text/plain": [
       "<Figure size 7200x7200 with 0 Axes>"
      ]
     },
     "metadata": {},
     "output_type": "display_data"
    },
    {
     "data": {
      "text/plain": [
       "<Figure size 432x288 with 0 Axes>"
      ]
     },
     "metadata": {},
     "output_type": "display_data"
    },
    {
     "data": {
      "text/plain": [
       "<Figure size 7200x7200 with 0 Axes>"
      ]
     },
     "metadata": {},
     "output_type": "display_data"
    },
    {
     "data": {
      "text/plain": [
       "<Figure size 432x288 with 0 Axes>"
      ]
     },
     "metadata": {},
     "output_type": "display_data"
    },
    {
     "data": {
      "text/plain": [
       "<Figure size 7200x7200 with 0 Axes>"
      ]
     },
     "metadata": {},
     "output_type": "display_data"
    },
    {
     "data": {
      "text/plain": [
       "<Figure size 432x288 with 0 Axes>"
      ]
     },
     "metadata": {},
     "output_type": "display_data"
    },
    {
     "data": {
      "text/plain": [
       "<Figure size 7200x7200 with 0 Axes>"
      ]
     },
     "metadata": {},
     "output_type": "display_data"
    },
    {
     "data": {
      "text/plain": [
       "<Figure size 432x288 with 0 Axes>"
      ]
     },
     "metadata": {},
     "output_type": "display_data"
    },
    {
     "data": {
      "text/plain": [
       "<Figure size 7200x7200 with 0 Axes>"
      ]
     },
     "metadata": {},
     "output_type": "display_data"
    },
    {
     "data": {
      "text/plain": [
       "<Figure size 432x288 with 0 Axes>"
      ]
     },
     "metadata": {},
     "output_type": "display_data"
    },
    {
     "data": {
      "text/plain": [
       "<Figure size 7200x7200 with 0 Axes>"
      ]
     },
     "metadata": {},
     "output_type": "display_data"
    },
    {
     "data": {
      "text/plain": [
       "<Figure size 432x288 with 0 Axes>"
      ]
     },
     "metadata": {},
     "output_type": "display_data"
    },
    {
     "data": {
      "text/plain": [
       "<Figure size 7200x7200 with 0 Axes>"
      ]
     },
     "metadata": {},
     "output_type": "display_data"
    },
    {
     "data": {
      "text/plain": [
       "<Figure size 432x288 with 0 Axes>"
      ]
     },
     "metadata": {},
     "output_type": "display_data"
    },
    {
     "data": {
      "text/plain": [
       "<Figure size 7200x7200 with 0 Axes>"
      ]
     },
     "metadata": {},
     "output_type": "display_data"
    },
    {
     "data": {
      "text/plain": [
       "<Figure size 432x288 with 0 Axes>"
      ]
     },
     "metadata": {},
     "output_type": "display_data"
    },
    {
     "data": {
      "text/plain": [
       "<Figure size 7200x7200 with 0 Axes>"
      ]
     },
     "metadata": {},
     "output_type": "display_data"
    },
    {
     "data": {
      "text/plain": [
       "<Figure size 432x288 with 0 Axes>"
      ]
     },
     "metadata": {},
     "output_type": "display_data"
    },
    {
     "data": {
      "text/plain": [
       "<Figure size 7200x7200 with 0 Axes>"
      ]
     },
     "metadata": {},
     "output_type": "display_data"
    },
    {
     "data": {
      "text/plain": [
       "<Figure size 432x288 with 0 Axes>"
      ]
     },
     "metadata": {},
     "output_type": "display_data"
    },
    {
     "data": {
      "text/plain": [
       "<Figure size 7200x7200 with 0 Axes>"
      ]
     },
     "metadata": {},
     "output_type": "display_data"
    },
    {
     "data": {
      "text/plain": [
       "<Figure size 432x288 with 0 Axes>"
      ]
     },
     "metadata": {},
     "output_type": "display_data"
    },
    {
     "data": {
      "text/plain": [
       "<Figure size 7200x7200 with 0 Axes>"
      ]
     },
     "metadata": {},
     "output_type": "display_data"
    },
    {
     "data": {
      "text/plain": [
       "<Figure size 432x288 with 0 Axes>"
      ]
     },
     "metadata": {},
     "output_type": "display_data"
    },
    {
     "data": {
      "text/plain": [
       "<Figure size 7200x7200 with 0 Axes>"
      ]
     },
     "metadata": {},
     "output_type": "display_data"
    },
    {
     "data": {
      "text/plain": [
       "<Figure size 432x288 with 0 Axes>"
      ]
     },
     "metadata": {},
     "output_type": "display_data"
    },
    {
     "data": {
      "text/plain": [
       "<Figure size 7200x7200 with 0 Axes>"
      ]
     },
     "metadata": {},
     "output_type": "display_data"
    },
    {
     "data": {
      "text/plain": [
       "<Figure size 432x288 with 0 Axes>"
      ]
     },
     "metadata": {},
     "output_type": "display_data"
    },
    {
     "data": {
      "text/plain": [
       "<Figure size 7200x7200 with 0 Axes>"
      ]
     },
     "metadata": {},
     "output_type": "display_data"
    },
    {
     "data": {
      "text/plain": [
       "<Figure size 432x288 with 0 Axes>"
      ]
     },
     "metadata": {},
     "output_type": "display_data"
    },
    {
     "data": {
      "text/plain": [
       "<Figure size 7200x7200 with 0 Axes>"
      ]
     },
     "metadata": {},
     "output_type": "display_data"
    },
    {
     "data": {
      "text/plain": [
       "<Figure size 432x288 with 0 Axes>"
      ]
     },
     "metadata": {},
     "output_type": "display_data"
    },
    {
     "data": {
      "text/plain": [
       "<Figure size 7200x7200 with 0 Axes>"
      ]
     },
     "metadata": {},
     "output_type": "display_data"
    },
    {
     "data": {
      "text/plain": [
       "<Figure size 432x288 with 0 Axes>"
      ]
     },
     "metadata": {},
     "output_type": "display_data"
    },
    {
     "data": {
      "text/plain": [
       "<Figure size 7200x7200 with 0 Axes>"
      ]
     },
     "metadata": {},
     "output_type": "display_data"
    },
    {
     "data": {
      "text/plain": [
       "<Figure size 432x288 with 0 Axes>"
      ]
     },
     "metadata": {},
     "output_type": "display_data"
    },
    {
     "data": {
      "text/plain": [
       "<Figure size 7200x7200 with 0 Axes>"
      ]
     },
     "metadata": {},
     "output_type": "display_data"
    },
    {
     "data": {
      "text/plain": [
       "<Figure size 432x288 with 0 Axes>"
      ]
     },
     "metadata": {},
     "output_type": "display_data"
    },
    {
     "data": {
      "text/plain": [
       "<Figure size 7200x7200 with 0 Axes>"
      ]
     },
     "metadata": {},
     "output_type": "display_data"
    },
    {
     "data": {
      "text/plain": [
       "<Figure size 432x288 with 0 Axes>"
      ]
     },
     "metadata": {},
     "output_type": "display_data"
    },
    {
     "data": {
      "text/plain": [
       "<Figure size 7200x7200 with 0 Axes>"
      ]
     },
     "metadata": {},
     "output_type": "display_data"
    },
    {
     "data": {
      "text/plain": [
       "<Figure size 432x288 with 0 Axes>"
      ]
     },
     "metadata": {},
     "output_type": "display_data"
    },
    {
     "data": {
      "text/plain": [
       "<Figure size 7200x7200 with 0 Axes>"
      ]
     },
     "metadata": {},
     "output_type": "display_data"
    },
    {
     "data": {
      "text/plain": [
       "<Figure size 432x288 with 0 Axes>"
      ]
     },
     "metadata": {},
     "output_type": "display_data"
    },
    {
     "data": {
      "text/plain": [
       "<Figure size 7200x7200 with 0 Axes>"
      ]
     },
     "metadata": {},
     "output_type": "display_data"
    },
    {
     "data": {
      "text/plain": [
       "<Figure size 432x288 with 0 Axes>"
      ]
     },
     "metadata": {},
     "output_type": "display_data"
    },
    {
     "data": {
      "text/plain": [
       "<Figure size 7200x7200 with 0 Axes>"
      ]
     },
     "metadata": {},
     "output_type": "display_data"
    },
    {
     "data": {
      "text/plain": [
       "<Figure size 432x288 with 0 Axes>"
      ]
     },
     "metadata": {},
     "output_type": "display_data"
    },
    {
     "data": {
      "text/plain": [
       "<Figure size 7200x7200 with 0 Axes>"
      ]
     },
     "metadata": {},
     "output_type": "display_data"
    },
    {
     "data": {
      "text/plain": [
       "<Figure size 432x288 with 0 Axes>"
      ]
     },
     "metadata": {},
     "output_type": "display_data"
    },
    {
     "data": {
      "text/plain": [
       "<Figure size 7200x7200 with 0 Axes>"
      ]
     },
     "metadata": {},
     "output_type": "display_data"
    },
    {
     "data": {
      "text/plain": [
       "<Figure size 432x288 with 0 Axes>"
      ]
     },
     "metadata": {},
     "output_type": "display_data"
    },
    {
     "data": {
      "text/plain": [
       "<Figure size 7200x7200 with 0 Axes>"
      ]
     },
     "metadata": {},
     "output_type": "display_data"
    },
    {
     "data": {
      "text/plain": [
       "<Figure size 432x288 with 0 Axes>"
      ]
     },
     "metadata": {},
     "output_type": "display_data"
    },
    {
     "data": {
      "text/plain": [
       "<Figure size 7200x7200 with 0 Axes>"
      ]
     },
     "metadata": {},
     "output_type": "display_data"
    },
    {
     "data": {
      "text/plain": [
       "<Figure size 432x288 with 0 Axes>"
      ]
     },
     "metadata": {},
     "output_type": "display_data"
    },
    {
     "data": {
      "text/plain": [
       "<Figure size 7200x7200 with 0 Axes>"
      ]
     },
     "metadata": {},
     "output_type": "display_data"
    },
    {
     "data": {
      "text/plain": [
       "<Figure size 432x288 with 0 Axes>"
      ]
     },
     "metadata": {},
     "output_type": "display_data"
    },
    {
     "data": {
      "text/plain": [
       "<Figure size 7200x7200 with 0 Axes>"
      ]
     },
     "metadata": {},
     "output_type": "display_data"
    },
    {
     "data": {
      "text/plain": [
       "<Figure size 432x288 with 0 Axes>"
      ]
     },
     "metadata": {},
     "output_type": "display_data"
    },
    {
     "data": {
      "text/plain": [
       "<Figure size 7200x7200 with 0 Axes>"
      ]
     },
     "metadata": {},
     "output_type": "display_data"
    },
    {
     "data": {
      "text/plain": [
       "<Figure size 432x288 with 0 Axes>"
      ]
     },
     "metadata": {},
     "output_type": "display_data"
    },
    {
     "data": {
      "text/plain": [
       "<Figure size 7200x7200 with 0 Axes>"
      ]
     },
     "metadata": {},
     "output_type": "display_data"
    },
    {
     "data": {
      "text/plain": [
       "<Figure size 432x288 with 0 Axes>"
      ]
     },
     "metadata": {},
     "output_type": "display_data"
    },
    {
     "data": {
      "text/plain": [
       "<Figure size 7200x7200 with 0 Axes>"
      ]
     },
     "metadata": {},
     "output_type": "display_data"
    },
    {
     "data": {
      "text/plain": [
       "<Figure size 432x288 with 0 Axes>"
      ]
     },
     "metadata": {},
     "output_type": "display_data"
    },
    {
     "data": {
      "text/plain": [
       "<Figure size 7200x7200 with 0 Axes>"
      ]
     },
     "metadata": {},
     "output_type": "display_data"
    },
    {
     "data": {
      "text/plain": [
       "<Figure size 432x288 with 0 Axes>"
      ]
     },
     "metadata": {},
     "output_type": "display_data"
    },
    {
     "data": {
      "text/plain": [
       "<Figure size 7200x7200 with 0 Axes>"
      ]
     },
     "metadata": {},
     "output_type": "display_data"
    },
    {
     "data": {
      "text/plain": [
       "<Figure size 432x288 with 0 Axes>"
      ]
     },
     "metadata": {},
     "output_type": "display_data"
    },
    {
     "data": {
      "text/plain": [
       "<Figure size 7200x7200 with 0 Axes>"
      ]
     },
     "metadata": {},
     "output_type": "display_data"
    },
    {
     "data": {
      "text/plain": [
       "<Figure size 432x288 with 0 Axes>"
      ]
     },
     "metadata": {},
     "output_type": "display_data"
    },
    {
     "data": {
      "text/plain": [
       "<Figure size 7200x7200 with 0 Axes>"
      ]
     },
     "metadata": {},
     "output_type": "display_data"
    },
    {
     "data": {
      "text/plain": [
       "<Figure size 432x288 with 0 Axes>"
      ]
     },
     "metadata": {},
     "output_type": "display_data"
    },
    {
     "data": {
      "text/plain": [
       "<Figure size 7200x7200 with 0 Axes>"
      ]
     },
     "metadata": {},
     "output_type": "display_data"
    },
    {
     "data": {
      "text/plain": [
       "<Figure size 432x288 with 0 Axes>"
      ]
     },
     "metadata": {},
     "output_type": "display_data"
    },
    {
     "data": {
      "text/plain": [
       "<Figure size 7200x7200 with 0 Axes>"
      ]
     },
     "metadata": {},
     "output_type": "display_data"
    },
    {
     "data": {
      "text/plain": [
       "<Figure size 432x288 with 0 Axes>"
      ]
     },
     "metadata": {},
     "output_type": "display_data"
    },
    {
     "data": {
      "text/plain": [
       "<Figure size 7200x7200 with 0 Axes>"
      ]
     },
     "metadata": {},
     "output_type": "display_data"
    },
    {
     "data": {
      "text/plain": [
       "<Figure size 432x288 with 0 Axes>"
      ]
     },
     "metadata": {},
     "output_type": "display_data"
    },
    {
     "data": {
      "text/plain": [
       "<Figure size 7200x7200 with 0 Axes>"
      ]
     },
     "metadata": {},
     "output_type": "display_data"
    },
    {
     "data": {
      "text/plain": [
       "<Figure size 432x288 with 0 Axes>"
      ]
     },
     "metadata": {},
     "output_type": "display_data"
    },
    {
     "data": {
      "text/plain": [
       "<Figure size 7200x7200 with 0 Axes>"
      ]
     },
     "metadata": {},
     "output_type": "display_data"
    },
    {
     "data": {
      "text/plain": [
       "<Figure size 432x288 with 0 Axes>"
      ]
     },
     "metadata": {},
     "output_type": "display_data"
    },
    {
     "data": {
      "text/plain": [
       "<Figure size 7200x7200 with 0 Axes>"
      ]
     },
     "metadata": {},
     "output_type": "display_data"
    },
    {
     "data": {
      "text/plain": [
       "<Figure size 432x288 with 0 Axes>"
      ]
     },
     "metadata": {},
     "output_type": "display_data"
    },
    {
     "data": {
      "text/plain": [
       "<Figure size 7200x7200 with 0 Axes>"
      ]
     },
     "metadata": {},
     "output_type": "display_data"
    },
    {
     "data": {
      "text/plain": [
       "<Figure size 432x288 with 0 Axes>"
      ]
     },
     "metadata": {},
     "output_type": "display_data"
    },
    {
     "data": {
      "text/plain": [
       "<Figure size 7200x7200 with 0 Axes>"
      ]
     },
     "metadata": {},
     "output_type": "display_data"
    },
    {
     "data": {
      "text/plain": [
       "<Figure size 432x288 with 0 Axes>"
      ]
     },
     "metadata": {},
     "output_type": "display_data"
    },
    {
     "data": {
      "text/plain": [
       "<Figure size 7200x7200 with 0 Axes>"
      ]
     },
     "metadata": {},
     "output_type": "display_data"
    },
    {
     "data": {
      "text/plain": [
       "<Figure size 432x288 with 0 Axes>"
      ]
     },
     "metadata": {},
     "output_type": "display_data"
    },
    {
     "data": {
      "text/plain": [
       "<Figure size 7200x7200 with 0 Axes>"
      ]
     },
     "metadata": {},
     "output_type": "display_data"
    },
    {
     "data": {
      "text/plain": [
       "<Figure size 432x288 with 0 Axes>"
      ]
     },
     "metadata": {},
     "output_type": "display_data"
    },
    {
     "data": {
      "text/plain": [
       "<Figure size 7200x7200 with 0 Axes>"
      ]
     },
     "metadata": {},
     "output_type": "display_data"
    },
    {
     "data": {
      "text/plain": [
       "<Figure size 432x288 with 0 Axes>"
      ]
     },
     "metadata": {},
     "output_type": "display_data"
    },
    {
     "data": {
      "text/plain": [
       "<Figure size 7200x7200 with 0 Axes>"
      ]
     },
     "metadata": {},
     "output_type": "display_data"
    },
    {
     "data": {
      "text/plain": [
       "<Figure size 432x288 with 0 Axes>"
      ]
     },
     "metadata": {},
     "output_type": "display_data"
    },
    {
     "data": {
      "text/plain": [
       "<Figure size 7200x7200 with 0 Axes>"
      ]
     },
     "metadata": {},
     "output_type": "display_data"
    },
    {
     "data": {
      "text/plain": [
       "<Figure size 432x288 with 0 Axes>"
      ]
     },
     "metadata": {},
     "output_type": "display_data"
    },
    {
     "data": {
      "text/plain": [
       "<Figure size 7200x7200 with 0 Axes>"
      ]
     },
     "metadata": {},
     "output_type": "display_data"
    },
    {
     "data": {
      "text/plain": [
       "<Figure size 432x288 with 0 Axes>"
      ]
     },
     "metadata": {},
     "output_type": "display_data"
    },
    {
     "data": {
      "text/plain": [
       "<Figure size 7200x7200 with 0 Axes>"
      ]
     },
     "metadata": {},
     "output_type": "display_data"
    },
    {
     "data": {
      "text/plain": [
       "<Figure size 432x288 with 0 Axes>"
      ]
     },
     "metadata": {},
     "output_type": "display_data"
    },
    {
     "data": {
      "text/plain": [
       "<Figure size 7200x7200 with 0 Axes>"
      ]
     },
     "metadata": {},
     "output_type": "display_data"
    },
    {
     "data": {
      "text/plain": [
       "<Figure size 432x288 with 0 Axes>"
      ]
     },
     "metadata": {},
     "output_type": "display_data"
    },
    {
     "data": {
      "text/plain": [
       "<Figure size 7200x7200 with 0 Axes>"
      ]
     },
     "metadata": {},
     "output_type": "display_data"
    },
    {
     "data": {
      "text/plain": [
       "<Figure size 432x288 with 0 Axes>"
      ]
     },
     "metadata": {},
     "output_type": "display_data"
    },
    {
     "data": {
      "text/plain": [
       "<Figure size 7200x7200 with 0 Axes>"
      ]
     },
     "metadata": {},
     "output_type": "display_data"
    },
    {
     "data": {
      "text/plain": [
       "<Figure size 432x288 with 0 Axes>"
      ]
     },
     "metadata": {},
     "output_type": "display_data"
    },
    {
     "data": {
      "text/plain": [
       "<Figure size 7200x7200 with 0 Axes>"
      ]
     },
     "metadata": {},
     "output_type": "display_data"
    },
    {
     "data": {
      "text/plain": [
       "<Figure size 432x288 with 0 Axes>"
      ]
     },
     "metadata": {},
     "output_type": "display_data"
    },
    {
     "data": {
      "text/plain": [
       "<Figure size 7200x7200 with 0 Axes>"
      ]
     },
     "metadata": {},
     "output_type": "display_data"
    },
    {
     "data": {
      "text/plain": [
       "<Figure size 432x288 with 0 Axes>"
      ]
     },
     "metadata": {},
     "output_type": "display_data"
    },
    {
     "data": {
      "text/plain": [
       "<Figure size 7200x7200 with 0 Axes>"
      ]
     },
     "metadata": {},
     "output_type": "display_data"
    },
    {
     "data": {
      "text/plain": [
       "<Figure size 432x288 with 0 Axes>"
      ]
     },
     "metadata": {},
     "output_type": "display_data"
    },
    {
     "data": {
      "text/plain": [
       "<Figure size 7200x7200 with 0 Axes>"
      ]
     },
     "metadata": {},
     "output_type": "display_data"
    },
    {
     "data": {
      "image/png": "[encoded data removed]",
      "text/plain": [
       "<Figure size 432x288 with 1 Axes>"
      ]
     },
     "metadata": {
      "needs_background": "light"
     },
     "output_type": "display_data"
    }
   ],
   "source": [
    " num_correct_counter, num_assignments_made, precision, recall, region_assignments = evaluate(locations, regions, ups, ground_truth, 0.50, draw = True)"
   ]
  },
  {
   "cell_type": "code",
   "execution_count": 38,
   "metadata": {},
   "outputs": [
    {
     "name": "stdout",
     "output_type": "stream",
     "text": [
      "Regions: 17547\n",
      "Total correct assignments: 9\n",
      "Total assignments made: 17547\n",
      "Ground truth size: 24\n",
      "Precision: 0.0005129081894340913\n",
      "Recall: 0.375\n"
     ]
    }
   ],
   "source": [
    "print(\"Regions:\", len(regions))\n",
    "print(\"Total correct assignments:\", num_correct_counter)\n",
    "print(\"Total assignments made:\", num_assignments_made)\n",
    "print(\"Ground truth size:\", len(ground_truth))\n",
    "print(\"Precision:\", precision)\n",
    "print(\"Recall:\", recall)"
   ]
  },
  {
   "cell_type": "code",
   "execution_count": 49,
   "metadata": {},
   "outputs": [
    {
     "name": "stdout",
     "output_type": "stream",
     "text": [
      "iteration: 0\n",
      "iteration: 1\n",
      "iteration: 2\n",
      "iteration: 3\n",
      "iteration: 4\n",
      "iteration: 5\n",
      "iteration: 6\n",
      "iteration: 7\n",
      "iteration: 8\n",
      "iteration: 9\n",
      "iteration: 10\n",
      "iteration: 11\n",
      "iteration: 12\n",
      "iteration: 13\n",
      "iteration: 14\n",
      "iteration: 15\n",
      "iteration: 16\n",
      "iteration: 17\n",
      "iteration: 18\n",
      "iteration: 19\n"
     ]
    }
   ],
   "source": [
    "'''\n",
    "    Run the evaluation function for multiple values of ALPHA, EPSILON, KAPPA\n",
    "    Write the results of the precision and recall to a file\n",
    "    \n",
    "    ALPHA[0] * color_weight + ALPHA[1] * user_weight + ALPHA[2] * dur_weight\n",
    "'''\n",
    "evaluation_filename = \"../data/evaluation_tests_triple_alpha.csv\"\n",
    "locations = store_locations(\"../data/atlas_complete.json\")\n",
    "with open(evaluation_filename, 'w') as file_out:\n",
    "    writer = csv.writer(file_out, delimiter = \",\")\n",
    "    writer.writerow([\"ALPHA_color\", \"ALPHA_user\", \"ALPHA_duration\", \"EPSILON_COLOR\", \"EPSILON_USER\", \"KAPPA\", \"#Regions\", \"total correct assignments\", \"Precision\", \"Recall\"])\n",
    "    \n",
    "    \n",
    "    alphas = [0.33, 0.33, 0.33]\n",
    "    epsilons = [0.1, 0.3, 0.5, 0.9]\n",
    "    kappas = [0.1, 0.3, 0.5, 0.7, 0.9]\n",
    "    iteration = 0\n",
    "    for epsilon in epsilons:\n",
    "        for kappa in kappas:\n",
    "            \n",
    "            print(\"iteration:\", iteration)\n",
    "            i = 0\n",
    "        \n",
    "            if os.path.exists(G.edges_file_name):\n",
    "                os.remove(G.edges_file_name)\n",
    "    \n",
    "            with open(G.unique_edges_file_name, 'r') as file_in:\n",
    "                reader = csv.reader(file_in)\n",
    "\n",
    "                for r in reader:\n",
    "                    u = r[0]\n",
    "                    v = r[1]\n",
    "                    lb = r[2]\n",
    "\n",
    "                    w = compute_weight(int(u), int(v), ups[int(u)], ups[int(v)], [usr_rel_same_color, usr_rel_diff_color], \n",
    "                         user_index, durations, user_color, user_index_color, alphas, epsilon, epsilon)\n",
    "\n",
    "                    G.set_weight(u, v, lb, w)\n",
    "\n",
    "            G.flush_weights()\n",
    "            G.sort_edges()\n",
    "            comp_assign = region_segmentation(G, ups, kappa)\n",
    "            regions, sizes = extract_regions(comp_assign)\n",
    "\n",
    "            num_correct_counter, num_assignments_made, precision, recall, region_assignments = evaluate(locations, regions, ups, ground_truth, 0.50)\n",
    "\n",
    "\n",
    "            writer.writerow([alphas[0], alphas[1], alphas[2], epsilon, epsilon, kappa, len(regions), num_correct_counter, precision, recall])\n",
    "\n",
    "            iteration += 1\n",
    "    "
   ]
  },
  {
   "cell_type": "code",
   "execution_count": null,
   "metadata": {},
   "outputs": [],
   "source": []
  },
  {
   "cell_type": "code",
   "execution_count": null,
   "metadata": {},
   "outputs": [],
   "source": []
  },
  {
   "cell_type": "code",
   "execution_count": 211,
   "metadata": {},
   "outputs": [],
   "source": [
    "def updates_region(ups, region):\n",
    "    ups_region = []\n",
    "    \n",
    "    for u in sorted(region):\n",
    "        ups_region.append(ups[int(u)])\n",
    "        \n",
    "    return ups_region\n",
    "\n",
    "ind  = np.argsort(sizes)\n",
    "\n",
    "ups_max_region = updates_region(ups, regions[ind[-1]])"
   ]
  },
  {
   "cell_type": "code",
   "execution_count": 213,
   "metadata": {},
   "outputs": [],
   "source": [
    "ups_max_region = updates_region(ups, regions[ind[-2]])"
   ]
  },
  {
   "cell_type": "code",
   "execution_count": 103,
   "metadata": {},
   "outputs": [
    {
     "data": {
      "text/plain": [
       "<Figure size 432x288 with 0 Axes>"
      ]
     },
     "metadata": {},
     "output_type": "display_data"
    },
    {
     "data": {
      "text/plain": [
       "<Figure size 7200x7200 with 0 Axes>"
      ]
     },
     "metadata": {},
     "output_type": "display_data"
    },
    {
     "data": {
      "image/png": "[encoded data removed]",
      "text/plain": [
       "<Figure size 432x288 with 1 Axes>"
      ]
     },
     "metadata": {
      "needs_background": "light"
     },
     "output_type": "display_data"
    }
   ],
   "source": [
    "def extract_canvas_updates(updates):\n",
    "    data_color_code = np.uint8(np.zeros((1001,1001)))\n",
    "    \n",
    "    for u in updates:\n",
    "        x = u[2]\n",
    "        y = u[3]\n",
    "        color = u[4]\n",
    "        \n",
    "        data_color_code[y][x] = color\n",
    "        \n",
    "    return data_color_code\n",
    "\n",
    "canvas_ups = extract_canvas_updates(ups)\n",
    "canvas_ups_rgb = canvas_color_code_rgb(canvas_ups)\n",
    "\n",
    "draw_canvas(canvas_ups_rgb, \"../plots/frame.svg\")"
   ]
  },
  {
   "cell_type": "code",
   "execution_count": 214,
   "metadata": {},
   "outputs": [
    {
     "data": {
      "text/plain": [
       "<Figure size 432x288 with 0 Axes>"
      ]
     },
     "metadata": {},
     "output_type": "display_data"
    },
    {
     "data": {
      "text/plain": [
       "<Figure size 7200x7200 with 0 Axes>"
      ]
     },
     "metadata": {},
     "output_type": "display_data"
    },
    {
     "data": {
      "image/png": "[encoded data removed]",
      "text/plain": [
       "<Figure size 432x288 with 1 Axes>"
      ]
     },
     "metadata": {
      "needs_background": "light"
     },
     "output_type": "display_data"
    }
   ],
   "source": [
    "canvas_ups = extract_canvas_updates(ups_max_region)\n",
    "canvas_ups_rgb = canvas_color_code_rgb(canvas_ups)\n",
    "\n",
    "draw_canvas(canvas_ups_rgb, \"../plots/max_region.svg\")"
   ]
  },
  {
   "cell_type": "code",
   "execution_count": 102,
   "metadata": {},
   "outputs": [
    {
     "data": {
      "text/plain": [
       "{('1', '4'): 16.6,\n",
       " ('4', '6'): 16.6,\n",
       " ('6', '8'): 16.6,\n",
       " ('8', '10'): 0.0,\n",
       " ('10', '19'): 69.6,\n",
       " ('19', '20'): 6.6,\n",
       " ('20', '188'): 0.0,\n",
       " ('188', '242'): 7.6,\n",
       " ('242', '279'): 2.5999999999999996,\n",
       " ('279', '820'): 2.5999999999999996,\n",
       " ('820', '824'): 0.05,\n",
       " ('824', '986'): 27.6,\n",
       " ('986', '1066'): 0.0,\n",
       " ('1066', '1463'): 217.60000000000002,\n",
       " ('1463', '1507'): 36.599999999999994,\n",
       " ('1507', '1647'): 11.600000000000001,\n",
       " ('1647', '1946'): 12.600000000000001,\n",
       " ('1946', '2269'): 52.599999999999994,\n",
       " ('2269', '2410'): 126.6,\n",
       " ('2410', '2684'): 4.6,\n",
       " ('2684', '2759'): 4.6,\n",
       " ('2759', '3012'): 27.6,\n",
       " ('3012', '3022'): 27.6,\n",
       " ('3022', '3091'): 126.6,\n",
       " ('3091', '3137'): 126.6,\n",
       " ('3137', '4080'): 3.5999999999999996,\n",
       " ('4080', '4474'): 36.599999999999994,\n",
       " ('4474', '4482'): 36.599999999999994,\n",
       " ('4482', '4660'): 0.05,\n",
       " ('4660', '5362'): 36.599999999999994,\n",
       " ('5362', '5586'): 127.1,\n",
       " ('5586', '5913'): 127.1,\n",
       " ('5913', '6672'): 36.599999999999994,\n",
       " ('6672', '7194'): 11.100000000000001,\n",
       " ('7194', '7321'): 11.100000000000001,\n",
       " ('7321', '7404'): 10.600000000000001,\n",
       " ('7404', '7412'): 6.6,\n",
       " ('7412', '7524'): 6.6,\n",
       " ('7524', '7736'): 217.60000000000002,\n",
       " ('7736', '7769'): 1308.6,\n",
       " ('7769', '7792'): 69.6,\n",
       " ('7792', '7823'): 12.600000000000001,\n",
       " ('7823', '7834'): 12.600000000000001,\n",
       " ('7834', '7981'): 2.5999999999999996,\n",
       " ('7981', '7992'): 2.5999999999999996,\n",
       " ('7992', '8114'): 0.05,\n",
       " ('8114', '8189'): 217.60000000000002,\n",
       " ('8189', '8211'): 20.6,\n",
       " ('8211', '8241'): 7.6,\n",
       " ('8241', '8343'): 0.05,\n",
       " ('8343', '8539'): 217.60000000000002,\n",
       " ('8539', '8567'): 217.60000000000002,\n",
       " ('8567', '8753'): 69.6,\n",
       " ('8753', '8760'): 69.6,\n",
       " ('8760', '8921'): 12.600000000000001,\n",
       " ('8921', '9117'): 12.600000000000001,\n",
       " ('9117', '10000'): 0.0,\n",
       " ('10000', '10002'): 7.6,\n",
       " ('10002', '10188'): 217.60000000000002,\n",
       " ('10188', '10196'): 217.60000000000002,\n",
       " ('10196', '10263'): 117.6,\n",
       " ('10263', '10272'): 23.6,\n",
       " ('10272', '10301'): 12.600000000000001,\n",
       " ('10301', '11022'): 12.600000000000001,\n",
       " ('11022', '11056'): 12.600000000000001,\n",
       " ('11056', '11647'): 69.6,\n",
       " ('11647', '11651'): 69.6,\n",
       " ('11651', '11931'): 12.600000000000001,\n",
       " ('11931', '11966'): 12.600000000000001,\n",
       " ('11966', '12005'): 117.6,\n",
       " ('12005', '12046'): 117.6,\n",
       " ('12046', '12163'): 0.05,\n",
       " ('12163', '12235'): 217.60000000000002,\n",
       " ('12235', '12283'): 217.60000000000002,\n",
       " ('12283', '13358'): 0.05,\n",
       " ('13358', '13371'): 217.60000000000002,\n",
       " ('13371', '13384'): 217.60000000000002,\n",
       " ('13384', '13652'): 69.6,\n",
       " ('13652', '13665'): 69.6,\n",
       " ('13665', '14275'): 10.600000000000001,\n",
       " ('14275', '14451'): 10.600000000000001,\n",
       " ('14451', '14505'): 117.6,\n",
       " ('14505', '14580'): 117.6,\n",
       " ('14580', '14707'): 69.6,\n",
       " ('14707', '14930'): 69.6,\n",
       " ('14930', '15112'): 1.6,\n",
       " ('15112', '15375'): 1.6,\n",
       " ('15375', '15447'): 6.6,\n",
       " ('15447', '15704'): 7.6,\n",
       " ('15704', '15708'): 7.6,\n",
       " ('15708', '16107'): 10.600000000000001,\n",
       " ('16107', '16113'): 10.600000000000001,\n",
       " ('16113', '16330'): 8.600000000000001,\n",
       " ('16330', '16464'): 8.600000000000001,\n",
       " ('16464', '17553'): 0.05,\n",
       " ('17553', '18356'): 117.6,\n",
       " ('18356', '18651'): 8.600000000000001,\n",
       " ('18651', '18851'): 6.6,\n",
       " ('18851', '18944'): 117.6,\n",
       " ('18944', '19463'): 117.6,\n",
       " ('19463', '19485'): 10.600000000000001,\n",
       " ('19485', '19713'): 10.600000000000001,\n",
       " ('19713', '19922'): 117.6,\n",
       " ('19922', '22090'): 159.60000000000002,\n",
       " ('22090', '22188'): 159.60000000000002,\n",
       " ('22188', '22624'): 117.6,\n",
       " ('22624', '22891'): 0.05,\n",
       " ('22891', '22968'): 0.05,\n",
       " ('22968', '23094'): 117.6,\n",
       " ('23094', '23235'): 117.6,\n",
       " ('23235', '23253'): 8.600000000000001,\n",
       " ('23253', '23439'): 12.600000000000001,\n",
       " ('23439', '23711'): 0.05,\n",
       " ('23711', '23803'): 0.05,\n",
       " ('23803', '23838'): 117.6,\n",
       " ('23838', '23880'): 117.6,\n",
       " ('23880', '23907'): 23.6,\n",
       " ('23907', '24080'): 23.6,\n",
       " ('24080', '24118'): 117.6,\n",
       " ('24118', '24182'): 117.6,\n",
       " ('24182', '24471'): 117.6,\n",
       " ('24471', '24476'): 117.6,\n",
       " ('24476', '24740'): 117.6,\n",
       " ('24740', '24895'): 117.6,\n",
       " ('24895', '25564'): 117.6,\n",
       " ('25564', '25916'): 0.05,\n",
       " ('25916', '25979'): 117.6,\n",
       " ('25979', '26191'): 117.6,\n",
       " ('26191', '26359'): 117.6,\n",
       " ('26359', '26414'): 0.05,\n",
       " ('26414', '26649'): 117.6,\n",
       " ('26649', '26700'): 117.6,\n",
       " ('26700', '27140'): 23.6,\n",
       " ('27140', '27155'): 12.600000000000001,\n",
       " ('27155', '27273'): 117.6,\n",
       " ('27273', '27335'): 117.6,\n",
       " ('27335', '27768'): 117.6,\n",
       " ('27768', '28013'): 117.6,\n",
       " ('28013', '28046'): 117.6,\n",
       " ('28046', '28513'): 2.5999999999999996,\n",
       " ('28513', '28660'): 2.5999999999999996,\n",
       " ('28660', '28691'): 117.6,\n",
       " ('28691', '29068'): 117.6,\n",
       " ('29068', '29137'): 0.05,\n",
       " ('29137', '29906'): 117.6,\n",
       " ('29906', '29912'): 117.6,\n",
       " ('29912', '30459'): 117.6,\n",
       " ('30459', '30581'): 117.6,\n",
       " ('30581', '30664'): 6.6,\n",
       " ('30664', '31013'): 6.6,\n",
       " ('31013', '31018'): 117.6,\n",
       " ('31018', '31035'): 117.6,\n",
       " ('31035', '32261'): 23.6,\n",
       " ('32261', '32290'): 23.6,\n",
       " ('32290', '32478'): 11.600000000000001,\n",
       " ('32478', '32548'): 11.600000000000001,\n",
       " ('32548', '32761'): 12.600000000000001,\n",
       " ('32761', '32844'): 12.600000000000001,\n",
       " ('32844', '33160'): 0.05,\n",
       " ('33160', '33383'): 12.600000000000001,\n",
       " ('33383', '33387'): 8.600000000000001,\n",
       " ('33387', '33563'): 117.6,\n",
       " ('33563', '33638'): 0.05,\n",
       " ('33638', '33909'): 117.6,\n",
       " ('33909', '34048'): 117.6,\n",
       " ('34048', '34084'): 0.05,\n",
       " ('34084', '34089'): 28.6,\n",
       " ('34089', '34193'): 28.6,\n",
       " ('34193', '34255'): 0.05,\n",
       " ('34255', '34566'): 28.6,\n",
       " ('34566', '34677'): 27.6,\n",
       " ('34677', '35163'): 23.6,\n",
       " ('35163', '35198'): 0.05,\n",
       " ('35198', '35312'): 0.05,\n",
       " ('35312', '35326'): 117.6,\n",
       " ('35326', '35383'): 117.6,\n",
       " ('35383', '35390'): 117.6,\n",
       " ('35390', '35417'): 117.6,\n",
       " ('35417', '35661'): 23.6,\n",
       " ('35661', '36008'): 7.6,\n",
       " ('36008', '36043'): 7.6,\n",
       " ('36043', '36285'): 23.6,\n",
       " ('36285', '36299'): 117.6,\n",
       " ('36299', '36387'): 12.600000000000001,\n",
       " ('36387', '36428'): 7.6,\n",
       " ('36428', '36474'): 8.600000000000001,\n",
       " ('36474', '36508'): 117.6,\n",
       " ('36508', '36687'): 23.6,\n",
       " ('36687', '36834'): 23.6,\n",
       " ('36834', '37148'): 28.6,\n",
       " ('37148', '37236'): 69.6,\n",
       " ('37236', '37248'): 117.6,\n",
       " ('37248', '37332'): 117.6,\n",
       " ('37332', '37336'): 0.05,\n",
       " ('37336', '37627'): 117.6,\n",
       " ('37627', '37630'): 0.05,\n",
       " ('37630', '37700'): 117.6,\n",
       " ('37700', '37812'): 117.6,\n",
       " ('37812', '37826'): 0.05,\n",
       " ('37826', '37845'): 5.6,\n",
       " ('37845', '38856'): 5.05,\n",
       " ('38856', '38897'): 0.05,\n",
       " ('38897', '39259'): 0.05,\n",
       " ('39259', '39333'): 28.6,\n",
       " ('39333', '39376'): 28.6,\n",
       " ('39376', '39475'): 117.6,\n",
       " ('39475', '39536'): 117.6,\n",
       " ('39536', '39655'): 117.6,\n",
       " ('39655', '39717'): 117.6,\n",
       " ('39717', '40091'): 0.05,\n",
       " ('40091', '40198'): 159.60000000000002,\n",
       " ('40198', '40435'): 159.60000000000002,\n",
       " ('40435', '40581'): 0.05,\n",
       " ('40581', '40630'): 117.6,\n",
       " ('40630', '40642'): 117.6,\n",
       " ('40642', '41444'): 3.5999999999999996,\n",
       " ('41444', '41448'): 2.5999999999999996,\n",
       " ('41448', '41615'): 69.6,\n",
       " ('41615', '41922'): 0.05,\n",
       " ('41922', '41992'): 117.6,\n",
       " ('41992', '42111'): 117.6,\n",
       " ('42111', '42475'): 117.6,\n",
       " ('42475', '43007'): 5.6,\n",
       " ('43007', '43064'): 5.6,\n",
       " ('43064', '43088'): 0.05,\n",
       " ('43088', '43966'): 117.6,\n",
       " ('43966', '44316'): 117.6,\n",
       " ('44316', '44487'): 117.6,\n",
       " ('44487', '44663'): 117.6,\n",
       " ('44663', '44695'): 12.600000000000001,\n",
       " ('44695', '44841'): 12.600000000000001,\n",
       " ('44841', '44873'): 6.6,\n",
       " ('44873', '44912'): 4.6,\n",
       " ('44912', '44977'): 4.6,\n",
       " ('44977', '45035'): 7.6,\n",
       " ('45035', '45097'): 117.6,\n",
       " ('45097', '45252'): 23.6,\n",
       " ('45252', '45356'): 1.6,\n",
       " ('45356', '45572'): 6.6,\n",
       " ('45572', '45586'): 159.60000000000002,\n",
       " ('45586', '45703'): 159.60000000000002,\n",
       " ('45703', '46209'): 117.6,\n",
       " ('46209', '46359'): 117.6,\n",
       " ('46359', '46427'): 159.60000000000002,\n",
       " ('46427', '46719'): 217.60000000000002,\n",
       " ('46719', '46744'): 117.6,\n",
       " ('46744', '46897'): 117.6,\n",
       " ('46897', '47021'): 0.05,\n",
       " ('47021', '47459'): 3.5999999999999996,\n",
       " ('47459', '47640'): 3.5999999999999996,\n",
       " ('47640', '47820'): 117.6,\n",
       " ('47820', '49840'): 117.6,\n",
       " ('49840', '50142'): 3.5999999999999996,\n",
       " ('50142', '50215'): 6.6,\n",
       " ('50215', '50840'): 117.6,\n",
       " ('50840', '50869'): 0.05,\n",
       " ('50869', '51007'): 3.5999999999999996,\n",
       " ('51007', '51318'): 0.05,\n",
       " ('51318', '51373'): 3.5999999999999996,\n",
       " ('51373', '51973'): 117.6,\n",
       " ('51973', '52896'): 0.05,\n",
       " ('52896', '54212'): 0.05,\n",
       " ('54212', '54265'): 159.60000000000002,\n",
       " ('54265', '54323'): 159.60000000000002,\n",
       " ('54323', '55460'): 11.600000000000001,\n",
       " ('55460', '55982'): 10.600000000000001,\n",
       " ('55982', '56112'): 117.6,\n",
       " ('56112', '56287'): 0.05,\n",
       " ('56287', '58044'): 117.6,\n",
       " ('58044', '58235'): 117.6,\n",
       " ('58235', '59031'): 23.6,\n",
       " ('59031', '59511'): 126.6,\n",
       " ('59511', '59649'): 217.60000000000002,\n",
       " ('59649', '59853'): 117.6,\n",
       " ('59853', '60628'): 8.600000000000001,\n",
       " ('60628', '61338'): 8.600000000000001,\n",
       " ('61338', '62446'): 11.600000000000001,\n",
       " ('62446', '62701'): 11.600000000000001,\n",
       " ('62701', '62908'): 5.6,\n",
       " ('62908', '63324'): 1.6,\n",
       " ('63324', '64462'): 11.600000000000001,\n",
       " ('64462', '64520'): 159.60000000000002,\n",
       " ('64520', '64644'): 159.60000000000002,\n",
       " ('64644', '66012'): 6.6,\n",
       " ('66012', '66170'): 6.6,\n",
       " ('66170', '66491'): 117.6,\n",
       " ('66491', '66841'): 117.6,\n",
       " ('66841', '69057'): 117.6,\n",
       " ('69057', '69217'): 117.6,\n",
       " ('69217', '72161'): 12.600000000000001,\n",
       " ('72161', '72294'): 8.600000000000001,\n",
       " ('72294', '72495'): 117.6,\n",
       " ('72495', '72867'): 0.05,\n",
       " ('72867', '73430'): 28.6,\n",
       " ('73430', '73742'): 69.6,\n",
       " ('73742', '74457'): 117.6,\n",
       " ('74457', '74473'): 0.05,\n",
       " ('74473', '74564'): 117.6,\n",
       " ('74564', '74988'): 117.6,\n",
       " ('74988', '75306'): 159.60000000000002,\n",
       " ('75306', '75724'): 159.60000000000002,\n",
       " ('75724', '75984'): 2.5999999999999996,\n",
       " ('75984', '76058'): 3.5999999999999996,\n",
       " ('76058', '76508'): 217.60000000000002,\n",
       " ('76508', '76606'): 12.600000000000001,\n",
       " ('76606', '76756'): 2.5999999999999996,\n",
       " ('76756', '76766'): 117.6,\n",
       " ('76766', '76956'): 0.05,\n",
       " ('76956', '76982'): 117.6,\n",
       " ('76982', '77428'): 117.6,\n",
       " ('77428', '77489'): 117.6,\n",
       " ('77489', '77518'): 159.60000000000002,\n",
       " ('77518', '79180'): 159.60000000000002,\n",
       " ('79180', '79198'): 159.60000000000002,\n",
       " ('79198', '79384'): 159.60000000000002,\n",
       " ('79384', '79465'): 159.60000000000002,\n",
       " ('79465', '80031'): 159.60000000000002,\n",
       " ('80031', '82054'): 8.600000000000001,\n",
       " ('82054', '82544'): 6.6,\n",
       " ('82544', '82558'): 117.6,\n",
       " ('82558', '82649'): 117.6,\n",
       " ('82649', '84671'): 117.6,\n",
       " ('84671', '87685'): 11.600000000000001,\n",
       " ('87685', '87836'): 11.600000000000001,\n",
       " ('87836', '89478'): 117.6,\n",
       " ('89478', '89857'): 117.6,\n",
       " ('89857', '90569'): 159.60000000000002,\n",
       " ('90569', '91255'): 159.60000000000002,\n",
       " ('91255', '92372'): 6.6,\n",
       " ('92372', '92889'): 6.6,\n",
       " ('92889', '94067'): 28.6,\n",
       " ('94067', '94704'): 28.6,\n",
       " ('94704', '95035'): 118.1,\n",
       " ('95035', '95880'): 117.6,\n",
       " ('95880', '96162'): 1.6,\n",
       " ('96162', '100211'): 0.0,\n",
       " ('100211', '100324'): 126.6,\n",
       " ('100324', '101941'): 217.60000000000002,\n",
       " ('101941', '105623'): 217.60000000000002,\n",
       " ('105623', '106129'): 69.6,\n",
       " ('106129', '106403'): 8.600000000000001,\n",
       " ('106403', '107584'): 159.60000000000002,\n",
       " ('107584', '107661'): 159.60000000000002,\n",
       " ('107661', '108122'): 159.60000000000002,\n",
       " ('108122', '108548'): 217.60000000000002,\n",
       " ('108548', '108850'): 117.6,\n",
       " ('108850', '110694'): 159.60000000000002,\n",
       " ('110694', '111750'): 1308.6,\n",
       " ('111750', '111841'): 28.6,\n",
       " ('111841', '113066'): 159.60000000000002,\n",
       " ('113066', '113430'): 69.6,\n",
       " ('113430', '113635'): 3.5999999999999996,\n",
       " ('113635', '113880'): 23.6,\n",
       " ('113880', '115415'): 117.6,\n",
       " ('115415', '115943'): 217.60000000000002,\n",
       " ('115943', '116689'): 159.60000000000002,\n",
       " ('116689', '116796'): 159.60000000000002,\n",
       " ('116796', '117075'): 159.60000000000002,\n",
       " ('117075', '118805'): 28.6,\n",
       " ('118805', '118934'): 1308.6,\n",
       " ('118934', '123349'): 217.60000000000002,\n",
       " ('123349', '123429'): 69.6,\n",
       " ('123429', '124613'): 1308.6,\n",
       " ('124613', '125194'): 159.60000000000002,\n",
       " ('125194', '125240'): 159.60000000000002,\n",
       " ('125240', '125319'): 159.60000000000002,\n",
       " ('125319', '125799'): 159.60000000000002,\n",
       " ('125799', '126779'): 159.60000000000002,\n",
       " ('126779', '127413'): 23.6,\n",
       " ('127413', '127570'): 23.6,\n",
       " ('127570', '127659'): 0.05,\n",
       " ('127659', '128138'): 159.60000000000002,\n",
       " ('128138', '128255'): 160.10000000000002,\n",
       " ('128255', '128904'): 28.6,\n",
       " ('128904', '128998'): 69.6,\n",
       " ('128998', '129155'): 217.60000000000002,\n",
       " ('129155', '129288'): 0.05,\n",
       " ('129288', '129980'): 126.6,\n",
       " ('129980', '130196'): 126.6,\n",
       " ('130196', '130386'): 126.6,\n",
       " ('130386', '130456'): 12.600000000000001,\n",
       " ('130456', '130708'): 217.60000000000002,\n",
       " ('130708', '132474'): 1308.6,\n",
       " ('132474', '132550'): 28.6,\n",
       " ('132550', '132609'): 0.05,\n",
       " ('132609', '132757'): 159.60000000000002,\n",
       " ('132757', '133014'): 159.60000000000002,\n",
       " ('133014', '133197'): 159.60000000000002,\n",
       " ('133197', '133243'): 0.05,\n",
       " ('133243', '134065'): 159.60000000000002,\n",
       " ('134065', '134633'): 0.05,\n",
       " ('134633', '134735'): 23.6,\n",
       " ('134735', '134795'): 126.6,\n",
       " ('134795', '134796'): 217.60000000000002,\n",
       " ('134796', '134970'): 117.6,\n",
       " ('134970', '135055'): 0.05,\n",
       " ('135055', '135108'): 159.60000000000002,\n",
       " ('135108', '135110'): 13.600000000000001,\n",
       " ('135110', '135146'): 3.5999999999999996,\n",
       " ('135146', '135475'): 159.60000000000002,\n",
       " ('135475', '135736'): 159.60000000000002,\n",
       " ('135736', '135824'): 0.05,\n",
       " ('135824', '136072'): 159.60000000000002,\n",
       " ('136072', '136427'): 20.6,\n",
       " ('136427', '136561'): 7.6,\n",
       " ('136561', '137361'): 118.1,\n",
       " ('137361', '138161'): 118.1,\n",
       " ('138161', '138224'): 217.60000000000002,\n",
       " ('138224', '138393'): 159.60000000000002,\n",
       " ('138393', '138478'): 28.6,\n",
       " ('138478', '138480'): 1308.6,\n",
       " ('138480', '139131'): 159.60000000000002,\n",
       " ('139131', '139278'): 8.600000000000001,\n",
       " ('139278', '139699'): 69.6,\n",
       " ('139699', '139890'): 217.60000000000002,\n",
       " ('139890', '140524'): 117.6,\n",
       " ('140524', '140579'): 159.60000000000002,\n",
       " ('140579', '141567'): 217.60000000000002,\n",
       " ('141567', '141625'): 117.6,\n",
       " ('141625', '141881'): 160.10000000000002,\n",
       " ('141881', '141984'): 27.6,\n",
       " ('141984', '142525'): 27.6,\n",
       " ('142525', '142593'): 159.60000000000002,\n",
       " ('142593', '143001'): 159.60000000000002,\n",
       " ('143001', '143053'): 159.60000000000002,\n",
       " ('143053', '143232'): 159.60000000000002,\n",
       " ('143232', '143319'): 217.60000000000002,\n",
       " ('143319', '143513'): 117.6,\n",
       " ('143513', '143746'): 159.60000000000002,\n",
       " ('143746', '143803'): 159.60000000000002,\n",
       " ('143803', '143924'): 23.6,\n",
       " ('143924', '143981'): 3.5999999999999996,\n",
       " ('143981', '144412'): 11.600000000000001,\n",
       " ('144412', '144510'): 159.60000000000002,\n",
       " ('144510', '145248'): 217.60000000000002,\n",
       " ('145248', '146585'): 117.6,\n",
       " ('146585', '146791'): 159.60000000000002,\n",
       " ('146791', '147146'): 217.60000000000002,\n",
       " ('147146', '147451'): 218.10000000000002,\n",
       " ('147451', '147895'): 160.10000000000002,\n",
       " ('147895', '148159'): 159.60000000000002,\n",
       " ('148159', '148337'): 159.60000000000002,\n",
       " ('148337', '148528'): 0.05,\n",
       " ('148528', '148787'): 117.6,\n",
       " ('148787', '149422'): 217.60000000000002,\n",
       " ('149422', '150323'): 0.05,\n",
       " ('150323', '150454'): 0.05,\n",
       " ('150454', '150518'): 159.60000000000002,\n",
       " ('150518', '150544'): 0.05,\n",
       " ('150544', '151089'): 117.6,\n",
       " ('151089', '151117'): 0.05,\n",
       " ('151117', '151390'): 217.60000000000002,\n",
       " ('151390', '151527'): 159.60000000000002,\n",
       " ('151527', '152455'): 159.60000000000002,\n",
       " ('152455', '152719'): 0.05,\n",
       " ('152719', '153142'): 160.10000000000002,\n",
       " ('153142', '153150'): 117.6,\n",
       " ('153150', '153263'): 117.6,\n",
       " ('153263', '154165'): 159.60000000000002,\n",
       " ('154165', '154365'): 159.60000000000002,\n",
       " ('154365', '154546'): 12.600000000000001,\n",
       " ('154546', '155846'): 52.599999999999994,\n",
       " ('155846', '155862'): 0.05,\n",
       " ('155862', '156871'): 159.60000000000002,\n",
       " ('156871', '157096'): 0.05,\n",
       " ('157096', '157872'): 159.60000000000002,\n",
       " ('157872', '157882'): 159.60000000000002,\n",
       " ('157882', '157897'): 8.600000000000001,\n",
       " ('157897', '158140'): 69.6,\n",
       " ('158140', '158583'): 159.60000000000002,\n",
       " ('158583', '159690'): 12.600000000000001,\n",
       " ('159690', '159693'): 4.6,\n",
       " ('159693', '160066'): 1308.6,\n",
       " ('160066', '160290'): 159.60000000000002,\n",
       " ('160290', '160326'): 0.05,\n",
       " ('160326', '160431'): 159.60000000000002,\n",
       " ('160431', '160623'): 0.05,\n",
       " ('160623', '160742'): 1308.6,\n",
       " ('160742', '160799'): 28.6,\n",
       " ('160799', '161076'): 0.05,\n",
       " ('161076', '161258'): 159.60000000000002,\n",
       " ('161258', '161705'): 0.05,\n",
       " ('161705', '161711'): 0.05,\n",
       " ('161711', '161851'): 159.60000000000002,\n",
       " ('161851', '162208'): 159.60000000000002,\n",
       " ('162208', '162212'): 0.05,\n",
       " ('162212', '162560'): 159.60000000000002,\n",
       " ('162560', '163532'): 23.6,\n",
       " ('163532', '163890'): 1.6,\n",
       " ('163890', '164052'): 27.6,\n",
       " ('164052', '164341'): 159.60000000000002,\n",
       " ('164341', '164422'): 12.600000000000001,\n",
       " ('164422', '164825'): 52.599999999999994,\n",
       " ('164825', '164862'): 0.05,\n",
       " ('164862', '168280'): 126.6,\n",
       " ('168280', '168836'): 23.6,\n",
       " ('168836', '169337'): 28.6,\n",
       " ('169337', '170150'): 1308.6,\n",
       " ('170150', '170171'): 0.05,\n",
       " ('170171', '170589'): 159.60000000000002,\n",
       " ('170589', '172857'): 159.60000000000002,\n",
       " ('172857', '173829'): 0.05,\n",
       " ('173829', '174727'): 159.60000000000002,\n",
       " ('174727', '175682'): 159.60000000000002,\n",
       " ('175682', '177169'): 159.60000000000002,\n",
       " ('177169', '178828'): 159.60000000000002,\n",
       " ('178828', '178846'): 126.6,\n",
       " ('178846', '179445'): 126.6,\n",
       " ('179445', '183496'): 160.10000000000002,\n",
       " ('183496', '183920'): 160.10000000000002,\n",
       " ('183920', '184159'): 0.05,\n",
       " ('184159', '185644'): 0.05,\n",
       " ('185644', '186023'): 0.05,\n",
       " ('186023', '187343'): 0.05,\n",
       " ('187343', '187434'): 160.10000000000002,\n",
       " ('187434', '188698'): 159.60000000000002,\n",
       " ('188698', '189205'): 159.60000000000002,\n",
       " ('189205', '189339'): 6.6,\n",
       " ('189339', '191923'): 6.6,\n",
       " ('191923', '192191'): 159.60000000000002,\n",
       " ('192191', '194031'): 159.60000000000002,\n",
       " ('194031', '195088'): 159.60000000000002,\n",
       " ('195088', '195195'): 0.05,\n",
       " ('195195', '195236'): 159.60000000000002,\n",
       " ('195236', '195925'): 28.6,\n",
       " ('195925', '197071'): 28.6,\n",
       " ('197071', '197099'): 159.60000000000002,\n",
       " ('197099', '197670'): 159.60000000000002,\n",
       " ('197670', '198485'): 159.60000000000002,\n",
       " ('198485', '198687'): 0.05,\n",
       " ('198687', '200750'): 0.05,\n",
       " ('200750', '201028'): 159.60000000000002,\n",
       " ('201028', '201676'): 159.60000000000002,\n",
       " ('201676', '201784'): 0.05,\n",
       " ('201784', '202143'): 159.60000000000002,\n",
       " ('202143', '202552'): 0.05,\n",
       " ('202552', '204823'): 159.60000000000002,\n",
       " ('204823', '205161'): 1308.6,\n",
       " ('205161', '205639'): 1308.6,\n",
       " ('205639', '206356'): 0.05,\n",
       " ('206356', '206710'): 0.05,\n",
       " ('206710', '207158'): 0.05,\n",
       " ('207158', '208646'): 0.0,\n",
       " ('208646', '210340'): 159.60000000000002,\n",
       " ('210340', '211518'): 0.05,\n",
       " ('211518', '212112'): 159.60000000000002,\n",
       " ('212112', '212703'): 217.60000000000002,\n",
       " ('212703', '212966'): 117.6,\n",
       " ('212966', '213875'): 159.60000000000002,\n",
       " ('213875', '215254'): 1308.6,\n",
       " ('215254', '215408'): 28.6,\n",
       " ('215408', '215835'): 159.60000000000002,\n",
       " ('215835', '215943'): 159.60000000000002,\n",
       " ('215943', '217795'): 159.60000000000002,\n",
       " ('217795', '217997'): 1308.6,\n",
       " ('217997', '218035'): 1308.6,\n",
       " ('218035', '218122'): 0.05,\n",
       " ('218122', '218520'): 159.60000000000002,\n",
       " ('218520', '219448'): 28.6,\n",
       " ('219448', '220422'): 28.6,\n",
       " ('220422', '221673'): 159.60000000000002,\n",
       " ('221673', '224527'): 126.6,\n",
       " ('224527', '226224'): 126.6,\n",
       " ('226224', '226383'): 0.05,\n",
       " ('226383', '228118'): 217.60000000000002,\n",
       " ('228118', '228902'): 69.6,\n",
       " ('228902', '229072'): 1308.6,\n",
       " ('229072', '230348'): 126.6,\n",
       " ('230348', '230535'): 27.6,\n",
       " ('230535', '230740'): 1308.6,\n",
       " ('230740', '232061'): 159.60000000000002,\n",
       " ('232061', '233112'): 0.05,\n",
       " ('233112', '233366'): 159.60000000000002,\n",
       " ('233366', '233893'): 217.60000000000002,\n",
       " ('233893', '234013'): 217.60000000000002,\n",
       " ('234013', '234687'): 159.60000000000002,\n",
       " ('234687', '234830'): 0.05,\n",
       " ('234830', '234902'): 159.60000000000002,\n",
       " ('234902', '235106'): 159.60000000000002,\n",
       " ('235106', '235454'): 159.60000000000002,\n",
       " ('235454', '235642'): 0.05,\n",
       " ('235642', '235702'): 1308.6,\n",
       " ('235702', '236951'): 28.6,\n",
       " ('236951', '236959'): 159.60000000000002,\n",
       " ('236959', '238222'): 0.05,\n",
       " ('238222', '239384'): 1308.6,\n",
       " ('239384', '239565'): 28.6,\n",
       " ('239565', '239617'): 3.5999999999999996,\n",
       " ('239617', '240480'): 13.600000000000001,\n",
       " ('240480', '241368'): 1308.6,\n",
       " ('241368', '242042'): 1308.6,\n",
       " ('242042', '242306'): 1308.6,\n",
       " ('242306', '242491'): 69.6,\n",
       " ('242491', '243320'): 217.60000000000002,\n",
       " ('243320', '243466'): 0.05,\n",
       " ('243466', '246353'): 159.60000000000002,\n",
       " ('246353', '246871'): 117.6,\n",
       " ('246871', '249147'): 117.6,\n",
       " ('249147', '250394'): 159.60000000000002,\n",
       " ('250394', '250654'): 0.05,\n",
       " ('250654', '252804'): 1308.6,\n",
       " ('252804', '252982'): 1308.6,\n",
       " ('252982', '255786'): 1308.6,\n",
       " ('255786', '257394'): 1308.6,\n",
       " ('257394', '259092'): 0.05,\n",
       " ('259092', '259630'): 159.60000000000002,\n",
       " ('259630', '261234'): 117.6,\n",
       " ('261234', '262734'): 69.6,\n",
       " ('262734', '264550'): 28.6,\n",
       " ('264550', '266031'): 159.60000000000002,\n",
       " ('266031', '269363'): 52.599999999999994,\n",
       " ('269363', '270248'): 52.599999999999994,\n",
       " ('270248', '271641'): 1308.6,\n",
       " ('271641', '272188'): 1.6,\n",
       " ('272188', '273093'): 1.6,\n",
       " ('273093', '274988'): 2.5999999999999996,\n",
       " ('274988', '275910'): 1308.6,\n",
       " ('275910', '278728'): 217.60000000000002,\n",
       " ('278728', '279020'): 217.60000000000002,\n",
       " ('279020', '281165'): 217.60000000000002,\n",
       " ('281165', '281954'): 217.60000000000002,\n",
       " ('281954', '282189'): 0.05,\n",
       " ('282189', '282256'): 217.60000000000002,\n",
       " ('282256', '282696'): 117.6,\n",
       " ('282696', '283196'): 159.60000000000002,\n",
       " ('283196', '283405'): 0.05,\n",
       " ('283405', '283679'): 217.60000000000002,\n",
       " ('283679', '283869'): 69.6,\n",
       " ('283869', '284137'): 1308.6,\n",
       " ('284137', '284168'): 126.6,\n",
       " ('284168', '284990'): 126.6,\n",
       " ('284990', '284999'): 126.6,\n",
       " ('284999', '285285'): 27.6,\n",
       " ('285285', '285624'): 69.6,\n",
       " ('285624', '286005'): 217.60000000000002,\n",
       " ('286005', '286488'): 0.05,\n",
       " ('286488', '286675'): 1308.6,\n",
       " ('286675', '287859'): 1308.6,\n",
       " ('287859', '288047'): 0.05,\n",
       " ('288047', '288189'): 126.6,\n",
       " ('288189', '288467'): 126.6,\n",
       " ('288467', '288482'): 0.05,\n",
       " ('288482', '288834'): 217.60000000000002,\n",
       " ('288834', '289059'): 69.6,\n",
       " ('289059', '289272'): 1308.6,\n",
       " ('289272', '289628'): 1308.6,\n",
       " ('289628', '289835'): 1308.6,\n",
       " ('289835', '289936'): 1308.6,\n",
       " ('289936', '290255'): 69.6,\n",
       " ('290255', '290330'): 0.05,\n",
       " ('290330', '290497'): 217.60000000000002,\n",
       " ('290497', '290604'): 126.6,\n",
       " ('290604', '290669'): 126.6,\n",
       " ('290669', '290836'): 0.05,\n",
       " ('290836', '291108'): 1308.6,\n",
       " ('291108', '291256'): 69.6,\n",
       " ('291256', '291550'): 69.6,\n",
       " ('291550', '292237'): 1308.6,\n",
       " ('292237', '292252'): 217.60000000000002,\n",
       " ('292252', '292300'): 217.60000000000002,\n",
       " ('292300', '292427'): 0.05,\n",
       " ('292427', '292432'): 1308.6,\n",
       " ('292432', '292646'): 1308.6,\n",
       " ('292646', '293130'): 1308.6,\n",
       " ('293130', '293758'): 0.05,\n",
       " ('293758', '294555'): 1308.6,\n",
       " ('294555', '294578'): 0.05,\n",
       " ('294578', '295662'): 0.05,\n",
       " ('295662', '295859'): 0.05,\n",
       " ('295859', '295990'): 1308.6,\n",
       " ('295990', '296242'): 69.6,\n",
       " ('296242', '296370'): 217.60000000000002,\n",
       " ('296370', '297482'): 126.6,\n",
       " ('297482', '297495'): 126.6,\n",
       " ('297495', '297537'): 69.6,\n",
       " ('297537', '297624'): 69.6,\n",
       " ('297624', '298175'): 1308.6,\n",
       " ('298175', '298296'): 1308.6,\n",
       " ('298296', '299769'): 0.05,\n",
       " ('299769', '299789'): 1308.6,\n",
       " ('299789', '300509'): 27.6,\n",
       " ('300509', '300547'): 126.6,\n",
       " ('300547', '300576'): 217.60000000000002,\n",
       " ('300576', '300684'): 217.60000000000002,\n",
       " ('300684', '300700'): 0.05,\n",
       " ('300700', '301072'): 0.05,\n",
       " ('301072', '301175'): 217.60000000000002,\n",
       " ('301175', '301279'): 217.60000000000002,\n",
       " ('301279', '301542'): 217.60000000000002,\n",
       " ('301542', '301555'): 217.60000000000002,\n",
       " ('301555', '301834'): 1308.6,\n",
       " ('301834', '302411'): 1308.6,\n",
       " ('302411', '302481'): 0.05,\n",
       " ('302481', '302582'): 1308.6,\n",
       " ('302582', '302643'): 1308.6,\n",
       " ('302643', '302680'): 0.05,\n",
       " ('302680', '303070'): 69.6,\n",
       " ('303070', '303108'): 69.6,\n",
       " ('303108', '303130'): 20.6,\n",
       " ('303130', '303145'): 20.6,\n",
       " ('303145', '303149'): 0.05,\n",
       " ('303149', '303551'): 0.05,\n",
       " ('303551', '304254'): 0.05,\n",
       " ('304254', '304381'): 0.05,\n",
       " ('304381', '304852'): 1308.6,\n",
       " ('304852', '305321'): 1308.6,\n",
       " ('305321', '305486'): 1308.6,\n",
       " ('305486', '305502'): 1308.6,\n",
       " ('305502', '305628'): 1308.6,\n",
       " ('305628', '305691'): 0.05,\n",
       " ('305691', '305720'): 69.6,\n",
       " ('305720', '305829'): 217.60000000000002,\n",
       " ('305829', '305884'): 0.05,\n",
       " ('305884', '305963'): 1308.6,\n",
       " ('305963', '306001'): 1308.6,\n",
       " ('306001', '306006'): 1308.6,\n",
       " ('306006', '306030'): 1308.6,\n",
       " ('306030', '306064'): 0.05,\n",
       " ('306064', '306067'): 0.05,\n",
       " ('306067', '306100'): 217.60000000000002,\n",
       " ('306100', '306158'): 0.05,\n",
       " ('306158', '306173'): 217.60000000000002,\n",
       " ('306173', '306720'): 0.05,\n",
       " ('306720', '307715'): 0.05,\n",
       " ('307715', '307778'): 27.6,\n",
       " ('307778', '308131'): 27.6,\n",
       " ('308131', '308372'): 1308.6,\n",
       " ('308372', '308391'): 1308.6,\n",
       " ('308391', '308773'): 1308.6,\n",
       " ('308773', '308958'): 1308.6,\n",
       " ('308958', '309443'): 1308.6,\n",
       " ('309443', '309590'): 1308.6,\n",
       " ('309590', '309663'): 0.05,\n",
       " ('309663', '309752'): 0.05,\n",
       " ('309752', '310443'): 0.05,\n",
       " ('310443', '310722'): 0.05,\n",
       " ('310722', '310828'): 126.6,\n",
       " ('310828', '310906'): 126.6,\n",
       " ('310906', '311230'): 217.60000000000002,\n",
       " ('311230', '311282'): 217.60000000000002,\n",
       " ('311282', '311472'): 0.05,\n",
       " ('311472', '311960'): 52.599999999999994,\n",
       " ('311960', '311974'): 52.599999999999994,\n",
       " ('311974', '312015'): 217.60000000000002,\n",
       " ('312015', '312076'): 69.6,\n",
       " ('312076', '312228'): 27.6,\n",
       " ('312228', '312367'): 126.6,\n",
       " ('312367', '312404'): 36.599999999999994,\n",
       " ('312404', '312494'): 36.599999999999994,\n",
       " ('312494', '312549'): 0.05,\n",
       " ('312549', '312905'): 217.60000000000002,\n",
       " ('312905', '312978'): 217.60000000000002,\n",
       " ('312978', '313028'): 0.05,\n",
       " ('313028', '313035'): 0.05,\n",
       " ('313035', '313065'): 1308.6,\n",
       " ('313065', '313083'): 69.6,\n",
       " ('313083', '313087'): 217.60000000000002,\n",
       " ('313087', '313195'): 1308.6,\n",
       " ('313195', '313269'): 1308.6,\n",
       " ('313269', '313355'): 0.05,\n",
       " ('313355', '313425'): 0.05,\n",
       " ('313425', '313477'): 1308.6,\n",
       " ('313477', '313504'): 1308.6,\n",
       " ('313504', '313654'): 0.05,\n",
       " ('313654', '313701'): 1308.6,\n",
       " ('313701', '313745'): 1308.6,\n",
       " ('313745', '313752'): 1308.6,\n",
       " ('313752', '313789'): 1308.6,\n",
       " ('313789', '313996'): 1308.6,\n",
       " ('313996', '314263'): 1308.6,\n",
       " ('314263', '314415'): 0.05,\n",
       " ('314415', '314530'): 0.05,\n",
       " ('314530', '314549'): 1308.6,\n",
       " ('314549', '314703'): 1308.6,\n",
       " ('314703', '314777'): 0.05,\n",
       " ('314777', '315028'): 217.60000000000002,\n",
       " ('315028', '315039'): 217.60000000000002,\n",
       " ('315039', '315085'): 1308.6,\n",
       " ('315085', '315211'): 1308.6,\n",
       " ('315211', '315252'): 1308.6,\n",
       " ('315252', '315302'): 1308.6,\n",
       " ('315302', '315387'): 0.05,\n",
       " ('315387', '315498'): 0.05,\n",
       " ('315498', '315510'): 1308.6,\n",
       " ('315510', '315889'): 0.05,\n",
       " ('315889', '315924'): 1308.6,\n",
       " ('315924', '316171'): 0.05,\n",
       " ('316171', '316231'): 0.05,\n",
       " ('316231', '316375'): 1308.6,\n",
       " ('316375', '316403'): 27.6,\n",
       " ('316403', '316422'): 126.6,\n",
       " ('316422', '316542'): 1308.6,\n",
       " ('316542', '316819'): 69.6,\n",
       " ('316819', '317048'): 217.60000000000002,\n",
       " ('317048', '317289'): 1308.6,\n",
       " ('317289', '317310'): 1308.6,\n",
       " ('317310', '317320'): 0.05,\n",
       " ('317320', '317496'): 0.05,\n",
       " ('317496', '317603'): 1308.6,\n",
       " ('317603', '317633'): 1308.6,\n",
       " ('317633', '317644'): 0.05,\n",
       " ('317644', '317836'): 32.599999999999994,\n",
       " ('317836', '317893'): 2.5999999999999996,\n",
       " ('317893', '317919'): 126.6,\n",
       " ('317919', '318029'): 0.05,\n",
       " ('318029', '318131'): 0.05,\n",
       " ('318131', '318603'): 1308.6,\n",
       " ('318603', '318707'): 69.6,\n",
       " ('318707', '318723'): 217.60000000000002,\n",
       " ('318723', '318751'): 0.05,\n",
       " ('318751', '318755'): 0.05,\n",
       " ('318755', '318791'): 0.05,\n",
       " ('318791', '318809'): 0.05,\n",
       " ('318809', '319184'): 0.05,\n",
       " ('319184', '319217'): 1308.6,\n",
       " ('319217', '319287'): 1308.6,\n",
       " ('319287', '319601'): 217.60000000000002,\n",
       " ('319601', '319722'): 217.60000000000002,\n",
       " ('319722', '319888'): 1308.6,\n",
       " ('319888', '319955'): 1308.6,\n",
       " ('319955', '319965'): 1308.6,\n",
       " ('319965', '320132'): 1308.6,\n",
       " ('320132', '320135'): 126.6,\n",
       " ('320135', '320140'): 3.5999999999999996,\n",
       " ('320140', '320143'): 69.6,\n",
       " ('320143', '320160'): 1308.6,\n",
       " ('320160', '320188'): 1308.6,\n",
       " ('320188', '320320'): 0.05,\n",
       " ('320320', '320326'): 0.05,\n",
       " ('320326', '320401'): 1308.6,\n",
       " ('320401', '320489'): 1308.6,\n",
       " ('320489', '320816'): 1308.6,\n",
       " ('320816', '320893'): 1308.6,\n",
       " ('320893', '320974'): 1308.6,\n",
       " ('320974', '321117'): 1308.6,\n",
       " ('321117', '321714'): 0.05,\n",
       " ('321714', '321746'): 1308.6,\n",
       " ('321746', '321780'): 1308.6,\n",
       " ('321780', '321872'): 0.05,\n",
       " ('321872', '322289'): 1308.6,\n",
       " ('322289', '322331'): 69.6,\n",
       " ('322331', '322367'): 217.60000000000002,\n",
       " ('322367', '322406'): 0.05,\n",
       " ('322406', '322419'): 1308.6,\n",
       " ('322419', '322459'): 0.05,\n",
       " ('322459', '322490'): 1308.6,\n",
       " ('322490', '322492'): 0.05,\n",
       " ('322492', '322495'): 0.05,\n",
       " ('322495', '322496'): 0.05,\n",
       " ('322496', '322587'): 0.05,\n",
       " ('322587', '322841'): 1308.6,\n",
       " ('322841', '322890'): 1308.6,\n",
       " ('322890', '322904'): 0.05,\n",
       " ('322904', '322949'): 0.05,\n",
       " ('322949', '323000'): 0.05,\n",
       " ('323000', '323127'): 1308.6,\n",
       " ('323127', '323183'): 0.05,\n",
       " ('323183', '323304'): 1308.6,\n",
       " ('323304', '323742'): 0.05,\n",
       " ('323742', '323979'): 1308.6,\n",
       " ('323979', '324077'): 1308.6,\n",
       " ('324077', '324083'): 0.05,\n",
       " ('324083', '324196'): 1308.6,\n",
       " ('324196', '324411'): 1308.6,\n",
       " ('324411', '324460'): 0.05,\n",
       " ('324460', '324480'): 1308.6,\n",
       " ('324480', '324624'): 1308.6,\n",
       " ('324624', '324761'): 0.05,\n",
       " ('324761', '324902'): 217.60000000000002,\n",
       " ('324902', '325044'): 217.60000000000002,\n",
       " ('325044', '325080'): 0.05,\n",
       " ('325080', '325088'): 0.05,\n",
       " ('325088', '325284'): 1308.6,\n",
       " ('325284', '325320'): 1308.6,\n",
       " ('325320', '325393'): 1308.6,\n",
       " ('325393', '325403'): 0.05,\n",
       " ('325403', '325417'): 1308.6,\n",
       " ('325417', '325430'): 1308.6,\n",
       " ('325430', '325482'): 1308.6,\n",
       " ('325482', '325788'): 1308.6,\n",
       " ('325788', '325945'): 1308.6,\n",
       " ('325945', '326014'): 32.599999999999994,\n",
       " ('326014', '326041'): 32.599999999999994,\n",
       " ('326041', '326070'): 0.05,\n",
       " ('326070', '326153'): 217.60000000000002,\n",
       " ('326153', '326169'): 217.60000000000002,\n",
       " ('326169', '326172'): 0.05,\n",
       " ('326172', '326241'): 1308.6,\n",
       " ('326241', '326257'): 1308.6,\n",
       " ('326257', '326325'): 0.05,\n",
       " ('326325', '326359'): 0.05,\n",
       " ('326359', '326363'): 1308.6,\n",
       " ('326363', '326396'): 1308.6,\n",
       " ('326396', '326453'): 0.05,\n",
       " ('326453', '326463'): 1308.6,\n",
       " ('326463', '326475'): 0.05,\n",
       " ('326475', '326622'): 1308.6,\n",
       " ('326622', '326699'): 1308.6,\n",
       " ('326699', '326727'): 1308.6,\n",
       " ('326727', '326742'): 0.05,\n",
       " ('326742', '326776'): 0.05,\n",
       " ('326776', '326792'): 0.05,\n",
       " ('326792', '326939'): 0.05,\n",
       " ('326939', '327062'): 1308.6,\n",
       " ('327062', '327091'): 1308.6,\n",
       " ('327091', '327254'): 217.60000000000002,\n",
       " ('327254', '327299'): 217.60000000000002,\n",
       " ('327299', '327358'): 1308.6,\n",
       " ('327358', '327646'): 1308.6,\n",
       " ('327646', '327668'): 1308.6,\n",
       " ('327668', '327757'): 1308.6,\n",
       " ('327757', '327769'): 0.05,\n",
       " ('327769', '327800'): 0.05,\n",
       " ('327800', '327842'): 0.05,\n",
       " ('327842', '327863'): 0.05,\n",
       " ('327863', '327902'): 1308.6,\n",
       " ('327902', '327986'): 1308.6,\n",
       " ('327986', '327999'): 0.05,\n",
       " ('327999', '328029'): 0.05,\n",
       " ('328029', '328071'): 0.05,\n",
       " ('328071', '328281'): 1308.6,\n",
       " ('328281', '328290'): 0.05,\n",
       " ('328290', '328308'): 1308.6,\n",
       " ('328308', '328516'): 1308.6,\n",
       " ('328516', '328548'): 1308.6,\n",
       " ('328548', '328609'): 1308.6,\n",
       " ('328609', '328628'): 1308.6,\n",
       " ('328628', '328631'): 0.05,\n",
       " ('328631', '328640'): 1308.6,\n",
       " ('328640', '328745'): 1308.6,\n",
       " ('328745', '328779'): 0.05,\n",
       " ('328779', '328919'): 0.05,\n",
       " ('328919', '329092'): 217.60000000000002,\n",
       " ('329092', '329095'): 8.600000000000001,\n",
       " ('329095', '329117'): 52.599999999999994,\n",
       " ('329117', '329129'): 0.05,\n",
       " ('329129', '329202'): 0.05,\n",
       " ('329202', '329442'): 159.60000000000002,\n",
       " ('329442', '329505'): 159.60000000000002,\n",
       " ('329505', '329518'): 0.05,\n",
       " ('329518', '329540'): 1308.6,\n",
       " ('329540', '329567'): 1308.6,\n",
       " ('329567', '329580'): 0.05,\n",
       " ('329580', '329597'): 69.6,\n",
       " ('329597', '329615'): 16.6,\n",
       " ('329615', '329617'): 27.6,\n",
       " ('329617', '329630'): 27.6,\n",
       " ('329630', '329643'): 0.05,\n",
       " ('329643', '329690'): 1308.6,\n",
       " ('329690', '329700'): 0.05,\n",
       " ('329700', '329707'): 1308.6,\n",
       " ('329707', '329727'): 1308.6,\n",
       " ('329727', '329849'): 1308.6,\n",
       " ('329849', '329854'): 0.05,\n",
       " ('329854', '329857'): 1308.6,\n",
       " ('329857', '329907'): 0.05,\n",
       " ('329907', '329994'): 1308.6,\n",
       " ('329994', '330015'): 1308.6,\n",
       " ('330015', '330373'): 1308.6,\n",
       " ('330373', '330468'): 1308.6,\n",
       " ('330468', '330559'): 1308.6,\n",
       " ('330559', '330633'): 1308.6,\n",
       " ('330633', '330644'): 1308.6,\n",
       " ('330644', '330700'): 27.6,\n",
       " ('330700', '330709'): 27.6,\n",
       " ('330709', '330712'): 1308.6,\n",
       " ('330712', '330735'): 1308.6,\n",
       " ('330735', '330750'): 1308.6,\n",
       " ('330750', '330799'): 0.05,\n",
       " ('330799', '330834'): 1308.6,\n",
       " ('330834', '330898'): 1308.6,\n",
       " ('330898', '330903'): 0.05,\n",
       " ('330903', '331410'): 1308.6,\n",
       " ('331410', '331550'): 16.6,\n",
       " ('331550', '331565'): 69.6,\n",
       " ('331565', '331582'): 36.599999999999994,\n",
       " ('331582', '331585'): 6.6,\n",
       " ('331585', '331597'): 1308.6,\n",
       " ('331597', '331612'): 1308.6,\n",
       " ('331612', '331656'): 1308.6,\n",
       " ('331656', '331692'): 1308.6,\n",
       " ('331692', '331741'): 1308.6,\n",
       " ('331741', '331747'): 1308.6,\n",
       " ('331747', '331809'): 1308.6,\n",
       " ('331809', '331813'): 0.05,\n",
       " ('331813', '331821'): 0.05,\n",
       " ('331821', '331896'): 0.05,\n",
       " ('331896', '332144'): 1308.6,\n",
       " ('332144', '332221'): 1308.6,\n",
       " ('332221', '332222'): 0.05,\n",
       " ('332222', '332225'): 0.05,\n",
       " ('332225', '332230'): 0.05,\n",
       " ('332230', '332235'): 0.05,\n",
       " ('332235', '332413'): 1308.6,\n",
       " ('332413', '332471'): 1308.6,\n",
       " ('332471', '332489'): 0.05,\n",
       " ('332489', '332494'): 0.05,\n",
       " ('332494', '332557'): 1308.6,\n",
       " ('332557', '332616'): 1308.6,\n",
       " ('332616', '332646'): 1308.6,\n",
       " ...}"
      ]
     },
     "execution_count": 102,
     "metadata": {},
     "output_type": "execute_result"
    }
   ],
   "source": [
    "G._edges"
   ]
  },
  {
   "cell_type": "code",
   "execution_count": null,
   "metadata": {},
   "outputs": [],
   "source": []
  },
  {
   "cell_type": "code",
   "execution_count": null,
   "metadata": {},
   "outputs": [],
   "source": []
  },
  {
   "cell_type": "code",
   "execution_count": null,
   "metadata": {},
   "outputs": [],
   "source": []
  },
  {
   "cell_type": "code",
   "execution_count": null,
   "metadata": {},
   "outputs": [],
   "source": []
  },
  {
   "cell_type": "code",
   "execution_count": null,
   "metadata": {},
   "outputs": [],
   "source": []
  },
  {
   "cell_type": "code",
   "execution_count": null,
   "metadata": {},
   "outputs": [],
   "source": []
  },
  {
   "cell_type": "code",
   "execution_count": null,
   "metadata": {},
   "outputs": [],
   "source": []
  },
  {
   "cell_type": "code",
   "execution_count": null,
   "metadata": {},
   "outputs": [],
   "source": []
  },
  {
   "cell_type": "code",
   "execution_count": null,
   "metadata": {},
   "outputs": [],
   "source": []
  },
  {
   "cell_type": "code",
   "execution_count": 110,
   "metadata": {},
   "outputs": [
    {
     "data": {
      "image/png": "[encoded data removed]",
      "text/plain": [
       "<matplotlib.figure.Figure at 0x7f88b2dfd5f8>"
      ]
     },
     "metadata": {},
     "output_type": "display_data"
    }
   ],
   "source": [
    "import array\n",
    "import networkx as nx\n",
    "import numpy as np\n",
    "import queue \n",
    "import sys\n",
    "import operator\n",
    "\n",
    "def create_idx(G):\n",
    "    '''\n",
    "        Associates each vertex in G to an integer from 0 ... number-of-vertices minus one.\n",
    "    '''\n",
    "    idx = {}\n",
    "    for v in G.nodes():\n",
    "        idx[v] = len(idx)\n",
    "        \n",
    "    return idx\n",
    "\n",
    "def push(G, u, p, r, alpha, idx, weight=None):\n",
    "    '''\n",
    "        Push operation for approximate pagerank. Updates probability and residual vectors \n",
    "        based on a single vertex u.\n",
    "    '''\n",
    "    idx_u = idx[u]\n",
    "    \n",
    "    p[idx_u] = p[idx_u] + alpha * r[idx_u]\n",
    "    \n",
    "    deg_u = G.degree(u, weight=weight)\n",
    "        \n",
    "    for v in G.neighbors(u):\n",
    "        idx_v = idx[v] \n",
    "        \n",
    "        if weight is None:\n",
    "            w = 1. / deg_u\n",
    "        else:\n",
    "            w = G[u][v][weight] / deg_u\n",
    "        \n",
    "        r[idx_v] = r[idx_v] + 0.5 * w * (1.-alpha) * r[idx_u]\n",
    "     \n",
    "    r[idx_u] = 0.5 * (1.-alpha) * r[idx_u]\n",
    "    \n",
    "    return p, r\n",
    "\n",
    "def approximate_pagerank(G, v, alpha, epsilon, idx, weight=None):\n",
    "    '''\n",
    "        Computes approximate personalized pagerank vector for vertex v.\n",
    "        alpha is the teleportation probability and epsilon is the error.\n",
    "        \n",
    "        Uses a queue to keep vertices with residual values higher than \n",
    "        allowed.\n",
    "    '''\n",
    "    p = np.zeros(G.number_of_nodes())\n",
    "    r = np.zeros(G.number_of_nodes())\n",
    "    \n",
    "    #For quickly checking which vertices are in the queue\n",
    "    in_queue = array.array('B', [0] * G.number_of_nodes())\n",
    "  \n",
    "    Q = queue.Queue(maxsize=G.number_of_nodes()) \n",
    "    \n",
    "    #Initialization\n",
    "    idx_v = idx[v]\n",
    "    in_queue[idx_v] = 1\n",
    "    r[idx_v] = 1.\n",
    "    Q.put(v)\n",
    "    \n",
    "    while Q.empty() is False:\n",
    "        \n",
    "        #Retrieving vertex from queue\n",
    "        u = Q.get()\n",
    "        idx_u = idx[u]\n",
    "        deg_u = G.degree(u, weight=weight)\n",
    "        \n",
    "        while (r[idx_u] / deg_u) < epsilon and Q.empty() is False:\n",
    "            in_queue[idx_u] = 0   \n",
    "            u = Q.get()\n",
    "            idx_u = idx[u]\n",
    "            deg_u = G.degree(u, weight=weight)\n",
    "            \n",
    "        while (r[idx_u] / deg_u) >= epsilon:\n",
    "            #Push for vertex u.\n",
    "            p, r = push(G, u, p, r, alpha, idx, weight)\n",
    "            \n",
    "            #Checking whether neighbors of u should be added to queue\n",
    "            for n in G.neighbors(u):\n",
    "                idx_n = idx[n]\n",
    "                deg_n = G.degree(n, weight=weight)\n",
    "                \n",
    "                if r[idx_n] / deg_n >= epsilon and in_queue[idx_n] != 1:\n",
    "                    in_queue[idx_n] = 1\n",
    "                    Q.put(n)\n",
    "                                        \n",
    "        in_queue[idx_u] = 0\n",
    "                    \n",
    "    return p\n",
    "\n",
    "def sweep(G, p, idx, weight):\n",
    "    '''\n",
    "        Sweeping algorithm for computing the cut (S,V/S) with minimum conductance based on \n",
    "        vertices sorted according to their value in the probability vector p.\n",
    "    '''\n",
    "    sweep_vec = {}\n",
    "    total_vol = 0.\n",
    "    min_conduct = sys.float_info.max\n",
    "    best_cut = None\n",
    "    \n",
    "    for v in G.nodes():\n",
    "        #value = p[v] / deg[v]\n",
    "        sweep_vec[v] = p[idx[v]] / G.degree(v, weight=weight)\n",
    "        total_vol = total_vol + G.degree(v, weight=weight)\n",
    "        \n",
    "    sorted_sweep_vec = sorted(sweep_vec.items(), key=operator.itemgetter(1), reverse=True)\n",
    "    vol = 0.\n",
    "    cut = 0.\n",
    "    \n",
    "    #For quickly checking vertices in the set S\n",
    "    in_s = array.array('B', [0] * G.number_of_nodes())\n",
    "            \n",
    "    for i in range(len(sorted_sweep_vec)-1):\n",
    "        v = sorted_sweep_vec[i][0]\n",
    "        \n",
    "        #Updating volume of S\n",
    "        vol = vol + G.degree(v, weight=weight)\n",
    "        min_vol = min(vol, total_vol-vol)\n",
    "        \n",
    "        #Updating total weight of the cut\n",
    "        for u in G.neighbors(v):\n",
    "            if weight is None:\n",
    "                w = 1.\n",
    "            else:\n",
    "                w = G[u][v][weight]\n",
    "                    \n",
    "            if in_s[idx[u]] == 1:\n",
    "                cut = cut - w\n",
    "            else:\n",
    "                cut = cut + w\n",
    "                \n",
    "        in_s[idx[v]] = 1\n",
    "        \n",
    "        #conductance\n",
    "        conduct = cut / min_vol\n",
    "        \n",
    "        #print(\"cut = \", cut, \" conductance = \", conduct, \" min_vol = \", min_vol, \" min_conductance = \", min_conduct)\n",
    "        \n",
    "        if conduct <= min_conduct:\n",
    "            min_conduct = conduct\n",
    "            best_cut = i\n",
    "          \n",
    "    #Creating set S for the optimal cut    \n",
    "    S = []\n",
    "    for i in range(best_cut+1):\n",
    "        S.append(sorted_sweep_vec[i][0])\n",
    "        \n",
    "    return S, min_conduct\n",
    "\n",
    "def pagerank_cut(G, v,  alpha, epsilon, weight):\n",
    "    '''\n",
    "        Algorithm for minimum conductance cut (S,V/S) around the neighborhood\n",
    "        of a particular vertex v. Approximate pagerank vector can be computed\n",
    "        fast based on local updates. Cut is computed using a sweep procedure\n",
    "        over pagerank vector.\n",
    "    '''\n",
    "    idx = create_idx(G)\n",
    "    p = approximate_pagerank(G, v, alpha, epsilon, idx, weight)\n",
    "    S, conduct = sweep(G, p, idx, weight)\n",
    "    \n",
    "    probs = {}\n",
    "    for v in G.nodes():\n",
    "        probs[v] = p[idx[v]]\n",
    "    \n",
    "    return S, probs, conduct\n",
    "\n",
    "G = nx.karate_club_graph()\n",
    "v = 0\n",
    "S, probs, conduct = pagerank_cut(G, v,  .01, 0.01, None)\n",
    "\n",
    "P1 = []\n",
    "P2 = []\n",
    "labels = {}\n",
    "\n",
    "for u in G.nodes():\n",
    "    labels[u] = np.around(probs[u], decimals=2)\n",
    "    if u not in S:\n",
    "        P2.append(u)\n",
    "    elif u != v:\n",
    "        P1.append(u)\n",
    "\n",
    "pos = nx.fruchterman_reingold_layout(G)\n",
    "\n",
    "nx.draw_networkx_nodes(G,pos,node_color='red', nodelist=P1,node_size=300, alpha=0.5)\n",
    "nx.draw_networkx_nodes(G,pos,node_color='blue', nodelist=P2,node_size=300, alpha=0.5)\n",
    "nx.draw_networkx_nodes(G,pos,node_color='red', nodelist=[v],node_size=500, node_shape='s')\n",
    "nx.draw_networkx_labels(G,pos=pos,labels=labels,font_size=10)\n",
    "nx.draw_networkx_edges(G, pos, width=2, edge_color='black', style='solid', alpha=0.5)\n",
    "\n",
    "limits=plt.axis('off')\n",
    "plt.savefig(\"pagerank_cut.png\", bbox_inches='tight', pad_inches=0, dpi=1000) \n",
    "plt.show() "
   ]
  },
  {
   "cell_type": "code",
   "execution_count": 109,
   "metadata": {},
   "outputs": [
    {
     "data": {
      "text/plain": [
       "{0: 0.11731583868654788,\n",
       " 1: 0.053792510236789,\n",
       " 2: 0.055373349029618664,\n",
       " 3: 0.036509313626549716,\n",
       " 4: 0.02034488003133287,\n",
       " 5: 0.026739841807770354,\n",
       " 6: 0.026752474349439132,\n",
       " 7: 0.0243974197686955,\n",
       " 8: 0.027173437755281343,\n",
       " 9: 0.010213775636167086,\n",
       " 10: 0.020357512578127575,\n",
       " 11: 0.0071673130916422856,\n",
       " 12: 0.013131438629553478,\n",
       " 13: 0.029193808451711718,\n",
       " 14: 0.009527845655530668,\n",
       " 15: 0.009527845655530668,\n",
       " 16: 0.013088616253128167,\n",
       " 17: 0.013025872925719348,\n",
       " 18: 0.009527845655530668,\n",
       " 19: 0.017822261608735537,\n",
       " 20: 0.009527845655530668,\n",
       " 21: 0.013025872925719348,\n",
       " 22: 0.009527845655530668,\n",
       " 23: 0.023575487641905781,\n",
       " 24: 0.01454795375675989,\n",
       " 25: 0.01442837853566142,\n",
       " 26: 0.0093692142281897178,\n",
       " 27: 0.019548837401201127,\n",
       " 28: 0.01527682625841301,\n",
       " 29: 0.018701403993761093,\n",
       " 30: 0.020693568975494007,\n",
       " 31: 0.031114269788417127,\n",
       " 32: 0.058046836943592243,\n",
       " 33: 0.083531653290369406}"
      ]
     },
     "execution_count": 109,
     "metadata": {},
     "output_type": "execute_result"
    }
   ],
   "source": [
    "probs"
   ]
  },
  {
   "cell_type": "code",
   "execution_count": 104,
   "metadata": {},
   "outputs": [
    {
     "data": {
      "text/plain": [
       "NodeView((0, 1, 2, 3, 4, 5, 6, 7, 8, 9, 10, 11, 12, 13, 14, 15, 16, 17, 18, 19, 20, 21, 22, 23, 24, 25, 26, 27, 28, 29, 30, 31, 32, 33))"
      ]
     },
     "execution_count": 104,
     "metadata": {},
     "output_type": "execute_result"
    }
   ],
   "source": [
    "G.nodes()"
   ]
  },
  {
   "cell_type": "code",
   "execution_count": 7,
   "metadata": {},
   "outputs": [
    {
     "data": {
      "text/plain": [
       "<5x5 sparse matrix of type '<class 'numpy.float64'>'\n",
       "\twith 25 stored elements in Compressed Sparse Row format>"
      ]
     },
     "execution_count": 7,
     "metadata": {},
     "output_type": "execute_result"
    }
   ],
   "source": [
    "scipy.sparse.csr_matrix(np.random.random((5,5)))"
   ]
  },
  {
   "cell_type": "code",
   "execution_count": null,
   "metadata": {},
   "outputs": [],
   "source": []
  }
 ],
 "metadata": {
  "kernelspec": {
   "display_name": "Python 3",
   "language": "python",
   "name": "python3"
  },
  "language_info": {
   "codemirror_mode": {
    "name": "ipython",
    "version": 3
   },
   "file_extension": ".py",
   "mimetype": "text/x-python",
   "name": "python",
   "nbconvert_exporter": "python",
   "pygments_lexer": "ipython3",
   "version": "3.6.3"
  }
 },
 "nbformat": 4,
 "nbformat_minor": 2
}
