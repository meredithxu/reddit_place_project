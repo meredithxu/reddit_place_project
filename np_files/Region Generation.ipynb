{
 "cells": [
  {
   "cell_type": "code",
   "execution_count": 2,
   "metadata": {},
   "outputs": [
    {
     "ename": "ModuleNotFoundError",
     "evalue": "No module named 'user_embedding'",
     "output_type": "error",
     "traceback": [
      "\u001b[0;31m---------------------------------------------------------------------------\u001b[0m",
      "\u001b[0;31mModuleNotFoundError\u001b[0m                       Traceback (most recent call last)",
      "\u001b[0;32m<ipython-input-2-9c98e463fde4>\u001b[0m in \u001b[0;36m<module>\u001b[0;34m\u001b[0m\n\u001b[1;32m     18\u001b[0m \u001b[0;32mfrom\u001b[0m \u001b[0mgenerate_proj_to_remove\u001b[0m \u001b[0;32mimport\u001b[0m \u001b[0;34m*\u001b[0m\u001b[0;34m\u001b[0m\u001b[0;34m\u001b[0m\u001b[0m\n\u001b[1;32m     19\u001b[0m \u001b[0;32mfrom\u001b[0m \u001b[0mproject_data_analysis\u001b[0m \u001b[0;32mimport\u001b[0m \u001b[0;34m*\u001b[0m\u001b[0;34m\u001b[0m\u001b[0;34m\u001b[0m\u001b[0m\n\u001b[0;32m---> 20\u001b[0;31m \u001b[0;32mfrom\u001b[0m \u001b[0muser_embedding\u001b[0m \u001b[0;32mimport\u001b[0m \u001b[0;34m*\u001b[0m\u001b[0;34m\u001b[0m\u001b[0;34m\u001b[0m\u001b[0m\n\u001b[0m\u001b[1;32m     21\u001b[0m \u001b[0;32mfrom\u001b[0m \u001b[0msegmentation\u001b[0m \u001b[0;32mimport\u001b[0m \u001b[0;34m*\u001b[0m\u001b[0;34m\u001b[0m\u001b[0;34m\u001b[0m\u001b[0m\n",
      "\u001b[0;31mModuleNotFoundError\u001b[0m: No module named 'user_embedding'"
     ]
    }
   ],
   "source": [
    "import csv\n",
    "import numpy as np\n",
    "import scipy\n",
    "import networkx as nx\n",
    "import math\n",
    "import sys\n",
    "import os\n",
    "import subprocess\n",
    "import scipy.stats\n",
    "import scipy.optimize\n",
    "import operator\n",
    "from sklearn.manifold import TSNE\n",
    "import matplotlib.pyplot as plt\n",
    "\n",
    "sys.path.append(\"../Python_code\") # go to parent dir\n",
    "from canvas_vis import * \n",
    "from analytics_combined import *\n",
    "from generate_proj_to_remove import *\n",
    "from project_data_analysis import *\n",
    "from user_embedding import *\n",
    "from segmentation import *\n",
    "from evaluation import *"
   ]
  },
  {
   "cell_type": "code",
   "execution_count": 5,
   "metadata": {},
   "outputs": [
    {
     "name": "stdout",
     "output_type": "stream",
     "text": [
      "num edges =  35605041\n"
     ]
    }
   ],
   "source": [
    "projects_to_remove = get_list_of_removed_proj(output_filename = \"../data/proj_to_remove.txt\")\n",
    "\n",
    "input_file= \"../data/sorted_tile_placements_proj.csv\"\n",
    "\n",
    "#Determine the size of the canvas that is being looked at\n",
    "min_x = 0\n",
    "max_x = 250\n",
    "min_y = 0\n",
    "max_y = 250\n",
    "\n",
    "#TODO: How far two vertices should be to be connected (1-4)?\n",
    "G, ups = create_graph(input_file, projects_to_remove, 4, min_x, max_x, min_y, max_y)\n",
    "\n",
    "print(\"num edges = \", G.n_edges)"
   ]
  },
  {
   "cell_type": "code",
   "execution_count": 6,
   "metadata": {},
   "outputs": [
    {
     "name": "stdout",
     "output_type": "stream",
     "text": [
      "python ../../signet/signet.py -l signet_id.txt -i signet.txt -o signet -d 40 -t 5 -s 100\n",
      "avg pos =  0.320036442179 , n =  7504007\n",
      "avg neg =  1.0322064146 , n =  613372\n"
     ]
    }
   ],
   "source": [
    "#Defining 7 edge features and computing the information they require\n",
    "#Adding a new feature without changing the rest of the code should\n",
    "#be easy.\n",
    "#TODO: Are there other features that would improve the segmentation?\n",
    "#TODO: How many dimensions we need?\n",
    "\n",
    "def different_color(i, j, ups, data=None):\n",
    "    if ups[i][4] == ups[j][4]:\n",
    "        return 0\n",
    "    else:\n",
    "        return 1\n",
    "        \n",
    "def distance_space(i, j, ups, data=None):\n",
    "    xi = ups[i][2]\n",
    "    yi = ups[i][3]\n",
    "    xj = ups[j][2]\n",
    "    yj = ups[j][3]\n",
    "    \n",
    "    return np.sqrt(pow(xi-xj,2)+pow(yi-yj,2))\n",
    "\n",
    "def distance_time(i, j, ups, data=None):\n",
    "    time_i = ups[i][0]\n",
    "    time_j = ups[j][0]\n",
    "    \n",
    "    return np.sqrt(pow(time_i-time_j,2))\n",
    "\n",
    "def distance_duration(i, j, ups, durations):\n",
    "    return dist_duration(durations[i], durations[j])\n",
    "\n",
    "def distance_color(i, j, ups, conflicts):\n",
    "    color_i = ups[i][4]\n",
    "    color_j = ups[j][4]\n",
    "    \n",
    "    if color_i == color_j:\n",
    "        return 0\n",
    "    else:\n",
    "        max_up = len(ups)\n",
    "        dist = 0\n",
    "        \n",
    "        conf_i = []\n",
    "        if conflicts[i][0] <= max_up:\n",
    "            conf_i.append(ups[conflicts[i][0]][4])\n",
    "            \n",
    "        if conflicts[i][1] <= max_up:\n",
    "            conf_i.append(ups[conflicts[i][1]][4])\n",
    "        \n",
    "        conf_j = []\n",
    "        if conflicts[j][0] <= max_up:\n",
    "            conf_j.append(ups[conflicts[j][0]][4])\n",
    "            \n",
    "        if conflicts[j][1] <= max_up:\n",
    "            conf_j.append(ups[conflicts[j][1]][4])\n",
    "        \n",
    "        if color_i in conf_j:\n",
    "            dist = dist + 1\n",
    "            \n",
    "        if color_j in conf_i:\n",
    "            dist = dist + 1\n",
    "        \n",
    "        return dist\n",
    "    \n",
    "def distance_user_embedding(i, j, ups, data):\n",
    "    user_i = ups[i][1]\n",
    "    user_j = ups[j][1]\n",
    "    user_i_id = data['index'][user_i]\n",
    "    user_j_id = data['index'][user_j]\n",
    "    \n",
    "    return np.linalg.norm(data['emb'][user_i_id]-data['emb'][user_j_id])\n",
    "\n",
    "def distance_user_colors(i, j, ups, data):\n",
    "    user_i = ups[i][1]\n",
    "    user_j = ups[j][1]\n",
    "    user_i_id = data['index'][user_i]\n",
    "    user_j_id = data['index'][user_j]\n",
    "    \n",
    "    return (1.-data['emb'][user_i_id].todense() * data['emb'][user_j_id].todense().T)[0,0]\n",
    "\n",
    "\n",
    "conflicts = compute_update_conflicts(ups)\n",
    "durations = compute_update_durations(ups)\n",
    "user_color, user_index_color = compute_user_color(ups)\n",
    "\n",
    "ndim=40\n",
    "threshold=5\n",
    "total_samples=100\n",
    "n_negatives=5\n",
    "n_iterations=10\n",
    "user_index, emb = embed_users(G, ups, ndim, threshold, total_samples, n_negatives, n_iterations)\n",
    "\n",
    "features = [{'name': \"different_color\", 'func': different_color, 'data': None}, \n",
    "    {'name': \"distance_space\",  'func': distance_space, 'data': None}, \n",
    "    {'name': \"distance_time\", 'func': distance_time, 'data': None}, \n",
    "    {'name': \"distance_duration\", 'func': distance_duration, 'data': durations}, \n",
    "    {'name': \"distance_color\", 'func': distance_color, 'data': conflicts},\n",
    "    {'name': \"distance_user_embedding\", 'func': distance_user_embedding, 'data': {'index': user_index, 'emb': emb}},\n",
    "    {'name': \"distance_user_colors\", 'func': distance_user_colors, 'data': {'index': user_index_color, 'emb': user_color}}]"
   ]
  },
  {
   "cell_type": "code",
   "execution_count": 8,
   "metadata": {},
   "outputs": [],
   "source": [
    "from sklearn.ensemble import GradientBoostingRegressor\n",
    "\n",
    "A,b = build_feat_label_data(G, ups, features, min_x, max_x, min_y, max_y, True)\n",
    "model = GradientBoostingRegressor(random_state=1, n_estimators=25).fit(A, b)"
   ]
  },
  {
   "cell_type": "code",
   "execution_count": 13,
   "metadata": {},
   "outputs": [],
   "source": [
    "#Feature statistics\n",
    "\n",
    "def feature_weight_statistics(G, ups, model, features, projects=None, regions=None):\n",
    "    '''\n",
    "    '''\n",
    "    statistics = {}\n",
    "    \n",
    "    region_check = {}\n",
    "    \n",
    "    if regions != None:\n",
    "        for r in regions:\n",
    "            for u in r:\n",
    "                region_check[u] = 1\n",
    "    \n",
    "    for f in range(len(features)):\n",
    "        #avg, min, max weights\n",
    "        sum_weights_in = 0\n",
    "        min_weight_in = 1e10\n",
    "        max_weight_in = 0\n",
    "    \n",
    "        sum_weights_out = 0\n",
    "        min_weight_out = 1e10\n",
    "        max_weight_out = 0\n",
    "        n_in = 0\n",
    "        n_out = 0\n",
    "    \n",
    "        with open(G.unique_edges_file_name, 'r') as file_in:\n",
    "            reader = csv.reader(file_in)\n",
    "    \n",
    "            for r in reader:\n",
    "                u = int(r[0])\n",
    "                v = int(r[1])\n",
    "                proj_u = ups[u][5]\n",
    "                proj_v = ups[v][5]\n",
    "                pixel_u = int(ups[u][6])\n",
    "                pixel_v = int(ups[v][6])\n",
    "                \n",
    "                w = features[f]['func'](u, v, ups, features[f]['data'])\n",
    "                \n",
    "                if pixel_u == 1 and pixel_v == 1 and regions is None or (u in region_check and v in region_check):\n",
    "                    if projects is None or (proj_u in projects and proj_v in projects):\n",
    "                        if proj_u == proj_v:\n",
    "                            sum_weights_in = sum_weights_in + w\n",
    "                            n_in = n_in + 1\n",
    "            \n",
    "                            if w < min_weight_in:\n",
    "                                min_weight_in = w\n",
    "                \n",
    "                            if w > max_weight_in:\n",
    "                                max_weight_in = w\n",
    "                        else:\n",
    "                            sum_weights_out = sum_weights_out + w\n",
    "                            n_out = n_out + 1\n",
    "            \n",
    "                            if w < min_weight_out:\n",
    "                                min_weight_out = w\n",
    "                \n",
    "                            if w > max_weight_out:\n",
    "                                max_weight_out = w                \n",
    "                \n",
    "        statistics[features[f]['name']] = {}\n",
    "        \n",
    "        statistics[features[f]['name']]['inside avg'] = sum_weights_in / n_in\n",
    "        statistics[features[f]['name']]['inside min'] = min_weight_in\n",
    "        statistics[features[f]['name']]['inside max'] = max_weight_in\n",
    "        statistics[features[f]['name']]['inside count'] =  n_in\n",
    "    \n",
    "        statistics[features[f]['name']]['outside avg'] = sum_weights_out / n_out\n",
    "        statistics[features[f]['name']]['outside min'] = min_weight_out\n",
    "        statistics[features[f]['name']]['outside max'] = max_weight_out\n",
    "        statistics[features[f]['name']]['outside count'] =  n_out\n",
    "    \n",
    "        statistics[features[f]['name']]['all avg'] = (sum_weights_in+sum_weights_out) / (n_in + n_out)\n",
    "        statistics[features[f]['name']]['all min'] = min(min_weight_in, min_weight_out)\n",
    "        statistics[features[f]['name']]['all max'] = max(max_weight_in, max_weight_out)\n",
    "        statistics[features[f]['name']]['all count'] =  n_in + n_out\n",
    "        \n",
    "        \n",
    "    sum_weights_in = 0\n",
    "    min_weight_in = 1e10\n",
    "    max_weight_in = 0\n",
    "    \n",
    "    sum_weights_out = 0\n",
    "    min_weight_out = 1e10\n",
    "    max_weight_out = 0\n",
    "    n_in = 0\n",
    "    n_out = 0\n",
    "    \n",
    "    with open(G.unique_edges_file_name, 'r') as file_in:\n",
    "        reader = csv.reader(file_in)\n",
    "    \n",
    "        for r in reader:\n",
    "            u = int(r[0])\n",
    "            v = int(r[1])\n",
    "            proj_u = ups[u][5]\n",
    "            proj_v = ups[v][5]\n",
    "            pixel_u = int(ups[u][6])\n",
    "            pixel_v = int(ups[v][6])\n",
    "                \n",
    "            w = compute_weight(int(u), int(v), ups, model, features)\n",
    "                \n",
    "            if pixel_u == 1 and pixel_v == 1 and regions is None or (u in region_check and v in region_check):\n",
    "                if projects is None or (proj_u in projects and proj_v in projects):\n",
    "                    if proj_u == proj_v:\n",
    "                        sum_weights_in = sum_weights_in + w\n",
    "                        n_in = n_in + 1\n",
    "            \n",
    "                        if w < min_weight_in:\n",
    "                            min_weight_in = w\n",
    "                \n",
    "                        if w > max_weight_in:\n",
    "                            max_weight_in = w\n",
    "                    else:\n",
    "                        sum_weights_out = sum_weights_out + w\n",
    "                        n_out = n_out + 1\n",
    "            \n",
    "                        if w < min_weight_out:\n",
    "                            min_weight_out = w\n",
    "                \n",
    "                        if w > max_weight_out:\n",
    "                            max_weight_out = w                \n",
    "                \n",
    "    statistics['weight'] = {}\n",
    "        \n",
    "    statistics['weight']['inside avg'] = sum_weights_in / n_in\n",
    "    statistics['weight']['inside min'] = min_weight_in\n",
    "    statistics['weight']['inside max'] = max_weight_in\n",
    "    statistics['weight']['inside count'] =  n_in\n",
    "    \n",
    "    statistics['weight']['outside avg'] = sum_weights_out / n_out\n",
    "    statistics['weight']['outside min'] = min_weight_out\n",
    "    statistics['weight']['outside max'] = max_weight_out\n",
    "    statistics['weight']['outside count'] =  n_out\n",
    "    \n",
    "    statistics['weight']['all avg'] = (sum_weights_in+sum_weights_out) / (n_in + n_out)\n",
    "    statistics['weight']['all min'] = min(min_weight_in, min_weight_out)\n",
    "    statistics['weight']['all max'] = max(max_weight_in, max_weight_out)\n",
    "    statistics['weight']['all count'] =  n_in + n_out\n",
    "    \n",
    "    return statistics"
   ]
  },
  {
   "cell_type": "code",
   "execution_count": 14,
   "metadata": {},
   "outputs": [
    {
     "data": {
      "text/plain": [
       "{'different_color': {'all avg': 0.5506835397020043,\n",
       "  'all count': 2948768,\n",
       "  'all max': 1,\n",
       "  'all min': 0,\n",
       "  'inside avg': 0.49820972518183027,\n",
       "  'inside count': 2435101,\n",
       "  'inside max': 1,\n",
       "  'inside min': 0,\n",
       "  'outside avg': 0.7994420509785523,\n",
       "  'outside count': 513667,\n",
       "  'outside max': 1,\n",
       "  'outside min': 0},\n",
       " 'distance_color': {'all avg': 0.20388277409413016,\n",
       "  'all count': 2948768,\n",
       "  'all max': 2,\n",
       "  'all min': 0,\n",
       "  'inside avg': 0.1897297073098816,\n",
       "  'inside count': 2435101,\n",
       "  'inside max': 2,\n",
       "  'inside min': 0,\n",
       "  'outside avg': 0.27097711163068683,\n",
       "  'outside count': 513667,\n",
       "  'outside max': 2,\n",
       "  'outside min': 0},\n",
       " 'distance_duration': {'all avg': 0.4178737626877978,\n",
       "  'all count': 2948768,\n",
       "  'all max': 1.0,\n",
       "  'all min': 0.0,\n",
       "  'inside avg': 0.4081432360968296,\n",
       "  'inside count': 2435101,\n",
       "  'inside max': 1.0,\n",
       "  'inside min': 0.0,\n",
       "  'outside avg': 0.4640025095845095,\n",
       "  'outside count': 513667,\n",
       "  'outside max': 1.0,\n",
       "  'outside min': 0.0},\n",
       " 'distance_space': {'all avg': 3.4444024146336703,\n",
       "  'all count': 2948768,\n",
       "  'all max': 5.6568542494923806,\n",
       "  'all min': 1.0,\n",
       "  'inside avg': 3.3533549863444936,\n",
       "  'inside count': 2435101,\n",
       "  'inside max': 5.6568542494923806,\n",
       "  'inside min': 1.0,\n",
       "  'outside avg': 3.8760238418898529,\n",
       "  'outside count': 513667,\n",
       "  'outside max': 5.6568542494923806,\n",
       "  'outside min': 1.0},\n",
       " 'distance_time': {'all avg': 41780763.901398823,\n",
       "  'all count': 2948768,\n",
       "  'all max': 256942000.0,\n",
       "  'all min': 0.0,\n",
       "  'inside avg': 41172411.975519702,\n",
       "  'inside count': 2435101,\n",
       "  'inside max': 256942000.0,\n",
       "  'inside min': 0.0,\n",
       "  'outside avg': 44664730.329182133,\n",
       "  'outside count': 513667,\n",
       "  'outside max': 255141000.0,\n",
       "  'outside min': 0.0},\n",
       " 'distance_user_colors': {'all avg': 0.76494851215681059,\n",
       "  'all count': 2948768,\n",
       "  'all max': 2.0,\n",
       "  'all min': -4.4408920985006262e-16,\n",
       "  'inside avg': 0.73644122004453416,\n",
       "  'inside count': 2435101,\n",
       "  'inside max': 2.0,\n",
       "  'inside min': -4.4408920985006262e-16,\n",
       "  'outside avg': 0.90009080381638107,\n",
       "  'outside count': 513667,\n",
       "  'outside max': 2.0,\n",
       "  'outside min': -4.4408920985006262e-16},\n",
       " 'distance_user_embedding': {'all avg': 0.86226089843750753,\n",
       "  'all count': 2948768,\n",
       "  'all max': 1.9995698268581059,\n",
       "  'all min': 0.0,\n",
       "  'inside avg': 0.85975792729527578,\n",
       "  'inside count': 2435101,\n",
       "  'inside max': 1.9995698268581059,\n",
       "  'inside min': 0.0,\n",
       "  'outside avg': 0.87412653810565788,\n",
       "  'outside count': 513667,\n",
       "  'outside max': 1.9991619114213428,\n",
       "  'outside min': 0.0},\n",
       " 'weight': {'all avg': 0.17419715623612403,\n",
       "  'all count': 2948768,\n",
       "  'all max': 0.35335466992619724,\n",
       "  'all min': 0.024772166821316843,\n",
       "  'inside avg': 0.16141546227732376,\n",
       "  'inside count': 2435101,\n",
       "  'inside max': 0.35335466992619724,\n",
       "  'inside min': 0.024772166821316843,\n",
       "  'outside avg': 0.23479033380207348,\n",
       "  'outside count': 513667,\n",
       "  'outside max': 0.35335466992619724,\n",
       "  'outside min': 0.024772166821316843}}"
      ]
     },
     "execution_count": 14,
     "metadata": {},
     "output_type": "execute_result"
    }
   ],
   "source": [
    "feature_weight_statistics(G, ups, model, features, projects=None, regions=None)"
   ]
  },
  {
   "cell_type": "code",
   "execution_count": 9,
   "metadata": {},
   "outputs": [
    {
     "name": "stdout",
     "output_type": "stream",
     "text": [
      "feature:  different_color 0.187636959339\n",
      "feature:  distance_space 0.226454449382\n",
      "feature:  distance_time 0.0258947641363\n",
      "feature:  distance_duration 0.0325062422559\n",
      "feature:  distance_color 0.00156483016551\n",
      "feature:  distance_user_embedding 0.489317179888\n",
      "feature:  distance_user_colors 0.0366255748332\n"
     ]
    }
   ],
   "source": [
    "#Feature importances\n",
    "\n",
    "for f in range(len(features)):\n",
    "    print(\"feature: \", features[f]['name'], model.feature_importances_[f])"
   ]
  },
  {
   "cell_type": "code",
   "execution_count": 10,
   "metadata": {},
   "outputs": [],
   "source": [
    "compute_edge_weights(G, ups, model, features)\n",
    "G.sort_edges()"
   ]
  },
  {
   "cell_type": "code",
   "execution_count": 20,
   "metadata": {},
   "outputs": [
    {
     "name": "stdout",
     "output_type": "stream",
     "text": [
      "num regions =  199363  max size region =  6237\n"
     ]
    }
   ],
   "source": [
    "comp_assign = region_segmentation(G, ups, .2)\n",
    "regions, sizes = extract_regions(comp_assign)\n",
    "\n",
    "print(\"num regions = \", len(regions), \" max size region = \", np.max(sizes))"
   ]
  },
  {
   "cell_type": "code",
   "execution_count": null,
   "metadata": {},
   "outputs": [],
   "source": []
  },
  {
   "cell_type": "code",
   "execution_count": null,
   "metadata": {},
   "outputs": [],
   "source": []
  },
  {
   "cell_type": "code",
   "execution_count": null,
   "metadata": {},
   "outputs": [],
   "source": []
  },
  {
   "cell_type": "code",
   "execution_count": null,
   "metadata": {},
   "outputs": [],
   "source": [
    "locations = store_locations(\"../data/atlas_complete.json\")"
   ]
  },
  {
   "cell_type": "code",
   "execution_count": null,
   "metadata": {},
   "outputs": [],
   "source": [
    "# TEST THE REGION OVERLAP PERCENTAGES\n",
    "overlap_statistics = compute_overlap_area(locations, regions[0], ups, ground_truth)"
   ]
  },
  {
   "cell_type": "code",
   "execution_count": null,
   "metadata": {},
   "outputs": [],
   "source": []
  },
  {
   "cell_type": "code",
   "execution_count": null,
   "metadata": {},
   "outputs": [],
   "source": [
    "#Keeping only final pixels from the regions\n",
    "\n",
    "pixel_assign = assign_pixels(comp_assign, ups)\n",
    "regions, sizes = extract_regions(pixel_assign)"
   ]
  },
  {
   "cell_type": "code",
   "execution_count": null,
   "metadata": {},
   "outputs": [],
   "source": [
    "def super_pixel_graph(G, comp_assign, ups):\n",
    "    num_edges = {}\n",
    "    total_weight = {}\n",
    "    \n",
    "    sG = nx.Graph()\n",
    "    \n",
    "    open(G.sorted_edges_file_name, 'r') as file_in:\n",
    "        reader = csv.reader(file_in)\n",
    "        \n",
    "        for r in reader:\n",
    "            u = int(r[0])\n",
    "            v = int(r[1])\n",
    "            lb = r[2]\n",
    "            w = float(r[3])\n",
    "            \n",
    "            r1 = comp_assign[u]\n",
    "            r2 = comp_assign[v]\n",
    "            \n",
    "            if (r1,r2) not in num_edges:\n",
    "                num_edges[(r1,r2)] = 1\n",
    "                total_weight[(r1,r2)] = 1\n",
    "            else:    \n",
    "                num_edges[(r1,r2)] = num_edges[(r1,r2)] + 1\n",
    "                total_weight[(r1,r2)] = total_weight[(r1,r2)] + 1\n",
    "            \n",
    "            sG.add_edge(r1, r2)\n",
    "    \n",
    "    for e in sG.edges():\n",
    "        nx.set_edge_attributes(sG, 'count', num_edges[e])\n",
    "        nx.set_edge_attributes(sG, 'total_weight', total_weight[e])\n",
    "    \n",
    "    return sG"
   ]
  },
  {
   "cell_type": "code",
   "execution_count": null,
   "metadata": {},
   "outputs": [],
   "source": [
    "def assign_region_to_proj(regions, ups, pixel=False):\n",
    "    for r in range(len(regions)):\n",
    "        region = regions[r]\n",
    "        projs = {}\n",
    "        \n",
    "        for u in region:\n",
    "            proj = ups[u][5]\n",
    "            \n",
    "            if pixel is True:\n",
    "                if int(ups[u][6]) == 1:\n",
    "                    if proj not in projs:\n",
    "                        projs[proj] = 1\n",
    "                    else:\n",
    "                        projs[proj] = projs[proj] + 1\n",
    "            elif int(ups[u][7]) == 1:\n",
    "                    if proj not in projs:\n",
    "                        projs[proj] = 1\n",
    "                    else:\n",
    "                        projs[proj] = projs[proj] + 1\n",
    "                        \n",
    "        max_proj, count = max(projs.iteritems(), key=operator.itemgetter(1))\n",
    "            \n",
    "        region_proj.append(max_proj)\n",
    "        \n",
    "    return region_proj"
   ]
  },
  {
   "cell_type": "code",
   "execution_count": 19,
   "metadata": {},
   "outputs": [],
   "source": []
  },
  {
   "cell_type": "code",
   "execution_count": null,
   "metadata": {},
   "outputs": [],
   "source": [
    "def compute_user_vector_regions(regions, user_color, user_index_color, ups):\n",
    "    user_color_regions = np.zeros((len(regions), 16))\n",
    "    \n",
    "    for r in range(len(regions)):\n",
    "         \n",
    "        for u in regions[r]:\n",
    "            up = regions[r][u]\n",
    "            user = ups[up][1]\n",
    "            idx_user = user_index_color[user]\n",
    "            user_color_regions[r] = user_color_regions[r] + user_color[idx_user]\n",
    "            \n",
    "        user_color_regions[r] = user_color_regions[r] / len(regions[r])\n",
    "            \n",
    "    return user_color_regions"
   ]
  },
  {
   "cell_type": "code",
   "execution_count": null,
   "metadata": {},
   "outputs": [],
   "source": [
    "def compute_region_durations(regions, durations, ups):\n",
    "    duration_regions = np.zeros((len(regions, 2)))\n",
    "    \n",
    "    for r in range(len(regions)):\n",
    "        begin = sys.maxsize\n",
    "        end = 0\n",
    "        \n",
    "        for u in regions[r]:\n",
    "            up = regions[r][u]\n",
    "            begin = min(durations[up][0], begin)\n",
    "            end = max(durations[up][1], end)\n",
    "            \n",
    "        duration_regions[r][0] = begin\n",
    "        duration_regions[r][1] = end\n",
    "    return duration_regions"
   ]
  },
  {
   "cell_type": "code",
   "execution_count": null,
   "metadata": {},
   "outputs": [],
   "source": [
    "def compute_regions_center_position(regions, ups)\n",
    "    '''\n",
    "        Computes center position (average) of a region based on updates.\n",
    "    '''\n",
    "    center_regions = np.zeros((len(regions),2))\n",
    "    \n",
    "    for r in range(len(regions)):\n",
    "        for u in regions[r]:\n",
    "            up = regions[r][u]\n",
    "            x = ups[up][2]\n",
    "            y = ups[up][3]\n",
    "            \n",
    "            center_regions[r][0] = center_regions[r][0] + x\n",
    "            center_regions[r][1] = center_regions[r][1] + y\n",
    "            \n",
    "        center_regions[r][0] = center_regions[r][0] / len(regions[r])\n",
    "        center_regions[r][1] = center_regions[r][1] / len(regions[r])\n",
    "            \n",
    "    return center_regions"
   ]
  },
  {
   "cell_type": "code",
   "execution_count": null,
   "metadata": {},
   "outputs": [],
   "source": [
    "def compute_region_colors(regions, ups):\n",
    "    region_colors = np.zeros((len(regions), 16))\n",
    "    \n",
    "    for r in range(len(regions)):\n",
    "        region = regions[r]\n",
    "        for u in region:\n",
    "            c = int(ups[u][4])\n",
    "            \n",
    "            region_colors[r][c] = region_colors[r][c] + 1\n",
    "            \n",
    "        region_colors[r] = region_colors[r] / region_colors[r].sum()\n",
    "        \n",
    "    return region_colors"
   ]
  },
  {
   "cell_type": "code",
   "execution_count": null,
   "metadata": {},
   "outputs": [],
   "source": [
    "#How to build graph of regions? Edges should capture proximity between regions.\n",
    "#    - Closest pixel (Seems best)\n",
    "\n",
    "#How to merge regions over different times?\n",
    "#    - Total of incompatible updates\n",
    "#    - Time overlap between regions (is there a way to capture density?)\n",
    "\n",
    "#How to tune the weights?\n",
    "#    - Mark edges for which merging would match IoU criteria as positive\n",
    "\n",
    "def compute_regions_overlap(regions, ups)\n",
    "    '''\n",
    "        \n",
    "    '''\n",
    "    overlap_regions = np.zeros((len(regions),len(regions)))\n",
    "    \n",
    "    for r1 in range(len(regions)):\n",
    "        for r1 in range(len(regions)):\n",
    "            \n",
    "            for u in regions[r]:\n",
    "                up = regions[r][u]\n",
    "                x = ups[up][2]\n",
    "                y = ups[up][3]\n",
    "            \n",
    "            center_regions[r][0] = center_regions[r][0] + x\n",
    "            center_regions[r][1] = center_regions[r][1] + y\n",
    "            \n",
    "        center_regions[r][0] = center_regions[r][0] / len(regions[r])\n",
    "        center_regions[r][1] = center_regions[r][1] / len(regions[r])\n",
    "            \n",
    "    return center_regions"
   ]
  },
  {
   "cell_type": "code",
   "execution_count": 45,
   "metadata": {},
   "outputs": [],
   "source": [
    "A,b = build_feat_label_data(G, ups, features)"
   ]
  },
  {
   "cell_type": "code",
   "execution_count": 80,
   "metadata": {},
   "outputs": [],
   "source": [
    "train_perc = 0.5\n",
    "n_samples = A.shape[0]\n",
    "n_samples_train = int(n_samples * train_perc)\n",
    "\n",
    "shuff = np.arange(n_samples)\n",
    "np.random.shuffle(shuff)\n",
    "\n",
    "A = A[shuff]\n",
    "b = b[shuff]\n",
    "\n",
    "m = learn_model(A[0:n_samples_train,:],b[0:n_samples_train], 'gb')"
   ]
  },
  {
   "cell_type": "code",
   "execution_count": 81,
   "metadata": {},
   "outputs": [
    {
     "name": "stdout",
     "output_type": "stream",
     "text": [
      "training MSE =  0.0935236967968\n"
     ]
    }
   ],
   "source": [
    "print(\"training MSE = \", ((b[:n_samples_train]- m.predict(A[0:n_samples_train,:]))**2).mean(axis=0) )"
   ]
  },
  {
   "cell_type": "code",
   "execution_count": 82,
   "metadata": {},
   "outputs": [
    {
     "name": "stdout",
     "output_type": "stream",
     "text": [
      "test MSE =  0.0932731528227\n"
     ]
    }
   ],
   "source": [
    "print(\"test MSE = \", ((b[n_samples_train:]- m.predict(A[n_samples_train:,:]))**2).mean(axis=0) )"
   ]
  },
  {
   "cell_type": "code",
   "execution_count": 127,
   "metadata": {},
   "outputs": [
    {
     "data": {
      "text/plain": [
       "array([ 0.05327036,  0.06523364,  0.02242783, ...,  0.04141286,\n",
       "        0.13929122,  0.02699247])"
      ]
     },
     "execution_count": 127,
     "metadata": {},
     "output_type": "execute_result"
    }
   ],
   "source": [
    "m.predict(A[n_samples_train:,:])"
   ]
  },
  {
   "cell_type": "code",
   "execution_count": 46,
   "metadata": {},
   "outputs": [
    {
     "data": {
      "text/plain": [
       "GradientBoostingRegressor(alpha=0.9, criterion='friedman_mse', init=None,\n",
       "             learning_rate=0.1, loss='ls', max_depth=3, max_features=None,\n",
       "             max_leaf_nodes=None, min_impurity_decrease=0.0,\n",
       "             min_impurity_split=None, min_samples_leaf=1,\n",
       "             min_samples_split=2, min_weight_fraction_leaf=0.0,\n",
       "             n_estimators=25, presort='auto', random_state=1,\n",
       "             subsample=1.0, verbose=0, warm_start=False)"
      ]
     },
     "execution_count": 46,
     "metadata": {},
     "output_type": "execute_result"
    }
   ],
   "source": []
  },
  {
   "cell_type": "code",
   "execution_count": 84,
   "metadata": {},
   "outputs": [
    {
     "data": {
      "text/plain": [
       "array([ 0.02473231,  0.51514431,  0.04639676,  0.01617578,  0.18877407,\n",
       "        0.05549622,  0.15328055])"
      ]
     },
     "execution_count": 84,
     "metadata": {},
     "output_type": "execute_result"
    }
   ],
   "source": [
    "#A[i][0] = user_color_weight\n",
    "#A[i][1] = user_weight\n",
    "#A[i][2] = dur_weight\n",
    "#A[i][3] = color_conf_weight\n",
    "#A[i][4] = dist_space\n",
    "#A[i][5] = dist_time\n",
    "#A[i][6] = color_diff\n",
    "\n",
    "m.feature_importances_"
   ]
  },
  {
   "cell_type": "code",
   "execution_count": 47,
   "metadata": {},
   "outputs": [],
   "source": [
    "compute_edge_weights(G, ups, model, features)\n",
    "G.sort_edges()"
   ]
  },
  {
   "cell_type": "code",
   "execution_count": 48,
   "metadata": {},
   "outputs": [],
   "source": [
    "comp_assign = region_segmentation(G, ups, .2)\n",
    "regions, sizes = extract_regions(comp_assign)\n",
    "\n",
    "print(\"num regions = \", len(regions), \" max size region = \", np.max(sizes))"
   ]
  },
  {
   "cell_type": "code",
   "execution_count": 90,
   "metadata": {},
   "outputs": [],
   "source": []
  },
  {
   "cell_type": "code",
   "execution_count": 198,
   "metadata": {},
   "outputs": [],
   "source": []
  },
  {
   "cell_type": "code",
   "execution_count": 199,
   "metadata": {},
   "outputs": [],
   "source": [
    "\n",
    "#regions, sizes = extract_regions(comp_assign)"
   ]
  },
  {
   "cell_type": "code",
   "execution_count": 39,
   "metadata": {},
   "outputs": [],
   "source": [
    "def draw_top_regions(k, output_file_name='../plots/top_region'):\n",
    "    ind  = np.argsort(sizes)\n",
    "    \n",
    "    for i in range(1, k):\n",
    "        ups_region = updates_region(ups, regions[ind[-i]])\n",
    "        \n",
    "        plt.close('all')\n",
    "\n",
    "        canvas_ups = extract_canvas_updates(ups_region)\n",
    "        canvas_ups_rgb = canvas_color_code_rgb(canvas_ups)\n",
    "\n",
    "        draw_canvas(canvas_ups_rgb, output_file_name+\"_\"+str(i)+\".svg\")"
   ]
  },
  {
   "cell_type": "code",
   "execution_count": 40,
   "metadata": {},
   "outputs": [],
   "source": [
    "draw_top_regions(10)"
   ]
  },
  {
   "cell_type": "code",
   "execution_count": 93,
   "metadata": {},
   "outputs": [
    {
     "data": {
      "text/plain": [
       "4589"
      ]
     },
     "execution_count": 93,
     "metadata": {},
     "output_type": "execute_result"
    }
   ],
   "source": [
    "len(ups_max_region)"
   ]
  },
  {
   "cell_type": "code",
   "execution_count": 151,
   "metadata": {},
   "outputs": [
    {
     "data": {
      "text/plain": [
       "129014"
      ]
     },
     "execution_count": 151,
     "metadata": {},
     "output_type": "execute_result"
    }
   ],
   "source": [
    "len(regions)"
   ]
  },
  {
   "cell_type": "code",
   "execution_count": 49,
   "metadata": {},
   "outputs": [],
   "source": [
    "def region_statistics(G, region, ups):\n",
    "    #avg, min, max weights\n",
    "    sum_weights_in = 0\n",
    "    min_weight_in = 1e10\n",
    "    max_weight_in = 0\n",
    "    \n",
    "    sum_weights_out = 0\n",
    "    min_weight_out = 1e10\n",
    "    max_weight_out = 0\n",
    "    n_in = 0\n",
    "    n_out = 0\n",
    "    \n",
    "    n_edges = 0\n",
    "    region_check = {}\n",
    "    \n",
    "    for u in region:\n",
    "        region_check[u] = 1\n",
    "    \n",
    "    with open(G.sorted_edges_file_name, 'r') as file_in:\n",
    "        reader = csv.reader(file_in)\n",
    "    \n",
    "        for r in reader:\n",
    "            u = int(r[0])\n",
    "            v = int(r[1])\n",
    "            w = float(r[4])\n",
    "            \n",
    "            if u in region_check and v in region_check:\n",
    "                n_edges = n_edges + 1\n",
    "                sum_weights_in = sum_weights_in + w\n",
    "                n_in = n_in + 1\n",
    "            \n",
    "                if w < min_weight_in:\n",
    "                    min_weight_in = w\n",
    "                \n",
    "                if w > max_weight_in:\n",
    "                    max_weight_in = w\n",
    "                    \n",
    "            elif u in region_check or v in region_check:\n",
    "                sum_weights_out = sum_weights_out + w\n",
    "                n_out = n_out + 1\n",
    "            \n",
    "                if w < min_weight_out:\n",
    "                    min_weight_out = w\n",
    "                \n",
    "                if w > max_weight_out:\n",
    "                    max_weight_out = w\n",
    "    \n",
    "    color_dist = np.zeros(16)\n",
    "    n_pixel = 0\n",
    "    n_pixel_color = 0\n",
    "    for u in region:\n",
    "        if ups[u][6] == 1:\n",
    "            n_pixel = n_pixel + 1\n",
    "        if ups[u][7] == 1:\n",
    "            n_pixel_color = n_pixel_color + 1\n",
    "        \n",
    "        color_dist[int(ups[u][4])] = color_dist[int(ups[u][4])] + 1\n",
    "    \n",
    "    print(\"num updates = \", len(region))\n",
    "    print(\"num_edges = \", n_edges)\n",
    "    print(\"num pixels = \", n_pixel, \" (\", 100 * n_pixel / len(region), \"%)\")\n",
    "    print(\"num_pixel_colors = \", n_pixel_color, \" (\", 100 * n_pixel / len(region), \"%)\")\n",
    "    \n",
    "    print()\n",
    "    \n",
    "    print(\"colors: \", list(color_dist))\n",
    "        \n",
    "    print()\n",
    "    \n",
    "    print(\"avg weight inside = \",  sum_weights_in / n_in)\n",
    "    print (\"min weight inside = \", min_weight_in)\n",
    "    print(\"max weight inside = \", max_weight_in)\n",
    "    print(\"#edges inside = \", n_in)\n",
    "    \n",
    "    print()\n",
    "    \n",
    "    print(\"avg weight outside = \",  sum_weights_out / n_out)\n",
    "    print (\"min weight outside = \", min_weight_out)\n",
    "    print(\"max weight outside = \", max_weight_out)\n",
    "    print(\"#edges outside = \", n_out)\n",
    "    \n",
    "    "
   ]
  },
  {
   "cell_type": "code",
   "execution_count": 21,
   "metadata": {},
   "outputs": [],
   "source": [
    "def weight_statistics(G, ups, projs):\n",
    "    #avg weight inside final\n",
    "    #avg weight outside final\n",
    "    #avg weight final\n",
    "    \n",
    "    sum_in_final = 0\n",
    "    sum_out_final = 0\n",
    "    n_in_final = 0\n",
    "    n_out_final = 0\n",
    "    \n",
    "    #avg weight inside color\n",
    "    #avg weight outside color\n",
    "    #avg weight final color\n",
    "    \n",
    "    sum_in_color = 0\n",
    "    sum_out_color = 0\n",
    "    n_in_color = 0\n",
    "    n_out_color = 0\n",
    "    \n",
    "    #avg weight unlabelled\n",
    "    \n",
    "    #avg weight outside final unlabelled\n",
    "    #avg weight outside final color unlabelled\n",
    "    \n",
    "    with open(G.sorted_edges_file_name, 'r') as file_in:\n",
    "        reader = csv.reader(file_in)\n",
    "    \n",
    "        for r in reader:\n",
    "            u = int(r[0])\n",
    "            v = int(r[1])\n",
    "            w = float(r[4])\n",
    "            type_edge = int(r[3])\n",
    "            proj_u = ups[u][5]\n",
    "            proj_v = ups[v][5]\n",
    "            \n",
    "            if type_edge > 0:\n",
    "                if projs is None or (proj_u in projs and proj_v in projs):\n",
    "                    if ups[u][6] == 1 and ups[v][6] == 1:\n",
    "                        if ups[u][5] == ups[v][5]:\n",
    "                            sum_in_final = sum_in_final + w\n",
    "                            n_in_final = n_in_final + 1\n",
    "                        else:\n",
    "                            sum_out_final = sum_out_final + w\n",
    "                            n_out_final = n_out_final + 1\n",
    "\n",
    "                    if ups[u][7] == 1 and ups[v][7] == 1:\n",
    "                        if ups[u][5] == ups[v][5]:\n",
    "                            sum_in_color = sum_in_color + w\n",
    "                            n_in_color = n_in_color + 1\n",
    "                        else:\n",
    "                            sum_out_color = sum_out_color + w\n",
    "                            n_out_color = n_out_color + 1\n",
    "                            \n",
    "                    \n",
    "                    \n",
    "    print(\"avg weight inside projects (pixel) = \", sum_in_final / n_in_final)\n",
    "    print(\"avg weight outside projects (pixel) = \", sum_out_final / n_out_final)\n",
    "    print(\"avg weight (pixel) = \", (sum_in_final + sum_out_final) / (n_in_final + n_out_final) )\n",
    "    \n",
    "    print()\n",
    "    \n",
    "    print(\"avg weight inside projects (color) = \", sum_in_color / n_in_color)\n",
    "    print(\"avg weight outside projects (color) = \", sum_out_color / n_out_color)\n",
    "    print(\"avg weight (color) = \", (sum_in_color + sum_out_color) / (n_in_color + n_out_color) )\n",
    "    "
   ]
  },
  {
   "cell_type": "code",
   "execution_count": 89,
   "metadata": {},
   "outputs": [
    {
     "name": "stdout",
     "output_type": "stream",
     "text": [
      "avg weight inside projects (pixel) =  0.1068773950334158\n",
      "avg weight outside projects (pixel) =  0.1685631578045931\n",
      "avg weight (pixel) =  0.10930372073242092\n",
      "\n",
      "avg weight inside projects (color) =  0.11445576818903837\n",
      "avg weight outside projects (color) =  0.1730427318100387\n",
      "avg weight (color) =  0.11655832022259469\n"
     ]
    }
   ],
   "source": [
    "weight_statistics(G, ups, ['339', '241'])"
   ]
  },
  {
   "cell_type": "code",
   "execution_count": 50,
   "metadata": {},
   "outputs": [
    {
     "name": "stdout",
     "output_type": "stream",
     "text": [
      "num updates =  3916\n",
      "num_edges =  18767\n",
      "num pixels =  10  ( 0.2553626149131767 %)\n",
      "num_pixel_colors =  3551  ( 0.2553626149131767 %)\n",
      "\n",
      "colors:  [0.0, 0.0, 0.0, 1.0, 0.0, 0.0, 0.0, 0.0, 0.0, 0.0, 0.0, 0.0, 0.0, 0.0, 0.0, 0.0]\n",
      "\n",
      "avg weight inside =  0.05425757137124983\n",
      "min weight inside =  0.0236806037521\n",
      "max weight inside =  0.139680634876\n",
      "#edges inside =  18767\n",
      "\n",
      "avg weight outside =  0.15324475357323653\n",
      "min weight outside =  0.0288072459221\n",
      "max weight outside =  0.502583693909\n",
      "#edges outside =  67394\n"
     ]
    }
   ],
   "source": [
    "region_statistics(G, regions[ind[-3]], ups)"
   ]
  },
  {
   "cell_type": "code",
   "execution_count": 139,
   "metadata": {},
   "outputs": [],
   "source": [
    "reg_339, sizes_339 = regions_with_proj(ups, regions, '241')\n",
    "ind  = np.argsort(sizes_339)"
   ]
  },
  {
   "cell_type": "code",
   "execution_count": 113,
   "metadata": {},
   "outputs": [
    {
     "data": {
      "text/plain": [
       "[1490992900000, '5UNAKBUeEj9Koq76ThA5sG3Xxak=', 27, 30, 13, '73', 0, 0]"
      ]
     },
     "execution_count": 113,
     "metadata": {},
     "output_type": "execute_result"
    }
   ],
   "source": [
    "ups[1000]"
   ]
  },
  {
   "cell_type": "code",
   "execution_count": 114,
   "metadata": {},
   "outputs": [
    {
     "data": {
      "text/plain": [
       "[1491071011000, 'N/4Uax/XxQPMrREHoJOU/BoTzIY=', 22, 43, 3, '241', 0, 1]"
      ]
     },
     "execution_count": 114,
     "metadata": {},
     "output_type": "execute_result"
    }
   ],
   "source": [
    "ups[10089]"
   ]
  },
  {
   "cell_type": "code",
   "execution_count": 117,
   "metadata": {},
   "outputs": [
    {
     "data": {
      "text/plain": [
       "2.2204460492503131e-16"
      ]
     },
     "execution_count": 117,
     "metadata": {},
     "output_type": "execute_result"
    }
   ],
   "source": [
    "user_i_id = user_index_color['5UNAKBUeEj9Koq76ThA5sG3Xxak=']\n",
    "user_j_id = user_index_color['5UNAKBUeEj9Koq76ThA5sG3Xxak=']\n",
    "\n",
    "(1.-user_color[user_i_id].todense() * user_color[user_j_id].todense().T)[0,0]"
   ]
  },
  {
   "cell_type": "code",
   "execution_count": 118,
   "metadata": {},
   "outputs": [
    {
     "data": {
      "text/plain": [
       "matrix([[ 0.        ,  0.        ,  0.        ,  0.        ,  0.        ,\n",
       "          0.        ,  0.        ,  0.        ,  0.        ,  0.        ,\n",
       "          0.        ,  0.        ,  0.        ,  0.70710678,  0.        ,\n",
       "         -0.70710678]])"
      ]
     },
     "execution_count": 118,
     "metadata": {},
     "output_type": "execute_result"
    }
   ],
   "source": [
    "user_color[user_i_id].todense()"
   ]
  },
  {
   "cell_type": "code",
   "execution_count": 119,
   "metadata": {},
   "outputs": [
    {
     "data": {
      "text/plain": [
       "matrix([[ 0.        ,  0.        ,  0.        ,  0.        ,  0.        ,\n",
       "          0.        ,  0.        ,  0.        ,  0.        ,  0.        ,\n",
       "          0.        ,  0.        ,  0.        ,  0.70710678,  0.        ,\n",
       "         -0.70710678]])"
      ]
     },
     "execution_count": 119,
     "metadata": {},
     "output_type": "execute_result"
    }
   ],
   "source": [
    "user_color[user_j_id].todense()"
   ]
  },
  {
   "cell_type": "code",
   "execution_count": 30,
   "metadata": {},
   "outputs": [],
   "source": []
  },
  {
   "cell_type": "code",
   "execution_count": 31,
   "metadata": {},
   "outputs": [],
   "source": [
    "G_proj, node_colors, edge_colors = proj_graph(G, ups, ['339', '241'], True)"
   ]
  },
  {
   "cell_type": "code",
   "execution_count": 34,
   "metadata": {},
   "outputs": [],
   "source": []
  },
  {
   "cell_type": "code",
   "execution_count": 107,
   "metadata": {},
   "outputs": [
    {
     "data": {
      "text/plain": [
       "<Figure size 432x288 with 0 Axes>"
      ]
     },
     "metadata": {},
     "output_type": "display_data"
    },
    {
     "data": {
      "text/plain": [
       "<Figure size 7200x7200 with 0 Axes>"
      ]
     },
     "metadata": {},
     "output_type": "display_data"
    },
    {
     "data": {
      "image/png": "[encoded data removed]",
      "text/plain": [
       "<Figure size 432x288 with 1 Axes>"
      ]
     },
     "metadata": {
      "needs_background": "light"
     },
     "output_type": "display_data"
    }
   ],
   "source": [
    "canvas_ups = extract_canvas_updates(updates_region(ups, reg_339[ind[-2]]))\n",
    "canvas_ups_rgb = canvas_color_code_rgb(canvas_ups)\n",
    "\n",
    "draw_canvas(canvas_ups_rgb, \"../plots/max_region.svg\")"
   ]
  },
  {
   "cell_type": "code",
   "execution_count": 54,
   "metadata": {},
   "outputs": [
    {
     "data": {
      "text/plain": [
       "180462"
      ]
     },
     "execution_count": 54,
     "metadata": {},
     "output_type": "execute_result"
    }
   ],
   "source": [
    "len(ups)"
   ]
  },
  {
   "cell_type": "code",
   "execution_count": 64,
   "metadata": {},
   "outputs": [
    {
     "data": {
      "text/plain": [
       "149497"
      ]
     },
     "execution_count": 64,
     "metadata": {},
     "output_type": "execute_result"
    }
   ],
   "source": [
    "len(regions)"
   ]
  },
  {
   "cell_type": "code",
   "execution_count": 31,
   "metadata": {},
   "outputs": [],
   "source": [
    "ground_truth = create_ground_truth(input_file,0, sys.maxsize, min_x, max_x, min_y, max_y)"
   ]
  },
  {
   "cell_type": "code",
   "execution_count": 32,
   "metadata": {},
   "outputs": [
    {
     "name": "stdout",
     "output_type": "stream",
     "text": [
      "20\n"
     ]
    }
   ],
   "source": [
    "print(len(ground_truth))"
   ]
  },
  {
   "cell_type": "code",
   "execution_count": 33,
   "metadata": {},
   "outputs": [],
   "source": [
    "'''\n",
    "Perform the evaluation only on the final canvas. Generate a new graph consisting of only final updates\n",
    "'''\n",
    "\n",
    "G_final, ups = create_graph(input_file, 0, sys.maxsize, 2, 30*60, min_x, max_x, min_y, max_y,  True)"
   ]
  },
  {
   "cell_type": "code",
   "execution_count": 168,
   "metadata": {},
   "outputs": [],
   "source": [
    "if os.path.exists(G_final.edges_file_name):\n",
    "    os.remove(G_final.edges_file_name)\n",
    "with open(G_final.unique_edges_file_name, 'r') as file_in:\n",
    "    reader = csv.reader(file_in)\n",
    "    \n",
    "    for r in reader:\n",
    "        u = r[0]\n",
    "        v = r[1]\n",
    "        lb = r[2]\n",
    "        \n",
    "        w = compute_weight(int(u), int(v), ups[int(u)], ups[int(v)], [usr_rel_same_color, usr_rel_diff_color], \n",
    "             user_index, durations, user_color, user_index_color, [0.1, 0.1, 0.8], 0.9, 0.9)\n",
    "        \n",
    "        G_final.set_weight(u, v, lb, w)\n",
    "        \n",
    "G_final.flush_weights()"
   ]
  },
  {
   "cell_type": "code",
   "execution_count": 169,
   "metadata": {},
   "outputs": [],
   "source": [
    "G_final.sort_edges()"
   ]
  },
  {
   "cell_type": "code",
   "execution_count": 170,
   "metadata": {},
   "outputs": [],
   "source": [
    "locations = store_locations(\"../data/atlas_complete.json\")"
   ]
  },
  {
   "cell_type": "code",
   "execution_count": 171,
   "metadata": {},
   "outputs": [],
   "source": [
    "comp_assign = region_segmentation(G_final, 0.9)"
   ]
  },
  {
   "cell_type": "code",
   "execution_count": 172,
   "metadata": {},
   "outputs": [],
   "source": [
    "regions, sizes = extract_regions(comp_assign)"
   ]
  },
  {
   "cell_type": "code",
   "execution_count": 173,
   "metadata": {},
   "outputs": [
    {
     "name": "stdout",
     "output_type": "stream",
     "text": [
      "210747\n",
      "209836\n",
      "911\n"
     ]
    }
   ],
   "source": [
    "print(len(regions))\n",
    "num_single = 0\n",
    "non_single_regions = []\n",
    "for region in regions:\n",
    "    if len(region) == 1:\n",
    "        num_single += 1\n",
    "    else:\n",
    "        non_single_regions.append(region)\n",
    "print(num_single)\n",
    "print(len(non_single_regions))"
   ]
  },
  {
   "cell_type": "code",
   "execution_count": 179,
   "metadata": {},
   "outputs": [
    {
     "name": "stdout",
     "output_type": "stream",
     "text": [
      "630\n",
      "1493\n"
     ]
    },
    {
     "data": {
      "text/plain": [
       "<Figure size 432x288 with 0 Axes>"
      ]
     },
     "metadata": {},
     "output_type": "display_data"
    },
    {
     "data": {
      "text/plain": [
       "<Figure size 7200x7200 with 0 Axes>"
      ]
     },
     "metadata": {},
     "output_type": "display_data"
    },
    {
     "data": {
      "text/plain": [
       "<Figure size 432x288 with 0 Axes>"
      ]
     },
     "metadata": {},
     "output_type": "display_data"
    },
    {
     "data": {
      "text/plain": [
       "<Figure size 7200x7200 with 0 Axes>"
      ]
     },
     "metadata": {},
     "output_type": "display_data"
    },
    {
     "data": {
      "text/plain": [
       "<Figure size 432x288 with 0 Axes>"
      ]
     },
     "metadata": {},
     "output_type": "display_data"
    },
    {
     "data": {
      "text/plain": [
       "<Figure size 7200x7200 with 0 Axes>"
      ]
     },
     "metadata": {},
     "output_type": "display_data"
    },
    {
     "data": {
      "text/plain": [
       "<Figure size 432x288 with 0 Axes>"
      ]
     },
     "metadata": {},
     "output_type": "display_data"
    },
    {
     "data": {
      "text/plain": [
       "<Figure size 7200x7200 with 0 Axes>"
      ]
     },
     "metadata": {},
     "output_type": "display_data"
    },
    {
     "data": {
      "image/png": "[encoded data removed]",
      "text/plain": [
       "<Figure size 432x288 with 1 Axes>"
      ]
     },
     "metadata": {
      "needs_background": "light"
     },
     "output_type": "display_data"
    }
   ],
   "source": [
    " num_correct_counter, num_assignments_made, precision, recall, region_assignments = evaluate(locations, non_single_regions, ups, ground_truth, 0.5, draw = True)"
   ]
  },
  {
   "cell_type": "code",
   "execution_count": 176,
   "metadata": {},
   "outputs": [
    {
     "name": "stdout",
     "output_type": "stream",
     "text": [
      "630\n",
      "1493\n"
     ]
    }
   ],
   "source": [
    "for pic_id in region_assignments:\n",
    "    print(pic_id)"
   ]
  },
  {
   "cell_type": "code",
   "execution_count": 180,
   "metadata": {},
   "outputs": [
    {
     "name": "stdout",
     "output_type": "stream",
     "text": [
      "Regions: 210747\n",
      "Total correct assignments: 2\n",
      "Total assignments made: 911\n",
      "Ground truth size: 20\n",
      "Precision: 0.0021953896816684962\n",
      "Recall: 0.1\n"
     ]
    }
   ],
   "source": [
    "print(\"Regions:\", len(regions))\n",
    "print(\"Total correct assignments:\", num_correct_counter)\n",
    "print(\"Total assignments made:\", num_assignments_made)\n",
    "print(\"Ground truth size:\", len(ground_truth))\n",
    "print(\"Precision:\", precision)\n",
    "print(\"Recall:\", recall)"
   ]
  },
  {
   "cell_type": "code",
   "execution_count": 16,
   "metadata": {},
   "outputs": [
    {
     "name": "stdout",
     "output_type": "stream",
     "text": [
      "iteration: 0\n",
      "iteration: 1\n",
      "iteration: 2\n",
      "iteration: 3\n",
      "iteration: 4\n",
      "iteration: 5\n",
      "iteration: 6\n",
      "iteration: 7\n",
      "iteration: 8\n",
      "iteration: 9\n",
      "iteration: 10\n",
      "iteration: 11\n",
      "iteration: 12\n",
      "iteration: 13\n",
      "iteration: 14\n",
      "iteration: 15\n",
      "iteration: 16\n",
      "iteration: 17\n",
      "iteration: 18\n",
      "iteration: 19\n",
      "iteration: 20\n",
      "iteration: 21\n",
      "iteration: 22\n",
      "iteration: 23\n",
      "iteration: 24\n",
      "iteration: 25\n",
      "iteration: 26\n",
      "iteration: 27\n",
      "iteration: 28\n",
      "iteration: 29\n",
      "iteration: 30\n",
      "iteration: 31\n",
      "iteration: 32\n",
      "iteration: 33\n",
      "iteration: 34\n",
      "iteration: 35\n",
      "iteration: 36\n",
      "iteration: 37\n",
      "iteration: 38\n",
      "iteration: 39\n",
      "iteration: 40\n",
      "iteration: 41\n",
      "iteration: 42\n",
      "iteration: 43\n",
      "iteration: 44\n",
      "iteration: 45\n",
      "iteration: 46\n",
      "iteration: 47\n",
      "iteration: 48\n",
      "iteration: 49\n",
      "iteration: 50\n",
      "iteration: 51\n",
      "iteration: 52\n",
      "iteration: 53\n",
      "iteration: 54\n",
      "iteration: 55\n",
      "iteration: 56\n",
      "iteration: 57\n",
      "iteration: 58\n",
      "iteration: 59\n",
      "iteration: 60\n",
      "iteration: 61\n",
      "iteration: 62\n",
      "iteration: 63\n",
      "iteration: 64\n",
      "iteration: 65\n",
      "iteration: 66\n",
      "iteration: 67\n",
      "iteration: 68\n",
      "iteration: 69\n",
      "iteration: 70\n",
      "iteration: 71\n",
      "iteration: 72\n",
      "iteration: 73\n",
      "iteration: 74\n",
      "iteration: 75\n",
      "iteration: 76\n",
      "iteration: 77\n",
      "iteration: 78\n",
      "iteration: 79\n",
      "iteration: 80\n",
      "iteration: 81\n",
      "iteration: 82\n",
      "iteration: 83\n",
      "iteration: 84\n",
      "iteration: 85\n",
      "iteration: 86\n",
      "iteration: 87\n",
      "iteration: 88\n",
      "iteration: 89\n",
      "iteration: 90\n",
      "iteration: 91\n",
      "iteration: 92\n",
      "iteration: 93\n",
      "iteration: 94\n",
      "iteration: 95\n",
      "iteration: 96\n",
      "iteration: 97\n",
      "iteration: 98\n",
      "iteration: 99\n",
      "iteration: 100\n",
      "iteration: 101\n",
      "iteration: 102\n",
      "iteration: 103\n",
      "iteration: 104\n",
      "iteration: 105\n",
      "iteration: 106\n",
      "iteration: 107\n",
      "iteration: 108\n",
      "iteration: 109\n",
      "iteration: 110\n",
      "iteration: 111\n",
      "iteration: 112\n",
      "iteration: 113\n",
      "iteration: 114\n",
      "iteration: 115\n",
      "iteration: 116\n",
      "iteration: 117\n",
      "iteration: 118\n",
      "iteration: 119\n",
      "iteration: 120\n",
      "iteration: 121\n",
      "iteration: 122\n",
      "iteration: 123\n",
      "iteration: 124\n",
      "iteration: 125\n",
      "iteration: 126\n",
      "iteration: 127\n",
      "iteration: 128\n",
      "iteration: 129\n",
      "iteration: 130\n",
      "iteration: 131\n",
      "iteration: 132\n",
      "iteration: 133\n",
      "iteration: 134\n",
      "iteration: 135\n",
      "iteration: 136\n",
      "iteration: 137\n",
      "iteration: 138\n",
      "iteration: 139\n",
      "iteration: 140\n",
      "iteration: 141\n",
      "iteration: 142\n",
      "iteration: 143\n",
      "iteration: 144\n",
      "iteration: 145\n",
      "iteration: 146\n",
      "iteration: 147\n",
      "iteration: 148\n",
      "iteration: 149\n",
      "iteration: 150\n",
      "iteration: 151\n",
      "iteration: 152\n",
      "iteration: 153\n",
      "iteration: 154\n",
      "iteration: 155\n",
      "iteration: 156\n",
      "iteration: 157\n",
      "iteration: 158\n",
      "iteration: 159\n",
      "iteration: 160\n",
      "iteration: 161\n",
      "iteration: 162\n",
      "iteration: 163\n",
      "iteration: 164\n",
      "iteration: 165\n",
      "iteration: 166\n",
      "iteration: 167\n",
      "iteration: 168\n",
      "iteration: 169\n",
      "iteration: 170\n",
      "iteration: 171\n",
      "iteration: 172\n",
      "iteration: 173\n",
      "iteration: 174\n",
      "iteration: 175\n",
      "iteration: 176\n",
      "iteration: 177\n",
      "iteration: 178\n",
      "iteration: 179\n",
      "iteration: 180\n",
      "iteration: 181\n",
      "iteration: 182\n",
      "iteration: 183\n",
      "iteration: 184\n",
      "iteration: 185\n",
      "iteration: 186\n",
      "iteration: 187\n",
      "iteration: 188\n",
      "iteration: 189\n",
      "iteration: 190\n",
      "iteration: 191\n",
      "iteration: 192\n",
      "iteration: 193\n",
      "iteration: 194\n",
      "iteration: 195\n",
      "iteration: 196\n",
      "iteration: 197\n",
      "iteration: 198\n",
      "iteration: 199\n",
      "iteration: 200\n",
      "iteration: 201\n",
      "iteration: 202\n",
      "iteration: 203\n",
      "iteration: 204\n",
      "iteration: 205\n",
      "iteration: 206\n",
      "iteration: 207\n",
      "iteration: 208\n",
      "iteration: 209\n",
      "iteration: 210\n",
      "iteration: 211\n",
      "iteration: 212\n",
      "iteration: 213\n",
      "iteration: 214\n",
      "iteration: 215\n",
      "iteration: 216\n",
      "iteration: 217\n",
      "iteration: 218\n",
      "iteration: 219\n",
      "iteration: 220\n",
      "iteration: 221\n",
      "iteration: 222\n",
      "iteration: 223\n",
      "iteration: 224\n",
      "iteration: 225\n",
      "iteration: 226\n",
      "iteration: 227\n",
      "iteration: 228\n",
      "iteration: 229\n",
      "iteration: 230\n",
      "iteration: 231\n",
      "iteration: 232\n",
      "iteration: 233\n",
      "iteration: 234\n",
      "iteration: 235\n",
      "iteration: 236\n",
      "iteration: 237\n",
      "iteration: 238\n",
      "iteration: 239\n",
      "iteration: 240\n",
      "iteration: 241\n",
      "iteration: 242\n",
      "iteration: 243\n",
      "iteration: 244\n",
      "iteration: 245\n",
      "iteration: 246\n",
      "iteration: 247\n",
      "iteration: 248\n",
      "iteration: 249\n",
      "iteration: 250\n",
      "iteration: 251\n",
      "iteration: 252\n",
      "iteration: 253\n",
      "iteration: 254\n",
      "iteration: 255\n",
      "iteration: 256\n",
      "iteration: 257\n",
      "iteration: 258\n",
      "iteration: 259\n",
      "iteration: 260\n",
      "iteration: 261\n",
      "iteration: 262\n",
      "iteration: 263\n",
      "iteration: 264\n",
      "iteration: 265\n",
      "iteration: 266\n",
      "iteration: 267\n",
      "iteration: 268\n",
      "iteration: 269\n",
      "iteration: 270\n",
      "iteration: 271\n",
      "iteration: 272\n",
      "iteration: 273\n",
      "iteration: 274\n",
      "iteration: 275\n",
      "iteration: 276\n",
      "iteration: 277\n",
      "iteration: 278\n",
      "iteration: 279\n",
      "iteration: 280\n",
      "iteration: 281\n",
      "iteration: 282\n",
      "iteration: 283\n",
      "iteration: 284\n",
      "iteration: 285\n",
      "iteration: 286\n",
      "iteration: 287\n",
      "iteration: 288\n",
      "iteration: 289\n",
      "iteration: 290\n",
      "iteration: 291\n",
      "iteration: 292\n",
      "iteration: 293\n",
      "iteration: 294\n",
      "iteration: 295\n",
      "iteration: 296\n",
      "iteration: 297\n",
      "iteration: 298\n",
      "iteration: 299\n",
      "iteration: 300\n",
      "iteration: 301\n",
      "iteration: 302\n",
      "iteration: 303\n",
      "iteration: 304\n",
      "iteration: 305\n",
      "iteration: 306\n",
      "iteration: 307\n",
      "iteration: 308\n",
      "iteration: 309\n",
      "iteration: 310\n",
      "iteration: 311\n",
      "iteration: 312\n",
      "iteration: 313\n",
      "iteration: 314\n",
      "iteration: 315\n",
      "iteration: 316\n",
      "iteration: 317\n",
      "iteration: 318\n",
      "iteration: 319\n",
      "iteration: 320\n",
      "iteration: 321\n",
      "iteration: 322\n",
      "iteration: 323\n",
      "iteration: 324\n",
      "iteration: 325\n",
      "iteration: 326\n",
      "iteration: 327\n",
      "iteration: 328\n",
      "iteration: 329\n",
      "iteration: 330\n",
      "iteration: 331\n",
      "iteration: 332\n",
      "iteration: 333\n",
      "iteration: 334\n",
      "iteration: 335\n",
      "iteration: 336\n",
      "iteration: 337\n",
      "iteration: 338\n"
     ]
    },
    {
     "ename": "KeyboardInterrupt",
     "evalue": "",
     "output_type": "error",
     "traceback": [
      "\u001b[0;31m---------------------------------------------------------------------------\u001b[0m",
      "\u001b[0;31mKeyboardInterrupt\u001b[0m                         Traceback (most recent call last)",
      "\u001b[0;32m<ipython-input-16-35caa8db020d>\u001b[0m in \u001b[0;36m<module>\u001b[0;34m()\u001b[0m\n\u001b[1;32m     49\u001b[0m \u001b[0;34m\u001b[0m\u001b[0m\n\u001b[1;32m     50\u001b[0m                             w = compute_weight(int(u), int(v), ups[int(u)], ups[int(v)], [usr_rel_same_color, usr_rel_diff_color], \n\u001b[0;32m---> 51\u001b[0;31m                                  user_index, durations, user_color, user_index_color, [alpha0, alpha1, alpha2], epsilon, epsilon)\n\u001b[0m\u001b[1;32m     52\u001b[0m \u001b[0;34m\u001b[0m\u001b[0m\n\u001b[1;32m     53\u001b[0m                             \u001b[0mG\u001b[0m\u001b[0;34m.\u001b[0m\u001b[0mset_weight\u001b[0m\u001b[0;34m(\u001b[0m\u001b[0mu\u001b[0m\u001b[0;34m,\u001b[0m \u001b[0mv\u001b[0m\u001b[0;34m,\u001b[0m \u001b[0mlb\u001b[0m\u001b[0;34m,\u001b[0m \u001b[0mw\u001b[0m\u001b[0;34m)\u001b[0m\u001b[0;34m\u001b[0m\u001b[0m\n",
      "\u001b[0;32m<ipython-input-10-b8c24625da2f>\u001b[0m in \u001b[0;36mcompute_weight\u001b[0;34m(i, j, upi, upj, user_rel, user_index_rel, durations, user_colors, user_index_colors, ALPHA, EPSILON_COLOR, EPSILON_USER)\u001b[0m\n\u001b[1;32m     41\u001b[0m \u001b[0;34m\u001b[0m\u001b[0m\n\u001b[1;32m     42\u001b[0m     \u001b[0;31m#users positive and negative interactions\u001b[0m\u001b[0;34m\u001b[0m\u001b[0;34m\u001b[0m\u001b[0m\n\u001b[0;32m---> 43\u001b[0;31m     \u001b[0;32mif\u001b[0m \u001b[0;34m(\u001b[0m\u001b[0muser_rel\u001b[0m\u001b[0;34m[\u001b[0m\u001b[0;36m0\u001b[0m\u001b[0;34m]\u001b[0m\u001b[0;34m[\u001b[0m\u001b[0muser_i_id\u001b[0m\u001b[0;34m,\u001b[0m\u001b[0muser_j_id\u001b[0m\u001b[0;34m]\u001b[0m\u001b[0;34m+\u001b[0m\u001b[0muser_rel\u001b[0m\u001b[0;34m[\u001b[0m\u001b[0;36m1\u001b[0m\u001b[0;34m]\u001b[0m\u001b[0;34m[\u001b[0m\u001b[0muser_i_id\u001b[0m\u001b[0;34m,\u001b[0m\u001b[0muser_j_id\u001b[0m\u001b[0;34m]\u001b[0m\u001b[0;34m)\u001b[0m \u001b[0;34m>\u001b[0m \u001b[0;36m0\u001b[0m\u001b[0;34m:\u001b[0m\u001b[0;34m\u001b[0m\u001b[0m\n\u001b[0m\u001b[1;32m     44\u001b[0m         \u001b[0muser_weight\u001b[0m \u001b[0;34m=\u001b[0m \u001b[0muser_weight\u001b[0m \u001b[0;34m+\u001b[0m \u001b[0muser_rel\u001b[0m\u001b[0;34m[\u001b[0m\u001b[0;36m1\u001b[0m\u001b[0;34m]\u001b[0m\u001b[0;34m[\u001b[0m\u001b[0muser_i_id\u001b[0m\u001b[0;34m,\u001b[0m\u001b[0muser_j_id\u001b[0m\u001b[0;34m]\u001b[0m \u001b[0;34m/\u001b[0m  \u001b[0;34m(\u001b[0m\u001b[0muser_rel\u001b[0m\u001b[0;34m[\u001b[0m\u001b[0;36m0\u001b[0m\u001b[0;34m]\u001b[0m\u001b[0;34m[\u001b[0m\u001b[0muser_i_id\u001b[0m\u001b[0;34m,\u001b[0m\u001b[0muser_j_id\u001b[0m\u001b[0;34m]\u001b[0m\u001b[0;34m+\u001b[0m\u001b[0muser_rel\u001b[0m\u001b[0;34m[\u001b[0m\u001b[0;36m1\u001b[0m\u001b[0;34m]\u001b[0m\u001b[0;34m[\u001b[0m\u001b[0muser_i_id\u001b[0m\u001b[0;34m,\u001b[0m\u001b[0muser_j_id\u001b[0m\u001b[0;34m]\u001b[0m\u001b[0;34m)\u001b[0m\u001b[0;34m\u001b[0m\u001b[0m\n\u001b[1;32m     45\u001b[0m \u001b[0;34m\u001b[0m\u001b[0m\n",
      "\u001b[0;32m/usr/local/lib/python3.5/dist-packages/scipy/sparse/csr.py\u001b[0m in \u001b[0;36m__getitem__\u001b[0;34m(self, key)\u001b[0m\n\u001b[1;32m    287\u001b[0m             \u001b[0;31m# [i, j]\u001b[0m\u001b[0;34m\u001b[0m\u001b[0;34m\u001b[0m\u001b[0m\n\u001b[1;32m    288\u001b[0m             \u001b[0;32mif\u001b[0m \u001b[0misintlike\u001b[0m\u001b[0;34m(\u001b[0m\u001b[0mcol\u001b[0m\u001b[0;34m)\u001b[0m\u001b[0;34m:\u001b[0m\u001b[0;34m\u001b[0m\u001b[0m\n\u001b[0;32m--> 289\u001b[0;31m                 \u001b[0;32mreturn\u001b[0m \u001b[0mself\u001b[0m\u001b[0;34m.\u001b[0m\u001b[0m_get_single_element\u001b[0m\u001b[0;34m(\u001b[0m\u001b[0mrow\u001b[0m\u001b[0;34m,\u001b[0m \u001b[0mcol\u001b[0m\u001b[0;34m)\u001b[0m\u001b[0;34m\u001b[0m\u001b[0m\n\u001b[0m\u001b[1;32m    290\u001b[0m             \u001b[0;31m# [i, 1:2]\u001b[0m\u001b[0;34m\u001b[0m\u001b[0;34m\u001b[0m\u001b[0m\n\u001b[1;32m    291\u001b[0m             \u001b[0;32melif\u001b[0m \u001b[0misinstance\u001b[0m\u001b[0;34m(\u001b[0m\u001b[0mcol\u001b[0m\u001b[0;34m,\u001b[0m \u001b[0mslice\u001b[0m\u001b[0;34m)\u001b[0m\u001b[0;34m:\u001b[0m\u001b[0;34m\u001b[0m\u001b[0m\n",
      "\u001b[0;32m/usr/local/lib/python3.5/dist-packages/scipy/sparse/compressed.py\u001b[0m in \u001b[0;36m_get_single_element\u001b[0;34m(self, row, col)\u001b[0m\n\u001b[1;32m    852\u001b[0m                              (row, M, col, N))\n\u001b[1;32m    853\u001b[0m \u001b[0;34m\u001b[0m\u001b[0m\n\u001b[0;32m--> 854\u001b[0;31m         \u001b[0mmajor_index\u001b[0m\u001b[0;34m,\u001b[0m \u001b[0mminor_index\u001b[0m \u001b[0;34m=\u001b[0m \u001b[0mself\u001b[0m\u001b[0;34m.\u001b[0m\u001b[0m_swap\u001b[0m\u001b[0;34m(\u001b[0m\u001b[0;34m(\u001b[0m\u001b[0mrow\u001b[0m\u001b[0;34m,\u001b[0m \u001b[0mcol\u001b[0m\u001b[0;34m)\u001b[0m\u001b[0;34m)\u001b[0m\u001b[0;34m\u001b[0m\u001b[0m\n\u001b[0m\u001b[1;32m    855\u001b[0m \u001b[0;34m\u001b[0m\u001b[0m\n\u001b[1;32m    856\u001b[0m         \u001b[0mstart\u001b[0m \u001b[0;34m=\u001b[0m \u001b[0mself\u001b[0m\u001b[0;34m.\u001b[0m\u001b[0mindptr\u001b[0m\u001b[0;34m[\u001b[0m\u001b[0mmajor_index\u001b[0m\u001b[0;34m]\u001b[0m\u001b[0;34m\u001b[0m\u001b[0m\n",
      "\u001b[0;31mKeyboardInterrupt\u001b[0m: "
     ]
    }
   ],
   "source": [
    "'''\n",
    "    Run the evaluation function for multiple values of ALPHA, EPSILON, KAPPA\n",
    "    Write the results of the precision and recall to a file\n",
    "    \n",
    "    ALPHA[0] * color_weight + ALPHA[1] * user_weight + ALPHA[2] * dur_weight\n",
    "'''\n",
    "evaluation_filename = \"../data/evaluation_tests_refactored2.csv\"\n",
    "locations = store_locations(\"../data/atlas_complete.json\")\n",
    "\n",
    "\n",
    "\n",
    "with open(evaluation_filename, 'w') as file_out:\n",
    "    writer = csv.writer(file_out, delimiter = \",\")\n",
    "    writer.writerow([\"ALPHA_color\", \"ALPHA_user\", \"ALPHA_duration\", \"EPSILON_COLOR\", \"EPSILON_USER\", \"KAPPA\", \"#Regions\", \"total correct assignments\", \"Precision\", \"Recall\"])\n",
    "    \n",
    "    \n",
    "#     alphas = [0.20, 0.25, 0.30, 0.35, 0.4]\n",
    "#     epsilons = [0.1, 0.15, 0.2, 0.25, 0.3, 0.35]\n",
    "#     kappas = [0.85,0.9, 0.95, 1, 1.05]\n",
    "    \n",
    "    alphas = [0.1, 0.25, 0.33, 0.49, 0.8]\n",
    "    epsilons = [0.1, 0.3, 0.5, 0.9]\n",
    "    kappas = [0.1, 0.3, 0.5, 0.7, 0.9, 1.1]\n",
    "\n",
    "#     alphas = [0.05, 0.1, 0.15, 0.20, 0.08, 0.13]\n",
    "#     epsilons = [0.1, 0.3, 0.5, 0.9]\n",
    "#     kappas = [0.8, 0.85, 0.9, 0.95, 1, 1.05, 1.1, 1.15, 2]\n",
    "    \n",
    "    iteration = 0\n",
    "    for alpha0 in alphas:\n",
    "        for alpha1 in alphas:\n",
    "            alpha2 = 1 - alpha0 - alpha1\n",
    "            if alpha2 < 0:\n",
    "                continue\n",
    "    \n",
    "            for epsilon in epsilons:\n",
    "                for kappa in kappas:\n",
    "\n",
    "                    print(\"iteration:\", iteration)\n",
    "                    i = 0\n",
    "\n",
    "                    if os.path.exists(G_final.edges_file_name):\n",
    "                        os.remove(G_final.edges_file_name)\n",
    "\n",
    "                    with open(G_final.unique_edges_file_name, 'r') as file_in:\n",
    "                        reader = csv.reader(file_in)\n",
    "\n",
    "                        for r in reader:\n",
    "                            u = r[0]\n",
    "                            v = r[1]\n",
    "                            lb = r[2]\n",
    "\n",
    "                            w = compute_weight(int(u), int(v), ups[int(u)], ups[int(v)], [usr_rel_same_color, usr_rel_diff_color], \n",
    "                                 user_index, durations, user_color, user_index_color, [alpha0, alpha1, alpha2], epsilon, epsilon)\n",
    "\n",
    "                            G_final.set_weight(u, v, lb, w)\n",
    "\n",
    "                    G_final.flush_weights()\n",
    "                    G_final.sort_edges()\n",
    "                    comp_assign = region_segmentation(G_final, ups, kappa)\n",
    "                    regions, sizes = extract_regions(comp_assign)\n",
    "\n",
    "                    num_correct_counter, num_assignments_made, precision, recall, region_assignments = evaluate(locations, regions, ups, ground_truth, 0.50)\n",
    "\n",
    "\n",
    "                    writer.writerow([alpha0, alpha1, alpha2, epsilon, epsilon, kappa, len(regions), num_correct_counter, precision, recall])\n",
    "\n",
    "                    iteration += 1\n"
   ]
  },
  {
   "cell_type": "code",
   "execution_count": null,
   "metadata": {},
   "outputs": [],
   "source": []
  },
  {
   "cell_type": "code",
   "execution_count": null,
   "metadata": {},
   "outputs": [],
   "source": []
  },
  {
   "cell_type": "code",
   "execution_count": 211,
   "metadata": {},
   "outputs": [],
   "source": [
    "def updates_region(ups, region):\n",
    "    ups_region = []\n",
    "    \n",
    "    for u in sorted(region):\n",
    "        ups_region.append(ups[int(u)])\n",
    "        \n",
    "    return ups_region\n",
    "\n",
    "ind  = np.argsort(sizes)\n",
    "\n",
    "ups_max_region = updates_region(ups, regions[ind[-1]])"
   ]
  },
  {
   "cell_type": "code",
   "execution_count": 213,
   "metadata": {},
   "outputs": [],
   "source": [
    "ups_max_region = updates_region(ups, regions[ind[-2]])"
   ]
  },
  {
   "cell_type": "code",
   "execution_count": 218,
   "metadata": {},
   "outputs": [],
   "source": [
    "def extract_canvas_updates(updates):\n",
    "    data_color_code = np.uint8(np.zeros((1001,1001)))\n",
    "    \n",
    "    for u in updates:\n",
    "        x = u[2]\n",
    "        y = u[3]\n",
    "        color = u[4]\n",
    "        \n",
    "        data_color_code[y][x] = color\n",
    "        \n",
    "    return data_color_code\n",
    "\n",
    "canvas_ups = extract_canvas_updates(ups)\n",
    "canvas_ups_rgb = canvas_color_code_rgb(canvas_ups)\n",
    "\n",
    "draw_canvas(canvas_ups_rgb, \"../plots/frame.svg\")"
   ]
  },
  {
   "cell_type": "code",
   "execution_count": 214,
   "metadata": {},
   "outputs": [
    {
     "data": {
      "text/plain": [
       "<Figure size 432x288 with 0 Axes>"
      ]
     },
     "metadata": {},
     "output_type": "display_data"
    },
    {
     "data": {
      "text/plain": [
       "<Figure size 7200x7200 with 0 Axes>"
      ]
     },
     "metadata": {},
     "output_type": "display_data"
    },
    {
     "data": {
      "image/png": "[encoded data removed]",
      "text/plain": [
       "<Figure size 432x288 with 1 Axes>"
      ]
     },
     "metadata": {
      "needs_background": "light"
     },
     "output_type": "display_data"
    }
   ],
   "source": [
    "canvas_ups = extract_canvas_updates(ups_max_region)\n",
    "canvas_ups_rgb = canvas_color_code_rgb(canvas_ups)\n",
    "\n",
    "draw_canvas(canvas_ups_rgb, \"../plots/max_region.svg\")"
   ]
  },
  {
   "cell_type": "code",
   "execution_count": null,
   "metadata": {},
   "outputs": [],
   "source": []
  },
  {
   "cell_type": "code",
   "execution_count": null,
   "metadata": {},
   "outputs": [],
   "source": []
  },
  {
   "cell_type": "code",
   "execution_count": null,
   "metadata": {},
   "outputs": [],
   "source": []
  },
  {
   "cell_type": "code",
   "execution_count": null,
   "metadata": {},
   "outputs": [],
   "source": []
  },
  {
   "cell_type": "code",
   "execution_count": null,
   "metadata": {},
   "outputs": [],
   "source": []
  },
  {
   "cell_type": "code",
   "execution_count": 110,
   "metadata": {},
   "outputs": [
    {
     "data": {
      "image/png": "[encoded data removed]",
      "text/plain": [
       "<matplotlib.figure.Figure at 0x7f88b2dfd5f8>"
      ]
     },
     "metadata": {},
     "output_type": "display_data"
    }
   ],
   "source": [
    "import array\n",
    "import networkx as nx\n",
    "import numpy as np\n",
    "import queue \n",
    "import sys\n",
    "import operator\n",
    "\n",
    "def create_idx(G):\n",
    "    '''\n",
    "        Associates each vertex in G to an integer from 0 ... number-of-vertices minus one.\n",
    "    '''\n",
    "    idx = {}\n",
    "    for v in G.nodes():\n",
    "        idx[v] = len(idx)\n",
    "        \n",
    "    return idx\n",
    "\n",
    "def push(G, u, p, r, alpha, idx, weight=None):\n",
    "    '''\n",
    "        Push operation for approximate pagerank. Updates probability and residual vectors \n",
    "        based on a single vertex u.\n",
    "    '''\n",
    "    idx_u = idx[u]\n",
    "    \n",
    "    p[idx_u] = p[idx_u] + alpha * r[idx_u]\n",
    "    \n",
    "    deg_u = G.degree(u, weight=weight)\n",
    "        \n",
    "    for v in G.neighbors(u):\n",
    "        idx_v = idx[v] \n",
    "        \n",
    "        if weight is None:\n",
    "            w = 1. / deg_u\n",
    "        else:\n",
    "            w = G[u][v][weight] / deg_u\n",
    "        \n",
    "        r[idx_v] = r[idx_v] + 0.5 * w * (1.-alpha) * r[idx_u]\n",
    "     \n",
    "    r[idx_u] = 0.5 * (1.-alpha) * r[idx_u]\n",
    "    \n",
    "    return p, r\n",
    "\n",
    "def approximate_pagerank(G, v, alpha, epsilon, idx, weight=None):\n",
    "    '''\n",
    "        Computes approximate personalized pagerank vector for vertex v.\n",
    "        alpha is the teleportation probability and epsilon is the error.\n",
    "        \n",
    "        Uses a queue to keep vertices with residual values higher than \n",
    "        allowed.\n",
    "    '''\n",
    "    p = np.zeros(G.number_of_nodes())\n",
    "    r = np.zeros(G.number_of_nodes())\n",
    "    \n",
    "    #For quickly checking which vertices are in the queue\n",
    "    in_queue = array.array('B', [0] * G.number_of_nodes())\n",
    "  \n",
    "    Q = queue.Queue(maxsize=G.number_of_nodes()) \n",
    "    \n",
    "    #Initialization\n",
    "    idx_v = idx[v]\n",
    "    in_queue[idx_v] = 1\n",
    "    r[idx_v] = 1.\n",
    "    Q.put(v)\n",
    "    \n",
    "    while Q.empty() is False:\n",
    "        \n",
    "        #Retrieving vertex from queue\n",
    "        u = Q.get()\n",
    "        idx_u = idx[u]\n",
    "        deg_u = G.degree(u, weight=weight)\n",
    "        \n",
    "        while (r[idx_u] / deg_u) < epsilon and Q.empty() is False:\n",
    "            in_queue[idx_u] = 0   \n",
    "            u = Q.get()\n",
    "            idx_u = idx[u]\n",
    "            deg_u = G.degree(u, weight=weight)\n",
    "            \n",
    "        while (r[idx_u] / deg_u) >= epsilon:\n",
    "            #Push for vertex u.\n",
    "            p, r = push(G, u, p, r, alpha, idx, weight)\n",
    "            \n",
    "            #Checking whether neighbors of u should be added to queue\n",
    "            for n in G.neighbors(u):\n",
    "                idx_n = idx[n]\n",
    "                deg_n = G.degree(n, weight=weight)\n",
    "                \n",
    "                if r[idx_n] / deg_n >= epsilon and in_queue[idx_n] != 1:\n",
    "                    in_queue[idx_n] = 1\n",
    "                    Q.put(n)\n",
    "                                        \n",
    "        in_queue[idx_u] = 0\n",
    "                    \n",
    "    return p\n",
    "\n",
    "def sweep(G, p, idx, weight):\n",
    "    '''\n",
    "        Sweeping algorithm for computing the cut (S,V/S) with minimum conductance based on \n",
    "        vertices sorted according to their value in the probability vector p.\n",
    "    '''\n",
    "    sweep_vec = {}\n",
    "    total_vol = 0.\n",
    "    min_conduct = sys.float_info.max\n",
    "    best_cut = None\n",
    "    \n",
    "    for v in G.nodes():\n",
    "        #value = p[v] / deg[v]\n",
    "        sweep_vec[v] = p[idx[v]] / G.degree(v, weight=weight)\n",
    "        total_vol = total_vol + G.degree(v, weight=weight)\n",
    "        \n",
    "    sorted_sweep_vec = sorted(sweep_vec.items(), key=operator.itemgetter(1), reverse=True)\n",
    "    vol = 0.\n",
    "    cut = 0.\n",
    "    \n",
    "    #For quickly checking vertices in the set S\n",
    "    in_s = array.array('B', [0] * G.number_of_nodes())\n",
    "            \n",
    "    for i in range(len(sorted_sweep_vec)-1):\n",
    "        v = sorted_sweep_vec[i][0]\n",
    "        \n",
    "        #Updating volume of S\n",
    "        vol = vol + G.degree(v, weight=weight)\n",
    "        min_vol = min(vol, total_vol-vol)\n",
    "        \n",
    "        #Updating total weight of the cut\n",
    "        for u in G.neighbors(v):\n",
    "            if weight is None:\n",
    "                w = 1.\n",
    "            else:\n",
    "                w = G[u][v][weight]\n",
    "                    \n",
    "            if in_s[idx[u]] == 1:\n",
    "                cut = cut - w\n",
    "            else:\n",
    "                cut = cut + w\n",
    "                \n",
    "        in_s[idx[v]] = 1\n",
    "        \n",
    "        #conductance\n",
    "        conduct = cut / min_vol\n",
    "        \n",
    "        #print(\"cut = \", cut, \" conductance = \", conduct, \" min_vol = \", min_vol, \" min_conductance = \", min_conduct)\n",
    "        \n",
    "        if conduct <= min_conduct:\n",
    "            min_conduct = conduct\n",
    "            best_cut = i\n",
    "          \n",
    "    #Creating set S for the optimal cut    \n",
    "    S = []\n",
    "    for i in range(best_cut+1):\n",
    "        S.append(sorted_sweep_vec[i][0])\n",
    "        \n",
    "    return S, min_conduct\n",
    "\n",
    "def pagerank_cut(G, v,  alpha, epsilon, weight):\n",
    "    '''\n",
    "        Algorithm for minimum conductance cut (S,V/S) around the neighborhood\n",
    "        of a particular vertex v. Approximate pagerank vector can be computed\n",
    "        fast based on local updates. Cut is computed using a sweep procedure\n",
    "        over pagerank vector.\n",
    "    '''\n",
    "    idx = create_idx(G)\n",
    "    p = approximate_pagerank(G, v, alpha, epsilon, idx, weight)\n",
    "    S, conduct = sweep(G, p, idx, weight)\n",
    "    \n",
    "    probs = {}\n",
    "    for v in G.nodes():\n",
    "        probs[v] = p[idx[v]]\n",
    "    \n",
    "    return S, probs, conduct\n",
    "\n",
    "G = nx.karate_club_graph()\n",
    "v = 0\n",
    "S, probs, conduct = pagerank_cut(G, v,  .01, 0.01, None)\n",
    "\n",
    "P1 = []\n",
    "P2 = []\n",
    "labels = {}\n",
    "\n",
    "for u in G.nodes():\n",
    "    labels[u] = np.around(probs[u], decimals=2)\n",
    "    if u not in S:\n",
    "        P2.append(u)\n",
    "    elif u != v:\n",
    "        P1.append(u)\n",
    "\n",
    "pos = nx.fruchterman_reingold_layout(G)\n",
    "\n",
    "nx.draw_networkx_nodes(G,pos,node_color='red', nodelist=P1,node_size=300, alpha=0.5)\n",
    "nx.draw_networkx_nodes(G,pos,node_color='blue', nodelist=P2,node_size=300, alpha=0.5)\n",
    "nx.draw_networkx_nodes(G,pos,node_color='red', nodelist=[v],node_size=500, node_shape='s')\n",
    "nx.draw_networkx_labels(G,pos=pos,labels=labels,font_size=10)\n",
    "nx.draw_networkx_edges(G, pos, width=2, edge_color='black', style='solid', alpha=0.5)\n",
    "\n",
    "limits=plt.axis('off')\n",
    "plt.savefig(\"pagerank_cut.png\", bbox_inches='tight', pad_inches=0, dpi=1000) \n",
    "plt.show() "
   ]
  },
  {
   "cell_type": "code",
   "execution_count": 109,
   "metadata": {},
   "outputs": [
    {
     "data": {
      "text/plain": [
       "{0: 0.11731583868654788,\n",
       " 1: 0.053792510236789,\n",
       " 2: 0.055373349029618664,\n",
       " 3: 0.036509313626549716,\n",
       " 4: 0.02034488003133287,\n",
       " 5: 0.026739841807770354,\n",
       " 6: 0.026752474349439132,\n",
       " 7: 0.0243974197686955,\n",
       " 8: 0.027173437755281343,\n",
       " 9: 0.010213775636167086,\n",
       " 10: 0.020357512578127575,\n",
       " 11: 0.0071673130916422856,\n",
       " 12: 0.013131438629553478,\n",
       " 13: 0.029193808451711718,\n",
       " 14: 0.009527845655530668,\n",
       " 15: 0.009527845655530668,\n",
       " 16: 0.013088616253128167,\n",
       " 17: 0.013025872925719348,\n",
       " 18: 0.009527845655530668,\n",
       " 19: 0.017822261608735537,\n",
       " 20: 0.009527845655530668,\n",
       " 21: 0.013025872925719348,\n",
       " 22: 0.009527845655530668,\n",
       " 23: 0.023575487641905781,\n",
       " 24: 0.01454795375675989,\n",
       " 25: 0.01442837853566142,\n",
       " 26: 0.0093692142281897178,\n",
       " 27: 0.019548837401201127,\n",
       " 28: 0.01527682625841301,\n",
       " 29: 0.018701403993761093,\n",
       " 30: 0.020693568975494007,\n",
       " 31: 0.031114269788417127,\n",
       " 32: 0.058046836943592243,\n",
       " 33: 0.083531653290369406}"
      ]
     },
     "execution_count": 109,
     "metadata": {},
     "output_type": "execute_result"
    }
   ],
   "source": [
    "probs"
   ]
  },
  {
   "cell_type": "code",
   "execution_count": 104,
   "metadata": {},
   "outputs": [
    {
     "data": {
      "text/plain": [
       "NodeView((0, 1, 2, 3, 4, 5, 6, 7, 8, 9, 10, 11, 12, 13, 14, 15, 16, 17, 18, 19, 20, 21, 22, 23, 24, 25, 26, 27, 28, 29, 30, 31, 32, 33))"
      ]
     },
     "execution_count": 104,
     "metadata": {},
     "output_type": "execute_result"
    }
   ],
   "source": [
    "G.nodes()"
   ]
  },
  {
   "cell_type": "code",
   "execution_count": 7,
   "metadata": {},
   "outputs": [
    {
     "data": {
      "text/plain": [
       "<5x5 sparse matrix of type '<class 'numpy.float64'>'\n",
       "\twith 25 stored elements in Compressed Sparse Row format>"
      ]
     },
     "execution_count": 7,
     "metadata": {},
     "output_type": "execute_result"
    }
   ],
   "source": [
    "scipy.sparse.csr_matrix(np.random.random((5,5)))"
   ]
  },
  {
   "cell_type": "code",
   "execution_count": null,
   "metadata": {},
   "outputs": [],
   "source": []
  }
 ],
 "metadata": {
  "kernelspec": {
   "display_name": "Python 3",
   "language": "python",
   "name": "python3"
  },
  "language_info": {
   "codemirror_mode": {
    "name": "ipython",
    "version": 3
   },
   "file_extension": ".py",
   "mimetype": "text/x-python",
   "name": "python",
   "nbconvert_exporter": "python",
   "pygments_lexer": "ipython3",
   "version": "3.7.4"
  }
 },
 "nbformat": 4,
 "nbformat_minor": 2
}
