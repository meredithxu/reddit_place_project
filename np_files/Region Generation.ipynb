{
 "cells": [
  {
   "cell_type": "markdown",
   "metadata": {},
   "source": [
    "# Region Generation\n",
    "\n",
    "This notebok will separate the data into all the updates for a particular project.\n",
    "\n",
    "Take the tile_placements data and separate it out into frames. A frame is a subset of the data.\n",
    "The data can be split up into frames based on time (e.g. 1 frame is 30 minutes of data) or by number of updates (e.g. 1 frame is 1 million updates). Every update can only belong to one frame.\n",
    "After creating the frames, create a graph where every pixel is a node. A single pixel will be a vector of all the different updates that happened within that one frame.\n",
    "\n",
    "We want to do a min-cut on the graph so that every graph partition represents one image. To select the edge weights, we want edges between pixels within the same image to have a large weight and edges between pixels of different images should have small weights. \n",
    "\n",
    "After we do graph partitions within one frame, we want to connect the frames together. \n",
    "\n",
    "\n",
    "The ultimate goal is to connect the frames that hold all the updates for a single project and to train a CNN on this data\n",
    "\n",
    "## Progress Updates:\n",
    "##### May 15, 2019  \n",
    "\n",
    "To start out, we will try to split based on updates because there is a large surge of updates near the end, so if we split by time, then the frames near the end will have significantly more updates than frames in the beginning.\n",
    "There are 16 million datapoints, so we will split 100,000 updates per frame, which will result in 160 frames.\n",
    "Frames will be stored as CSV files into the folder ../data/frames"
   ]
  },
  {
   "cell_type": "code",
   "execution_count": 1,
   "metadata": {},
   "outputs": [],
   "source": [
    "import csv\n",
    "import networkx as nx"
   ]
  },
  {
   "cell_type": "code",
   "execution_count": 7,
   "metadata": {},
   "outputs": [
    {
     "name": "stdout",
     "output_type": "stream",
     "text": [
      "Num updates:  16559897\n",
      "DONE\n"
     ]
    }
   ],
   "source": [
    "# All the frames will be stored in data/frames\n",
    "filecount = 0\n",
    "framesize = 100000  # Number of updates per frame\n",
    "filename = \"../data/tile_placements.csv\"\n",
    "\n",
    "num_updates = 0\n",
    "with open(filename) as f:\n",
    "    num_updates = sum(1 for line in f)\n",
    "\n",
    "num_updates -= 1 # Subtract one to account for the header\n",
    "print(\"Num updates: \", num_updates)\n",
    "with open(filename,'r') as file_in:\n",
    "    \n",
    "    # Skip the header row\n",
    "    next(file_in, None)\n",
    "    reader = csv.reader(file_in)\n",
    "    rows = list(reader)\n",
    "    while (filecount < int(num_updates / framesize) + 1 ):\n",
    "        # Skip first line (header row)\n",
    "        output_filename = \"../data/frames/frame\" + str(filecount) + \".csv\"\n",
    "        with open(output_filename, 'w') as file_out:\n",
    "            writer = csv.writer(file_out, delimiter = \",\")\n",
    "            writer.writerow([\"ts\", \"user\" ,\"x_coordinate\" ,\"y_coordinate\" ,\"color\"])\n",
    "\n",
    "            for i in range(filecount * framesize, (filecount * framesize) + framesize):\n",
    "                if (i < num_updates):\n",
    "                    writer.writerow(rows[i])\n",
    "        filecount += 1\n",
    "\n",
    "print(\"DONE\")"
   ]
  },
  {
   "cell_type": "code",
   "execution_count": null,
   "metadata": {},
   "outputs": [],
   "source": [
    "# Create a graph where every pixel within a frame has an edge to its r nearest neighbors\n",
    "def create_graph(frame_filename, r = 1)\n",
    "    \n",
    "    # First, parse through the frame and create a bunch of vectors, where each vector represents a pixel.\n",
    "    # Each element of the vector represents one update to the pixel\n",
    "    # Format of the pixels dictionary:\n",
    "    '''\n",
    "        {\n",
    "            (x, y) : (ts, user, color)\n",
    "        }\n",
    "    '''\n",
    "    pixels = dict()\n",
    "    \n",
    "    with open(frame_filename, 'r') as file:\n",
    "        \n",
    "        # Skip the header row\n",
    "        next(file_in, None)\n",
    "        reader = csv.reader(frame_filename)\n",
    "    \n",
    "        # Each row has format: [ts,user,x_coordinate,y_coordinate,color]\n",
    "        for r in reader:\n",
    "            ts = r[0]\n",
    "            user = r[1]\n",
    "            x = int(r[2])\n",
    "            y = int(r[3])\n",
    "            color = r[4]\n",
    "            \n",
    "            if (pixels.get((x, y)) == None):\n",
    "                pixels[(x,y)] = list()\n",
    "            \n",
    "            pixels[(x,y)].append((ts, user, color))\n",
    "            \n",
    "    \n",
    "    # Now, place all the pixels in a graph where there is an edge between every pixel and its neighbors that are r away\n",
    "    G = nx.Graph()\n",
    "    \n",
    "    \n",
    "    \n",
    "    return G"
   ]
  }
 ],
 "metadata": {
  "kernelspec": {
   "display_name": "Python 3",
   "language": "python",
   "name": "python3"
  },
  "language_info": {
   "codemirror_mode": {
    "name": "ipython",
    "version": 3
   },
   "file_extension": ".py",
   "mimetype": "text/x-python",
   "name": "python",
   "nbconvert_exporter": "python",
   "pygments_lexer": "ipython3",
   "version": "3.6.3"
  }
 },
 "nbformat": 4,
 "nbformat_minor": 2
}
