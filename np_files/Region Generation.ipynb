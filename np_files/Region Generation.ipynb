{
 "cells": [
  {
   "cell_type": "markdown",
   "metadata": {},
   "source": [
    "# Region Generation\n",
    "\n",
    "This notebok will separate the data into all the updates for a particular project.\n",
    "\n",
    "Take the tile_placements data and separate it out into frames. A frame is a subset of the data.\n",
    "The data can be split up into frames based on time (e.g. 1 frame is 30 minutes of data) or by number of updates (e.g. 1 frame is 1 million updates). Every update can only belong to one frame.\n",
    "After creating the frames, create a graph where every pixel is a node. A single pixel will be a vector of all the different updates that happened within that one frame.\n",
    "\n",
    "We want to do a min-cut on the graph so that every graph partition represents one image. To select the edge weights, we want edges between pixels within the same image to have a large weight and edges between pixels of different images should have small weights. \n",
    "\n",
    "After we do graph partitions within one frame, we want to connect the frames together. \n",
    "\n",
    "\n",
    "The ultimate goal is to connect the frames that hold all the updates for a single project and to train a CNN on this data\n",
    "\n",
    "## Progress Updates:\n",
    "##### May 15, 2019  \n",
    "\n",
    "To start out, we will try to split based on updates because there is a large surge of updates near the end, so if we split by time, then the frames near the end will have significantly more updates than frames in the beginning.\n",
    "There are 16 million datapoints, so we will split 100,000 updates per frame, which will result in 160 frames.\n",
    "Frames will be stored as CSV files into the folder ../data/frames\n",
    "\n",
    "##### May 17, 2019\n",
    "\n",
    "Heirustics: Same color and same user should have a weight of 0. "
   ]
  },
  {
   "cell_type": "code",
   "execution_count": 4,
   "metadata": {},
   "outputs": [],
   "source": [
    "import csv\n",
    "import numpy as np\n",
    "import networkx as nx"
   ]
  },
  {
   "cell_type": "code",
   "execution_count": 22,
   "metadata": {},
   "outputs": [],
   "source": [
    "'''\n",
    "    If fixed_framesize is True, then the each frame will contain the same number of updates equal to the framesize parameter\n",
    "    The frametime parameter will be ignored.\n",
    "    Default framesize is 1 million updates\n",
    "    \n",
    "    If fixed_framesize is False, then each frame will specify a certain timespan. The duration of one frame is the frametime parameter.\n",
    "    The framesize parameter will be ignored.\n",
    "    Default frametime is 3 hours (10800 seconds)\n",
    "'''\n",
    "def create_frames( fixed_framesize = True, framesize = 1000000, frametime = 10800, filename = \"../data/tile_placements.csv\"):\n",
    "    # All the frames will be stored in data/frames\n",
    "    filecount = 0\n",
    "\n",
    "    num_updates = 0\n",
    "    oldest_time = None\n",
    "    newest_time = None\n",
    "    with open(filename) as f:\n",
    "        # Skip the header row\n",
    "        next(f, None)\n",
    "        reader = csv.reader(f)\n",
    "        for r in reader:\n",
    "            num_updates += 1\n",
    "            time = int(r[0])\n",
    "            \n",
    "            if oldest_time == None or time < oldest_time:\n",
    "                oldest_time = time\n",
    "            if newest_time == None or time > newest_time:\n",
    "                newest_time = time\n",
    "            \n",
    "\n",
    "\n",
    "    frames = list()\n",
    "\n",
    "    num_updates -= 1 # Subtract one to account for the header\n",
    "    print(\"Num updates: \", num_updates)\n",
    "    with open(filename,'r') as file_in:\n",
    "\n",
    "        # Skip the header row\n",
    "        next(file_in, None)\n",
    "        reader = csv.reader(file_in)\n",
    "        rows = list(reader)\n",
    "        \n",
    "        if (fixed_framesize):\n",
    "            while (filecount < int(num_updates / framesize) + 1 ):\n",
    "\n",
    "                frames.append([])\n",
    "\n",
    "                for i in range(filecount * framesize, (filecount * framesize) + framesize):\n",
    "                    if (i < num_updates):\n",
    "                        frames[filecount].append(rows[i])\n",
    "\n",
    "                filecount += 1\n",
    "        else:\n",
    "            timespan = newest_time - oldest_time\n",
    "            num_frames = int(timespan / frametime) + 1\n",
    "            for i in range(num_frames):\n",
    "                frames.append([])\n",
    "            \n",
    "            for update in rows:\n",
    "                frames_index = int((int(update[0]) - oldest_time)/timespan)\n",
    "                frames[frames_index].append(update)\n",
    "                \n",
    "            \n",
    "    frames = np.array(frames)\n",
    "    print(\"DONE\")\n",
    "    return frames\n"
   ]
  },
  {
   "cell_type": "code",
   "execution_count": 17,
   "metadata": {},
   "outputs": [],
   "source": [
    "# Create a graph where every pixel within a frame has an edge to its r nearest neighbors\n",
    "def create_graph(frames, r = 1):\n",
    "    \n",
    "    num_lines = 0\n",
    "    \n",
    "    # Create a list of networkx Graphs. One for every frame. \n",
    "    # Each pixel will be a node and there will be an edge between that node and its r nearest neighbors\n",
    "    graphs = list()\n",
    "    \n",
    "    for frame in frames:\n",
    "        # First, parse through the frame and create a bunch of vectors, where each vector represents a pixel.\n",
    "        # Each element of the vector represents one update to the pixel\n",
    "        # Format of the pixels dictionary:\n",
    "        '''\n",
    "            {\n",
    "                (x, y) : (\"ts\", \"user\", \"color\")\n",
    "            }\n",
    "        '''\n",
    "        pixels = dict()\n",
    "        \n",
    "        for pixel in frame:\n",
    "            ts = pixel[0]\n",
    "            user = pixel[1]\n",
    "            x = int(pixel[2])\n",
    "            y = int(pixel[3])\n",
    "            color = pixel[4]\n",
    "        \n",
    "            if (pixels.get((x, y)) == None):\n",
    "                pixels[(x,y)] = list()\n",
    "            \n",
    "            pixels[(x,y)].append((ts, user, color))\n",
    "   \n",
    "    \n",
    "        # Now, place all the pixels in a graph where there is an edge between every pixel and its neighbors that are r away\n",
    "        G = nx.Graph()\n",
    "        for coordinates in pixels:\n",
    "            G.add_node(coordinates)\n",
    "\n",
    "        for (x,y) in pixels:\n",
    "            for distance in range(1, r + 1):\n",
    "                if pixels.get((x+distance,y)) != None:\n",
    "                    G.add_edge((x,y), ((x+1,y)))\n",
    "\n",
    "                if pixels.get((x,y+distance)) != None:\n",
    "                    G.add_edge((x,y), ((x,y+1)))\n",
    "\n",
    "                if pixels.get((x-distance,y)) != None:\n",
    "                    G.add_edge((x,y), ((x-1,y)))\n",
    "\n",
    "                if pixels.get((x,y-distance)) != None:\n",
    "                    G.add_edge((x,y), ((x,y-1)))    \n",
    "    \n",
    "        # Each networkx graph will be stored as a tuple\n",
    "        # The first element is the graph. The second element is a dictionary containing data about each pixel\n",
    "        graphs.append((G, pixels))\n",
    "    \n",
    "    return graphs"
   ]
  },
  {
   "cell_type": "markdown",
   "metadata": {},
   "source": [
    "We will now add weights to all the edges.\n",
    "Pixels that are in the same image should have larger weights.\n",
    "Pixels that are in different images should have smaller weights.\n",
    "\n",
    "Each x,y cooridnate has many updates placed there.\n",
    "We first tried assigning weights based on most recent color."
   ]
  },
  {
   "cell_type": "code",
   "execution_count": null,
   "metadata": {},
   "outputs": [],
   "source": [
    "\n",
    "def add_edge_weights(graphs):\n",
    "    for (graph, pixels_dict) in graphs:\n",
    "        all_edges = list(graph.edges())\n",
    "        for edge in all_edges:\n",
    "            node1 = edge[0]\n",
    "            node2 = edge[1]\n",
    "            \n",
    "            \n",
    "            \n",
    "            \n",
    "        "
   ]
  },
  {
   "cell_type": "code",
   "execution_count": 19,
   "metadata": {},
   "outputs": [
    {
     "name": "stdout",
     "output_type": "stream",
     "text": [
      "Num updates:  16559896\n"
     ]
    }
   ],
   "source": [
    "frames = create_frames()\n",
    "G = create_graph(frames)"
   ]
  },
  {
   "cell_type": "code",
   "execution_count": 23,
   "metadata": {},
   "outputs": [
    {
     "name": "stdout",
     "output_type": "stream",
     "text": [
      "Num updates:  16559896\n",
      "DONE\n"
     ]
    }
   ],
   "source": [
    "frames2 = create_frames(fixed_framesize = False)\n",
    "G2 = create_graph(frames2)"
   ]
  },
  {
   "cell_type": "code",
   "execution_count": null,
   "metadata": {},
   "outputs": [],
   "source": []
  }
 ],
 "metadata": {
  "kernelspec": {
   "display_name": "Python 3",
   "language": "python",
   "name": "python3"
  },
  "language_info": {
   "codemirror_mode": {
    "name": "ipython",
    "version": 3
   },
   "file_extension": ".py",
   "mimetype": "text/x-python",
   "name": "python",
   "nbconvert_exporter": "python",
   "pygments_lexer": "ipython3",
   "version": "3.6.3"
  }
 },
 "nbformat": 4,
 "nbformat_minor": 2
}
