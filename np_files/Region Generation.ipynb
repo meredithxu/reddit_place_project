{
 "cells": [
  {
   "cell_type": "markdown",
   "metadata": {},
   "source": [
    "# Region Generation\n",
    "\n",
    "This notebok will separate the data into all the updates for a particular project.\n",
    "\n",
    "Take the tile_placements data and separate it out into frames. A frame is a subset of the data.\n",
    "The data can be split up into frames based on time (e.g. 1 frame is 30 minutes of data) or by number of updates (e.g. 1 frame is 1 million updates). Every update can only belong to one frame.\n",
    "After creating the frames, create a graph where every pixel is a node. A single pixel will be a vector of all the different updates that happened within that one frame.\n",
    "\n",
    "We want to do a min-cut on the graph so that every graph partition represents one image. To select the edge weights, we want edges between pixels within the same image to have a large weight and edges between pixels of different images should have small weights. \n",
    "\n",
    "After we do graph partitions within one frame, we want to connect the frames together. \n",
    "\n",
    "\n",
    "The ultimate goal is to connect the frames that hold all the updates for a single project and to train a CNN on this data\n",
    "\n",
    "## Progress Updates:\n",
    "##### May 15, 2019  \n",
    "\n",
    "To start out, we will try to split based on updates because there is a large surge of updates near the end, so if we split by time, then the frames near the end will have significantly more updates than frames in the beginning.\n",
    "There are 16 million datapoints, so we will split 100,000 updates per frame, which will result in 160 frames.\n",
    "Frames will be stored as CSV files into the folder ../data/frames\n",
    "\n",
    "##### May 17, 2019\n",
    "\n",
    "Heirustics: Same color and same user should have a weight of 0. "
   ]
  },
  {
   "cell_type": "code",
   "execution_count": 3,
   "metadata": {},
   "outputs": [],
   "source": [
    "import csv\n",
    "import numpy as np\n",
    "import networkx as nx\n",
    "import math\n",
    "import matplotlib.pyplot as plt"
   ]
  },
  {
   "cell_type": "code",
   "execution_count": 4,
   "metadata": {},
   "outputs": [],
   "source": [
    "'''\n",
    "    If fixed_framesize is True, then the each frame will contain the same number of updates equal to the framesize parameter\n",
    "    The frametime parameter will be ignored.\n",
    "    Default framesize is 1 million updates\n",
    "    \n",
    "    If fixed_framesize is False, then each frame will specify a certain timespan. The duration of one frame is the frametime parameter.\n",
    "    The framesize parameter will be ignored.\n",
    "    Default frametime is 3 hours (10800 seconds)\n",
    "'''\n",
    "def create_frames( fixed_framesize = True, framesize = 1000000, frametime = 10800, filename = \"../data/sorted_tile_placements.csv\"):\n",
    "    # All the frames will be stored in data/frames\n",
    "    filecount = 0\n",
    "\n",
    "    num_updates = 0\n",
    "    oldest_time = None\n",
    "    newest_time = None\n",
    "    with open(filename) as f:\n",
    "        # Skip the header row\n",
    "        next(f, None)\n",
    "        reader = csv.reader(f)\n",
    "        for r in reader:\n",
    "            num_updates += 1\n",
    "            time = int(r[0])\n",
    "            \n",
    "            if oldest_time == None or time < oldest_time:\n",
    "                oldest_time = time\n",
    "            if newest_time == None or time > newest_time:\n",
    "                newest_time = time\n",
    "            \n",
    "\n",
    "\n",
    "    frames = list()\n",
    "\n",
    "    num_updates -= 1 # Subtract one to account for the header\n",
    "    print(\"Num updates: \", num_updates)\n",
    "    with open(filename,'r') as file_in:\n",
    "\n",
    "        # Skip the header row\n",
    "        next(file_in, None)\n",
    "        reader = csv.reader(file_in)\n",
    "        rows = list(reader)\n",
    "        \n",
    "        if (fixed_framesize):\n",
    "            while (filecount < int(num_updates / framesize) + 1 ):\n",
    "\n",
    "                frames.append([])\n",
    "\n",
    "                for i in range(filecount * framesize, (filecount * framesize) + framesize):\n",
    "                    if (i < num_updates):\n",
    "                        frames[filecount].append(rows[i])\n",
    "\n",
    "                filecount += 1\n",
    "        else:\n",
    "            timespan = newest_time - oldest_time\n",
    "            num_frames = int(timespan / frametime) + 1\n",
    "            for i in range(num_frames):\n",
    "                frames.append([])\n",
    "            \n",
    "            for update in rows:\n",
    "                frames_index = int((int(update[0]) - oldest_time)/timespan)\n",
    "                frames[frames_index].append(update)\n",
    "                \n",
    "            \n",
    "    frames = np.array(frames)\n",
    "    print(\"DONE\")\n",
    "    return frames\n"
   ]
  },
  {
   "cell_type": "code",
   "execution_count": 5,
   "metadata": {},
   "outputs": [],
   "source": [
    "# Create a graph where every pixel within a frame has an edge to its r nearest neighbors and within time t\n",
    "def create_graph(frames, r = 1, t = 1000):\n",
    "    \n",
    "    num_lines = 0\n",
    "    \n",
    "    # Create a list of networkx Graphs. One for every frame. \n",
    "    # Each pixel will be a node and there will be an edge between that node and its r nearest neighbors and within time t\n",
    "    graphs = list()\n",
    "    for frame in frames:\n",
    "        G = nx.Graph()\n",
    "        for i in range(0, len(frame)):\n",
    "            pixel_1 = frame[i]\n",
    "            for j in range(i+1, len(frame)):\n",
    "                pixel_2 = frame[j]\n",
    "                ts1 = int(pixel_1[0])\n",
    "                ts2 = int(pixel_2[0])\n",
    "                if ts2 - ts1 > t:\n",
    "                    break\n",
    "                x1 = int(pixel_1[2])\n",
    "                y1 = int(pixel_1[3])\n",
    "                x2 = int(pixel_2[2])\n",
    "                y2 = int(pixel_2[3])\n",
    "                user1 = pixel_1[1]\n",
    "                user2 = pixel_2[1]\n",
    "                color1 = pixel_1[4]\n",
    "                color2 = pixel_2[4]\n",
    "                if math.fabs(x1-x2) <= r and math.fabs(y1-y2):\n",
    "                    pixel_tup1 = (ts1,user1,x1,y1,color1)\n",
    "                    pixel_tup2 = (ts2,user2,x2,y2,color2)\n",
    "                    G.add_edge(pixel_tup1, pixel_tup2, weight=1)\n",
    "        graphs.append(G)\n",
    "    return graphs"
   ]
  },
  {
   "cell_type": "markdown",
   "metadata": {},
   "source": [
    "We will now add weights to all the edges.\n",
    "Pixels that are in the same image should have larger weights.\n",
    "Pixels that are in different images should have smaller weights.\n",
    "\n",
    "every update is represented in different node.\n",
    "We first assign weights to edges whose endpoints represent updates with same color"
   ]
  },
  {
   "cell_type": "code",
   "execution_count": 6,
   "metadata": {},
   "outputs": [],
   "source": [
    "def add_edge_weights(graphs):\n",
    "    for graph in graphs:\n",
    "        all_edges = list(graph.edges())\n",
    "        for edge in all_edges:\n",
    "            node1 = edge[0]\n",
    "            node2 = edge[1]\n",
    "            if node1[1] == node2[1] or node1[4] == node2[4]:\n",
    "                graph[node1][node2]['weight'] = 10"
   ]
  },
  {
   "cell_type": "code",
   "execution_count": 9,
   "metadata": {},
   "outputs": [
    {
     "name": "stdout",
     "output_type": "stream",
     "text": [
      "Num updates:  16559896\n",
      "DONE\n"
     ]
    },
    {
     "ename": "KeyboardInterrupt",
     "evalue": "",
     "output_type": "error",
     "traceback": [
      "\u001b[0;31m---------------------------------------------------------------------------\u001b[0m",
      "\u001b[0;31mKeyboardInterrupt\u001b[0m                         Traceback (most recent call last)",
      "\u001b[0;32m<ipython-input-9-b53d746c3707>\u001b[0m in \u001b[0;36m<module>\u001b[0;34m\u001b[0m\n\u001b[1;32m      1\u001b[0m \u001b[0mframes\u001b[0m \u001b[0;34m=\u001b[0m \u001b[0mcreate_frames\u001b[0m\u001b[0;34m(\u001b[0m\u001b[0;34m)\u001b[0m\u001b[0;34m\u001b[0m\u001b[0;34m\u001b[0m\u001b[0m\n\u001b[0;32m----> 2\u001b[0;31m \u001b[0mG\u001b[0m \u001b[0;34m=\u001b[0m \u001b[0mcreate_graph\u001b[0m\u001b[0;34m(\u001b[0m\u001b[0mframes\u001b[0m\u001b[0;34m)\u001b[0m\u001b[0;34m\u001b[0m\u001b[0;34m\u001b[0m\u001b[0m\n\u001b[0m",
      "\u001b[0;32m<ipython-input-8-2c237c30bc3e>\u001b[0m in \u001b[0;36mcreate_graph\u001b[0;34m(frames, r, t)\u001b[0m\n\u001b[1;32m     13\u001b[0m             \u001b[0;32mfor\u001b[0m \u001b[0mj\u001b[0m \u001b[0;32min\u001b[0m \u001b[0mrange\u001b[0m\u001b[0;34m(\u001b[0m\u001b[0mi\u001b[0m\u001b[0;34m+\u001b[0m\u001b[0;36m1\u001b[0m\u001b[0;34m,\u001b[0m \u001b[0mlen\u001b[0m\u001b[0;34m(\u001b[0m\u001b[0mframe\u001b[0m\u001b[0;34m)\u001b[0m\u001b[0;34m)\u001b[0m\u001b[0;34m:\u001b[0m\u001b[0;34m\u001b[0m\u001b[0;34m\u001b[0m\u001b[0m\n\u001b[1;32m     14\u001b[0m                 \u001b[0mpixel_2\u001b[0m \u001b[0;34m=\u001b[0m \u001b[0mframe\u001b[0m\u001b[0;34m[\u001b[0m\u001b[0mj\u001b[0m\u001b[0;34m]\u001b[0m\u001b[0;34m\u001b[0m\u001b[0;34m\u001b[0m\u001b[0m\n\u001b[0;32m---> 15\u001b[0;31m                 \u001b[0mts1\u001b[0m \u001b[0;34m=\u001b[0m \u001b[0mint\u001b[0m\u001b[0;34m(\u001b[0m\u001b[0mpixel_1\u001b[0m\u001b[0;34m[\u001b[0m\u001b[0;36m0\u001b[0m\u001b[0;34m]\u001b[0m\u001b[0;34m)\u001b[0m\u001b[0;34m\u001b[0m\u001b[0;34m\u001b[0m\u001b[0m\n\u001b[0m\u001b[1;32m     16\u001b[0m                 \u001b[0mts2\u001b[0m \u001b[0;34m=\u001b[0m \u001b[0mint\u001b[0m\u001b[0;34m(\u001b[0m\u001b[0mpixel_2\u001b[0m\u001b[0;34m[\u001b[0m\u001b[0;36m0\u001b[0m\u001b[0;34m]\u001b[0m\u001b[0;34m)\u001b[0m\u001b[0;34m\u001b[0m\u001b[0;34m\u001b[0m\u001b[0m\n\u001b[1;32m     17\u001b[0m                 \u001b[0;32mif\u001b[0m \u001b[0mts2\u001b[0m \u001b[0;34m-\u001b[0m \u001b[0mts1\u001b[0m \u001b[0;34m>\u001b[0m \u001b[0mt\u001b[0m\u001b[0;34m:\u001b[0m\u001b[0;34m\u001b[0m\u001b[0;34m\u001b[0m\u001b[0m\n",
      "\u001b[0;31mKeyboardInterrupt\u001b[0m: "
     ]
    }
   ],
   "source": [
    "frames = create_frames()\n",
    "G = create_graph(frames)"
   ]
  },
  {
   "cell_type": "code",
   "execution_count": 7,
   "metadata": {},
   "outputs": [
    {
     "ename": "NameError",
     "evalue": "name 'G' is not defined",
     "output_type": "error",
     "traceback": [
      "\u001b[0;31m---------------------------------------------------------------------------\u001b[0m",
      "\u001b[0;31mNameError\u001b[0m                                 Traceback (most recent call last)",
      "\u001b[0;32m<ipython-input-7-0071f1ede9d2>\u001b[0m in \u001b[0;36m<module>\u001b[0;34m\u001b[0m\n\u001b[1;32m      1\u001b[0m \u001b[0;31m#save all the graphs as pickles. Framing by updates.\u001b[0m\u001b[0;34m\u001b[0m\u001b[0;34m\u001b[0m\u001b[0;34m\u001b[0m\u001b[0m\n\u001b[0;32m----> 2\u001b[0;31m \u001b[0;32mfor\u001b[0m \u001b[0mi\u001b[0m \u001b[0;32min\u001b[0m \u001b[0mrange\u001b[0m\u001b[0;34m(\u001b[0m\u001b[0mlen\u001b[0m\u001b[0;34m(\u001b[0m\u001b[0mG\u001b[0m\u001b[0;34m)\u001b[0m\u001b[0;34m)\u001b[0m\u001b[0;34m:\u001b[0m\u001b[0;34m\u001b[0m\u001b[0;34m\u001b[0m\u001b[0m\n\u001b[0m\u001b[1;32m      3\u001b[0m     \u001b[0mfilename\u001b[0m \u001b[0;34m=\u001b[0m \u001b[0;34m\"../data/frame_pickles/frame_update\"\u001b[0m\u001b[0;34m+\u001b[0m\u001b[0mstr\u001b[0m\u001b[0;34m(\u001b[0m\u001b[0mi\u001b[0m\u001b[0;34m)\u001b[0m\u001b[0;34m+\u001b[0m\u001b[0;34m\".gpickle\"\u001b[0m\u001b[0;34m\u001b[0m\u001b[0;34m\u001b[0m\u001b[0m\n\u001b[1;32m      4\u001b[0m     \u001b[0mnx\u001b[0m\u001b[0;34m.\u001b[0m\u001b[0mreadwrite\u001b[0m\u001b[0;34m.\u001b[0m\u001b[0mgpickle\u001b[0m\u001b[0;34m.\u001b[0m\u001b[0mwrite_gpickle\u001b[0m\u001b[0;34m(\u001b[0m\u001b[0mG\u001b[0m\u001b[0;34m[\u001b[0m\u001b[0mi\u001b[0m\u001b[0;34m]\u001b[0m\u001b[0;34m,\u001b[0m\u001b[0mfilename\u001b[0m\u001b[0;34m)\u001b[0m\u001b[0;34m\u001b[0m\u001b[0;34m\u001b[0m\u001b[0m\n",
      "\u001b[0;31mNameError\u001b[0m: name 'G' is not defined"
     ]
    }
   ],
   "source": [
    "#save all the graphs as pickles. Framing by updates.\n",
    "for i in range(len(G)):\n",
    "    filename = \"../data/frame_pickles/frame_update\"+str(i)+\".gpickle\"\n",
    "    nx.readwrite.gpickle.write_gpickle(G[i],filename)"
   ]
  },
  {
   "cell_type": "code",
   "execution_count": 8,
   "metadata": {},
   "outputs": [
    {
     "ename": "FileNotFoundError",
     "evalue": "[Errno 2] No such file or directory: '../data/sorted_tile_placements.csv'",
     "output_type": "error",
     "traceback": [
      "\u001b[0;31m---------------------------------------------------------------------------\u001b[0m",
      "\u001b[0;31mFileNotFoundError\u001b[0m                         Traceback (most recent call last)",
      "\u001b[0;32m<ipython-input-8-dfe04e143680>\u001b[0m in \u001b[0;36m<module>\u001b[0;34m\u001b[0m\n\u001b[0;32m----> 1\u001b[0;31m \u001b[0mframes2\u001b[0m \u001b[0;34m=\u001b[0m \u001b[0mcreate_frames\u001b[0m\u001b[0;34m(\u001b[0m\u001b[0mfixed_framesize\u001b[0m \u001b[0;34m=\u001b[0m \u001b[0;32mFalse\u001b[0m\u001b[0;34m)\u001b[0m\u001b[0;34m\u001b[0m\u001b[0;34m\u001b[0m\u001b[0m\n\u001b[0m\u001b[1;32m      2\u001b[0m \u001b[0mG2\u001b[0m \u001b[0;34m=\u001b[0m \u001b[0mcreate_graph\u001b[0m\u001b[0;34m(\u001b[0m\u001b[0mframes2\u001b[0m\u001b[0;34m)\u001b[0m\u001b[0;34m\u001b[0m\u001b[0;34m\u001b[0m\u001b[0m\n",
      "\u001b[0;32m<ipython-input-4-205bba1a105f>\u001b[0m in \u001b[0;36mcreate_frames\u001b[0;34m(fixed_framesize, framesize, frametime, filename)\u001b[0m\n\u001b[1;32m     15\u001b[0m     \u001b[0moldest_time\u001b[0m \u001b[0;34m=\u001b[0m \u001b[0;32mNone\u001b[0m\u001b[0;34m\u001b[0m\u001b[0;34m\u001b[0m\u001b[0m\n\u001b[1;32m     16\u001b[0m     \u001b[0mnewest_time\u001b[0m \u001b[0;34m=\u001b[0m \u001b[0;32mNone\u001b[0m\u001b[0;34m\u001b[0m\u001b[0;34m\u001b[0m\u001b[0m\n\u001b[0;32m---> 17\u001b[0;31m     \u001b[0;32mwith\u001b[0m \u001b[0mopen\u001b[0m\u001b[0;34m(\u001b[0m\u001b[0mfilename\u001b[0m\u001b[0;34m)\u001b[0m \u001b[0;32mas\u001b[0m \u001b[0mf\u001b[0m\u001b[0;34m:\u001b[0m\u001b[0;34m\u001b[0m\u001b[0;34m\u001b[0m\u001b[0m\n\u001b[0m\u001b[1;32m     18\u001b[0m         \u001b[0;31m# Skip the header row\u001b[0m\u001b[0;34m\u001b[0m\u001b[0;34m\u001b[0m\u001b[0;34m\u001b[0m\u001b[0m\n\u001b[1;32m     19\u001b[0m         \u001b[0mnext\u001b[0m\u001b[0;34m(\u001b[0m\u001b[0mf\u001b[0m\u001b[0;34m,\u001b[0m \u001b[0;32mNone\u001b[0m\u001b[0;34m)\u001b[0m\u001b[0;34m\u001b[0m\u001b[0;34m\u001b[0m\u001b[0m\n",
      "\u001b[0;31mFileNotFoundError\u001b[0m: [Errno 2] No such file or directory: '../data/sorted_tile_placements.csv'"
     ]
    }
   ],
   "source": [
    "frames2 = create_frames(fixed_framesize = False)\n",
    "G2 = create_graph(frames2)"
   ]
  },
  {
   "cell_type": "code",
   "execution_count": 9,
   "metadata": {},
   "outputs": [],
   "source": [
    "def draw_graph(filename):\n",
    "    G = nx.readwrite.gpickle.read_gpickle(filename)\n",
    "    print(list(G.nodes()))\n",
    "    plt.subplot(121)\n",
    "    nx.draw(G, with_labels=True, font_weight='bold')\n",
    "    plt.show()"
   ]
  },
  {
   "cell_type": "code",
   "execution_count": null,
   "metadata": {},
   "outputs": [
    {
     "name": "stderr",
     "output_type": "stream",
     "text": [
      "IOPub data rate exceeded.\n",
      "The notebook server will temporarily stop sending output\n",
      "to the client in order to avoid crashing it.\n",
      "To change this limit, set the config variable\n",
      "`--NotebookApp.iopub_data_rate_limit`.\n",
      "\n",
      "Current values:\n",
      "NotebookApp.iopub_data_rate_limit=1000000.0 (bytes/sec)\n",
      "NotebookApp.rate_limit_window=3.0 (secs)\n",
      "\n"
     ]
    }
   ],
   "source": [
    "draw_graph(\"../data/frame_pickles/frame_update8.gpickle\")"
   ]
  },
  {
   "cell_type": "code",
   "execution_count": null,
   "metadata": {},
   "outputs": [],
   "source": []
  }
 ],
 "metadata": {
  "kernelspec": {
   "display_name": "Python 3",
   "language": "python",
   "name": "python3"
  },
  "language_info": {
   "codemirror_mode": {
    "name": "ipython",
    "version": 3
   },
   "file_extension": ".py",
   "mimetype": "text/x-python",
   "name": "python",
   "nbconvert_exporter": "python",
   "pygments_lexer": "ipython3",
   "version": "3.7.1"
  }
 },
 "nbformat": 4,
 "nbformat_minor": 2
}
