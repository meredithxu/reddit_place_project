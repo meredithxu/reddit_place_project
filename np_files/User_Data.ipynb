{
 "cells": [
  {
   "cell_type": "code",
   "execution_count": 1,
   "metadata": {},
   "outputs": [],
   "source": [
    "import csv\n",
    "import sys\n",
    "import random\n",
    "import os\n",
    "import math\n",
    "import numpy as np\n",
    "import numpy.linalg as npla\n",
    "import scipy\n",
    "from scipy import sparse\n",
    "from scipy import linalg\n",
    "import scipy.sparse.linalg as spla\n",
    "from scipy.spatial import distance\n",
    "import matplotlib.pyplot as plt\n",
    "from matplotlib import cm\n",
    "import matplotlib.mlab as mlab\n",
    "from mpl_toolkits.mplot3d import axes3d\n",
    "%matplotlib tk"
   ]
  },
  {
   "cell_type": "code",
   "execution_count": 2,
   "metadata": {},
   "outputs": [],
   "source": [
    "import sys\n",
    "sys.path.append(\"../Python_code\") # go to parent dir\n",
    "from reddit import *\n",
    "from canvas_vis import *\n",
    "from project_data_analysis import *"
   ]
  },
  {
   "cell_type": "code",
   "execution_count": 3,
   "metadata": {},
   "outputs": [],
   "source": [
    "projects_to_remove = {'777', '1921', '1169', '42', '1066', '1757', '1824', '320', '998', '1870', '1811',\\\n",
    "                     '1925', '1927', '704', '1085', '1308', '1378', '1412', '1418', '1428', '1455', '1482',\\\n",
    "                      '1512', '1548', '1589', '1614', '1790', '1319', '939', '1263', '1383', '1155', '1761', \n",
    "                     '1524', '351', '129', '1046', '1073', '1595', '1254', '1528', '1529', '1578', '1616',\\\n",
    "                     '1721'}"
   ]
  },
  {
   "cell_type": "code",
   "execution_count": 4,
   "metadata": {},
   "outputs": [],
   "source": [
    "project_dict = dict()\n",
    "with open('../data/atlas_filtered.json') as f:\n",
    "    data = json.load(f)\n",
    "projects_count = 0\n",
    "for element in data['atlas']:\n",
    "    pic_id = int(element[\"id\"])\n",
    "    if pic_id not in projects_to_remove:\n",
    "        project_dict[pic_id] = projects_count\n",
    "        projects_count += 1"
   ]
  },
  {
   "cell_type": "code",
   "execution_count": 5,
   "metadata": {},
   "outputs": [],
   "source": [
    "users_dict = dict()\n",
    "users_count = 0\n",
    "with open(\"../data/tile_placements.csv\",'r') as file:\n",
    "    # Skip first line (header row)\n",
    "    next(file, None)\n",
    "\n",
    "    reader = csv.reader(file)\n",
    "    \n",
    "    for r in reader:\n",
    "        user = r[1]\n",
    "        if user not in users_dict:\n",
    "            users_dict[user] = users_count\n",
    "            users_count += 1"
   ]
  },
  {
   "cell_type": "code",
   "execution_count": 6,
   "metadata": {},
   "outputs": [
    {
     "data": {
      "text/plain": [
       "1166924"
      ]
     },
     "execution_count": 6,
     "metadata": {},
     "output_type": "execute_result"
    }
   ],
   "source": [
    "users_count"
   ]
  },
  {
   "cell_type": "code",
   "execution_count": 7,
   "metadata": {},
   "outputs": [
    {
     "name": "stdout",
     "output_type": "stream",
     "text": [
      "CPU times: user 3min 28s, sys: 1min 18s, total: 4min 46s\n",
      "Wall time: 5min 22s\n"
     ]
    }
   ],
   "source": [
    "%%time \n",
    "#1 - Position (i,j) is the number of pixels by user i in project j (final)\n",
    "type1 = np.zeros((users_count, projects_count))\n",
    "#2 - Position (i,j) is the number of updates by user i that agree with pixels in project j.\n",
    "type2 = np.zeros((users_count, projects_count))\n",
    "#3 - Position (i,j) is the number of updates by user i that in the bounding area of project j and disagree with that pixel in j. These are updates likely against the project.\n",
    "type3 = np.zeros((users_count, projects_count))\n",
    "    \n",
    "\n",
    "users_per_project = dict()\n",
    "with open(\"../data/tile_placements_proj.csv\", \"r\") as file:\n",
    "    reader = csv.reader(file, delimiter = \",\")\n",
    "     # Skip first line (header row)\n",
    "    next(file, None)\n",
    "    # user:1, pic_id: 5, pixel: 6, pixel_color: 7\n",
    "    for r in reader:\n",
    "        user = r[1]\n",
    "        pic_id = int(r[5])\n",
    "        pixel = int(r[6])\n",
    "        pixel_color = int(r[7])\n",
    "\n",
    "        try:\n",
    "            if pic_id not in projects_to_remove:\n",
    "\n",
    "                if pic_id not in users_per_project:\n",
    "                    users_per_project[pic_id] = set()\n",
    "\n",
    "                users_per_project[pic_id].add(user)\n",
    "\n",
    "                if pixel == 1:\n",
    "                    type1[users_dict[user],project_dict[pic_id]] += 1\n",
    "\n",
    "                if pixel_color == 1:\n",
    "                    type2[users_dict[user],project_dict[pic_id]] += 1\n",
    "\n",
    "                elif pixel_color == 0:\n",
    "                    type3[users_dict[user],project_dict[pic_id]] += 1\n",
    "        except Exception as e:\n",
    "            print(e)\n",
    "            print(pic_id)\n",
    "            print(user)\n",
    "            break\n",
    " \n",
    "    type1 = sparse.csr_matrix(type1)\n",
    "    type2 = sparse.csr_matrix(type2)\n",
    "    type3 = sparse.csr_matrix(type3)\n"
   ]
  },
  {
   "cell_type": "code",
   "execution_count": 8,
   "metadata": {},
   "outputs": [
    {
     "name": "stdout",
     "output_type": "stream",
     "text": [
      "615\n"
     ]
    }
   ],
   "source": [
    "# Calculate average users per project\n",
    "average_num_users = int(users_count / len(users_per_project))\n",
    "print(average_num_users)"
   ]
  },
  {
   "cell_type": "code",
   "execution_count": 9,
   "metadata": {
    "scrolled": true
   },
   "outputs": [
    {
     "name": "stdout",
     "output_type": "stream",
     "text": [
      "CPU times: user 11min 19s, sys: 7.3 s, total: 11min 26s\n",
      "Wall time: 11min 29s\n"
     ]
    }
   ],
   "source": [
    "%%time\n",
    "\"\"\"\n",
    "    Type1 matrix: position (i,j) is the number of pixels by user i in project j \n",
    "\"\"\"\n",
    "\n",
    "# Syntax:\n",
    "# euc_dist = distance.euclidean(a,b)\n",
    "# cos_dist = distance.cosine(a,b)\n",
    "\n",
    "\"\"\"\n",
    "    user_euc_dist and user_cos_dist is a dictionary of the following format:\n",
    "        pic_id: user_distance list\n",
    "    Create a new list for every project where every element is the euclidean distance or\n",
    "    cosine distance between two users in a project.\n",
    "    \n",
    "    user_distances is a dictionary that stores the distance between two user vectors so we do not have to recompute it.\n",
    "\"\"\"\n",
    "\n",
    "users_euc_dist = dict()  # Position (i,j) is the euclidean distance between user vectors i and j\n",
    "users_cos_dist = dict()  # Position (i,j) is the cosine distance between user vectors i and j\n",
    "user_distances = dict()\n",
    "\n",
    "# Calculating distance between every pair of users takes too long. (Several years)\n",
    "# Sample at most 100 users for each project\n",
    "sample_size = 100\n",
    "\n",
    "for pic_id in users_per_project:\n",
    "    all_users = list(users_per_project.get(pic_id))\n",
    "#     print(len(all_users))\n",
    "    \n",
    "    \n",
    "    if len(all_users) > sample_size:\n",
    "        all_users = random.sample(all_users, sample_size)\n",
    "\n",
    "    users_euc_dist[pic_id] = []\n",
    "    users_cos_dist[pic_id] = []\n",
    "#     print(user_matrix[pic_id].shape())\n",
    "    \n",
    "    for i in range(len(all_users)):\n",
    "        user1 = all_users[i]\n",
    "        \n",
    "        # If the user has no contributions that made it to the final canvas, then skip him\n",
    "        if np.sum(type1[users_dict[user1], : ]) == 0:\n",
    "            continue\n",
    "        \n",
    "        for j in range(i + 1, len(all_users)):\n",
    "            \n",
    "            # If the user has no contributions that made it to the final canvas, then skip him\n",
    "            user2 = all_users[j]\n",
    "            if np.sum(type1[users_dict[user2], : ]) == 0:\n",
    "                continue\n",
    "            \n",
    "            \n",
    "            # Make sure user1 is the smaller value\n",
    "            if user2 < user1:\n",
    "                temp = user2\n",
    "                user2 = user1\n",
    "                user1 = temp\n",
    "                \n",
    "            if (user1, user2) not in user_distances:\n",
    "                \n",
    "                vec1 = type1[users_dict[user1], : ].toarray()\n",
    "                vec2 = type1[users_dict[user2], :].toarray()\n",
    "                euc_dist = distance.euclidean( vec1 , vec2 )\n",
    "                cos_dist = distance.cosine( vec1 , vec2 )\n",
    "\n",
    "                user_distances[(user1, user2)] = (euc_dist, cos_dist)\n",
    "\n",
    "            users_euc_dist[pic_id].append(user_distances[(user1, user2)][0])\n",
    "            users_cos_dist[pic_id].append(user_distances[(user1, user2)][1])\n",
    "    \n",
    "    "
   ]
  },
  {
   "cell_type": "code",
   "execution_count": 11,
   "metadata": {},
   "outputs": [
    {
     "data": {
      "image/png": "[encoded data removed]",
      "text/plain": [
       "<Figure size 432x288 with 1 Axes>"
      ]
     },
     "metadata": {
      "needs_background": "light"
     },
     "output_type": "display_data"
    }
   ],
   "source": [
    "%matplotlib inline\n",
    "# plot the user distances of a single project given the pic_id\n",
    "# Testing on some pic_ids\n",
    "def plot_distances_icdf(pic_id):\n",
    "    euc_dict = dict()\n",
    "    cos_dict = dict()\n",
    "    for i in range(len(users_euc_dist[pic_id])):\n",
    "        euc_dict[i] = int(users_euc_dist[pic_id][i]*1000)\n",
    "        cos_dict[i] = int(users_cos_dist[pic_id][i]*1000)\n",
    "        \n",
    "    plt.clf()\n",
    "\n",
    "    #Computing ICDF\n",
    "    count_euc = icdf(euc_dict)\n",
    "    count_cos = icdf(cos_dict)\n",
    "    ax = plt.subplot(111)\n",
    "    ax.plot(np.arange(count_euc.shape[0])/1000, count_euc, color=\"red\", linewidth=4, label=\"euclidean distance\")\n",
    "    ax.plot(np.arange(count_cos.shape[0])/1000, count_cos, color=\"blue\", linewidth=4, label=\"cosine distance\")\n",
    "    ax.set_ylabel('ICDF', fontsize=30)\n",
    "    ax.set_xlabel('distance between users', fontsize=30)\n",
    "    ax.tick_params(labelsize=23)\n",
    "    #ax.set_xlim(1, 1000000)\n",
    "    ax.legend()\n",
    "    ax.set_title('user distances plot for pic_id: '+str(pic_id))\n",
    "    #plt.savefig(output_file_name, dpi=300, bbox_inches='tight')\n",
    "\n",
    "plot_distances_icdf(23)\n"
   ]
  },
  {
   "cell_type": "code",
   "execution_count": null,
   "metadata": {},
   "outputs": [],
   "source": []
  }
 ],
 "metadata": {
  "kernelspec": {
   "display_name": "Python 3",
   "language": "python",
   "name": "python3"
  },
  "language_info": {
   "codemirror_mode": {
    "name": "ipython",
    "version": 3
   },
   "file_extension": ".py",
   "mimetype": "text/x-python",
   "name": "python",
   "nbconvert_exporter": "python",
   "pygments_lexer": "ipython3",
   "version": "3.7.1"
  }
 },
 "nbformat": 4,
 "nbformat_minor": 2
}
