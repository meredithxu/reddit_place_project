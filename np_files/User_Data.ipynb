{
 "cells": [
  {
   "cell_type": "code",
   "execution_count": 1,
   "metadata": {},
   "outputs": [],
   "source": [
    "import csv\n",
    "import sys\n",
    "import os\n",
    "import math\n",
    "import numpy as np\n",
    "import numpy.linalg as npla\n",
    "import scipy\n",
    "from scipy import sparse\n",
    "from scipy import linalg\n",
    "import scipy.sparse.linalg as spla\n",
    "from scipy.spatial import distance\n",
    "import matplotlib.pyplot as plt\n",
    "from matplotlib import cm\n",
    "import matplotlib.mlab as mlab\n",
    "from mpl_toolkits.mplot3d import axes3d\n",
    "%matplotlib tk"
   ]
  },
  {
   "cell_type": "code",
   "execution_count": 2,
   "metadata": {},
   "outputs": [],
   "source": [
    "sys.path.append(\"../Python_code\")\n",
    "from reddit import *\n",
    "from path import *"
   ]
  },
  {
   "cell_type": "code",
   "execution_count": 3,
   "metadata": {},
   "outputs": [],
   "source": [
    "projects_to_remove = {'777', '1921', '1240', '1516', '1319'}\n",
    "project_dict = dict()\n",
    "with open('../data/atlas_filtered.json') as f:\n",
    "    data = json.load(f)\n",
    "projects_count = 0\n",
    "for element in data['atlas']:\n",
    "    pic_id = int(element[\"id\"])\n",
    "    if pic_id not in projects_to_remove:\n",
    "        project_dict[pic_id] = projects_count\n",
    "        projects_count += 1"
   ]
  },
  {
   "cell_type": "code",
   "execution_count": 4,
   "metadata": {},
   "outputs": [],
   "source": [
    "users_dict = dict()\n",
    "users_count = 0\n",
    "with open(\"../data/tile_placements.csv\",'r') as file:\n",
    "    # Skip first line (header row)\n",
    "    next(file, None)\n",
    "\n",
    "    reader = csv.reader(file)\n",
    "    \n",
    "    for r in reader:\n",
    "        user = r[1]\n",
    "        if user not in users_dict:\n",
    "            users_dict[user] = users_count\n",
    "            users_count += 1"
   ]
  },
  {
   "cell_type": "code",
   "execution_count": 5,
   "metadata": {},
   "outputs": [
    {
     "data": {
      "text/plain": [
       "1166924"
      ]
     },
     "execution_count": 5,
     "metadata": {},
     "output_type": "execute_result"
    }
   ],
   "source": [
    "users_count"
   ]
  },
  {
   "cell_type": "code",
   "execution_count": 6,
   "metadata": {},
   "outputs": [],
   "source": [
    "#1 - Position (i,j) is the number of pixels by user i in project j (final)\n",
    "type1 = np.zeros((users_count, projects_count))\n",
    "#2 - Position (i,j) is the number of updates by user i that agree with pixels in project j.\n",
    "type2 = np.zeros((users_count, projects_count))\n",
    "#3 - Position (i,j) is the number of updates by user i that in the bounding area of project j and disagree with that pixel in j. These are updates likely against the project.\n",
    "type3 = np.zeros((users_count, projects_count))\n",
    "        \n",
    "        "
   ]
  },
  {
   "cell_type": "code",
   "execution_count": null,
   "metadata": {},
   "outputs": [],
   "source": []
  },
  {
   "cell_type": "code",
   "execution_count": 7,
   "metadata": {},
   "outputs": [],
   "source": [
    "with open(\"../data/tile_placements_proj.csv\", \"r\") as file:\n",
    "        reader = csv.reader(file, delimiter = \",\")\n",
    "         # Skip first line (header row)\n",
    "        next(file, None)\n",
    "        # user:1, pic_id: 5, pixel: 6, pixel_color: 7\n",
    "        for r in reader:\n",
    "            user = r[1]\n",
    "            pic_id = int(r[5])\n",
    "            pixel = int(r[6])\n",
    "            pixel_color = int(r[7])\n",
    "            \n",
    "            try:\n",
    "                if pic_id not in projects_to_remove:\n",
    "                    if pixel == 1:\n",
    "                        type1[users_dict[user],project_dict[pic_id]] += 1\n",
    "\n",
    "                    if pixel_color == 1:\n",
    "                        type2[users_dict[user],project_dict[pic_id]] += 1\n",
    "\n",
    "                    elif pixel_color == 0:\n",
    "                        type3[users_dict[user],project_dict[pic_id]] += 1\n",
    "            except Exception as e:\n",
    "                print(e)\n",
    "                print(pic_id)\n",
    "                print(user)\n",
    "                break\n",
    "            "
   ]
  },
  {
   "cell_type": "code",
   "execution_count": null,
   "metadata": {},
   "outputs": [],
   "source": [
    "\"\"\"\n",
    "    Type1 matrix: position (i,j) is the number of pixels by user i in project j \n",
    "    Create a new matrix where position (i,j) contains a tuple of the euclidean distance and \n",
    "    cosine distance between user i and user j.\n",
    "\"\"\"\n",
    "\n",
    "# Syntax:\n",
    "# euc_dist = distance.euclidean(a,b)\n",
    "# cos_dist = distance.cosine(a,b)\n",
    "value = np.empty((), dtype = object)\n",
    "value[()] = (0,0)\n",
    "distance_matrix = np.full((users_count, users_count), value, dtype = object)\n",
    "# distance_matrix = np.zeros((users_count, users_count), dtype=[('x', 'i4'), ('y', 'i4')])\n",
    "for i in range(users_count):\n",
    "    for j in range(i + 1, users_count):\n",
    "        euc_dist = distance.euclidean( type1[:,i] , type1[:,j] )\n",
    "        cos_dist = distance.cosine(type1[:,i] , type1[:,j] )\n",
    "        distance_matrix[i,j] = (euc_dist, cos_dist)\n"
   ]
  },
  {
   "cell_type": "code",
   "execution_count": null,
   "metadata": {},
   "outputs": [],
   "source": []
  }
 ],
 "metadata": {
  "kernelspec": {
   "display_name": "Python 3",
   "language": "python",
   "name": "python3"
  },
  "language_info": {
   "codemirror_mode": {
    "name": "ipython",
    "version": 3
   },
   "file_extension": ".py",
   "mimetype": "text/x-python",
   "name": "python",
   "nbconvert_exporter": "python",
   "pygments_lexer": "ipython3",
   "version": "3.7.1"
  }
 },
 "nbformat": 4,
 "nbformat_minor": 2
}
