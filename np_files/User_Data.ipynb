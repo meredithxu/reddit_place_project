{
 "cells": [
  {
   "cell_type": "code",
   "execution_count": 1,
   "metadata": {},
   "outputs": [],
   "source": [
    "import csv\n",
    "import sys\n",
    "import os\n",
    "import math\n",
    "import numpy as np\n",
    "import numpy.linalg as npla\n",
    "import scipy\n",
    "from scipy import sparse\n",
    "from scipy import linalg\n",
    "import scipy.sparse.linalg as spla\n",
    "from scipy.spatial import distance\n",
    "import matplotlib.pyplot as plt\n",
    "from matplotlib import cm\n",
    "import matplotlib.mlab as mlab\n",
    "from mpl_toolkits.mplot3d import axes3d\n",
    "%matplotlib tk"
   ]
  },
  {
   "cell_type": "code",
   "execution_count": 2,
   "metadata": {},
   "outputs": [],
   "source": [
    "sys.path.append(\"../Python_code\")\n",
    "from reddit import *\n",
    "from path import *"
   ]
  },
  {
   "cell_type": "code",
   "execution_count": 3,
   "metadata": {},
   "outputs": [],
   "source": [
    "projects_to_remove = {'777', '1921', '1240', '1516', '1319'}\n"
   ]
  },
  {
   "cell_type": "code",
   "execution_count": 8,
   "metadata": {},
   "outputs": [],
   "source": [
    "project_dict = dict()\n",
    "with open('../data/atlas_filtered.json') as f:\n",
    "    data = json.load(f)\n",
    "projects_count = 0\n",
    "for element in data['atlas']:\n",
    "    pic_id = int(element[\"id\"])\n",
    "    if pic_id not in projects_to_remove:\n",
    "        project_dict[pic_id] = projects_count\n",
    "        projects_count += 1"
   ]
  },
  {
   "cell_type": "code",
   "execution_count": 5,
   "metadata": {},
   "outputs": [],
   "source": [
    "users_dict = dict()\n",
    "users_count = 0\n",
    "with open(\"../data/tile_placements.csv\",'r') as file:\n",
    "    # Skip first line (header row)\n",
    "    next(file, None)\n",
    "\n",
    "    reader = csv.reader(file)\n",
    "    \n",
    "    for r in reader:\n",
    "        user = r[1]\n",
    "        if user not in users_dict:\n",
    "            users_dict[user] = users_count\n",
    "            users_count += 1"
   ]
  },
  {
   "cell_type": "code",
   "execution_count": 6,
   "metadata": {},
   "outputs": [
    {
     "data": {
      "text/plain": [
       "1166924"
      ]
     },
     "execution_count": 6,
     "metadata": {},
     "output_type": "execute_result"
    }
   ],
   "source": [
    "users_count"
   ]
  },
  {
   "cell_type": "code",
   "execution_count": 27,
   "metadata": {},
   "outputs": [
    {
     "name": "stdout",
     "output_type": "stream",
     "text": [
      "CPU times: user 3min 22s, sys: 1min 14s, total: 4min 36s\n",
      "Wall time: 4min 56s\n"
     ]
    }
   ],
   "source": [
    "%%time \n",
    "#1 - Position (i,j) is the number of pixels by user i in project j (final)\n",
    "type1 = np.zeros((users_count, projects_count))\n",
    "#2 - Position (i,j) is the number of updates by user i that agree with pixels in project j.\n",
    "type2 = np.zeros((users_count, projects_count))\n",
    "#3 - Position (i,j) is the number of updates by user i that in the bounding area of project j and disagree with that pixel in j. These are updates likely against the project.\n",
    "type3 = np.zeros((users_count, projects_count))\n",
    "    \n",
    "\n",
    "users_per_project = dict()\n",
    "with open(\"../data/tile_placements_proj.csv\", \"r\") as file:\n",
    "    reader = csv.reader(file, delimiter = \",\")\n",
    "     # Skip first line (header row)\n",
    "    next(file, None)\n",
    "    # user:1, pic_id: 5, pixel: 6, pixel_color: 7\n",
    "    for r in reader:\n",
    "        user = r[1]\n",
    "        pic_id = int(r[5])\n",
    "        pixel = int(r[6])\n",
    "        pixel_color = int(r[7])\n",
    "\n",
    "        try:\n",
    "            if pic_id not in projects_to_remove:\n",
    "\n",
    "                if pic_id not in users_per_project:\n",
    "                    users_per_project[pic_id] = set()\n",
    "\n",
    "                users_per_project[pic_id].add(user)\n",
    "\n",
    "                if pixel == 1:\n",
    "                    type1[users_dict[user],project_dict[pic_id]] += 1\n",
    "\n",
    "                if pixel_color == 1:\n",
    "                    type2[users_dict[user],project_dict[pic_id]] += 1\n",
    "\n",
    "                elif pixel_color == 0:\n",
    "                    type3[users_dict[user],project_dict[pic_id]] += 1\n",
    "        except Exception as e:\n",
    "            print(e)\n",
    "            print(pic_id)\n",
    "            print(user)\n",
    "            break\n",
    " \n",
    "    type1 = sparse.csr_matrix(type1)\n",
    "    type2 = sparse.csr_matrix(type2)\n",
    "    type3 = sparse.csr_matrix(type3)\n"
   ]
  },
  {
   "cell_type": "code",
   "execution_count": 87,
   "metadata": {},
   "outputs": [
    {
     "name": "stdout",
     "output_type": "stream",
     "text": [
      "CPU times: user 796 µs, sys: 489 µs, total: 1.29 ms\n",
      "Wall time: 852 µs\n"
     ]
    }
   ],
   "source": [
    "%%time\n",
    "\n",
    "# 1 million users means 1 trillion comparisions. By our estimate, this will take between 10-20 years\n",
    "\n",
    "vec1 = type1[2, : ].toarray()\n",
    "vec2 = type1[3, :].toarray()\n",
    "euc_dist = distance.cdist( vec1 , vec2, metric = 'euclidean' )\n",
    "cos_dist = distance.cdist( vec1 , vec2, metric = 'cosine' )\n"
   ]
  },
  {
   "cell_type": "code",
   "execution_count": null,
   "metadata": {},
   "outputs": [],
   "source": [
    "# %%time \n",
    "# TEST TO FIND A FASTER WAY\n",
    "# FAILURE. THIS WAY IS TOO SLOW\n",
    "\n",
    "# rows, cols = type1.nonzero()\n",
    "\n",
    "# nonzeros = dict()\n",
    "# for i in range(len(rows)):\n",
    "#     row_i = rows[i]\n",
    "#     col_i = cols[i]\n",
    "    \n",
    "#     # The row is the user, the column is the pic_id\n",
    "#     # Store the pic_ids in the dictionary with the following format:\n",
    "#     # user_index: [list of pic_ids]\n",
    "    \n",
    "#     if row_i not in nonzeros:\n",
    "#         nonzeros[row_i] = list()\n",
    "        \n",
    "#     nonzeros[row_i].append(col_i)\n",
    "# print(nonzeros.get(2))\n",
    "\n",
    "# combined_list = np.array(list(set( nonzeros[2] + nonzeros[3] )))\n",
    "# list2 = np.copy(combined_list)\n",
    "\n",
    "# for i in range(combined_list.size):\n",
    "#     combined_list[i] = type1[3, combined_list[i]]\n",
    "#     list2[i] = type1[2, list2[i]]\n",
    "\n",
    "# dist1 = distance.euclidean(combined_list, list2)\n",
    "# dist2 = distance.cosine(combined_list, list2)\n",
    "\n",
    "# print((dist1, dist2))"
   ]
  },
  {
   "cell_type": "code",
   "execution_count": 84,
   "metadata": {
    "scrolled": true
   },
   "outputs": [
    {
     "ename": "KeyboardInterrupt",
     "evalue": "",
     "output_type": "error",
     "traceback": [
      "\u001b[0;31m---------------------------------------------------------------------------\u001b[0m",
      "\u001b[0;31mKeyboardInterrupt\u001b[0m                         Traceback (most recent call last)",
      "\u001b[0;32m<timed exec>\u001b[0m in \u001b[0;36m<module>\u001b[0;34m\u001b[0m\n",
      "\u001b[0;32m/anaconda3/lib/python3.7/site-packages/scipy/sparse/csr.py\u001b[0m in \u001b[0;36m__getitem__\u001b[0;34m(self, key)\u001b[0m\n\u001b[1;32m    280\u001b[0m                               dtype=self.dtype, copy=False)\n\u001b[1;32m    281\u001b[0m \u001b[0;34m\u001b[0m\u001b[0m\n\u001b[0;32m--> 282\u001b[0;31m         \u001b[0mrow\u001b[0m\u001b[0;34m,\u001b[0m \u001b[0mcol\u001b[0m \u001b[0;34m=\u001b[0m \u001b[0mself\u001b[0m\u001b[0;34m.\u001b[0m\u001b[0m_unpack_index\u001b[0m\u001b[0;34m(\u001b[0m\u001b[0mkey\u001b[0m\u001b[0;34m)\u001b[0m\u001b[0;34m\u001b[0m\u001b[0;34m\u001b[0m\u001b[0m\n\u001b[0m\u001b[1;32m    283\u001b[0m \u001b[0;34m\u001b[0m\u001b[0m\n\u001b[1;32m    284\u001b[0m         \u001b[0;31m# First attempt to use original row optimized methods\u001b[0m\u001b[0;34m\u001b[0m\u001b[0;34m\u001b[0m\u001b[0;34m\u001b[0m\u001b[0m\n",
      "\u001b[0;32m/anaconda3/lib/python3.7/site-packages/scipy/sparse/sputils.py\u001b[0m in \u001b[0;36m_unpack_index\u001b[0;34m(self, index)\u001b[0m\n\u001b[1;32m    378\u001b[0m \u001b[0;34m\u001b[0m\u001b[0m\n\u001b[1;32m    379\u001b[0m         \u001b[0;31m# Next, check for validity, or transform the index as needed.\u001b[0m\u001b[0;34m\u001b[0m\u001b[0;34m\u001b[0m\u001b[0;34m\u001b[0m\u001b[0m\n\u001b[0;32m--> 380\u001b[0;31m         \u001b[0mrow\u001b[0m\u001b[0;34m,\u001b[0m \u001b[0mcol\u001b[0m \u001b[0;34m=\u001b[0m \u001b[0mself\u001b[0m\u001b[0;34m.\u001b[0m\u001b[0m_check_boolean\u001b[0m\u001b[0;34m(\u001b[0m\u001b[0mrow\u001b[0m\u001b[0;34m,\u001b[0m \u001b[0mcol\u001b[0m\u001b[0;34m)\u001b[0m\u001b[0;34m\u001b[0m\u001b[0;34m\u001b[0m\u001b[0m\n\u001b[0m\u001b[1;32m    381\u001b[0m         \u001b[0;32mreturn\u001b[0m \u001b[0mrow\u001b[0m\u001b[0;34m,\u001b[0m \u001b[0mcol\u001b[0m\u001b[0;34m\u001b[0m\u001b[0;34m\u001b[0m\u001b[0m\n\u001b[1;32m    382\u001b[0m \u001b[0;34m\u001b[0m\u001b[0m\n",
      "\u001b[0;32m/anaconda3/lib/python3.7/site-packages/scipy/sparse/sputils.py\u001b[0m in \u001b[0;36m_check_boolean\u001b[0;34m(self, row, col)\u001b[0m\n\u001b[1;32m    420\u001b[0m \u001b[0;34m\u001b[0m\u001b[0m\n\u001b[1;32m    421\u001b[0m     \u001b[0;32mdef\u001b[0m \u001b[0m_check_boolean\u001b[0m\u001b[0;34m(\u001b[0m\u001b[0mself\u001b[0m\u001b[0;34m,\u001b[0m \u001b[0mrow\u001b[0m\u001b[0;34m,\u001b[0m \u001b[0mcol\u001b[0m\u001b[0;34m)\u001b[0m\u001b[0;34m:\u001b[0m\u001b[0;34m\u001b[0m\u001b[0;34m\u001b[0m\u001b[0m\n\u001b[0;32m--> 422\u001b[0;31m         \u001b[0;32mfrom\u001b[0m \u001b[0;34m.\u001b[0m\u001b[0mbase\u001b[0m \u001b[0;32mimport\u001b[0m \u001b[0misspmatrix\u001b[0m  \u001b[0;31m# ew...\u001b[0m\u001b[0;34m\u001b[0m\u001b[0;34m\u001b[0m\u001b[0m\n\u001b[0m\u001b[1;32m    423\u001b[0m         \u001b[0;31m# Supporting sparse boolean indexing with both row and col does\u001b[0m\u001b[0;34m\u001b[0m\u001b[0;34m\u001b[0m\u001b[0;34m\u001b[0m\u001b[0m\n\u001b[1;32m    424\u001b[0m         \u001b[0;31m# not work because spmatrix.ndim is always 2.\u001b[0m\u001b[0;34m\u001b[0m\u001b[0;34m\u001b[0m\u001b[0;34m\u001b[0m\u001b[0m\n",
      "\u001b[0;32m/anaconda3/lib/python3.7/importlib/_bootstrap.py\u001b[0m in \u001b[0;36m_handle_fromlist\u001b[0;34m(module, fromlist, import_, recursive)\u001b[0m\n",
      "\u001b[0;31mKeyboardInterrupt\u001b[0m: "
     ]
    }
   ],
   "source": [
    "%%time\n",
    "\"\"\"\n",
    "    Type1 matrix: position (i,j) is the number of pixels by user i in project j \n",
    "\"\"\"\n",
    "\n",
    "# Syntax:\n",
    "# euc_dist = distance.euclidean(a,b)\n",
    "# cos_dist = distance.cosine(a,b)\n",
    "\n",
    "\"\"\"\n",
    "    user_euc_dist and user_cos_dist is a dictionary of the following format:\n",
    "        pic_id: user_distance list\n",
    "    Create a new list for every project where every element is the euclidean distance or\n",
    "    cosine distance between two users in a project.\n",
    "    \n",
    "    user_distances is a dictionary that stores the distance between two user vectors so we do not have to recompute it.\n",
    "\"\"\"\n",
    "\n",
    "users_euc_dist = dict()  # Position (i,j) is the euclidean distance between user vectors i and j\n",
    "users_cos_dist = dict()  # Position (i,j) is the cosine distance between user vectors i and j\n",
    "user_distances = dict()\n",
    "\n",
    "rows, cols = type1.nonzero()\n",
    "nonzeros = dict()\n",
    "\n",
    "for i in range(len(rows)):\n",
    "    row_i = rows[i]\n",
    "    col_i = cols[i]\n",
    "    \n",
    "    # The row is the user, the column is the pic_id\n",
    "    # Store the pic_ids in the dictionary with the following format:\n",
    "    # user_index: [list of pic_ids]\n",
    "    \n",
    "    if row_i not in nonzeros:\n",
    "        nonzeros[row_i] = list()\n",
    "        \n",
    "    nonzeros[row_i].append(col_i)\n",
    "    \n",
    "\n",
    "for pic_id in users_per_project:\n",
    "    all_users = list(users_per_project.get(pic_id))\n",
    "#     print(len(all_users))\n",
    "\n",
    "    users_euc_dist[pic_id] = list()\n",
    "    users_cos_dist[pic_id] = list()\n",
    "#     print(user_matrix[pic_id].shape())\n",
    "    \n",
    "    for i in range(len(all_users)):\n",
    "        user1 = all_users[i]\n",
    "        \n",
    "        # If the user has no contributions that made it to the final canvas, then skip him\n",
    "        if np.sum(type1[users_dict[user1], : ]) == 0:\n",
    "            continue\n",
    "        \n",
    "        for j in range(i + 1, len(all_users)):\n",
    "            \n",
    "            # If the user has no contributions that made it to the final canvas, then skip him\n",
    "            user2 = all_users[j]\n",
    "            if np.sum(type1[users_dict[user2], : ]) == 0:\n",
    "                continue\n",
    "            \n",
    "            \n",
    "            # Make sure user1 is the smaller value\n",
    "            if user2 < user1:\n",
    "                temp = user2\n",
    "                user2 = user1\n",
    "                user1 = temp\n",
    "                \n",
    "            if (user1, user2) not in user_distances:\n",
    "                \n",
    "                vec1 = type1[users_dict[user1], : ].toarray()\n",
    "                vec2 = type1[users_dict[user2], :].toarray()\n",
    "                euc_dist = distance.cdist( vec1 , vec2, metric = 'euclidean' )\n",
    "                cos_dist = distance.cdist( vec1 , vec2, metric = 'cosine' )\n",
    "\n",
    "                user_distances[(user1, user2)] = (euc_dist, cos_dist)\n",
    "\n",
    "            users_euc_dist[pic_id].append(user_distances[(user1, user2)][0])\n",
    "            users_cos_dist[pic_id].append(user_distances[(user1, user2)][1])\n",
    "    \n",
    "    "
   ]
  },
  {
   "cell_type": "code",
   "execution_count": null,
   "metadata": {},
   "outputs": [],
   "source": []
  },
  {
   "cell_type": "code",
   "execution_count": null,
   "metadata": {},
   "outputs": [],
   "source": []
  }
 ],
 "metadata": {
  "kernelspec": {
   "display_name": "Python 3",
   "language": "python",
   "name": "python3"
  },
  "language_info": {
   "codemirror_mode": {
    "name": "ipython",
    "version": 3
   },
   "file_extension": ".py",
   "mimetype": "text/x-python",
   "name": "python",
   "nbconvert_exporter": "python",
   "pygments_lexer": "ipython3",
   "version": "3.7.1"
  }
 },
 "nbformat": 4,
 "nbformat_minor": 2
}
