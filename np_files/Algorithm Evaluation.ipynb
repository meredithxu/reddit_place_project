{
 "cells": [
  {
   "cell_type": "markdown",
   "metadata": {},
   "source": [
    "Evaluation Data:\n",
    "\n",
    "Evaluate the precision and recall of the algorithm\n"
   ]
  },
  {
   "cell_type": "code",
   "execution_count": 3,
   "metadata": {},
   "outputs": [],
   "source": [
    "#import basic libraries\n",
    "\n",
    "import csv\n",
    "import sys\n",
    "import os\n",
    "import math\n",
    "import numpy as np\n",
    "import numpy.linalg as npla\n",
    "import scipy\n",
    "from scipy import sparse\n",
    "from scipy import linalg\n",
    "import scipy.sparse.linalg as spla\n",
    "import matplotlib.pyplot as plt\n",
    "from matplotlib import cm\n",
    "import matplotlib.mlab as mlab\n",
    "from mpl_toolkits.mplot3d import axes3d\n",
    "%matplotlib tk\n",
    "import operator\n",
    "sys.path.append(\"../Python_code\") # go to parent dir\n",
    "from reddit import *\n",
    "from analytics_combined import *"
   ]
  },
  {
   "cell_type": "code",
   "execution_count": 13,
   "metadata": {},
   "outputs": [],
   "source": [
    "def create_ground_truth(input_filename):\n",
    "    '''\n",
    "        Given the input file, create and return a dictionary of the ground truth for the\n",
    "        pixel assignments.\n",
    "        \n",
    "        Each pixel's ID will be based upon its line number within the file\n",
    "    '''\n",
    "    line_number = 0\n",
    "    updates = []\n",
    "    ground_truth = dict()\n",
    "    with open(input_filename,'r') as file_in:\n",
    "    \n",
    "        # Skip first line (header row)\n",
    "        next(file_in, None)\n",
    "\n",
    "        reader = csv.reader(file_in)\n",
    "        for r in reader:\n",
    "            time = int(r[0])\n",
    "            user = r[1]\n",
    "            x = int(r[2])\n",
    "            y = int(r[3])\n",
    "            color = int(r[4])\n",
    "            pic_id = r[5]\n",
    "            final_pixel = int(r[6])\n",
    "            final_pixel_color = int(r[7])\n",
    "            smallest_proj = int(r[8])\n",
    "            \n",
    "            # The ground truth pixel assignments will be based on the pixel assigned to the smallest project\n",
    "            if smallest_proj:\n",
    "                if pic_id not in ground_truth:\n",
    "                    ground_truth[pic_id] = [line_number]\n",
    "                else:\n",
    "                    ground_truth[pic_id].append(line_number)\n",
    "        \n",
    "            updates.append([time, user, x, y, color, pic_id, final_pixel, final_pixel_color, smallest_proj])\n",
    "            line_number += 1\n",
    "    \n",
    "    return ground_truth, updates\n",
    "                \n",
    "    \n",
    "# calculate the intersection over union of list1 and list2\n",
    "def calc_intersection_over_union(set1, set2):\n",
    "    intersection = set1.intersection(set2)\n",
    "    union = set1.union(set2)\n",
    "    \n",
    "    iou = len(intersection) / len(union)\n",
    "    return iou\n",
    "\n",
    "def get_region_borders(region, updates):\n",
    "    '''\n",
    "        Given a region (list of lists), return the min x, min y, max x, and max y\n",
    "    '''\n",
    "    min_x = sys.maxsize\n",
    "    min_y = sys.maxsize\n",
    "    max_x = 0\n",
    "    max_y = 0\n",
    "    for update_id in region:\n",
    "        \n",
    "        update = updates[int(update_id)]\n",
    "        x = int(update[2])\n",
    "        y = int(update[3])\n",
    "        \n",
    "        if x > max_x:\n",
    "            max_x = x\n",
    "        if x < min_x:\n",
    "            min_x = x\n",
    "        if y > max_y:\n",
    "            max_y = y\n",
    "        if y < min_y:\n",
    "            min_y = y\n",
    "            \n",
    "    return min_x, min_y, max_x, max_y\n",
    "\n",
    "def get_rectangle_overlap_area(min_x1, max_x1, min_y1, max_y1, min_x2, max_x2, min_y2, max_y2):\n",
    "    '''\n",
    "        Given the coordinates of the corners of two rectangles, return the area of the overlapping region\n",
    "    '''\n",
    "    \n",
    "    # First, calculate a bounding box around the two rectangles\n",
    "    bounding_box_area =  (max(max_x1, max_x2) - min(min_x1, min_x2)) * (max(max_y1, max_y2) - min(min_y1, min_y2))  \n",
    "    \n",
    "    \n",
    "    overlap_max_x = min(max_x1, max_x2)\n",
    "    overlap_max_y = min(max_y1, max_y2)\n",
    "    overlap_min_x = max(min_x1, min_x2)\n",
    "    overlap_min_y = max(min_y1, min_y2)\n",
    "    \n",
    "    if overlap_max_x > overlap_min_x and overlap_max_y > overlap_min_y:\n",
    "        return ((overlap_max_x - overlap_min_x) * (overlap_max_y - overlap_min_y)) / bounding_box_area\n",
    "    else:\n",
    "        return 0\n",
    "\n",
    "def get_max_iou(locations, region, updates, ground_truth, threshold = 0.50):\n",
    "    '''\n",
    "        Given a region, check and return the maximum the iou with every project in the ground truth.\n",
    "    '''\n",
    "    max_iou = 0\n",
    "    max_pic_id = None\n",
    "    for pic_id in ground_truth:\n",
    "        project = locations[pic_id]\n",
    "        min_x, min_y, max_x, max_y =  get_region_borders(region, updates)\n",
    "        \n",
    "        # only check this region with the pic_id if the bounding boxes overlap by at least the threshold\n",
    "        overlap_area = get_rectangle_overlap_area(min_x, max_x, min_y, max_y, project.get_left(), project.get_right(), project.get_bottom(), project.get_top())\n",
    "        \n",
    "        if overlap_area > threshold:\n",
    "            iou = calc_intersection_over_union(set(region), set(ground_truth[pic_id]))\n",
    "            if iou > max_iou:\n",
    "                max_iou = iou\n",
    "                max_pic_id = pic_id\n",
    "            \n",
    "    return max_iou, max_pic_id\n",
    "    \n",
    "    \n",
    "# Given a set_of_updates and the ground truth data, evaluate the precision and recall\n",
    "# ground_truth is a dictionary of the following format:\n",
    "'''\n",
    "    \"image_id\" : [ list of update IDS belonging to this image ]\n",
    "'''\n",
    "\n",
    "# Each update tuple is assumed to be this format:\n",
    "# (updateID, time, user, x, y, color, pic_id)\n",
    "def evaluate(regions, updates, ground_truth, threshold = 0.50):\n",
    "    \n",
    "    locations = store_locations(\"../data/atlas_complete.json\")\n",
    "    image_assignment = dict()\n",
    "    num_correct_counter = 0\n",
    "    \n",
    "    for region in regions:\n",
    "        iou, pic_id = get_max_iou(locations, region, updates, ground_truth, threshold)\n",
    "        if iou > threshold:\n",
    "            num_correct_counter += 1\n",
    "\n",
    "    \n",
    "    precision = num_correct_counter / len(regions)\n",
    "    \n",
    "    recall = num_correct_counter / len(ground_truth)\n",
    "    \n",
    "    print(\"Total correct assignments:\", num_correct_counter)\n",
    "    print(\"Total assignments made:\", len(regions))\n",
    "    print(\"Precision:\", precision)\n",
    "    print(\"Recall:\", recall)\n",
    "    "
   ]
  },
  {
   "cell_type": "code",
   "execution_count": 9,
   "metadata": {},
   "outputs": [],
   "source": [
    "ground_truth, updates = create_ground_truth(\"../data/sorted_tile_placements_proj.csv\")"
   ]
  },
  {
   "cell_type": "code",
   "execution_count": 4,
   "metadata": {},
   "outputs": [],
   "source": []
  },
  {
   "cell_type": "code",
   "execution_count": 5,
   "metadata": {},
   "outputs": [],
   "source": []
  },
  {
   "cell_type": "code",
   "execution_count": 15,
   "metadata": {
    "scrolled": true
   },
   "outputs": [
    {
     "name": "stdout",
     "output_type": "stream",
     "text": [
      "Total correct assignments: 10\n",
      "Total assignments made: 10\n",
      "Precision: 1.0\n",
      "Recall: 0.006402048655569782\n"
     ]
    }
   ],
   "source": [
    "\n",
    "\n",
    "# Each list is a set of updates assigned to an image\n",
    "# For now, we just made the list equal to a list of update IDs\n",
    "# TODO: Assign a unique id to each update\n",
    "fake_list_of_images = [\n",
    "    [11,12,21,22,23,32,42,234,234,234,234,234,234],\n",
    "    [31,41,43,44,51,52,53,61,62,63,71,72],\n",
    "    [13,14,15,23,24,34,35,45,46,55,64],\n",
    "    [62,63,73,74,81,82,83,84,85,86,91,92,93,94,95,234,234,234,234,234,243,234,23424,234,234,234,234],\n",
    "    [56,57,65,66,67,68,69,75,76,77,78,79,87,88,89,96,97,98,99],\n",
    "    [36,37,38,39,47,48,49,58,59,68,69,234,234,234,234,234,234,234,243],\n",
    "    [17,18,19,27,28,29,38],\n",
    "    [15,16,17,25,26,27],\n",
    "    [54],\n",
    "    [33]\n",
    "]\n",
    "\n",
    "evaluate(fake_list_of_images, updates, ground_truth, -1)"
   ]
  },
  {
   "cell_type": "code",
   "execution_count": 2,
   "metadata": {},
   "outputs": [
    {
     "name": "stdout",
     "output_type": "stream",
     "text": [
      "CPU times: user 3 µs, sys: 0 ns, total: 3 µs\n",
      "Wall time: 21.9 µs\n"
     ]
    },
    {
     "data": {
      "text/plain": [
       "6"
      ]
     },
     "execution_count": 2,
     "metadata": {},
     "output_type": "execute_result"
    }
   ],
   "source": [
    "%%time\n",
    "3 + 3"
   ]
  },
  {
   "cell_type": "code",
   "execution_count": null,
   "metadata": {},
   "outputs": [],
   "source": []
  }
 ],
 "metadata": {
  "kernelspec": {
   "display_name": "Python 3",
   "language": "python",
   "name": "python3"
  },
  "language_info": {
   "codemirror_mode": {
    "name": "ipython",
    "version": 3
   },
   "file_extension": ".py",
   "mimetype": "text/x-python",
   "name": "python",
   "nbconvert_exporter": "python",
   "pygments_lexer": "ipython3",
   "version": "3.6.3"
  }
 },
 "nbformat": 4,
 "nbformat_minor": 2
}
