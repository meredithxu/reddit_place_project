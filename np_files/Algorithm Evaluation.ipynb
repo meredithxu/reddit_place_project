{
 "cells": [
  {
   "cell_type": "markdown",
   "metadata": {},
   "source": [
    "Evaluation Data:\n",
    "\n",
    "Evaluate the precision and recall of the algorithm\n"
   ]
  },
  {
   "cell_type": "code",
   "execution_count": 1,
   "metadata": {},
   "outputs": [],
   "source": [
    "#import basic libraries\n",
    "\n",
    "import csv\n",
    "import sys\n",
    "import os\n",
    "import math\n",
    "import numpy as np\n",
    "import numpy.linalg as npla\n",
    "import scipy\n",
    "from scipy import sparse\n",
    "from scipy import linalg\n",
    "import scipy.sparse.linalg as spla\n",
    "import matplotlib.pyplot as plt\n",
    "from matplotlib import cm\n",
    "import matplotlib.mlab as mlab\n",
    "from mpl_toolkits.mplot3d import axes3d\n",
    "%matplotlib tk\n",
    "import operator\n",
    "sys.path.append(\"../Python_code\") # go to parent dir\n",
    "from reddit import *\n",
    "from analytics_combined import *"
   ]
  },
  {
   "cell_type": "code",
   "execution_count": 38,
   "metadata": {},
   "outputs": [],
   "source": [
    "# Turn a list of tuples into a list of only of one the tuple elements\n",
    "def truncate_list_of_tuples(list_of_tuples):\n",
    "    new_list = []\n",
    "    for element in list_of_tuples:\n",
    "        \n",
    "        # TEMPORARILY assume the element is the unique update ID\n",
    "        image_id = element\n",
    "        new_list.append(image_id)\n",
    "        \n",
    "    return new_list"
   ]
  },
  {
   "cell_type": "code",
   "execution_count": 48,
   "metadata": {},
   "outputs": [],
   "source": [
    "# calculate the intersection over union of set1 and set2\n",
    "def calc_intersection_over_union(set1, set2):\n",
    "    intersection = [value for value in set1 if value in set2]\n",
    "    union = list(set(set1) | set(set2))\n",
    "    \n",
    "    iou = len(intersection) / len(union)\n",
    "    return iou"
   ]
  },
  {
   "cell_type": "code",
   "execution_count": 62,
   "metadata": {},
   "outputs": [],
   "source": [
    "# Given a set_of_updates and the ground truth data, evaluate the precision and recall\n",
    "# ground_truth is a dictionary of the following format:\n",
    "'''\n",
    "    \"image_id\" : [ list of update IDS belonging to this image ]\n",
    "'''\n",
    "\n",
    "# Each update tuple is assumed to be this format:\n",
    "# (updateID, time, user, x, y, color, pic_id)\n",
    "def evaluate(list_of_images, ground_truth, threshold = 0.75):\n",
    "    \n",
    "    image_assignment = dict()\n",
    "    for list_of_updates in list_of_images:\n",
    "        \n",
    "        for image_id in ground_truth:\n",
    "            # For every image in the ground truth, check which ones is the Intersection over Union above threshold\n",
    "            # set_of_updates and image are lists of tuples\n",
    "            \n",
    "            ground_truth_ids = ground_truth[image_id]\n",
    "            \n",
    "            # Turn the lists into sets so that no update will be repeated\n",
    "            update_ids = set(truncate_list_of_tuples(list_of_updates))\n",
    "            iou = calc_intersection_over_union(update_ids, ground_truth_ids)\n",
    "            if iou >= threshold:\n",
    "                # This list_of_updates matches the this image in the ground truth\n",
    "                if image_assignment.get(image_id) is None:\n",
    "                    image_assignment[image_id] = [ update_ids ]\n",
    "                else:\n",
    "                    image_assignment[image_id].append(update_ids)\n",
    "    \n",
    "    \n",
    "    num_correct_counter = 0\n",
    "    for image_id in image_assignment:\n",
    "        ground_truth_ids = ground_truth[image_id]\n",
    "        # FIX LATER not that efficient\n",
    "        for list_of_updateIDs in image_assignment[image_id]:\n",
    "            \n",
    "            num_correct_counter += 1\n",
    "    \n",
    "    precision = num_correct_counter / len(list_of_images)\n",
    "    \n",
    "    recall = num_correct_counter / len(ground_truth)\n",
    "    \n",
    "    print(\"Total correct assignments:\", num_correct_counter)\n",
    "    print(\"Total assignments made:\", len(list_of_images))\n",
    "    print(\"Precision:\", precision)\n",
    "    print(\"Recall:\", recall)\n",
    "    "
   ]
  },
  {
   "cell_type": "code",
   "execution_count": 63,
   "metadata": {
    "scrolled": true
   },
   "outputs": [
    {
     "name": "stdout",
     "output_type": "stream",
     "text": [
      "Total correct assignments: 4\n",
      "Total assignments made: 10\n",
      "Precision: 0.4\n",
      "Recall: 0.36363636363636365\n"
     ]
    }
   ],
   "source": [
    "# FOR TESTING\n",
    "fake_ground_truth = {\n",
    "    \"1\":  [11,12,13,21,22,23,32],\n",
    "    \"2\":  [31,41,42,43,51,52,53,61,62,71,72],\n",
    "    \"3\":  [14,15,24,25,34,35,45,46,55,64,65],\n",
    "    \"4\":  [63,73,74,75,81,82,83,84,85,86,91,92,93,94,95],\n",
    "    \"5\":  [56,57,66,67,68,69,76,77,78,79,87,88,89,96,97,98,99],\n",
    "    \"6\":  [36,37,38,39,47,48,49,58,59],\n",
    "    \"7\":  [18,19,28,29],\n",
    "    \"8\":  [16,17,26,27],\n",
    "    \"69\": [44],\n",
    "    \"96\": [54],\n",
    "    \"420\":[33]\n",
    "}\n",
    "\n",
    "fake_list_of_images = [\n",
    "    [11,12,21,22,23,32,42,234,234,234,234,234,234],\n",
    "    [31,41,43,44,51,52,53,61,62,63,71,72],\n",
    "    [13,14,15,23,24,34,35,45,46,55,64],\n",
    "    [62,63,73,74,81,82,83,84,85,86,91,92,93,94,95,234,234,234,234,234,243,234,23424,234,234,234,234],\n",
    "    [56,57,65,66,67,68,69,75,76,77,78,79,87,88,89,96,97,98,99],\n",
    "    [36,37,38,39,47,48,49,58,59,68,69,234,234,234,234,234,234,234,243],\n",
    "    [17,18,19,27,28,29,38],\n",
    "    [15,16,17,25,26,27],\n",
    "    [54],\n",
    "    [33]\n",
    "]\n",
    "\n",
    "# fake_list_of_images = [\n",
    "#     [11,12,21,22,23,32,42],\n",
    "#     [31,41,43,44,51,52,53,61,62,63,71,72],\n",
    "#     [13,14,15,23,24,34,35,45,46,55,64],\n",
    "#     [62,63,73,74,81,82,83,84,85,86,91,92,93,94,95],\n",
    "#     [56,57,65,66,67,68,69,75,76,77,78,79,87,88,89,96,97,98,99],\n",
    "#     [36,37,38,39,47,48,49,58,59,68,69],\n",
    "#     [17,18,19,27,28,29,38],\n",
    "#     [15,16,17,25,26,27],\n",
    "#     [],\n",
    "#     [54],\n",
    "#     [33]\n",
    "# ]\n",
    "\n",
    "evaluate(fake_list_of_images, fake_ground_truth)"
   ]
  },
  {
   "cell_type": "code",
   "execution_count": null,
   "metadata": {},
   "outputs": [],
   "source": []
  },
  {
   "cell_type": "code",
   "execution_count": null,
   "metadata": {},
   "outputs": [],
   "source": []
  }
 ],
 "metadata": {
  "kernelspec": {
   "display_name": "Python 3",
   "language": "python",
   "name": "python3"
  },
  "language_info": {
   "codemirror_mode": {
    "name": "ipython",
    "version": 3
   },
   "file_extension": ".py",
   "mimetype": "text/x-python",
   "name": "python",
   "nbconvert_exporter": "python",
   "pygments_lexer": "ipython3",
   "version": "3.6.3"
  }
 },
 "nbformat": 4,
 "nbformat_minor": 2
}
