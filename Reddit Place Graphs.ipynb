{
 "cells": [
  {
   "cell_type": "code",
   "execution_count": 64,
   "metadata": {},
   "outputs": [],
   "source": [
    "import csv\n",
    "import sys\n",
    "import os\n",
    "import math\n",
    "import numpy as np\n",
    "import numpy.linalg as npla\n",
    "import scipy\n",
    "from scipy import sparse\n",
    "from scipy import linalg\n",
    "import scipy.sparse.linalg as spla\n",
    "import matplotlib.pyplot as plt\n",
    "from matplotlib import cm\n",
    "import matplotlib.mlab as mlab\n",
    "from mpl_toolkits.mplot3d import axes3d\n",
    "%matplotlib tk"
   ]
  },
  {
   "cell_type": "code",
   "execution_count": 3,
   "metadata": {},
   "outputs": [],
   "source": [
    "updates_per_project = dict()\n",
    "with open(\"updates_per_project.csv\",'r') as file:\n",
    "    # Skip first line (header row)\n",
    "    next(file, None)\n",
    "    reader = csv.reader(file)\n",
    "    for r in reader:\n",
    "        updates_per_project[r[0]] = int(r[-1])\n",
    "#         num_updates = r[-1]\n",
    "#         if updates_per_project.get(num_updates) is None:\n",
    "#             updates_per_project[num_updates] = 1\n",
    "#         else:\n",
    "#             updates_per_project[num_updates] += 1\n",
    "\n"
   ]
  },
  {
   "cell_type": "code",
   "execution_count": 160,
   "metadata": {},
   "outputs": [],
   "source": [
    "# Source: https://stackoverflow.com/questions/11882393/matplotlib-disregard-outliers-when-plotting\n",
    "def is_outlier(points, thresh=3.5):\n",
    "    \"\"\"\n",
    "    Returns a boolean array with True if points are outliers and False \n",
    "    otherwise.\n",
    "\n",
    "    Parameters:\n",
    "    -----------\n",
    "        points : An numobservations by numdimensions array of observations\n",
    "                 <class 'numpy.ndarray'>\n",
    "        thresh : The modified z-score to use as a threshold. Observations with\n",
    "            a modified z-score (based on the median absolute deviation) greater\n",
    "            than this value will be classified as outliers.\n",
    "\n",
    "    Returns:\n",
    "    --------\n",
    "        mask : A numobservations-length boolean array.\n",
    "\n",
    "    References:\n",
    "    ----------\n",
    "        Boris Iglewicz and David Hoaglin (1993), \"Volume 16: How to Detect and\n",
    "        Handle Outliers\", The ASQC Basic References in Quality Control:\n",
    "        Statistical Techniques, Edward F. Mykytka, Ph.D., Editor. \n",
    "    \"\"\"\n",
    "    if len(points.shape) == 1:\n",
    "        points = points[:,None]\n",
    "    median = np.median(points, axis=0)\n",
    "    diff = np.sum((points - median)**2, axis=-1)\n",
    "    diff = np.sqrt(diff)\n",
    "    med_abs_deviation = np.median(diff)\n",
    "\n",
    "    modified_z_score = 0.6745 * diff / med_abs_deviation\n",
    "\n",
    "    return modified_z_score > thresh"
   ]
  },
  {
   "cell_type": "code",
   "execution_count": 168,
   "metadata": {},
   "outputs": [],
   "source": [
    "count = np.zeros(max(updates_per_project.values())+1)\n",
    "\n",
    "for k in updates_per_project:\n",
    "    count[updates_per_project[k]] = count[updates_per_project[k]] + 1\n",
    "    \n",
    "for i in reversed(range(len(count)-1)):\n",
    "    count[i] = count[i] + count[i+1]"
   ]
  },
  {
   "cell_type": "code",
   "execution_count": 169,
   "metadata": {},
   "outputs": [
    {
     "data": {
      "image/png": "[encoded data removed]",
      "text/plain": [
       "<Figure size 432x288 with 1 Axes>"
      ]
     },
     "metadata": {
      "needs_background": "light"
     },
     "output_type": "display_data"
    }
   ],
   "source": [
    "#plt.bar(list(updates_per_project.keys()), updates_per_project.values(), color='g')\n",
    "#plt.show()\n",
    "\n",
    "def plot_updates_per_project(count, output_file_name):\n",
    "    plt.clf()\n",
    "    \n",
    "    ax = plt.subplot(111)\n",
    "    ax.semilogy(range(len(count)), count, color=\"red\", markersize=15)\n",
    "    ax.set_ylabel('count', fontsize=30)\n",
    "    ax.set_xlabel('#updates', fontsize=30)\n",
    "    ax.tick_params(labelsize=23)\n",
    "    ax.set_xticks(np.arange(0, len(count)+1, 5000000))\n",
    "    plt.savefig(output_file_name, dpi=300, bbox_inches='tight')\n",
    "\n",
    "plot_updates_per_project(count, \"plot_updates_per_proect.svg\")"
   ]
  },
  {
   "cell_type": "code",
   "execution_count": 4,
   "metadata": {},
   "outputs": [],
   "source": [
    "# Color Entropy\n",
    "# This is a discrete distribution but should probably be continuous (?)\n",
    "entropy = []\n",
    "\n",
    "with open(\"color_per_picture_entropy.csv\", 'r') as file:\n",
    "     # Skip first line (header row)\n",
    "    next(file, None)\n",
    "    reader = csv.reader(file)\n",
    "    for r in reader:\n",
    "        if r[1] != 'NA':\n",
    "            entropy.append(float(r[1]))\n"
   ]
  },
  {
   "cell_type": "code",
   "execution_count": null,
   "metadata": {},
   "outputs": [],
   "source": []
  },
  {
   "cell_type": "code",
   "execution_count": 176,
   "metadata": {},
   "outputs": [
    {
     "data": {
      "image/png": "[encoded data removed]",
      "text/plain": [
       "<Figure size 432x288 with 1 Axes>"
      ]
     },
     "metadata": {
      "needs_background": "light"
     },
     "output_type": "display_data"
    }
   ],
   "source": [
    "%matplotlib inline\n",
    "def plot_color_entropies_per_project(entropy, output_file_name):\n",
    "    plt.clf()\n",
    "\n",
    "    ax = plt.subplot(111)\n",
    "    ax.hist(entropy, density=True\n",
    "            , cumulative=True)\n",
    "    ax.set_title('CDF Color Entropies per Project')\n",
    "    ax.set_ylabel('Probability', fontsize=30)\n",
    "    ax.set_xlabel('entropies', fontsize=30)\n",
    "    ax.tick_params(labelsize=23)\n",
    "    ax.set_xticks(np.arange(0.5, 3, 0.5))\n",
    "    plt.savefig(output_file_name, dpi=300, bbox_inches='tight')\n",
    "\n",
    "plot_color_entropies_per_project(entropy, \"plot_color_entropies.svg\")"
   ]
  },
  {
   "cell_type": "code",
   "execution_count": null,
   "metadata": {},
   "outputs": [],
   "source": [
    "# ID of picture that has no points: 1240"
   ]
  },
  {
   "cell_type": "code",
   "execution_count": 124,
   "metadata": {},
   "outputs": [],
   "source": [
    "# Pixels per Project\n",
    "pixels = list()\n",
    "\n",
    "with open(\"pixels_per_project.csv\", 'r') as file:\n",
    "     # Skip first line (header row)\n",
    "    next(file, None)\n",
    "    reader = csv.reader(file)\n",
    "    for r in reader:\n",
    "        pixels.append(int(r[1]))\n"
   ]
  },
  {
   "cell_type": "code",
   "execution_count": 125,
   "metadata": {},
   "outputs": [
    {
     "name": "stdout",
     "output_type": "stream",
     "text": [
      "<class 'list'>\n"
     ]
    }
   ],
   "source": []
  },
  {
   "cell_type": "code",
   "execution_count": 177,
   "metadata": {},
   "outputs": [
    {
     "data": {
      "image/png": "[encoded data removed]",
      "text/plain": [
       "<Figure size 432x288 with 1 Axes>"
      ]
     },
     "metadata": {
      "needs_background": "light"
     },
     "output_type": "display_data"
    }
   ],
   "source": [
    "%matplotlib tk\n",
    "\n",
    "def plot_x_per_project(count, output_file_name, x_axis, title):\n",
    "    plt.clf()\n",
    "    \n",
    "    ax = plt.subplot(111)\n",
    "    ax.hist(count)\n",
    "    ax.set_ylabel('Count', fontsize=30)\n",
    "    ax.set_xlabel(x_axis, fontsize=30)\n",
    "    ax.set_title(title)\n",
    "    ax.tick_params(labelsize=23)\n",
    "    plt.savefig(output_file_name, dpi=300, bbox_inches='tight')\n",
    "\n",
    "\n",
    "# There is a lot of projects with under 20,000 pixels and then only a few with 1 million pixels.\n",
    "# The huge disparity explains the big gap in the plot\n",
    "plot_x_per_project(pixels, \"plot_pixels_per_project.svg\", \"#Pixels\", \"Pixels Per Project\")\n",
    "\n",
    "pixels = np.array(pixels)\n",
    "filtered = pixels[~is_outlier(pixels)]\n",
    "plot_x_per_project(filtered, \"plot_pixels_per_project_remove_outliers.svg\", \"#Pixels\", \"Pixels Per Project Without Outliers\")\n"
   ]
  },
  {
   "cell_type": "code",
   "execution_count": 161,
   "metadata": {},
   "outputs": [],
   "source": [
    "# Pixels per Project\n",
    "projects_per_user = list()\n",
    "\n",
    "with open(\"pixels_per_project.csv\", 'r') as file:\n",
    "     # Skip first line (header row)\n",
    "    next(file, None)\n",
    "    reader = csv.reader(file)\n",
    "    for r in reader:\n",
    "        projects_per_user.append(int(r[-1]))\n"
   ]
  },
  {
   "cell_type": "code",
   "execution_count": 179,
   "metadata": {},
   "outputs": [
    {
     "data": {
      "image/png": "[encoded data removed]",
      "text/plain": [
       "<Figure size 432x288 with 1 Axes>"
      ]
     },
     "metadata": {
      "needs_background": "light"
     },
     "output_type": "display_data"
    }
   ],
   "source": [
    "plot_x_per_project(pixels, \"plot_projects_per_user.svg\", \"#Projects\", \"Projects Per User\")\n",
    "\n",
    "projects_per_user = np.array(projects_per_user)\n",
    "filtered = projects_per_user[~is_outlier(projects_per_user)]\n",
    "plot_x_per_project(filtered, \"plot_projects_per_user_remove_outliers.svg\", \"#Projects\", \"Projects Per User Without Outliers\")\n"
   ]
  },
  {
   "cell_type": "code",
   "execution_count": 170,
   "metadata": {},
   "outputs": [],
   "source": [
    "# Users per Project\n",
    "users_per_project = list()\n",
    "\n",
    "with open(\"pixels_per_project.csv\", 'r') as file:\n",
    "     # Skip first line (header row)\n",
    "    next(file, None)\n",
    "    reader = csv.reader(file)\n",
    "    for r in reader:\n",
    "        users_per_project.append(int(r[1]))\n"
   ]
  },
  {
   "cell_type": "code",
   "execution_count": 180,
   "metadata": {},
   "outputs": [
    {
     "data": {
      "image/png": "[encoded data removed]",
      "text/plain": [
       "<Figure size 432x288 with 1 Axes>"
      ]
     },
     "metadata": {
      "needs_background": "light"
     },
     "output_type": "display_data"
    }
   ],
   "source": [
    "plot_x_per_project(pixels, \"plot_users_per_project.svg\", \"#Users\", \"Users Per Project\")\n",
    "\n",
    "projects_per_user = np.array(projects_per_user)\n",
    "filtered = projects_per_user[~is_outlier(projects_per_user)]\n",
    "plot_x_per_project(filtered, \"plot_users_per_project_remove_outliers.svg\", \"#Users\", \"Users Per Project Without Outliers\")\n"
   ]
  },
  {
   "cell_type": "code",
   "execution_count": 183,
   "metadata": {},
   "outputs": [
    {
     "ename": "TypeError",
     "evalue": "object of type '_csv.reader' has no len()",
     "output_type": "error",
     "traceback": [
      "\u001b[0;31m---------------------------------------------------------------------------\u001b[0m",
      "\u001b[0;31mTypeError\u001b[0m                                 Traceback (most recent call last)",
      "\u001b[0;32m<ipython-input-183-f79d260c7b42>\u001b[0m in \u001b[0;36m<module>\u001b[0;34m\u001b[0m\n\u001b[1;32m      6\u001b[0m     \u001b[0mnext\u001b[0m\u001b[0;34m(\u001b[0m\u001b[0mfile\u001b[0m\u001b[0;34m,\u001b[0m \u001b[0;32mNone\u001b[0m\u001b[0;34m)\u001b[0m\u001b[0;34m\u001b[0m\u001b[0;34m\u001b[0m\u001b[0m\n\u001b[1;32m      7\u001b[0m     \u001b[0mreader\u001b[0m \u001b[0;34m=\u001b[0m \u001b[0mcsv\u001b[0m\u001b[0;34m.\u001b[0m\u001b[0mreader\u001b[0m\u001b[0;34m(\u001b[0m\u001b[0mfile\u001b[0m\u001b[0;34m)\u001b[0m\u001b[0;34m\u001b[0m\u001b[0;34m\u001b[0m\u001b[0m\n\u001b[0;32m----> 8\u001b[0;31m     \u001b[0mprint\u001b[0m\u001b[0;34m(\u001b[0m\u001b[0mlen\u001b[0m\u001b[0;34m(\u001b[0m\u001b[0mreader\u001b[0m\u001b[0;34m)\u001b[0m\u001b[0;34m)\u001b[0m\u001b[0;34m\u001b[0m\u001b[0;34m\u001b[0m\u001b[0m\n\u001b[0m\u001b[1;32m      9\u001b[0m     \u001b[0;32mfor\u001b[0m \u001b[0mr\u001b[0m \u001b[0;32min\u001b[0m \u001b[0mreader\u001b[0m\u001b[0;34m:\u001b[0m\u001b[0;34m\u001b[0m\u001b[0;34m\u001b[0m\u001b[0m\n\u001b[1;32m     10\u001b[0m         \u001b[0;32mif\u001b[0m \u001b[0mr\u001b[0m\u001b[0;34m[\u001b[0m\u001b[0;36m3\u001b[0m\u001b[0;34m]\u001b[0m \u001b[0;34m!=\u001b[0m \u001b[0;34m'NA'\u001b[0m\u001b[0;34m:\u001b[0m\u001b[0;34m\u001b[0m\u001b[0;34m\u001b[0m\u001b[0m\n",
      "\u001b[0;31mTypeError\u001b[0m: object of type '_csv.reader' has no len()"
     ]
    }
   ],
   "source": [
    "# Time\n",
    "entropy = list()\n",
    "\n",
    "with open(\"times_per_project.csv\", 'r') as file:\n",
    "     # Skip first line (header row)\n",
    "    next(file, None)\n",
    "    reader = csv.reader(file)\n",
    "    for r in reader:\n",
    "        if r[3] != 'NA':\n",
    "            entropy.append(float(r[3]))\n"
   ]
  },
  {
   "cell_type": "code",
   "execution_count": null,
   "metadata": {},
   "outputs": [],
   "source": []
  }
 ],
 "metadata": {
  "kernelspec": {
   "display_name": "Python 3",
   "language": "python",
   "name": "python3"
  },
  "language_info": {
   "codemirror_mode": {
    "name": "ipython",
    "version": 3
   },
   "file_extension": ".py",
   "mimetype": "text/x-python",
   "name": "python",
   "nbconvert_exporter": "python",
   "pygments_lexer": "ipython3",
   "version": "3.7.1"
  }
 },
 "nbformat": 4,
 "nbformat_minor": 2
}
