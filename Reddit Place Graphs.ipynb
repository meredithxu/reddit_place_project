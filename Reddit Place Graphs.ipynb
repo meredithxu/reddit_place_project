{
 "cells": [
  {
   "cell_type": "code",
   "execution_count": 4,
   "metadata": {},
   "outputs": [],
   "source": [
    "import csv\n",
    "import os\n",
    "import math\n",
    "import numpy as np\n",
    "import numpy.linalg as npla\n",
    "import scipy\n",
    "from scipy import sparse\n",
    "from scipy import linalg\n",
    "import scipy.sparse.linalg as spla\n",
    "import matplotlib.pyplot as plt\n",
    "from matplotlib import cm\n",
    "from mpl_toolkits.mplot3d import axes3d\n",
    "%matplotlib tk"
   ]
  },
  {
   "cell_type": "code",
   "execution_count": 8,
   "metadata": {},
   "outputs": [],
   "source": [
    "updates_per_project = dict()\n",
    "with open(\"updates_per_project.csv\",'r') as file:\n",
    "    # Skip first line (header row)\n",
    "    next(file, None)\n",
    "    reader = csv.reader(file)\n",
    "    for r in reader:\n",
    "        updates_per_project[r[0]] = int(r[-1])\n",
    "#         num_updates = r[-1]\n",
    "#         if updates_per_project.get(num_updates) is None:\n",
    "#             updates_per_project[num_updates] = 1\n",
    "#         else:\n",
    "#             updates_per_project[num_updates] += 1\n",
    "\n"
   ]
  },
  {
   "cell_type": "code",
   "execution_count": 41,
   "metadata": {},
   "outputs": [
    {
     "data": {
      "image/png": "[encoded data removed]",
      "text/plain": [
       "<Figure size 432x288 with 1 Axes>"
      ]
     },
     "metadata": {
      "needs_background": "light"
     },
     "output_type": "display_data"
    }
   ],
   "source": [
    "#plt.bar(list(updates_per_project.keys()), updates_per_project.values(), color='g')\n",
    "#plt.show()\n",
    "\n",
    "def plot_updates_per_project(count, output_file_name):\n",
    "    plt.clf()\n",
    "    \n",
    "    ax = plt.subplot(111)\n",
    "    ax.semilogy(range(len(count)), count, color=\"red\", markersize=15)\n",
    "    ax.set_ylabel('count', fontsize=30)\n",
    "    ax.set_xlabel('#updates', fontsize=30)\n",
    "    ax.tick_params(labelsize=23)\n",
    "    ax.set_xticks(np.arange(0, len(count)+1, 5000000))\n",
    "    plt.savefig(output_file_name, dpi=300, bbox_inches='tight')\n",
    "\n",
    "plot_updates_per_project(count, \"plot_updates_per_proect.svg\")"
   ]
  },
  {
   "cell_type": "code",
   "execution_count": 34,
   "metadata": {},
   "outputs": [],
   "source": [
    "count = np.zeros(max(updates_per_project.values())+1)\n",
    "\n",
    "for k in updates_per_project:\n",
    "    count[updates_per_project[k]] = count[updates_per_project[k]] + 1\n",
    "    \n",
    "for i in reversed(range(len(count)-1)):\n",
    "    count[i] = count[i] + count[i+1]"
   ]
  },
  {
   "cell_type": "code",
   "execution_count": 33,
   "metadata": {},
   "outputs": [
    {
     "data": {
      "text/plain": [
       "array([1., 0., 0., 1., 0., 0., 0., 0., 0., 0., 0., 0., 0., 0., 0., 0., 0.,\n",
       "       1., 0., 0., 0., 0., 0., 0., 0., 0., 0., 0., 0., 0., 0., 0., 0., 0.,\n",
       "       0., 0., 0., 0., 0., 0., 0., 0., 0., 0., 0., 0., 0., 0., 0., 0., 0.,\n",
       "       0., 0., 0., 0., 1., 0., 0., 0., 0., 0., 1., 0., 0., 0., 0., 1., 0.,\n",
       "       0., 0., 0., 0., 0., 0., 0., 1., 0., 0., 0., 0., 0., 0., 3., 0., 0.,\n",
       "       0., 1., 0., 0., 0., 0., 0., 0., 1., 1., 0., 0., 0., 0., 0., 0., 0.,\n",
       "       0., 0., 0., 0., 0., 1., 0., 0., 1., 0., 0., 0., 0., 0., 0., 0., 0.,\n",
       "       0., 0., 0., 0., 0., 0., 0., 1., 2., 0., 0., 0., 0., 0., 0., 0., 1.,\n",
       "       0., 0., 0., 0., 0., 0., 0., 1., 0., 0., 0., 0., 1., 1., 1., 0., 0.,\n",
       "       0., 0., 0., 0., 0., 0., 0., 0., 0., 0., 0., 0., 0., 1., 2., 0., 0.,\n",
       "       0., 0., 0., 0., 0., 0., 0., 0., 1., 0., 0., 0., 0., 1., 0., 0., 1.,\n",
       "       0., 0., 0., 1., 0., 0., 0., 0., 0., 1., 1., 1., 0., 0., 0., 0., 2.,\n",
       "       3., 0., 0., 0., 0., 0., 2., 0., 0., 1., 0., 0., 0., 1., 0., 0., 0.,\n",
       "       0., 0., 0., 0., 0., 0., 2., 0., 1., 0., 1., 0., 1., 0., 1., 0., 0.,\n",
       "       0., 1., 0., 2., 0., 0., 0., 1., 0., 0., 0., 0., 0., 0., 0., 0., 0.,\n",
       "       1., 0., 0., 0., 1., 2., 0., 0., 1., 0., 0., 3., 0., 0., 0., 0., 0.,\n",
       "       0., 0., 2., 0., 0., 1., 0., 0., 1., 0., 0., 1., 0., 1., 0., 0., 1.,\n",
       "       0., 0., 0., 0., 0., 1., 1., 0., 0., 0., 0., 1., 1., 1., 1., 0., 0.,\n",
       "       0., 1., 1., 2., 1., 2., 0., 0., 0., 1., 0., 0., 1., 2., 0., 0., 0.,\n",
       "       0., 0., 1., 2., 0., 0., 0., 0., 0., 0., 0., 0., 1., 1., 0., 1., 0.,\n",
       "       0., 0., 3., 1., 0., 0., 0., 0., 1., 1., 0., 0., 0., 0., 1., 0., 1.,\n",
       "       0., 1., 3., 0., 0., 0., 1., 2., 0., 0., 0., 1., 0., 0., 1., 0., 1.,\n",
       "       0., 0., 1., 0., 0., 1., 2., 1., 0., 0., 0., 0., 2., 0., 0., 0., 1.,\n",
       "       1., 1., 0., 0., 0., 1., 0., 1., 0., 3., 3., 0., 1., 0., 0., 1., 0.,\n",
       "       0., 0., 2., 0., 0., 0., 1., 0., 1., 0., 1., 0., 0., 1., 0., 0., 0.,\n",
       "       0., 0., 1., 2., 0., 0., 0., 1., 0., 1., 0., 2., 1., 0., 0., 0., 0.,\n",
       "       0., 1., 0., 1., 1., 0., 2., 1., 0., 0., 1., 0., 0., 0., 0., 0., 0.,\n",
       "       0., 1., 1., 0., 0., 1., 1., 0., 2., 0., 0., 1., 0., 0., 0., 0., 0.,\n",
       "       1., 1., 2., 0., 0., 0., 0., 0., 0., 0., 0., 0., 2., 0., 0., 4., 0.,\n",
       "       0., 1., 0., 0., 0., 0., 0., 0., 0., 0., 1., 0., 1., 0., 0., 0., 1.,\n",
       "       0., 0., 0., 0., 1., 2., 1., 1., 0., 2., 0., 0., 0., 1., 0., 0., 2.,\n",
       "       0., 0., 2., 1., 0., 0., 0., 0., 0., 0., 0., 2., 1., 0., 0., 0., 0.,\n",
       "       1., 1., 3., 1., 0., 1., 0., 0., 2., 0., 1., 0., 0., 1., 0., 0., 0.,\n",
       "       1., 0., 0., 0., 1., 0., 1., 0., 1., 0., 0., 0., 3., 0., 0., 0., 0.,\n",
       "       1., 1., 0., 0., 1., 1., 1., 3., 0., 1., 1., 0., 0., 1., 1., 0., 0.,\n",
       "       0., 2., 0., 0., 1., 0., 0., 0., 0., 2., 0., 0., 0., 0., 1., 0., 0.,\n",
       "       0., 0., 0., 0., 1., 0., 0., 1., 1., 0., 0., 0., 0., 0., 0., 1., 2.,\n",
       "       1., 0., 0., 3., 0., 1., 0., 0., 2., 0., 0., 0., 2., 1., 0., 0., 1.,\n",
       "       1., 2., 0., 0., 0., 2., 0., 1., 0., 0., 0., 0., 0., 0., 0., 0., 0.,\n",
       "       1., 1., 1., 0., 2., 0., 0., 0., 0., 0., 1., 2., 1., 0., 1., 1., 0.,\n",
       "       0., 0., 0., 2., 0., 0., 0., 0., 0., 1., 1., 1., 1., 0., 3., 0., 0.,\n",
       "       0., 0., 0., 0., 0., 0., 1., 1., 0., 0., 1., 0., 0., 1., 0., 0., 0.,\n",
       "       0., 0., 0., 0., 3., 0., 0., 0., 0., 0., 0., 1., 0., 0., 0., 0., 1.,\n",
       "       0., 0., 0., 0., 0., 1., 1., 0., 0., 0., 0., 1., 1., 1., 1., 1., 0.,\n",
       "       1., 0., 0., 0., 2., 1., 1., 2., 1., 1., 1., 0., 0., 0., 0., 0., 1.,\n",
       "       0., 0., 0., 1., 0., 0., 1., 1., 1., 1., 0., 1., 1., 2., 1., 2., 0.,\n",
       "       1., 0., 0., 0., 1., 0., 1., 0., 0., 0., 0., 0., 2., 1., 0., 0., 0.,\n",
       "       1., 0., 0., 0., 2., 0., 0., 0., 1., 0., 0., 0., 0., 0., 1., 0., 0.,\n",
       "       0., 0., 1., 0., 0., 2., 0., 0., 0., 0., 1., 0., 0., 0., 0., 0., 1.,\n",
       "       2., 0., 0., 0., 0., 0., 1., 0., 0., 1., 0., 0., 1., 0., 0., 1., 0.,\n",
       "       0., 0., 2., 0., 0., 0., 1., 0., 0., 0., 0., 1., 1., 1., 1., 0., 0.,\n",
       "       0., 0., 0., 0., 0., 0., 0., 1., 0., 2., 3., 1., 0., 1., 0., 0., 1.,\n",
       "       0., 0., 0., 0., 1., 0., 0., 0., 0., 0., 0., 0., 2., 1., 0., 0., 0.,\n",
       "       1., 0., 0., 0., 0., 0., 0., 0., 0., 1., 0., 0., 0., 0., 0., 0., 0.,\n",
       "       1., 1., 0., 1., 1., 3., 1., 0., 1., 0., 0., 0., 0., 1., 1., 2., 0.,\n",
       "       1., 0., 0., 0., 2., 1., 0., 0., 1., 0., 0., 0., 0., 0., 2., 0., 0.,\n",
       "       0., 2., 1., 1., 1., 0., 0., 0., 1., 0., 1., 0., 0., 1., 0., 1., 2.,\n",
       "       2., 0., 2., 0., 0., 1., 1., 0., 0., 1., 0., 1., 1., 0., 1., 0., 0.,\n",
       "       0., 0., 0., 1., 1., 1., 1., 1., 0., 0., 0., 2., 1., 1.])"
      ]
     },
     "execution_count": 33,
     "metadata": {},
     "output_type": "execute_result"
    }
   ],
   "source": [
    "count[:1000]"
   ]
  },
  {
   "cell_type": "code",
   "execution_count": 5,
   "metadata": {},
   "outputs": [],
   "source": [
    "# Color Entropy\n",
    "color_entropies = dict()\n",
    "\n",
    "with open(\"color_per_picture_entropy.csv\", 'r') as file:\n",
    "     # Skip first line (header row)\n",
    "    next(file, None)\n",
    "    reader = csv.reader(file)\n",
    "    for r in reader:\n",
    "        pic_id = r[0]\n",
    "        entropy = r[1]\n",
    "        color_entropies[pic_id] = entropy"
   ]
  },
  {
   "cell_type": "code",
   "execution_count": 6,
   "metadata": {},
   "outputs": [
    {
     "data": {
      "image/png": "[encoded data removed]",
      "text/plain": [
       "<Figure size 432x288 with 1 Axes>"
      ]
     },
     "metadata": {
      "needs_background": "light"
     },
     "output_type": "display_data"
    }
   ],
   "source": [
    "plt.bar(list(color_entropies.keys()), color_entropies.values(), color='g')\n",
    "plt.show()"
   ]
  },
  {
   "cell_type": "code",
   "execution_count": null,
   "metadata": {},
   "outputs": [],
   "source": []
  }
 ],
 "metadata": {
  "kernelspec": {
   "display_name": "Python 3",
   "language": "python",
   "name": "python3"
  },
  "language_info": {
   "codemirror_mode": {
    "name": "ipython",
    "version": 3
   },
   "file_extension": ".py",
   "mimetype": "text/x-python",
   "name": "python",
   "nbconvert_exporter": "python",
   "pygments_lexer": "ipython3",
   "version": "3.7.1"
  }
 },
 "nbformat": 4,
 "nbformat_minor": 2
}
